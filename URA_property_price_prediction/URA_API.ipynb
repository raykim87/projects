{
 "cells": [
  {
   "cell_type": "code",
   "execution_count": 4,
   "metadata": {
    "ExecuteTime": {
     "end_time": "2023-03-24T04:34:55.350888Z",
     "start_time": "2023-03-24T04:34:55.348396Z"
    }
   },
   "outputs": [],
   "source": [
    "import requests\n",
    "import json\n",
    "import pandas as pd\n",
    "import numpy as np"
   ]
  },
  {
   "cell_type": "markdown",
   "metadata": {},
   "source": [
    "All API references can be found here:\n",
    "https://www.ura.gov.sg/maps/api/#private-residential-properties-rental-contract"
   ]
  },
  {
   "cell_type": "code",
   "execution_count": 2,
   "metadata": {
    "ExecuteTime": {
     "end_time": "2023-03-24T04:33:50.500871Z",
     "start_time": "2023-03-24T04:33:50.498319Z"
    }
   },
   "outputs": [],
   "source": [
    "# Fetch token from here (valid for one day): https://www.ura.gov.sg/uraDataService/getToken.jsp?\n",
    "ura_access_key = 'ad0721ae-ca62-4395-bfeb-630964560e58'\n",
    "token = '5RkF2s3n-kjt098hbv6VsMMxE3zaceq-42G2Wek816et0Wkm6aKM56uqK-8bNtU6EQaGavTz26h6Wf@7RuZjd91-666B4YTRe9-v'"
   ]
  },
  {
   "cell_type": "code",
   "execution_count": 19,
   "metadata": {
    "ExecuteTime": {
     "end_time": "2023-03-24T04:41:50.376855Z",
     "start_time": "2023-03-24T04:40:25.220170Z"
    }
   },
   "outputs": [],
   "source": [
    "# Rentals\n",
    "years = np.arange(18, 23)\n",
    "quarters = np.arange(1, 5)\n",
    "rent_master_json = []\n",
    "\n",
    "for y in years:\n",
    "    for q in quarters:\n",
    "        ep_rent = 'https://www.ura.gov.sg/uraDataService/invokeUraDS?service=PMI_Resi_Rental'\n",
    "        headers = {\n",
    "            'User-Agent': 'PostmanRuntime/7.28.4', 'AccessKey': ura_access_key, 'Token': token\n",
    "        }\n",
    "        payload = {'refPeriod':f'{y}q{q}'}\n",
    "        \n",
    "        r = requests.get(ep_rent, headers=headers, params=payload)\n",
    "        rent_master_json.append(r.json())"
   ]
  },
  {
   "cell_type": "code",
   "execution_count": 20,
   "metadata": {
    "ExecuteTime": {
     "end_time": "2023-03-24T04:41:52.780730Z",
     "start_time": "2023-03-24T04:41:52.777373Z"
    }
   },
   "outputs": [
    {
     "data": {
      "text/plain": [
       "20"
      ]
     },
     "execution_count": 20,
     "metadata": {},
     "output_type": "execute_result"
    }
   ],
   "source": [
    "len(rent_master_json)"
   ]
  },
  {
   "cell_type": "code",
   "execution_count": 23,
   "metadata": {
    "ExecuteTime": {
     "end_time": "2023-03-24T04:43:26.813798Z",
     "start_time": "2023-03-24T04:42:12.864235Z"
    }
   },
   "outputs": [],
   "source": [
    "rent_master_list = []\n",
    "\n",
    "for r in rent_master_json:\n",
    "    for project in r['Result']:\n",
    "        df = pd.DataFrame(project['rental'])\n",
    "        df['street'] = project['street']\n",
    "        df['project'] = project['project']\n",
    "\n",
    "        rent_master_list.append(df)"
   ]
  },
  {
   "cell_type": "code",
   "execution_count": 24,
   "metadata": {
    "ExecuteTime": {
     "end_time": "2023-03-24T04:43:59.852779Z",
     "start_time": "2023-03-24T04:43:36.857459Z"
    }
   },
   "outputs": [],
   "source": [
    "rent_master = pd.concat(rent_master_list)"
   ]
  },
  {
   "cell_type": "code",
   "execution_count": 25,
   "metadata": {
    "ExecuteTime": {
     "end_time": "2023-03-24T04:44:00.601064Z",
     "start_time": "2023-03-24T04:44:00.597169Z"
    }
   },
   "outputs": [
    {
     "data": {
      "text/plain": [
       "(463997, 9)"
      ]
     },
     "execution_count": 25,
     "metadata": {},
     "output_type": "execute_result"
    }
   ],
   "source": [
    "rent_master.shape"
   ]
  },
  {
   "cell_type": "code",
   "execution_count": 27,
   "metadata": {
    "ExecuteTime": {
     "end_time": "2023-03-24T04:45:05.988638Z",
     "start_time": "2023-03-24T04:45:02.403684Z"
    }
   },
   "outputs": [],
   "source": [
    "rent_master.to_csv('rent_raw.csv.gz', index=False)"
   ]
  }
 ],
 "metadata": {
  "kernelspec": {
   "display_name": "Python 3",
   "language": "python",
   "name": "python3"
  },
  "language_info": {
   "codemirror_mode": {
    "name": "ipython",
    "version": 3
   },
   "file_extension": ".py",
   "mimetype": "text/x-python",
   "name": "python",
   "nbconvert_exporter": "python",
   "pygments_lexer": "ipython3",
   "version": "3.8.5"
  },
  "toc": {
   "base_numbering": 1,
   "nav_menu": {},
   "number_sections": true,
   "sideBar": true,
   "skip_h1_title": false,
   "title_cell": "Table of Contents",
   "title_sidebar": "Contents",
   "toc_cell": false,
   "toc_position": {},
   "toc_section_display": true,
   "toc_window_display": false
  }
 },
 "nbformat": 4,
 "nbformat_minor": 4
}
