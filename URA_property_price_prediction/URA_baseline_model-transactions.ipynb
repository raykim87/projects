{
 "cells": [
  {
   "cell_type": "code",
   "execution_count": 29,
   "metadata": {
    "ExecuteTime": {
     "end_time": "2023-04-01T04:31:18.679840Z",
     "start_time": "2023-04-01T04:31:18.675890Z"
    },
    "scrolled": true
   },
   "outputs": [],
   "source": [
    "import requests\n",
    "import json\n",
    "import pandas as pd\n",
    "import numpy as np\n",
    "import logging\n",
    "import sys\n",
    "import time\n",
    "from tqdm.notebook import tqdm\n",
    "import pickle\n",
    "import datetime\n",
    "import matplotlib.pyplot as plt\n",
    "import seaborn as sns\n",
    "import plotly.express as px\n",
    "import plotly.graph_objects as go\n",
    "import swifter\n",
    "import uuid\n",
    "from dateutil.relativedelta import relativedelta"
   ]
  },
  {
   "cell_type": "code",
   "execution_count": 30,
   "metadata": {
    "ExecuteTime": {
     "end_time": "2023-04-01T04:31:25.591592Z",
     "start_time": "2023-04-01T04:31:25.588508Z"
    }
   },
   "outputs": [],
   "source": [
    "# '''\n",
    "# project\tThe name of the project\n",
    "# street\tThe street name that the project is on.\n",
    "# marketSegment\tThe market segment that the property falls in.\n",
    "# CCR – Core Central Region\n",
    "# RCR – Rest of Central Region\n",
    "# OCR – Outside Central Region\n",
    "# x\tThe x coordinates of the address of the property in SVY21 format. Important: This is the location of the property and does not represent the location of the transacted unit.\n",
    "# y\tThe y coordinates of the address of the property in SVY21 format. Important: This is the location of the property and does not represent the location of the transacted unit.\n",
    "# transaction\tAn array of transactions for this property\n",
    "#     propertyType\tThe property type of the transacted property. Note that there are properties with a mixture of property types.\n",
    "# Strata Detached\n",
    "# Strata Semidetached\n",
    "# Strata Terrace\n",
    "# Detached\n",
    "# Semi-detached\n",
    "# Terrace\n",
    "# Apartment\n",
    "# Condominium\n",
    "# Executive Condominium\n",
    "#     district\tThe postal district that the transacted property falls in. Note that there are properties that fall across multiple postal district.\n",
    "#     tenure\tThe tenure of the transacted property. Note that there are properties that have units with multiple tenures.\n",
    "# Freehold\n",
    "# xx yrs lease commencing from yyyy\n",
    "#     typeOfSale\tThe type of sale\n",
    "# 1 – New Sale\n",
    "# 2 – Sub Sale\n",
    "# 3 – Resale\n",
    "#     noOfUnits\tThe number of units in this transaction. The value for New Sale will always be 1. The value for Resale or Sub Sale could be greater than 1 depending on the number of units lodged for the caveat.\n",
    "#     price\tThe transacted price nettPrice\n",
    "#     nettPrice\tThe nett transacted price, excluding discounts if any. This field is only applicable for New Sale where discounts were given.\n",
    "#     area\tThe land/floor area of the transacted unit in square metre.\n",
    "#     typeOfArea\tThe type of area of the transacted unit.\n",
    "# Strata\n",
    "# Land\n",
    "# Unknown\n",
    "#     floorRange\tThe floor range that the transacted unit falls within.\n",
    "# -\n",
    "# B1-B5\n",
    "# B6-B10\n",
    "# 01-05\n",
    "# 06-10\n",
    "# ...\n",
    "#     contractDate\tThe data of sale for New Sale records or option exercised date for Resale and Sub Sale records. Field is in format of mmyy e.g. 1215 represents Dec 2015.\n",
    "\n",
    "# '''"
   ]
  },
  {
   "cell_type": "markdown",
   "metadata": {},
   "source": [
    "### Data Preprocessing"
   ]
  },
  {
   "cell_type": "code",
   "execution_count": 31,
   "metadata": {
    "ExecuteTime": {
     "end_time": "2023-04-01T04:31:27.164531Z",
     "start_time": "2023-04-01T04:31:26.765631Z"
    }
   },
   "outputs": [],
   "source": [
    "transactions_master_agg = pd.read_csv('transaction_master_agg.csv')\n",
    "transactions_raw = pd.read_csv('transactions_raw.csv')"
   ]
  },
  {
   "cell_type": "code",
   "execution_count": 32,
   "metadata": {
    "ExecuteTime": {
     "end_time": "2023-04-01T04:31:27.669604Z",
     "start_time": "2023-04-01T04:31:27.650998Z"
    }
   },
   "outputs": [],
   "source": [
    "# geocode table\n",
    "file = open(\"geocode.obj\",'rb')\n",
    "geocoded = pickle.load(file)\n",
    "# geocoded.to_csv('properties_geocoded.csv.gz', index=False)\n",
    "geocoded = geocoded.dropna()\n",
    "geocoded['lat'] = geocoded['lat_lng'].apply(lambda x: x.split(', ')[0])\n",
    "geocoded['lng'] = geocoded['lat_lng'].apply(lambda x: x.split(', ')[1])"
   ]
  },
  {
   "cell_type": "code",
   "execution_count": 33,
   "metadata": {
    "ExecuteTime": {
     "end_time": "2023-04-01T04:31:27.998319Z",
     "start_time": "2023-04-01T04:31:27.983494Z"
    }
   },
   "outputs": [
    {
     "data": {
      "text/html": [
       "<div>\n",
       "<style scoped>\n",
       "    .dataframe tbody tr th:only-of-type {\n",
       "        vertical-align: middle;\n",
       "    }\n",
       "\n",
       "    .dataframe tbody tr th {\n",
       "        vertical-align: top;\n",
       "    }\n",
       "\n",
       "    .dataframe thead th {\n",
       "        text-align: right;\n",
       "    }\n",
       "</style>\n",
       "<table border=\"1\" class=\"dataframe\">\n",
       "  <thead>\n",
       "    <tr style=\"text-align: right;\">\n",
       "      <th></th>\n",
       "      <th>area</th>\n",
       "      <th>floorRange</th>\n",
       "      <th>noOfUnits</th>\n",
       "      <th>contractDate</th>\n",
       "      <th>typeOfSale</th>\n",
       "      <th>price</th>\n",
       "      <th>propertyType</th>\n",
       "      <th>district</th>\n",
       "      <th>typeOfArea</th>\n",
       "      <th>tenure</th>\n",
       "      <th>street</th>\n",
       "      <th>project</th>\n",
       "      <th>marketSegment</th>\n",
       "      <th>nettPrice</th>\n",
       "    </tr>\n",
       "  </thead>\n",
       "  <tbody>\n",
       "    <tr>\n",
       "      <th>0</th>\n",
       "      <td>524.3</td>\n",
       "      <td>-</td>\n",
       "      <td>1</td>\n",
       "      <td>2020-02-01</td>\n",
       "      <td>3</td>\n",
       "      <td>5500000</td>\n",
       "      <td>Semi-detached</td>\n",
       "      <td>5</td>\n",
       "      <td>Land</td>\n",
       "      <td>Freehold</td>\n",
       "      <td>ZEHNDER ROAD</td>\n",
       "      <td>LANDED HOUSING DEVELOPMENT</td>\n",
       "      <td>RCR</td>\n",
       "      <td>NaN</td>\n",
       "    </tr>\n",
       "    <tr>\n",
       "      <th>1</th>\n",
       "      <td>308.0</td>\n",
       "      <td>-</td>\n",
       "      <td>1</td>\n",
       "      <td>2018-09-01</td>\n",
       "      <td>3</td>\n",
       "      <td>5000000</td>\n",
       "      <td>Semi-detached</td>\n",
       "      <td>5</td>\n",
       "      <td>Land</td>\n",
       "      <td>Freehold</td>\n",
       "      <td>ZEHNDER ROAD</td>\n",
       "      <td>LANDED HOUSING DEVELOPMENT</td>\n",
       "      <td>RCR</td>\n",
       "      <td>NaN</td>\n",
       "    </tr>\n",
       "    <tr>\n",
       "      <th>2</th>\n",
       "      <td>314.0</td>\n",
       "      <td>-</td>\n",
       "      <td>1</td>\n",
       "      <td>2018-06-01</td>\n",
       "      <td>3</td>\n",
       "      <td>4750000</td>\n",
       "      <td>Semi-detached</td>\n",
       "      <td>5</td>\n",
       "      <td>Land</td>\n",
       "      <td>Freehold</td>\n",
       "      <td>ZEHNDER ROAD</td>\n",
       "      <td>LANDED HOUSING DEVELOPMENT</td>\n",
       "      <td>RCR</td>\n",
       "      <td>NaN</td>\n",
       "    </tr>\n",
       "    <tr>\n",
       "      <th>3</th>\n",
       "      <td>308.0</td>\n",
       "      <td>-</td>\n",
       "      <td>1</td>\n",
       "      <td>2021-09-01</td>\n",
       "      <td>3</td>\n",
       "      <td>5200000</td>\n",
       "      <td>Semi-detached</td>\n",
       "      <td>5</td>\n",
       "      <td>Land</td>\n",
       "      <td>Freehold</td>\n",
       "      <td>ZEHNDER ROAD</td>\n",
       "      <td>LANDED HOUSING DEVELOPMENT</td>\n",
       "      <td>RCR</td>\n",
       "      <td>NaN</td>\n",
       "    </tr>\n",
       "    <tr>\n",
       "      <th>4</th>\n",
       "      <td>159.3</td>\n",
       "      <td>-</td>\n",
       "      <td>1</td>\n",
       "      <td>2020-03-01</td>\n",
       "      <td>3</td>\n",
       "      <td>2630000</td>\n",
       "      <td>Terrace</td>\n",
       "      <td>5</td>\n",
       "      <td>Land</td>\n",
       "      <td>Freehold</td>\n",
       "      <td>NEO PEE TECK LANE</td>\n",
       "      <td>LANDED HOUSING DEVELOPMENT</td>\n",
       "      <td>RCR</td>\n",
       "      <td>NaN</td>\n",
       "    </tr>\n",
       "  </tbody>\n",
       "</table>\n",
       "</div>"
      ],
      "text/plain": [
       "    area floorRange  noOfUnits contractDate  typeOfSale    price  \\\n",
       "0  524.3          -          1   2020-02-01           3  5500000   \n",
       "1  308.0          -          1   2018-09-01           3  5000000   \n",
       "2  314.0          -          1   2018-06-01           3  4750000   \n",
       "3  308.0          -          1   2021-09-01           3  5200000   \n",
       "4  159.3          -          1   2020-03-01           3  2630000   \n",
       "\n",
       "    propertyType  district typeOfArea    tenure             street  \\\n",
       "0  Semi-detached         5       Land  Freehold       ZEHNDER ROAD   \n",
       "1  Semi-detached         5       Land  Freehold       ZEHNDER ROAD   \n",
       "2  Semi-detached         5       Land  Freehold       ZEHNDER ROAD   \n",
       "3  Semi-detached         5       Land  Freehold       ZEHNDER ROAD   \n",
       "4        Terrace         5       Land  Freehold  NEO PEE TECK LANE   \n",
       "\n",
       "                      project marketSegment  nettPrice  \n",
       "0  LANDED HOUSING DEVELOPMENT           RCR        NaN  \n",
       "1  LANDED HOUSING DEVELOPMENT           RCR        NaN  \n",
       "2  LANDED HOUSING DEVELOPMENT           RCR        NaN  \n",
       "3  LANDED HOUSING DEVELOPMENT           RCR        NaN  \n",
       "4  LANDED HOUSING DEVELOPMENT           RCR        NaN  "
      ]
     },
     "execution_count": 33,
     "metadata": {},
     "output_type": "execute_result"
    }
   ],
   "source": [
    "transactions_raw.head()"
   ]
  },
  {
   "cell_type": "code",
   "execution_count": 34,
   "metadata": {
    "ExecuteTime": {
     "end_time": "2023-04-01T04:31:41.295587Z",
     "start_time": "2023-04-01T04:31:40.814555Z"
    }
   },
   "outputs": [],
   "source": [
    "# properties table\n",
    "id_cols = list(transactions_raw.columns)\n",
    "id_cols = [col for col in transactions_raw.columns if col not in ['price', 'nettPrice', 'contractDate', 'noOfUnits']]\n",
    "properties = transactions_raw[id_cols].drop_duplicates().reset_index(drop=True)\n",
    "properties['property_key'] = properties.apply(lambda x: 'p-'+uuid.uuid4().hex[:9], axis=1)"
   ]
  },
  {
   "cell_type": "code",
   "execution_count": 40,
   "metadata": {
    "ExecuteTime": {
     "end_time": "2023-04-01T04:34:26.855067Z",
     "start_time": "2023-04-01T04:34:26.206252Z"
    }
   },
   "outputs": [],
   "source": [
    "# bring everything together\n",
    "transactions_master_agg_clean = transactions_master_agg.merge(geocoded[['street', 'project', 'lat', 'lng']], on=['street', 'project'], how='left')\n",
    "transactions_master_agg_clean = transactions_master_agg_clean.merge(properties, on=id_cols, how='left')\n",
    "\n",
    "\n",
    "col_orders = \\\n",
    "['property_key', 'street', 'project', 'marketSegment', \n",
    " 'area', 'floorRange', 'contractDate', 'typeOfSale', 'propertyType',\n",
    " 'district', 'typeOfArea', 'tenure', 'median_price', 'lat', 'lng', ]\n",
    "\n",
    "\n",
    "transactions_master_agg_clean = transactions_master_agg_clean[col_orders]\n",
    "transactions_master_agg_clean.rename({'median_price':'price'}, axis=1, inplace=True)\n",
    "\n",
    "transactions_master_agg_clean['contractDate'] = pd.to_datetime(transactions_master_agg_clean['contractDate'])\n",
    "transactions_master_agg_clean['contractDate'] = transactions_master_agg_clean['contractDate'].apply(lambda x: x.date())\n",
    "transactions_master_agg_clean = transactions_master_agg_clean.sort_values(by='contractDate').reset_index(drop=True)\n"
   ]
  },
  {
   "cell_type": "code",
   "execution_count": 41,
   "metadata": {
    "ExecuteTime": {
     "end_time": "2023-04-01T04:34:51.694226Z",
     "start_time": "2023-04-01T04:34:51.690585Z"
    }
   },
   "outputs": [
    {
     "data": {
      "text/plain": [
       "(96684, 15)"
      ]
     },
     "execution_count": 41,
     "metadata": {},
     "output_type": "execute_result"
    }
   ],
   "source": [
    "transactions_master_agg_clean.shape"
   ]
  },
  {
   "cell_type": "code",
   "execution_count": 45,
   "metadata": {
    "ExecuteTime": {
     "end_time": "2023-04-01T04:35:11.662198Z",
     "start_time": "2023-04-01T04:35:11.572248Z"
    }
   },
   "outputs": [],
   "source": [
    "transactions_master_agg_clean = transactions_master_agg_clean.drop_duplicates(subset=['contractDate'] + id_cols)"
   ]
  },
  {
   "cell_type": "code",
   "execution_count": 72,
   "metadata": {
    "ExecuteTime": {
     "end_time": "2023-03-30T08:42:52.998041Z",
     "start_time": "2023-03-30T08:42:52.738444Z"
    }
   },
   "outputs": [],
   "source": [
    "# rent_master_pivoted = rent_master_agg_clean.pivot_table(index='property_key', columns='leaseDate', values='rental_price')"
   ]
  },
  {
   "cell_type": "code",
   "execution_count": 128,
   "metadata": {
    "ExecuteTime": {
     "end_time": "2023-03-30T08:56:56.181480Z",
     "start_time": "2023-03-30T08:56:56.177313Z"
    }
   },
   "outputs": [],
   "source": [
    "def historical_mean(rent_master_pivoted, property_key:str, ref_date:datetime.date, time_window:int, offset:int):\n",
    "    df = rent_master_pivoted[rent_master_pivoted.index==property_key]\n",
    "    ref_date = ref_date - relativedelta(months=offset)\n",
    "    date_ranges = [col for col in df.columns if col < ref_date and col >= ref_date-relativedelta(months=time_window)]\n",
    "#     historical_mean = df.loc[(df['leaseDate']>=ref_date-relativedelta(months=time_window)) \n",
    "#                              & (df['leaseDate']<ref_date), 'rental_price'].mean()\n",
    "\n",
    "#     df[date_ranges].mean(axis=0)\n",
    "    return df[date_ranges].mean(axis=1).values[0]\n",
    "    "
   ]
  },
  {
   "cell_type": "code",
   "execution_count": 143,
   "metadata": {
    "ExecuteTime": {
     "end_time": "2023-03-30T09:12:35.654059Z",
     "start_time": "2023-03-30T09:00:26.913575Z"
    }
   },
   "outputs": [
    {
     "data": {
      "application/vnd.jupyter.widget-view+json": {
       "model_id": "b68e4d625efd42778afa21466e7273d2",
       "version_major": 2,
       "version_minor": 0
      },
      "text/plain": [
       "HBox(children=(IntProgress(value=0, description='Pandas Apply', max=231394, style=ProgressStyle(description_wi…"
      ]
     },
     "metadata": {},
     "output_type": "display_data"
    },
    {
     "name": "stdout",
     "output_type": "stream",
     "text": [
      "\n"
     ]
    }
   ],
   "source": [
    "past_6_months_mean = \\\n",
    "train_ids.swifter.apply(lambda x: historical_mean(rent_master_pivoted, property_key=x['property_key'], \n",
    "                                                  ref_date=x['leaseDate'], time_window=6, offset=0), axis=1)"
   ]
  },
  {
   "cell_type": "code",
   "execution_count": 144,
   "metadata": {
    "ExecuteTime": {
     "end_time": "2023-03-30T09:37:57.277955Z",
     "start_time": "2023-03-30T09:27:00.013062Z"
    }
   },
   "outputs": [
    {
     "data": {
      "application/vnd.jupyter.widget-view+json": {
       "model_id": "4c248be42d0649b7930d11faed0a72f2",
       "version_major": 2,
       "version_minor": 0
      },
      "text/plain": [
       "HBox(children=(IntProgress(value=0, description='Pandas Apply', max=231394, style=ProgressStyle(description_wi…"
      ]
     },
     "metadata": {},
     "output_type": "display_data"
    },
    {
     "name": "stdout",
     "output_type": "stream",
     "text": [
      "\n"
     ]
    }
   ],
   "source": [
    "past_6_months_offset1_mean = \\\n",
    "train_ids.swifter.apply(lambda x: historical_mean(rent_master_pivoted, property_key=x['property_key'], \n",
    "                                                  ref_date=x['leaseDate'], time_window=6, offset=1), axis=1)"
   ]
  },
  {
   "cell_type": "code",
   "execution_count": null,
   "metadata": {},
   "outputs": [],
   "source": [
    "past_6_months_offset2_mean = \\\n",
    "train_ids.swifter.apply(lambda x: historical_mean(rent_master_pivoted, property_key=x['property_key'], \n",
    "                                                  ref_date=x['leaseDate'], time_window=6, offset=2), axis=1)"
   ]
  },
  {
   "cell_type": "code",
   "execution_count": null,
   "metadata": {},
   "outputs": [],
   "source": [
    "# past 6 months rent mean\n",
    "\n",
    "def historical_mean(rent_master, property_key:str, ref_date:datetime.date, time_window:int, offset:int):\n",
    "    df = rent_master[rent_master['property_key']==property_key]\n",
    "    ref_date = ref_date - relativedelta(months=offset)    \n",
    "    historical_mean = df.loc[(df['leaseDate']>=ref_date-relativedelta(months=time_window)) & (df['leaseDate']<ref_date), 'rental_price'].mean()\n",
    "    \n",
    "    return historical_mean\n",
    "    \n",
    "    \n",
    "def calc_historical_mean(df, rent_master, time_window, offset):\n",
    "    past_6_months_mean = []\n",
    "    for index, row in tqdm(df.iterrows(), total=df.shape[0]):\n",
    "        past_6_months_mean.append(historical_mean(rent_master, row['property_key'], row['leaseDate'], time_window, offset))\n",
    "\n",
    "    df['past_6_months_mean'] = past_6_months_mean\n",
    "    \n",
    "    return df\n",
    "\n",
    "# train\n",
    "X_train = calc_historical_mean(X_train, rent_master_agg_clean, 6, 0)\n",
    "\n",
    "# test\n",
    "X_test_december = calc_historical_mean(X_test_december, rent_master_agg_clean, 6, 0)\n"
   ]
  },
  {
   "cell_type": "code",
   "execution_count": 46,
   "metadata": {
    "ExecuteTime": {
     "end_time": "2023-04-01T04:35:53.693811Z",
     "start_time": "2023-04-01T04:35:53.676361Z"
    }
   },
   "outputs": [
    {
     "data": {
      "text/html": [
       "<div>\n",
       "<style scoped>\n",
       "    .dataframe tbody tr th:only-of-type {\n",
       "        vertical-align: middle;\n",
       "    }\n",
       "\n",
       "    .dataframe tbody tr th {\n",
       "        vertical-align: top;\n",
       "    }\n",
       "\n",
       "    .dataframe thead th {\n",
       "        text-align: right;\n",
       "    }\n",
       "</style>\n",
       "<table border=\"1\" class=\"dataframe\">\n",
       "  <thead>\n",
       "    <tr style=\"text-align: right;\">\n",
       "      <th></th>\n",
       "      <th>property_key</th>\n",
       "      <th>street</th>\n",
       "      <th>project</th>\n",
       "      <th>marketSegment</th>\n",
       "      <th>area</th>\n",
       "      <th>floorRange</th>\n",
       "      <th>contractDate</th>\n",
       "      <th>typeOfSale</th>\n",
       "      <th>propertyType</th>\n",
       "      <th>district</th>\n",
       "      <th>typeOfArea</th>\n",
       "      <th>tenure</th>\n",
       "      <th>price</th>\n",
       "      <th>lat</th>\n",
       "      <th>lng</th>\n",
       "    </tr>\n",
       "  </thead>\n",
       "  <tbody>\n",
       "    <tr>\n",
       "      <th>0</th>\n",
       "      <td>p-fd9e4646c</td>\n",
       "      <td>HAIG ROAD</td>\n",
       "      <td>HAIG COURT</td>\n",
       "      <td>RCR</td>\n",
       "      <td>100.0</td>\n",
       "      <td>01-05</td>\n",
       "      <td>2018-03-01</td>\n",
       "      <td>3</td>\n",
       "      <td>Condominium</td>\n",
       "      <td>15</td>\n",
       "      <td>Strata</td>\n",
       "      <td>Freehold</td>\n",
       "      <td>1430000.0</td>\n",
       "      <td>1.30656471420158</td>\n",
       "      <td>103.898292204928</td>\n",
       "    </tr>\n",
       "    <tr>\n",
       "      <th>1</th>\n",
       "      <td>p-b221576e3</td>\n",
       "      <td>PASIR RIS LINK</td>\n",
       "      <td>SEA ESTA</td>\n",
       "      <td>OCR</td>\n",
       "      <td>128.0</td>\n",
       "      <td>01-05</td>\n",
       "      <td>2018-03-01</td>\n",
       "      <td>3</td>\n",
       "      <td>Condominium</td>\n",
       "      <td>18</td>\n",
       "      <td>Strata</td>\n",
       "      <td>99 yrs lease commencing from 2012</td>\n",
       "      <td>1300000.0</td>\n",
       "      <td>1.37742779265615</td>\n",
       "      <td>103.959877225877</td>\n",
       "    </tr>\n",
       "    <tr>\n",
       "      <th>2</th>\n",
       "      <td>p-fc49b5b86</td>\n",
       "      <td>WEST COAST PARK</td>\n",
       "      <td>BOTANNIA</td>\n",
       "      <td>OCR</td>\n",
       "      <td>144.0</td>\n",
       "      <td>01-05</td>\n",
       "      <td>2018-03-01</td>\n",
       "      <td>3</td>\n",
       "      <td>Condominium</td>\n",
       "      <td>5</td>\n",
       "      <td>Strata</td>\n",
       "      <td>956 yrs lease commencing from 1928</td>\n",
       "      <td>1850000.0</td>\n",
       "      <td>1.31803357100435</td>\n",
       "      <td>103.753527872969</td>\n",
       "    </tr>\n",
       "    <tr>\n",
       "      <th>3</th>\n",
       "      <td>p-34a4d1ddb</td>\n",
       "      <td>HOUGANG STREET 11</td>\n",
       "      <td>THE MINTON</td>\n",
       "      <td>OCR</td>\n",
       "      <td>154.0</td>\n",
       "      <td>11-15</td>\n",
       "      <td>2018-03-01</td>\n",
       "      <td>3</td>\n",
       "      <td>Condominium</td>\n",
       "      <td>19</td>\n",
       "      <td>Strata</td>\n",
       "      <td>99 yrs lease commencing from 2007</td>\n",
       "      <td>1850000.0</td>\n",
       "      <td>1.3513904432788</td>\n",
       "      <td>103.881242080921</td>\n",
       "    </tr>\n",
       "    <tr>\n",
       "      <th>4</th>\n",
       "      <td>p-be5c2743f</td>\n",
       "      <td>WESTWOOD WALK</td>\n",
       "      <td>WESTVILLE</td>\n",
       "      <td>OCR</td>\n",
       "      <td>159.7</td>\n",
       "      <td>-</td>\n",
       "      <td>2018-03-01</td>\n",
       "      <td>3</td>\n",
       "      <td>Terrace</td>\n",
       "      <td>22</td>\n",
       "      <td>Land</td>\n",
       "      <td>99 yrs lease commencing from 1994</td>\n",
       "      <td>1250000.0</td>\n",
       "      <td>1.35306411051944</td>\n",
       "      <td>103.697961431183</td>\n",
       "    </tr>\n",
       "  </tbody>\n",
       "</table>\n",
       "</div>"
      ],
      "text/plain": [
       "  property_key             street     project marketSegment   area floorRange  \\\n",
       "0  p-fd9e4646c          HAIG ROAD  HAIG COURT           RCR  100.0      01-05   \n",
       "1  p-b221576e3     PASIR RIS LINK    SEA ESTA           OCR  128.0      01-05   \n",
       "2  p-fc49b5b86    WEST COAST PARK    BOTANNIA           OCR  144.0      01-05   \n",
       "3  p-34a4d1ddb  HOUGANG STREET 11  THE MINTON           OCR  154.0      11-15   \n",
       "4  p-be5c2743f      WESTWOOD WALK   WESTVILLE           OCR  159.7          -   \n",
       "\n",
       "  contractDate  typeOfSale propertyType  district typeOfArea  \\\n",
       "0   2018-03-01           3  Condominium        15     Strata   \n",
       "1   2018-03-01           3  Condominium        18     Strata   \n",
       "2   2018-03-01           3  Condominium         5     Strata   \n",
       "3   2018-03-01           3  Condominium        19     Strata   \n",
       "4   2018-03-01           3      Terrace        22       Land   \n",
       "\n",
       "                               tenure      price               lat  \\\n",
       "0                            Freehold  1430000.0  1.30656471420158   \n",
       "1   99 yrs lease commencing from 2012  1300000.0  1.37742779265615   \n",
       "2  956 yrs lease commencing from 1928  1850000.0  1.31803357100435   \n",
       "3   99 yrs lease commencing from 2007  1850000.0   1.3513904432788   \n",
       "4   99 yrs lease commencing from 1994  1250000.0  1.35306411051944   \n",
       "\n",
       "                lng  \n",
       "0  103.898292204928  \n",
       "1  103.959877225877  \n",
       "2  103.753527872969  \n",
       "3  103.881242080921  \n",
       "4  103.697961431183  "
      ]
     },
     "execution_count": 46,
     "metadata": {},
     "output_type": "execute_result"
    }
   ],
   "source": [
    "transactions_master_agg_clean.head()"
   ]
  },
  {
   "cell_type": "code",
   "execution_count": 47,
   "metadata": {
    "ExecuteTime": {
     "end_time": "2023-04-01T04:36:24.494441Z",
     "start_time": "2023-04-01T04:36:24.450187Z"
    }
   },
   "outputs": [],
   "source": [
    "# train test split\n",
    "train = transactions_master_agg_clean[transactions_master_agg_clean['contractDate']<datetime.date(2023,1,1)]\n",
    "test = transactions_master_agg_clean[transactions_master_agg_clean['contractDate']>=datetime.date(2023,1,1)]\n",
    "\n",
    "# split x and y\n",
    "train_ids = train[['property_key', 'contractDate', 'price']]\n",
    "test_ids = test[['property_key', 'contractDate']]\n",
    "y_test = test.set_index(['property_key', 'contractDate'])['price']"
   ]
  },
  {
   "cell_type": "code",
   "execution_count": 23,
   "metadata": {
    "ExecuteTime": {
     "end_time": "2023-03-30T07:39:31.526510Z",
     "start_time": "2023-03-30T07:39:31.522214Z"
    }
   },
   "outputs": [],
   "source": [
    "geocoded = geocoded.drop(['key', 'lat_lng'], axis=1)"
   ]
  },
  {
   "cell_type": "code",
   "execution_count": 15,
   "metadata": {
    "ExecuteTime": {
     "end_time": "2023-04-01T04:10:30.573294Z",
     "start_time": "2023-04-01T04:10:30.570938Z"
    }
   },
   "outputs": [],
   "source": [
    "# import os\n",
    "# os.mkdir('transactions_final_data')"
   ]
  },
  {
   "cell_type": "code",
   "execution_count": 48,
   "metadata": {
    "ExecuteTime": {
     "end_time": "2023-04-01T04:36:28.840671Z",
     "start_time": "2023-04-01T04:36:28.417182Z"
    },
    "scrolled": true
   },
   "outputs": [],
   "source": [
    "geocoded.to_csv('transactions_final_data/geocodes.csv', index=False)\n",
    "properties.to_csv('transactions_final_data/properties.csv', index=False)\n",
    "train_ids.to_csv('transactions_final_data/train.csv', index=False)\n",
    "test_ids.to_csv('transactions_final_data/test.csv', index=False)\n",
    "y_test.to_csv('transactions_final_data/test_target.csv')"
   ]
  },
  {
   "cell_type": "code",
   "execution_count": 52,
   "metadata": {
    "ExecuteTime": {
     "end_time": "2023-04-01T04:37:54.427118Z",
     "start_time": "2023-04-01T04:37:54.419886Z"
    }
   },
   "outputs": [
    {
     "data": {
      "text/plain": [
       "property_key  contractDate\n",
       "p-745f708bd   2023-01-01      2583000.0\n",
       "p-a45c69849   2023-01-01      1260000.0\n",
       "p-8e4313761   2023-01-01      1974849.0\n",
       "p-e21a76721   2023-01-01      1425000.0\n",
       "p-656fb7cad   2023-01-01      2217000.0\n",
       "                                ...    \n",
       "p-91df4494a   2023-03-01       900000.0\n",
       "p-4528d744a   2023-03-01      5150000.0\n",
       "p-a9e01583d   2023-03-01       688000.0\n",
       "p-3c90d50ce   2023-03-01      1633862.0\n",
       "p-c1c1ac44e   2023-03-01      1065000.0\n",
       "Name: price, Length: 3245, dtype: float64"
      ]
     },
     "execution_count": 52,
     "metadata": {},
     "output_type": "execute_result"
    }
   ],
   "source": [
    "y_test"
   ]
  },
  {
   "cell_type": "code",
   "execution_count": 484,
   "metadata": {
    "ExecuteTime": {
     "end_time": "2023-03-28T13:44:43.937461Z",
     "start_time": "2023-03-28T13:44:43.934573Z"
    }
   },
   "outputs": [],
   "source": [
    "submission = test_ids.copy()\n",
    "submission['prediction'] = 5000"
   ]
  },
  {
   "cell_type": "code",
   "execution_count": 489,
   "metadata": {
    "ExecuteTime": {
     "end_time": "2023-03-28T13:49:44.354409Z",
     "start_time": "2023-03-28T13:49:44.348676Z"
    }
   },
   "outputs": [],
   "source": [
    "submission.head(500).to_csv('final_data/sample_submission/sample_submission_dummy.csv', index=False)"
   ]
  },
  {
   "cell_type": "code",
   "execution_count": 25,
   "metadata": {
    "ExecuteTime": {
     "end_time": "2023-03-30T07:39:58.758787Z",
     "start_time": "2023-03-30T07:39:58.755236Z"
    }
   },
   "outputs": [
    {
     "data": {
      "text/plain": [
       "(12954, 2)"
      ]
     },
     "execution_count": 25,
     "metadata": {},
     "output_type": "execute_result"
    }
   ],
   "source": [
    "test_ids.shape"
   ]
  },
  {
   "cell_type": "code",
   "execution_count": 439,
   "metadata": {
    "ExecuteTime": {
     "end_time": "2023-03-28T12:10:16.591951Z",
     "start_time": "2023-03-28T12:10:16.541874Z"
    }
   },
   "outputs": [],
   "source": [
    "X_train = train_ids.drop('rental_price', axis=1)\n",
    "y_train = train_ids['rental_price']\n",
    "\n",
    "X_test_december = test_ids[test_ids['leaseDate']==datetime.date(2022,12,1)]\n",
    "y_test_december = X_test_december.set_index(['property_key', 'leaseDate']).join(y_test, how='left')"
   ]
  },
  {
   "cell_type": "code",
   "execution_count": 67,
   "metadata": {
    "ExecuteTime": {
     "end_time": "2023-03-30T08:13:11.734940Z",
     "start_time": "2023-03-30T08:13:11.732610Z"
    }
   },
   "outputs": [],
   "source": [
    "# def target_calculator(rent_master_agg, n):\n",
    "#     prices = []\n",
    "#     for index, row in tqdm(rent_master_agg.iterrows(), total=rent_master_agg.shape[0]):\n",
    "#         leaseDate = row['leaseDate'] + relativedelta(months=1)\n",
    "#         property_key = row['property_key']\n",
    "\n",
    "#         filtered = \\\n",
    "#         rent_master_agg[(rent_master_agg['leaseDate']==leaseDate) & \n",
    "#                               (rent_master_agg['property_key']==property_key)]\n",
    "\n",
    "#         if filtered.shape[0] == 0:\n",
    "#             rental_price = np.nan\n",
    "#         else:    \n",
    "#             rental_price = filtered['rental_price'].values[0]\n",
    "\n",
    "#         prices.append(rental_price)  \n",
    "        \n",
    "#     return prices"
   ]
  },
  {
   "cell_type": "code",
   "execution_count": 68,
   "metadata": {
    "ExecuteTime": {
     "end_time": "2023-03-30T08:13:15.649398Z",
     "start_time": "2023-03-30T08:13:15.647186Z"
    }
   },
   "outputs": [],
   "source": [
    "# n_2 = target_calculator(rent_master_agg_clean, 1)"
   ]
  },
  {
   "cell_type": "code",
   "execution_count": 69,
   "metadata": {
    "ExecuteTime": {
     "end_time": "2023-03-30T08:13:17.934045Z",
     "start_time": "2023-03-30T08:13:17.931823Z"
    }
   },
   "outputs": [],
   "source": [
    "# n = 1\n",
    "\n",
    "# prices = []\n",
    "# for index, row in tqdm(rent_master_agg_clean.sample(50).iterrows(), total=rent_master_agg_clean.head().shape[0]):\n",
    "#     leaseDate = row['leaseDate'] + relativedelta(months=1)\n",
    "#     property_key = row['property_key']\n",
    "    \n",
    "#     filtered = \\\n",
    "#     rent_master_agg_clean[(rent_master_agg_clean['leaseDate']==leaseDate) & \n",
    "#                           (rent_master_agg_clean['property_key']==property_key)]\n",
    "    \n",
    "#     if filtered.shape[0] == 0:\n",
    "#         rental_price = np.nan\n",
    "#     else:    \n",
    "#         rental_price = filtered['rental_price'].values[0]\n",
    "    \n",
    "#     prices.append(rental_price)"
   ]
  },
  {
   "cell_type": "code",
   "execution_count": 440,
   "metadata": {
    "ExecuteTime": {
     "end_time": "2023-03-28T13:07:04.154822Z",
     "start_time": "2023-03-28T12:10:54.868805Z"
    }
   },
   "outputs": [
    {
     "data": {
      "application/vnd.jupyter.widget-view+json": {
       "model_id": "ed5119d9524a470a8913fe621c25de3a",
       "version_major": 2,
       "version_minor": 0
      },
      "text/plain": [
       "  0%|          | 0/231394 [00:00<?, ?it/s]"
      ]
     },
     "metadata": {},
     "output_type": "display_data"
    },
    {
     "data": {
      "application/vnd.jupyter.widget-view+json": {
       "model_id": "bac76cef10b14f8395de2fcb1054f83e",
       "version_major": 2,
       "version_minor": 0
      },
      "text/plain": [
       "  0%|          | 0/4550 [00:00<?, ?it/s]"
      ]
     },
     "metadata": {},
     "output_type": "display_data"
    },
    {
     "name": "stderr",
     "output_type": "stream",
     "text": [
      "/usr/local/anaconda3/lib/python3.7/site-packages/ipykernel_launcher.py:16: SettingWithCopyWarning: \n",
      "A value is trying to be set on a copy of a slice from a DataFrame.\n",
      "Try using .loc[row_indexer,col_indexer] = value instead\n",
      "\n",
      "See the caveats in the documentation: https://pandas.pydata.org/pandas-docs/stable/user_guide/indexing.html#returning-a-view-versus-a-copy\n",
      "  app.launch_new_instance()\n"
     ]
    }
   ],
   "source": [
    "# past 6 months rent mean\n",
    "\n",
    "def historical_mean(rent_master, property_key:str, ref_date:datetime.date, time_window:int, offset:int):\n",
    "    df = rent_master[rent_master['property_key']==property_key]\n",
    "    ref_date = ref_date - relativedelta(months=offset)    \n",
    "    historical_mean = df.loc[(df['leaseDate']>=ref_date-relativedelta(months=time_window)) & (df['leaseDate']<ref_date), 'rental_price'].mean()\n",
    "    \n",
    "    return historical_mean\n",
    "    \n",
    "    \n",
    "def calc_historical_mean(df, rent_master, time_window, offset):\n",
    "    past_6_months_mean = []\n",
    "    for index, row in tqdm(df.iterrows(), total=df.shape[0]):\n",
    "        past_6_months_mean.append(historical_mean(rent_master, row['property_key'], row['leaseDate'], time_window, offset))\n",
    "\n",
    "    df['past_6_months_mean'] = past_6_months_mean\n",
    "    \n",
    "    return df\n",
    "\n",
    "# train\n",
    "X_train = calc_historical_mean(X_train, rent_master_agg_clean, 6, 0)\n",
    "\n",
    "# test\n",
    "X_test_december = calc_historical_mean(X_test_december, rent_master_agg_clean, 6, 0)\n"
   ]
  },
  {
   "cell_type": "code",
   "execution_count": 441,
   "metadata": {
    "ExecuteTime": {
     "end_time": "2023-03-28T13:07:04.331496Z",
     "start_time": "2023-03-28T13:07:04.156889Z"
    }
   },
   "outputs": [],
   "source": [
    "# areaSqm \n",
    "def encode_areaSqm(df):\n",
    "    areaSqm = pd.get_dummies(properties.set_index('property_key')['areaSqm'])\n",
    "    areaSqm.columns = ['areaSqm_'+col for col in areaSqm.columns]\n",
    "    df = df.merge(areaSqm.reset_index(), on='property_key', how='left')\n",
    "    \n",
    "    return df\n",
    "\n",
    "# train\n",
    "X_train = encode_areaSqm(X_train)\n",
    "\n",
    "# test\n",
    "X_test_december = encode_areaSqm(X_test_december)"
   ]
  },
  {
   "cell_type": "code",
   "execution_count": 442,
   "metadata": {
    "ExecuteTime": {
     "end_time": "2023-03-28T13:07:04.501959Z",
     "start_time": "2023-03-28T13:07:04.334631Z"
    }
   },
   "outputs": [],
   "source": [
    "# noOfBedRoom\n",
    "\n",
    "# train\n",
    "X_train = X_train.merge(properties[['property_key', 'noOfBedRoom']], on='property_key', how='left')\n",
    "X_train['noOfBedRoom'] = X_train['noOfBedRoom'].fillna(0)\n",
    "\n",
    "# test\n",
    "X_test_december = X_test_december.merge(properties[['property_key', 'noOfBedRoom']], on='property_key', how='left')\n",
    "X_test_december['noOfBedRoom'] = X_test_december['noOfBedRoom'].fillna(0)"
   ]
  },
  {
   "cell_type": "code",
   "execution_count": 443,
   "metadata": {
    "ExecuteTime": {
     "end_time": "2023-03-28T13:07:13.921862Z",
     "start_time": "2023-03-28T13:07:10.962095Z"
    }
   },
   "outputs": [
    {
     "name": "stderr",
     "output_type": "stream",
     "text": [
      "/usr/local/anaconda3/lib/python3.7/site-packages/ipykernel_launcher.py:4: SettingWithCopyWarning: \n",
      "A value is trying to be set on a copy of a slice from a DataFrame.\n",
      "Try using .loc[row_indexer,col_indexer] = value instead\n",
      "\n",
      "See the caveats in the documentation: https://pandas.pydata.org/pandas-docs/stable/user_guide/indexing.html#returning-a-view-versus-a-copy\n",
      "  after removing the cwd from sys.path.\n"
     ]
    }
   ],
   "source": [
    "# fill missing values for past 6 months mean by median rent price by bedroom\n",
    "\n",
    "# train\n",
    "train['noOfBedRoom'] = train['noOfBedRoom'].fillna(0)\n",
    "rent_median_by_bedroom = train.groupby('noOfBedRoom')['rental_price'].median().to_dict()\n",
    "\n",
    "X_train['past_6_months_mean'] = \\\n",
    "X_train.apply(lambda x: x['past_6_months_mean'] if x['past_6_months_mean']==x['past_6_months_mean'] \\\n",
    "              else rent_median_by_bedroom[x['noOfBedRoom']], axis=1)\n",
    "\n",
    "# test\n",
    "X_test_december['past_6_months_mean'] = \\\n",
    "X_test_december.apply(lambda x: x['past_6_months_mean'] if x['past_6_months_mean']==x['past_6_months_mean'] \\\n",
    "                      else rent_median_by_bedroom[x['noOfBedRoom']], axis=1)"
   ]
  },
  {
   "cell_type": "code",
   "execution_count": 444,
   "metadata": {
    "ExecuteTime": {
     "end_time": "2023-03-28T13:07:16.933995Z",
     "start_time": "2023-03-28T13:07:16.777703Z"
    },
    "scrolled": true
   },
   "outputs": [],
   "source": [
    "# district\n",
    "\n",
    "# train\n",
    "X_train = X_train.merge(properties[['property_key', 'district']], on='property_key', how='left')\n",
    "\n",
    "# test\n",
    "X_test_december = X_test_december.merge(properties[['property_key', 'district']], on='property_key', how='left')"
   ]
  },
  {
   "cell_type": "code",
   "execution_count": null,
   "metadata": {
    "ExecuteTime": {
     "end_time": "2023-03-28T11:24:26.172364Z",
     "start_time": "2023-03-28T11:24:26.159678Z"
    }
   },
   "outputs": [],
   "source": []
  },
  {
   "cell_type": "code",
   "execution_count": null,
   "metadata": {
    "ExecuteTime": {
     "end_time": "2023-03-28T11:33:57.687851Z",
     "start_time": "2023-03-28T11:33:57.622163Z"
    }
   },
   "outputs": [],
   "source": []
  },
  {
   "cell_type": "code",
   "execution_count": 448,
   "metadata": {
    "ExecuteTime": {
     "end_time": "2023-03-28T13:07:31.068142Z",
     "start_time": "2023-03-28T13:07:31.065564Z"
    }
   },
   "outputs": [],
   "source": [
    "import lightgbm as lgb\n",
    "from sklearn.metrics import mean_squared_error\n",
    "from sklearn.model_selection import train_test_split"
   ]
  },
  {
   "cell_type": "code",
   "execution_count": 454,
   "metadata": {
    "ExecuteTime": {
     "end_time": "2023-03-28T13:08:10.392335Z",
     "start_time": "2023-03-28T13:08:10.284914Z"
    }
   },
   "outputs": [],
   "source": [
    "X_train = X_train.set_index(['property_key', 'leaseDate'])\n",
    "X_test_december = X_test_december.set_index(['property_key', 'leaseDate'])"
   ]
  },
  {
   "cell_type": "code",
   "execution_count": 457,
   "metadata": {
    "ExecuteTime": {
     "end_time": "2023-03-28T13:08:45.005979Z",
     "start_time": "2023-03-28T13:08:45.003437Z"
    }
   },
   "outputs": [],
   "source": [
    "lgb_train = lgb.Dataset(X_train, y_train)"
   ]
  },
  {
   "cell_type": "code",
   "execution_count": 458,
   "metadata": {
    "ExecuteTime": {
     "end_time": "2023-03-28T13:08:45.457700Z",
     "start_time": "2023-03-28T13:08:45.454542Z"
    }
   },
   "outputs": [],
   "source": [
    "params = {\n",
    "    'boosting_type': 'gbdt',\n",
    "    'objective': 'regression',\n",
    "    'metric': 'rmse',\n",
    "    'num_leaves': 31,\n",
    "    'learning_rate': 0.05,\n",
    "    'feature_fraction': 0.9,\n",
    "    'bagging_fraction': 0.8,\n",
    "    'bagging_freq': 5,\n",
    "    'verbose': 0\n",
    "}"
   ]
  },
  {
   "cell_type": "code",
   "execution_count": 459,
   "metadata": {
    "ExecuteTime": {
     "end_time": "2023-03-28T13:08:49.882360Z",
     "start_time": "2023-03-28T13:08:45.934136Z"
    }
   },
   "outputs": [],
   "source": [
    "gbm = lgb.train(params,\n",
    "                lgb_train,\n",
    "                num_boost_round=1000,\n",
    "                verbose_eval=100)"
   ]
  },
  {
   "cell_type": "code",
   "execution_count": 467,
   "metadata": {
    "ExecuteTime": {
     "end_time": "2023-03-28T13:10:28.579160Z",
     "start_time": "2023-03-28T13:10:28.516319Z"
    }
   },
   "outputs": [],
   "source": [
    "y_pred = y_test_december.copy()\n",
    "y_pred['y_pred'] = gbm.predict(X_test_december)"
   ]
  },
  {
   "cell_type": "code",
   "execution_count": 471,
   "metadata": {
    "ExecuteTime": {
     "end_time": "2023-03-28T13:11:19.178082Z",
     "start_time": "2023-03-28T13:11:19.169323Z"
    }
   },
   "outputs": [
    {
     "data": {
      "text/html": [
       "<div>\n",
       "<style scoped>\n",
       "    .dataframe tbody tr th:only-of-type {\n",
       "        vertical-align: middle;\n",
       "    }\n",
       "\n",
       "    .dataframe tbody tr th {\n",
       "        vertical-align: top;\n",
       "    }\n",
       "\n",
       "    .dataframe thead th {\n",
       "        text-align: right;\n",
       "    }\n",
       "</style>\n",
       "<table border=\"1\" class=\"dataframe\">\n",
       "  <thead>\n",
       "    <tr style=\"text-align: right;\">\n",
       "      <th></th>\n",
       "      <th></th>\n",
       "      <th>rental_price</th>\n",
       "      <th>y_pred</th>\n",
       "    </tr>\n",
       "    <tr>\n",
       "      <th>property_key</th>\n",
       "      <th>leaseDate</th>\n",
       "      <th></th>\n",
       "      <th></th>\n",
       "    </tr>\n",
       "  </thead>\n",
       "  <tbody>\n",
       "    <tr>\n",
       "      <th>p-9fc9988bc</th>\n",
       "      <th>2022-12-01</th>\n",
       "      <td>3500.0</td>\n",
       "      <td>4301.545914</td>\n",
       "    </tr>\n",
       "    <tr>\n",
       "      <th>p-02983bc11</th>\n",
       "      <th>2022-12-01</th>\n",
       "      <td>6500.0</td>\n",
       "      <td>5593.144007</td>\n",
       "    </tr>\n",
       "    <tr>\n",
       "      <th>p-781bcdb7f</th>\n",
       "      <th>2022-12-01</th>\n",
       "      <td>5900.0</td>\n",
       "      <td>5085.818268</td>\n",
       "    </tr>\n",
       "    <tr>\n",
       "      <th>p-1131ed095</th>\n",
       "      <th>2022-12-01</th>\n",
       "      <td>6650.0</td>\n",
       "      <td>8032.591267</td>\n",
       "    </tr>\n",
       "    <tr>\n",
       "      <th>p-47d51f8ee</th>\n",
       "      <th>2022-12-01</th>\n",
       "      <td>5000.0</td>\n",
       "      <td>4723.212011</td>\n",
       "    </tr>\n",
       "  </tbody>\n",
       "</table>\n",
       "</div>"
      ],
      "text/plain": [
       "                         rental_price       y_pred\n",
       "property_key leaseDate                            \n",
       "p-9fc9988bc  2022-12-01        3500.0  4301.545914\n",
       "p-02983bc11  2022-12-01        6500.0  5593.144007\n",
       "p-781bcdb7f  2022-12-01        5900.0  5085.818268\n",
       "p-1131ed095  2022-12-01        6650.0  8032.591267\n",
       "p-47d51f8ee  2022-12-01        5000.0  4723.212011"
      ]
     },
     "execution_count": 471,
     "metadata": {},
     "output_type": "execute_result"
    }
   ],
   "source": [
    "y_pred.head()"
   ]
  },
  {
   "cell_type": "code",
   "execution_count": 473,
   "metadata": {
    "ExecuteTime": {
     "end_time": "2023-03-28T13:11:31.166301Z",
     "start_time": "2023-03-28T13:11:31.161822Z"
    }
   },
   "outputs": [
    {
     "data": {
      "text/plain": [
       "2742.0420775542125"
      ]
     },
     "execution_count": 473,
     "metadata": {},
     "output_type": "execute_result"
    }
   ],
   "source": [
    "mean_squared_error(y_true=y_pred['rental_price'], y_pred=y_pred['y_pred'])**(1/2)"
   ]
  },
  {
   "cell_type": "code",
   "execution_count": null,
   "metadata": {},
   "outputs": [],
   "source": []
  },
  {
   "cell_type": "code",
   "execution_count": 491,
   "metadata": {
    "ExecuteTime": {
     "end_time": "2023-03-29T02:31:04.873927Z",
     "start_time": "2023-03-29T02:31:04.871136Z"
    }
   },
   "outputs": [],
   "source": [
    "import os"
   ]
  },
  {
   "cell_type": "code",
   "execution_count": 492,
   "metadata": {
    "ExecuteTime": {
     "end_time": "2023-03-29T02:31:13.935110Z",
     "start_time": "2023-03-29T02:31:13.932425Z"
    }
   },
   "outputs": [],
   "source": [
    "os.mkdir('model_data')"
   ]
  },
  {
   "cell_type": "code",
   "execution_count": 493,
   "metadata": {
    "ExecuteTime": {
     "end_time": "2023-03-29T02:31:58.941514Z",
     "start_time": "2023-03-29T02:31:56.264393Z"
    }
   },
   "outputs": [],
   "source": [
    "X_train.to_csv('model_data/X_train.csv')\n",
    "y_train.to_csv('model_data/y_train.csv')\n",
    "X_test_december.to_csv('model_data/X_test_december.csv')\n",
    "y_test_december.to_csv('model_data/y_test_december.csv')"
   ]
  },
  {
   "cell_type": "code",
   "execution_count": null,
   "metadata": {},
   "outputs": [],
   "source": []
  },
  {
   "cell_type": "code",
   "execution_count": 466,
   "metadata": {
    "ExecuteTime": {
     "end_time": "2023-03-28T13:10:07.688112Z",
     "start_time": "2023-03-28T13:10:07.639117Z"
    }
   },
   "outputs": [
    {
     "data": {
      "text/plain": [
       "4550"
      ]
     },
     "execution_count": 466,
     "metadata": {},
     "output_type": "execute_result"
    }
   ],
   "source": [
    "len(gbm.predict(X_test_december))"
   ]
  },
  {
   "cell_type": "code",
   "execution_count": 462,
   "metadata": {
    "ExecuteTime": {
     "end_time": "2023-03-28T13:09:41.707113Z",
     "start_time": "2023-03-28T13:09:41.616716Z"
    }
   },
   "outputs": [
    {
     "ename": "ValueError",
     "evalue": "Shape of passed values is (1, 2), indices imply (4550, 2)",
     "output_type": "error",
     "traceback": [
      "\u001b[0;31m---------------------------------------------------------------------------\u001b[0m",
      "\u001b[0;31mValueError\u001b[0m                                Traceback (most recent call last)",
      "\u001b[0;32m/usr/local/anaconda3/lib/python3.7/site-packages/pandas/core/internals/managers.py\u001b[0m in \u001b[0;36mcreate_block_manager_from_arrays\u001b[0;34m(arrays, names, axes)\u001b[0m\n\u001b[1;32m   1701\u001b[0m         \u001b[0mblocks\u001b[0m \u001b[0;34m=\u001b[0m \u001b[0m_form_blocks\u001b[0m\u001b[0;34m(\u001b[0m\u001b[0marrays\u001b[0m\u001b[0;34m,\u001b[0m \u001b[0mnames\u001b[0m\u001b[0;34m,\u001b[0m \u001b[0maxes\u001b[0m\u001b[0;34m)\u001b[0m\u001b[0;34m\u001b[0m\u001b[0;34m\u001b[0m\u001b[0m\n\u001b[0;32m-> 1702\u001b[0;31m         \u001b[0mmgr\u001b[0m \u001b[0;34m=\u001b[0m \u001b[0mBlockManager\u001b[0m\u001b[0;34m(\u001b[0m\u001b[0mblocks\u001b[0m\u001b[0;34m,\u001b[0m \u001b[0maxes\u001b[0m\u001b[0;34m)\u001b[0m\u001b[0;34m\u001b[0m\u001b[0;34m\u001b[0m\u001b[0m\n\u001b[0m\u001b[1;32m   1703\u001b[0m         \u001b[0mmgr\u001b[0m\u001b[0;34m.\u001b[0m\u001b[0m_consolidate_inplace\u001b[0m\u001b[0;34m(\u001b[0m\u001b[0;34m)\u001b[0m\u001b[0;34m\u001b[0m\u001b[0;34m\u001b[0m\u001b[0m\n",
      "\u001b[0;32m/usr/local/anaconda3/lib/python3.7/site-packages/pandas/core/internals/managers.py\u001b[0m in \u001b[0;36m__init__\u001b[0;34m(self, blocks, axes, do_integrity_check)\u001b[0m\n\u001b[1;32m    142\u001b[0m         \u001b[0;32mif\u001b[0m \u001b[0mdo_integrity_check\u001b[0m\u001b[0;34m:\u001b[0m\u001b[0;34m\u001b[0m\u001b[0;34m\u001b[0m\u001b[0m\n\u001b[0;32m--> 143\u001b[0;31m             \u001b[0mself\u001b[0m\u001b[0;34m.\u001b[0m\u001b[0m_verify_integrity\u001b[0m\u001b[0;34m(\u001b[0m\u001b[0;34m)\u001b[0m\u001b[0;34m\u001b[0m\u001b[0;34m\u001b[0m\u001b[0m\n\u001b[0m\u001b[1;32m    144\u001b[0m \u001b[0;34m\u001b[0m\u001b[0m\n",
      "\u001b[0;32m/usr/local/anaconda3/lib/python3.7/site-packages/pandas/core/internals/managers.py\u001b[0m in \u001b[0;36m_verify_integrity\u001b[0;34m(self)\u001b[0m\n\u001b[1;32m    322\u001b[0m             \u001b[0;32mif\u001b[0m \u001b[0mblock\u001b[0m\u001b[0;34m.\u001b[0m\u001b[0mshape\u001b[0m\u001b[0;34m[\u001b[0m\u001b[0;36m1\u001b[0m\u001b[0;34m:\u001b[0m\u001b[0;34m]\u001b[0m \u001b[0;34m!=\u001b[0m \u001b[0mmgr_shape\u001b[0m\u001b[0;34m[\u001b[0m\u001b[0;36m1\u001b[0m\u001b[0;34m:\u001b[0m\u001b[0;34m]\u001b[0m\u001b[0;34m:\u001b[0m\u001b[0;34m\u001b[0m\u001b[0;34m\u001b[0m\u001b[0m\n\u001b[0;32m--> 323\u001b[0;31m                 \u001b[0;32mraise\u001b[0m \u001b[0mconstruction_error\u001b[0m\u001b[0;34m(\u001b[0m\u001b[0mtot_items\u001b[0m\u001b[0;34m,\u001b[0m \u001b[0mblock\u001b[0m\u001b[0;34m.\u001b[0m\u001b[0mshape\u001b[0m\u001b[0;34m[\u001b[0m\u001b[0;36m1\u001b[0m\u001b[0;34m:\u001b[0m\u001b[0;34m]\u001b[0m\u001b[0;34m,\u001b[0m \u001b[0mself\u001b[0m\u001b[0;34m.\u001b[0m\u001b[0maxes\u001b[0m\u001b[0;34m)\u001b[0m\u001b[0;34m\u001b[0m\u001b[0;34m\u001b[0m\u001b[0m\n\u001b[0m\u001b[1;32m    324\u001b[0m         \u001b[0;32mif\u001b[0m \u001b[0mlen\u001b[0m\u001b[0;34m(\u001b[0m\u001b[0mself\u001b[0m\u001b[0;34m.\u001b[0m\u001b[0mitems\u001b[0m\u001b[0;34m)\u001b[0m \u001b[0;34m!=\u001b[0m \u001b[0mtot_items\u001b[0m\u001b[0;34m:\u001b[0m\u001b[0;34m\u001b[0m\u001b[0;34m\u001b[0m\u001b[0m\n",
      "\u001b[0;31mValueError\u001b[0m: Shape of passed values is (1, 2), indices imply (4550, 2)",
      "\nDuring handling of the above exception, another exception occurred:\n",
      "\u001b[0;31mValueError\u001b[0m                                Traceback (most recent call last)",
      "\u001b[0;32m<ipython-input-462-d6eb9c7dec4e>\u001b[0m in \u001b[0;36m<module>\u001b[0;34m\u001b[0m\n\u001b[0;32m----> 1\u001b[0;31m \u001b[0mpd\u001b[0m\u001b[0;34m.\u001b[0m\u001b[0mDataFrame\u001b[0m\u001b[0;34m(\u001b[0m\u001b[0;34m{\u001b[0m\u001b[0;34m'y'\u001b[0m\u001b[0;34m:\u001b[0m\u001b[0my_test_december\u001b[0m \u001b[0;34m,\u001b[0m \u001b[0;34m'y_pred'\u001b[0m\u001b[0;34m:\u001b[0m \u001b[0mgbm\u001b[0m\u001b[0;34m.\u001b[0m\u001b[0mpredict\u001b[0m\u001b[0;34m(\u001b[0m\u001b[0mX_test_december\u001b[0m\u001b[0;34m)\u001b[0m\u001b[0;34m}\u001b[0m\u001b[0;34m)\u001b[0m\u001b[0;34m\u001b[0m\u001b[0;34m\u001b[0m\u001b[0m\n\u001b[0m",
      "\u001b[0;32m/usr/local/anaconda3/lib/python3.7/site-packages/pandas/core/frame.py\u001b[0m in \u001b[0;36m__init__\u001b[0;34m(self, data, index, columns, dtype, copy)\u001b[0m\n\u001b[1;32m    527\u001b[0m \u001b[0;34m\u001b[0m\u001b[0m\n\u001b[1;32m    528\u001b[0m         \u001b[0;32melif\u001b[0m \u001b[0misinstance\u001b[0m\u001b[0;34m(\u001b[0m\u001b[0mdata\u001b[0m\u001b[0;34m,\u001b[0m \u001b[0mdict\u001b[0m\u001b[0;34m)\u001b[0m\u001b[0;34m:\u001b[0m\u001b[0;34m\u001b[0m\u001b[0;34m\u001b[0m\u001b[0m\n\u001b[0;32m--> 529\u001b[0;31m             \u001b[0mmgr\u001b[0m \u001b[0;34m=\u001b[0m \u001b[0minit_dict\u001b[0m\u001b[0;34m(\u001b[0m\u001b[0mdata\u001b[0m\u001b[0;34m,\u001b[0m \u001b[0mindex\u001b[0m\u001b[0;34m,\u001b[0m \u001b[0mcolumns\u001b[0m\u001b[0;34m,\u001b[0m \u001b[0mdtype\u001b[0m\u001b[0;34m=\u001b[0m\u001b[0mdtype\u001b[0m\u001b[0;34m)\u001b[0m\u001b[0;34m\u001b[0m\u001b[0;34m\u001b[0m\u001b[0m\n\u001b[0m\u001b[1;32m    530\u001b[0m         \u001b[0;32melif\u001b[0m \u001b[0misinstance\u001b[0m\u001b[0;34m(\u001b[0m\u001b[0mdata\u001b[0m\u001b[0;34m,\u001b[0m \u001b[0mma\u001b[0m\u001b[0;34m.\u001b[0m\u001b[0mMaskedArray\u001b[0m\u001b[0;34m)\u001b[0m\u001b[0;34m:\u001b[0m\u001b[0;34m\u001b[0m\u001b[0;34m\u001b[0m\u001b[0m\n\u001b[1;32m    531\u001b[0m             \u001b[0;32mimport\u001b[0m \u001b[0mnumpy\u001b[0m\u001b[0;34m.\u001b[0m\u001b[0mma\u001b[0m\u001b[0;34m.\u001b[0m\u001b[0mmrecords\u001b[0m \u001b[0;32mas\u001b[0m \u001b[0mmrecords\u001b[0m\u001b[0;34m\u001b[0m\u001b[0;34m\u001b[0m\u001b[0m\n",
      "\u001b[0;32m/usr/local/anaconda3/lib/python3.7/site-packages/pandas/core/internals/construction.py\u001b[0m in \u001b[0;36minit_dict\u001b[0;34m(data, index, columns, dtype)\u001b[0m\n\u001b[1;32m    285\u001b[0m             \u001b[0marr\u001b[0m \u001b[0;32mif\u001b[0m \u001b[0;32mnot\u001b[0m \u001b[0mis_datetime64tz_dtype\u001b[0m\u001b[0;34m(\u001b[0m\u001b[0marr\u001b[0m\u001b[0;34m)\u001b[0m \u001b[0;32melse\u001b[0m \u001b[0marr\u001b[0m\u001b[0;34m.\u001b[0m\u001b[0mcopy\u001b[0m\u001b[0;34m(\u001b[0m\u001b[0;34m)\u001b[0m \u001b[0;32mfor\u001b[0m \u001b[0marr\u001b[0m \u001b[0;32min\u001b[0m \u001b[0marrays\u001b[0m\u001b[0;34m\u001b[0m\u001b[0;34m\u001b[0m\u001b[0m\n\u001b[1;32m    286\u001b[0m         ]\n\u001b[0;32m--> 287\u001b[0;31m     \u001b[0;32mreturn\u001b[0m \u001b[0marrays_to_mgr\u001b[0m\u001b[0;34m(\u001b[0m\u001b[0marrays\u001b[0m\u001b[0;34m,\u001b[0m \u001b[0mdata_names\u001b[0m\u001b[0;34m,\u001b[0m \u001b[0mindex\u001b[0m\u001b[0;34m,\u001b[0m \u001b[0mcolumns\u001b[0m\u001b[0;34m,\u001b[0m \u001b[0mdtype\u001b[0m\u001b[0;34m=\u001b[0m\u001b[0mdtype\u001b[0m\u001b[0;34m)\u001b[0m\u001b[0;34m\u001b[0m\u001b[0;34m\u001b[0m\u001b[0m\n\u001b[0m\u001b[1;32m    288\u001b[0m \u001b[0;34m\u001b[0m\u001b[0m\n\u001b[1;32m    289\u001b[0m \u001b[0;34m\u001b[0m\u001b[0m\n",
      "\u001b[0;32m/usr/local/anaconda3/lib/python3.7/site-packages/pandas/core/internals/construction.py\u001b[0m in \u001b[0;36marrays_to_mgr\u001b[0;34m(arrays, arr_names, index, columns, dtype, verify_integrity)\u001b[0m\n\u001b[1;32m     93\u001b[0m     \u001b[0maxes\u001b[0m \u001b[0;34m=\u001b[0m \u001b[0;34m[\u001b[0m\u001b[0mcolumns\u001b[0m\u001b[0;34m,\u001b[0m \u001b[0mindex\u001b[0m\u001b[0;34m]\u001b[0m\u001b[0;34m\u001b[0m\u001b[0;34m\u001b[0m\u001b[0m\n\u001b[1;32m     94\u001b[0m \u001b[0;34m\u001b[0m\u001b[0m\n\u001b[0;32m---> 95\u001b[0;31m     \u001b[0;32mreturn\u001b[0m \u001b[0mcreate_block_manager_from_arrays\u001b[0m\u001b[0;34m(\u001b[0m\u001b[0marrays\u001b[0m\u001b[0;34m,\u001b[0m \u001b[0marr_names\u001b[0m\u001b[0;34m,\u001b[0m \u001b[0maxes\u001b[0m\u001b[0;34m)\u001b[0m\u001b[0;34m\u001b[0m\u001b[0;34m\u001b[0m\u001b[0m\n\u001b[0m\u001b[1;32m     96\u001b[0m \u001b[0;34m\u001b[0m\u001b[0m\n\u001b[1;32m     97\u001b[0m \u001b[0;34m\u001b[0m\u001b[0m\n",
      "\u001b[0;32m/usr/local/anaconda3/lib/python3.7/site-packages/pandas/core/internals/managers.py\u001b[0m in \u001b[0;36mcreate_block_manager_from_arrays\u001b[0;34m(arrays, names, axes)\u001b[0m\n\u001b[1;32m   1704\u001b[0m         \u001b[0;32mreturn\u001b[0m \u001b[0mmgr\u001b[0m\u001b[0;34m\u001b[0m\u001b[0;34m\u001b[0m\u001b[0m\n\u001b[1;32m   1705\u001b[0m     \u001b[0;32mexcept\u001b[0m \u001b[0mValueError\u001b[0m \u001b[0;32mas\u001b[0m \u001b[0me\u001b[0m\u001b[0;34m:\u001b[0m\u001b[0;34m\u001b[0m\u001b[0;34m\u001b[0m\u001b[0m\n\u001b[0;32m-> 1706\u001b[0;31m         \u001b[0;32mraise\u001b[0m \u001b[0mconstruction_error\u001b[0m\u001b[0;34m(\u001b[0m\u001b[0mlen\u001b[0m\u001b[0;34m(\u001b[0m\u001b[0marrays\u001b[0m\u001b[0;34m)\u001b[0m\u001b[0;34m,\u001b[0m \u001b[0marrays\u001b[0m\u001b[0;34m[\u001b[0m\u001b[0;36m0\u001b[0m\u001b[0;34m]\u001b[0m\u001b[0;34m.\u001b[0m\u001b[0mshape\u001b[0m\u001b[0;34m,\u001b[0m \u001b[0maxes\u001b[0m\u001b[0;34m,\u001b[0m \u001b[0me\u001b[0m\u001b[0;34m)\u001b[0m\u001b[0;34m\u001b[0m\u001b[0;34m\u001b[0m\u001b[0m\n\u001b[0m\u001b[1;32m   1707\u001b[0m \u001b[0;34m\u001b[0m\u001b[0m\n\u001b[1;32m   1708\u001b[0m \u001b[0;34m\u001b[0m\u001b[0m\n",
      "\u001b[0;31mValueError\u001b[0m: Shape of passed values is (1, 2), indices imply (4550, 2)"
     ]
    }
   ],
   "source": [
    "pd.DataFrame({'y':y_test_december , 'y_pred': gbm.predict(X_test_december)})"
   ]
  },
  {
   "cell_type": "code",
   "execution_count": 119,
   "metadata": {
    "ExecuteTime": {
     "end_time": "2023-03-27T11:23:23.166545Z",
     "start_time": "2023-03-27T11:23:23.163892Z"
    }
   },
   "outputs": [],
   "source": [
    "from dateutil.relativedelta import relativedelta"
   ]
  },
  {
   "cell_type": "code",
   "execution_count": 120,
   "metadata": {
    "ExecuteTime": {
     "end_time": "2023-03-27T11:23:29.444103Z",
     "start_time": "2023-03-27T11:23:29.427357Z"
    }
   },
   "outputs": [],
   "source": [
    "rent_master_agg_geo['leaseDate'] = pd.to_datetime(rent_master_agg_geo['leaseDate'])"
   ]
  },
  {
   "cell_type": "code",
   "execution_count": 127,
   "metadata": {
    "ExecuteTime": {
     "end_time": "2023-03-27T11:25:36.062550Z",
     "start_time": "2023-03-27T11:25:31.258243Z"
    }
   },
   "outputs": [],
   "source": [
    "rent_master_agg_geo['key'] = rent_master_agg_geo.apply(lambda x: x['areaSqm'] + x['street'] + x['project'] + str(x['noOfBedRoom']) + str(x['district']), axis=1)"
   ]
  },
  {
   "cell_type": "code",
   "execution_count": 128,
   "metadata": {
    "ExecuteTime": {
     "end_time": "2023-03-27T11:25:40.507337Z",
     "start_time": "2023-03-27T11:25:39.676778Z"
    }
   },
   "outputs": [],
   "source": [
    "rent_master_agg_geo_2022 = rent_master_agg_geo[rent_master_agg_geo['leaseDate'].apply(lambda x: x.year)>=2022]"
   ]
  },
  {
   "cell_type": "code",
   "execution_count": 130,
   "metadata": {
    "ExecuteTime": {
     "end_time": "2023-03-27T11:36:32.197275Z",
     "start_time": "2023-03-27T11:25:54.043183Z"
    },
    "scrolled": true
   },
   "outputs": [
    {
     "data": {
      "application/vnd.jupyter.widget-view+json": {
       "model_id": "f84120f280ac46e29806d2b07d6c913e",
       "version_major": 2,
       "version_minor": 0
      },
      "text/plain": [
       "HBox(children=(IntProgress(value=0, max=52382), HTML(value='')))"
      ]
     },
     "metadata": {},
     "output_type": "display_data"
    },
    {
     "name": "stdout",
     "output_type": "stream",
     "text": [
      "\n"
     ]
    }
   ],
   "source": [
    "price_diff = []\n",
    "for index, row in tqdm(rent_master_agg_geo_2022.iterrows(), total=rent_master_agg_geo_2022.shape[0]):\n",
    "    prev_leaseDate = pd.to_datetime(row['leaseDate']) - relativedelta(years=1)\n",
    "    prev_price = rent_master_agg_geo.loc[(rent_master_agg_geo['key']==row['key']) & \\\n",
    "                                         (rent_master_agg_geo['leaseDate']==prev_leaseDate), 'median']\n",
    "    if prev_price.shape[0] == 0:\n",
    "        price_diff.append(np.nan)\n",
    "    else:\n",
    "        \n",
    "        price_diff.append((row['median'] - prev_price.values[0])/prev_price.values[0])"
   ]
  },
  {
   "cell_type": "code",
   "execution_count": 131,
   "metadata": {
    "ExecuteTime": {
     "end_time": "2023-03-27T11:36:33.533536Z",
     "start_time": "2023-03-27T11:36:33.521746Z"
    }
   },
   "outputs": [
    {
     "name": "stderr",
     "output_type": "stream",
     "text": [
      "/usr/local/anaconda3/lib/python3.7/site-packages/ipykernel_launcher.py:1: SettingWithCopyWarning:\n",
      "\n",
      "\n",
      "A value is trying to be set on a copy of a slice from a DataFrame.\n",
      "Try using .loc[row_indexer,col_indexer] = value instead\n",
      "\n",
      "See the caveats in the documentation: https://pandas.pydata.org/pandas-docs/stable/user_guide/indexing.html#returning-a-view-versus-a-copy\n",
      "\n"
     ]
    }
   ],
   "source": [
    "rent_master_agg_geo_2022['price_change'] = price_diff"
   ]
  },
  {
   "cell_type": "code",
   "execution_count": 199,
   "metadata": {
    "ExecuteTime": {
     "end_time": "2023-03-27T13:30:19.415118Z",
     "start_time": "2023-03-27T13:30:19.406475Z"
    },
    "scrolled": true
   },
   "outputs": [
    {
     "data": {
      "text/plain": [
       "district\n",
       "6    -0.045455\n",
       "25    0.250000\n",
       "26    0.280000\n",
       "4     0.301525\n",
       "9     0.305556\n",
       "11    0.306452\n",
       "15    0.314286\n",
       "8     0.321429\n",
       "20    0.328125\n",
       "12    0.328571\n",
       "10    0.329545\n",
       "19    0.333333\n",
       "7     0.333333\n",
       "16    0.333333\n",
       "22    0.346667\n",
       "14    0.346939\n",
       "2     0.351346\n",
       "1     0.353448\n",
       "13    0.360000\n",
       "5     0.363636\n",
       "21    0.368421\n",
       "23    0.369177\n",
       "27    0.370968\n",
       "17    0.375000\n",
       "28    0.389627\n",
       "3     0.392857\n",
       "18    0.396552\n",
       "Name: price_change, dtype: float64"
      ]
     },
     "execution_count": 199,
     "metadata": {},
     "output_type": "execute_result"
    }
   ],
   "source": [
    "rent_master_agg_geo_2022[rent_master_agg_geo_2022['leaseDate']>='2023-02-01'].groupby(['district'])['price_change'].median().sort_values().dropna()\n"
   ]
  },
  {
   "cell_type": "code",
   "execution_count": 202,
   "metadata": {
    "ExecuteTime": {
     "end_time": "2023-03-27T13:31:40.590814Z",
     "start_time": "2023-03-27T13:31:40.188406Z"
    }
   },
   "outputs": [
    {
     "data": {
      "text/plain": [
       "<AxesSubplot:xlabel='district', ylabel='price_change'>"
      ]
     },
     "execution_count": 202,
     "metadata": {},
     "output_type": "execute_result"
    },
    {
     "data": {
      "image/png": "[encoded data removed]",
      "text/plain": [
       "<Figure size 432x288 with 1 Axes>"
      ]
     },
     "metadata": {
      "needs_background": "light"
     },
     "output_type": "display_data"
    }
   ],
   "source": [
    "sns.boxplot(rent_master_agg_geo_2022[rent_master_agg_geo_2022['leaseDate']>='2023-02-01'], x='district', y='price_change')"
   ]
  },
  {
   "cell_type": "code",
   "execution_count": 205,
   "metadata": {
    "ExecuteTime": {
     "end_time": "2023-03-27T13:32:54.632168Z",
     "start_time": "2023-03-27T13:32:54.458811Z"
    }
   },
   "outputs": [
    {
     "data": {
      "application/vnd.plotly.v1+json": {
       "config": {
        "plotlyServerURL": "https://plot.ly"
       },
       "data": [
        {
         "customdata": [
          [
           "THE CANOPY"
          ],
          [
           "HEDGES PARK CONDOMINIUM"
          ],
          [
           "H2O RESIDENCES"
          ],
          [
           "RIVERTREES RESIDENCES"
          ],
          [
           "SELETAR PARK RESIDENCE"
          ],
          [
           "HIGH PARK RESIDENCES"
          ],
          [
           "RIVERBANK @ FERNVALE"
          ],
          [
           "THE WISTERIA"
          ],
          [
           "NORTH PARK RESIDENCES"
          ],
          [
           "NINE RESIDENCES"
          ],
          [
           "SYMPHONY SUITES"
          ],
          [
           "NORTH PARK RESIDENCES"
          ],
          [
           "EDELWEISS PARK CONDOMINIUM"
          ],
          [
           "THE GALE"
          ],
          [
           "ESTELLA GARDENS"
          ],
          [
           "LILYDALE"
          ],
          [
           "FERRARIA PARK CONDOMINIUM"
          ],
          [
           "CARISSA PARK CONDOMINIUM"
          ],
          [
           "PALM ISLES"
          ],
          [
           "DAHLIA PARK CONDOMINIUM"
          ],
          [
           "PARC OLYMPIA"
          ],
          [
           "PALM ISLES"
          ],
          [
           "FERRARIA PARK CONDOMINIUM"
          ],
          [
           "CARISSA PARK CONDOMINIUM"
          ],
          [
           "AVILA GARDENS"
          ],
          [
           "FERRARIA PARK CONDOMINIUM"
          ],
          [
           "SIGNATURE AT YISHUN"
          ],
          [
           "SELETAR PARK RESIDENCE"
          ],
          [
           "H2O RESIDENCES"
          ],
          [
           "FLORAVILLE"
          ],
          [
           "SELETAR PARK RESIDENCE"
          ],
          [
           "H2O RESIDENCES"
          ],
          [
           "THE MILTONIA RESIDENCES"
          ],
          [
           "EIGHT COURTYARDS"
          ],
          [
           "SYMPHONY SUITES"
          ],
          [
           "NORTH PARK RESIDENCES"
          ],
          [
           "AZALEA PARK CONDOMINIUM"
          ],
          [
           "AVILA GARDENS"
          ],
          [
           "PARC OLYMPIA"
          ],
          [
           "EDELWEISS PARK CONDOMINIUM"
          ],
          [
           "CASA PASIR RIS"
          ],
          [
           "THE ESTUARY"
          ],
          [
           "ORCHID PARK CONDOMINIUM"
          ],
          [
           "EUPHONY GARDENS"
          ],
          [
           "LOYANG VALLEY"
          ],
          [
           "NIM GARDENS"
          ],
          [
           "SELETARIS"
          ],
          [
           "ESTELLA GARDENS"
          ],
          [
           "LOYANG VALLEY"
          ],
          [
           "EUPHONY GARDENS"
          ],
          [
           "LOYANG VALLEY"
          ],
          [
           "PARC OLYMPIA"
          ],
          [
           "BALLOTA PARK CONDOMINIUM"
          ],
          [
           "LOYANG VALLEY"
          ],
          [
           "SERENITY PARK"
          ],
          [
           "SELETAR SPRINGS CONDOMINIUM"
          ],
          [
           "THE ESTUARY"
          ],
          [
           "EIGHT COURTYARDS"
          ],
          [
           "THE GALE"
          ],
          [
           "AZALEA PARK CONDOMINIUM"
          ],
          [
           "THE GALE"
          ],
          [
           "FLORAVILLE"
          ],
          [
           "HEDGES PARK CONDOMINIUM"
          ],
          [
           "PARC OLYMPIA"
          ],
          [
           "THE NAUTICAL"
          ],
          [
           "ORCHID PARK CONDOMINIUM"
          ],
          [
           "EDELWEISS PARK CONDOMINIUM"
          ],
          [
           "HIGH PARK RESIDENCES"
          ],
          [
           "HIGH PARK RESIDENCES"
          ],
          [
           "THE WISTERIA"
          ],
          [
           "NORTH PARK RESIDENCES"
          ],
          [
           "THE ESTUARY"
          ],
          [
           "EDELWEISS PARK CONDOMINIUM"
          ],
          [
           "NORTH PARK RESIDENCES"
          ],
          [
           "THE ESTUARY"
          ],
          [
           "PARC OLYMPIA"
          ],
          [
           "H2O RESIDENCES"
          ],
          [
           "HIGH PARK RESIDENCES"
          ],
          [
           "RIVERBANK @ FERNVALE"
          ],
          [
           "SKIES MILTONIA"
          ],
          [
           "PALM ISLES"
          ],
          [
           "THE INFLORA"
          ],
          [
           "NINE RESIDENCES"
          ],
          [
           "ESTELLA GARDENS"
          ],
          [
           "THE INFLORA"
          ],
          [
           "AZALEA PARK CONDOMINIUM"
          ],
          [
           "EDELWEISS PARK CONDOMINIUM"
          ],
          [
           "THE GALE"
          ],
          [
           "LOYANG VALLEY"
          ],
          [
           "BALLOTA PARK CONDOMINIUM"
          ],
          [
           "HEDGES PARK CONDOMINIUM"
          ],
          [
           "THE INFLORA"
          ],
          [
           "BALLOTA PARK CONDOMINIUM"
          ],
          [
           "THE GALE"
          ],
          [
           "SUN PLAZA"
          ],
          [
           "CANBERRA RESIDENCES"
          ],
          [
           "SKIES MILTONIA"
          ],
          [
           "RIVERBANK @ FERNVALE"
          ],
          [
           "RIVERTREES RESIDENCES"
          ],
          [
           "ORCHID PARK CONDOMINIUM"
          ],
          [
           "NORTH PARK RESIDENCES"
          ],
          [
           "SKIES MILTONIA"
          ],
          [
           "THE NAUTICAL"
          ],
          [
           "YISHUN EMERALD"
          ],
          [
           "EIGHT COURTYARDS"
          ],
          [
           "CANBERRA RESIDENCES"
          ],
          [
           "NORTHWOOD"
          ],
          [
           "CANBERRA RESIDENCES"
          ],
          [
           "SKIES MILTONIA"
          ],
          [
           "EIGHT COURTYARDS"
          ],
          [
           "D'BANYAN"
          ],
          [
           "PARC OLYMPIA"
          ],
          [
           "ESTELLA GARDENS"
          ],
          [
           "CARISSA PARK CONDOMINIUM"
          ],
          [
           "DAHLIA PARK CONDOMINIUM"
          ],
          [
           "FERRARIA PARK CONDOMINIUM"
          ],
          [
           "CARISSA PARK CONDOMINIUM"
          ],
          [
           "CARISSA PARK CONDOMINIUM"
          ],
          [
           "ORCHID PARK CONDOMINIUM"
          ],
          [
           "SELETAR PARK RESIDENCE"
          ],
          [
           "THE GREENWICH"
          ],
          [
           "NINE RESIDENCES"
          ],
          [
           "THE ESTUARY"
          ],
          [
           "THE GREENWICH"
          ],
          [
           "SELETAR PARK RESIDENCE"
          ],
          [
           "H2O RESIDENCES"
          ],
          [
           "THE WISTERIA"
          ],
          [
           "SYMPHONY SUITES"
          ],
          [
           "HIGH PARK RESIDENCES"
          ],
          [
           "SKIES MILTONIA"
          ],
          [
           "ORCHID PARK CONDOMINIUM"
          ],
          [
           "SYMPHONY SUITES"
          ],
          [
           "CANBERRA RESIDENCES"
          ],
          [
           "YISHUN EMERALD"
          ],
          [
           "EUPHONY GARDENS"
          ]
         ],
         "hovertemplate": "leaseDateStr=2022-01-01<br>lat=%{lat}<br>lng=%{lon}<br>project=%{customdata[0]}<br>price_change=%{marker.color}<extra></extra>",
         "lat": [
          1.4238543175594,
          1.35521095284251,
          1.39283623462094,
          1.39402092122499,
          1.38653998627,
          1.39638961318515,
          1.39459641963935,
          1.41844703579357,
          1.42866319767121,
          1.43281890606271,
          1.43456191549725,
          1.42866319767121,
          1.35639824853602,
          1.35900307841177,
          1.360285340555,
          1.42392837108866,
          1.35736420475575,
          1.35917121402077,
          1.35688865505981,
          1.35941809852708,
          1.35531040259148,
          1.35688865505981,
          1.35736420475575,
          1.35917121402077,
          1.36015764334241,
          1.35736420475575,
          1.41696952433092,
          1.38653998627,
          1.39283623462094,
          1.39185235684708,
          1.38653998627,
          1.39283623462094,
          1.41750734534379,
          1.43795645154437,
          1.43456191549725,
          1.42866319767121,
          1.36073621566409,
          1.36015764334241,
          1.35531040259148,
          1.35639824853602,
          1.37939195187997,
          1.41104826332535,
          1.41345822654196,
          1.42547005593325,
          1.36849628172236,
          1.38143238111123,
          1.4358492226796,
          1.360285340555,
          1.36849628172236,
          1.42547005593325,
          1.36849628172236,
          1.35531040259148,
          1.35887799120341,
          1.36849628172236,
          1.38822776284514,
          1.38820037710408,
          1.41104826332535,
          1.43795645154437,
          1.35900307841177,
          1.36073621566409,
          1.35900307841177,
          1.39185235684708,
          1.35521095284251,
          1.35531040259148,
          1.44363473207597,
          1.41345822654196,
          1.35639824853602,
          1.39638961318515,
          1.39638961318515,
          1.41844703579357,
          1.42866319767121,
          1.41104826332535,
          1.35639824853602,
          1.42866319767121,
          1.41104826332535,
          1.35531040259148,
          1.39283623462094,
          1.39638961318515,
          1.39459641963935,
          1.41807139495834,
          1.35688865505981,
          1.35632843123308,
          1.43281890606271,
          1.360285340555,
          1.35632843123308,
          1.36073621566409,
          1.35639824853602,
          1.35900307841177,
          1.36849628172236,
          1.35887799120341,
          1.35521095284251,
          1.35632843123308,
          1.35887799120341,
          1.35900307841177,
          1.44819436804175,
          1.44447954944853,
          1.41807139495834,
          1.39459641963935,
          1.39402092122499,
          1.41345822654196,
          1.42866319767121,
          1.41807139495834,
          1.44363473207597,
          1.43911656257616,
          1.43795645154437,
          1.44447954944853,
          1.42692706476903,
          1.44447954944853,
          1.41807139495834,
          1.43795645154437,
          1.44403787932825,
          1.35531040259148,
          1.360285340555,
          1.35917121402077,
          1.35941809852708,
          1.35736420475575,
          1.35917121402077,
          1.35917121402077,
          1.41345822654196,
          1.38653998627,
          1.38718841691871,
          1.43281890606271,
          1.41104826332535,
          1.38718841691871,
          1.38653998627,
          1.39283623462094,
          1.41844703579357,
          1.43456191549725,
          1.39638961318515,
          1.41807139495834,
          1.41345822654196,
          1.43456191549725,
          1.44447954944853,
          1.43911656257616,
          1.42547005593325
         ],
         "legendgroup": "",
         "lon": [
          103.848078487443,
          103.966422045067,
          103.87967806826,
          103.881215058062,
          103.869207772374,
          103.875132778517,
          103.881117176349,
          103.841112412447,
          103.835828704052,
          103.841477613841,
          103.844362842957,
          103.835828704052,
          103.96773406082,
          103.96686932054,
          103.966516198261,
          103.849332055297,
          103.963972049935,
          103.963631516169,
          103.964194147192,
          103.965393923725,
          103.965525604183,
          103.964194147192,
          103.963972049935,
          103.963631516169,
          103.965165224191,
          103.963972049935,
          103.84455199927,
          103.869207772374,
          103.87967806826,
          103.851179877786,
          103.869207772374,
          103.87967806826,
          103.847659418224,
          103.830995368522,
          103.844362842957,
          103.835828704052,
          103.963299396559,
          103.965165224191,
          103.965525604183,
          103.96773406082,
          103.96368774531,
          103.832513245026,
          103.835186431485,
          103.824969746542,
          103.970019150268,
          103.863043130131,
          103.824971641966,
          103.966516198261,
          103.970019150268,
          103.824969746542,
          103.970019150268,
          103.965525604183,
          103.96852443877,
          103.970019150268,
          103.858740468004,
          103.878493859317,
          103.832513245026,
          103.830995368522,
          103.96686932054,
          103.963299396559,
          103.96686932054,
          103.851179877786,
          103.966422045067,
          103.965525604183,
          103.825253279684,
          103.835186431485,
          103.96773406082,
          103.875132778517,
          103.875132778517,
          103.841112412447,
          103.835828704052,
          103.832513245026,
          103.96773406082,
          103.835828704052,
          103.832513245026,
          103.965525604183,
          103.87967806826,
          103.875132778517,
          103.881117176349,
          103.84790678249,
          103.964194147192,
          103.966578200418,
          103.841477613841,
          103.966516198261,
          103.966578200418,
          103.963299396559,
          103.96773406082,
          103.96686932054,
          103.970019150268,
          103.96852443877,
          103.966422045067,
          103.966578200418,
          103.96852443877,
          103.96686932054,
          103.819464386349,
          103.825437324844,
          103.84790678249,
          103.881117176349,
          103.881215058062,
          103.835186431485,
          103.835828704052,
          103.84790678249,
          103.825253279684,
          103.830253676903,
          103.830995368522,
          103.825437324844,
          103.82405303932,
          103.825437324844,
          103.84790678249,
          103.830995368522,
          103.825036650569,
          103.965525604183,
          103.966516198261,
          103.963631516169,
          103.965393923725,
          103.963972049935,
          103.963631516169,
          103.963631516169,
          103.835186431485,
          103.869207772374,
          103.869337214926,
          103.841477613841,
          103.832513245026,
          103.869337214926,
          103.869207772374,
          103.87967806826,
          103.841112412447,
          103.844362842957,
          103.875132778517,
          103.84790678249,
          103.835186431485,
          103.844362842957,
          103.825437324844,
          103.830253676903,
          103.824969746542
         ],
         "marker": {
          "color": [
           0.10416666666666667,
           0.09523809523809523,
           0.045454545454545456,
           0.15,
           0,
           0.0989010989010989,
           -0.03571428571428571,
           0,
           0.17857142857142858,
           0.4868421052631579,
           0.1,
           0.03571428571428571,
           0.02857142857142857,
           0.08450704225352113,
           0.15714285714285714,
           -0.10714285714285714,
           0.03571428571428571,
           0,
           -0.023809523809523808,
           0.26666666666666666,
           0.3875,
           0.38095238095238093,
           0.07865168539325842,
           0.27058823529411763,
           0.10526315789473684,
           -0.10112359550561797,
           0.08333333333333333,
           0.16304347826086957,
           0,
           0.16981132075471697,
           0.021739130434782608,
           -0.06818181818181818,
           0.19047619047619047,
           0.056818181818181816,
           0.375,
           0.038461538461538464,
           0.13043478260869565,
           0.01818181818181818,
           0.3,
           0.05555555555555555,
           0.05952380952380952,
           0.1111111111111111,
           0.2830188679245283,
           0,
           0.10714285714285714,
           0.1388888888888889,
           0.25,
           0.037037037037037035,
           0.21904761904761905,
           0.13043478260869565,
           0.0196078431372549,
           0.04054054054054054,
           0,
           0.09803921568627451,
           0.008695652173913044,
           0.010526315789473684,
           0.1794871794871795,
           0,
           0.28,
           0.04838709677419355,
           0.25,
           0,
           0,
           0.08333333333333333,
           0.16,
           0.0660377358490566,
           0.02857142857142857,
           0.011494252873563218,
           0.06896551724137931,
           0.09523809523809523,
           0.2235294117647059,
           0.25,
           0.02736726874657909,
           0.06382978723404255,
           0.16666666666666666,
           0.05555555555555555,
           0.041666666666666664,
           0.25333333333333335,
           0.04225352112676056,
           0.046875,
           0.04054054054054054,
           0.014492753623188406,
           0.05,
           0.25333333333333335,
           0.5,
           0.19047619047619047,
           0.024390243902439025,
           0.13333333333333333,
           0.23809523809523808,
           0.075,
           0.32,
           0.041666666666666664,
           0.125,
           0.10465116279069768,
           0,
           0.08,
           0.3469387755102041,
           -0.04791666666666667,
           0,
           0.375,
           0.02531645569620253,
           0.08,
           0.05,
           0.10891089108910891,
           0.1559633027522936,
           -0.09090909090909091,
           0,
           0.21739130434782608,
           0.12,
           0.5412844036697247,
           0,
           0.25925925925925924,
           0.011627906976744186,
           0,
           0.25,
           0.021739130434782608,
           0.2682926829268293,
           0.076,
           0.25,
           0.20930232558139536,
           0.046511627906976744,
           0.0392156862745098,
           -0.02,
           0.2558139534883721,
           0.3488372093023256,
           0.043478260869565216,
           0.08,
           -0.018867924528301886,
           0.18,
           0.10679611650485436,
           0.10526315789473684,
           0.2169811320754717,
           0,
           0.3176470588235294,
           0.011494252873563218
          ],
          "coloraxis": "coloraxis"
         },
         "mode": "markers",
         "name": "",
         "showlegend": false,
         "subplot": "mapbox",
         "type": "scattermapbox"
        }
       ],
       "frames": [
        {
         "data": [
          {
           "customdata": [
            [
             "THE CANOPY"
            ],
            [
             "HEDGES PARK CONDOMINIUM"
            ],
            [
             "H2O RESIDENCES"
            ],
            [
             "RIVERTREES RESIDENCES"
            ],
            [
             "SELETAR PARK RESIDENCE"
            ],
            [
             "HIGH PARK RESIDENCES"
            ],
            [
             "RIVERBANK @ FERNVALE"
            ],
            [
             "THE WISTERIA"
            ],
            [
             "NORTH PARK RESIDENCES"
            ],
            [
             "NINE RESIDENCES"
            ],
            [
             "SYMPHONY SUITES"
            ],
            [
             "NORTH PARK RESIDENCES"
            ],
            [
             "EDELWEISS PARK CONDOMINIUM"
            ],
            [
             "THE GALE"
            ],
            [
             "ESTELLA GARDENS"
            ],
            [
             "LILYDALE"
            ],
            [
             "FERRARIA PARK CONDOMINIUM"
            ],
            [
             "CARISSA PARK CONDOMINIUM"
            ],
            [
             "PALM ISLES"
            ],
            [
             "DAHLIA PARK CONDOMINIUM"
            ],
            [
             "PARC OLYMPIA"
            ],
            [
             "PALM ISLES"
            ],
            [
             "FERRARIA PARK CONDOMINIUM"
            ],
            [
             "CARISSA PARK CONDOMINIUM"
            ],
            [
             "AVILA GARDENS"
            ],
            [
             "FERRARIA PARK CONDOMINIUM"
            ],
            [
             "SIGNATURE AT YISHUN"
            ],
            [
             "SELETAR PARK RESIDENCE"
            ],
            [
             "H2O RESIDENCES"
            ],
            [
             "FLORAVILLE"
            ],
            [
             "SELETAR PARK RESIDENCE"
            ],
            [
             "H2O RESIDENCES"
            ],
            [
             "THE MILTONIA RESIDENCES"
            ],
            [
             "EIGHT COURTYARDS"
            ],
            [
             "SYMPHONY SUITES"
            ],
            [
             "NORTH PARK RESIDENCES"
            ],
            [
             "AZALEA PARK CONDOMINIUM"
            ],
            [
             "AVILA GARDENS"
            ],
            [
             "PARC OLYMPIA"
            ],
            [
             "EDELWEISS PARK CONDOMINIUM"
            ],
            [
             "CASA PASIR RIS"
            ],
            [
             "THE ESTUARY"
            ],
            [
             "ORCHID PARK CONDOMINIUM"
            ],
            [
             "EUPHONY GARDENS"
            ],
            [
             "LOYANG VALLEY"
            ],
            [
             "NIM GARDENS"
            ],
            [
             "SELETARIS"
            ],
            [
             "ESTELLA GARDENS"
            ],
            [
             "LOYANG VALLEY"
            ],
            [
             "EUPHONY GARDENS"
            ],
            [
             "LOYANG VALLEY"
            ],
            [
             "PARC OLYMPIA"
            ],
            [
             "BALLOTA PARK CONDOMINIUM"
            ],
            [
             "LOYANG VALLEY"
            ],
            [
             "SERENITY PARK"
            ],
            [
             "SELETAR SPRINGS CONDOMINIUM"
            ],
            [
             "THE ESTUARY"
            ],
            [
             "EIGHT COURTYARDS"
            ],
            [
             "THE GALE"
            ],
            [
             "AZALEA PARK CONDOMINIUM"
            ],
            [
             "THE GALE"
            ],
            [
             "FLORAVILLE"
            ],
            [
             "HEDGES PARK CONDOMINIUM"
            ],
            [
             "PARC OLYMPIA"
            ],
            [
             "THE NAUTICAL"
            ],
            [
             "ORCHID PARK CONDOMINIUM"
            ],
            [
             "EDELWEISS PARK CONDOMINIUM"
            ],
            [
             "HIGH PARK RESIDENCES"
            ],
            [
             "HIGH PARK RESIDENCES"
            ],
            [
             "THE WISTERIA"
            ],
            [
             "NORTH PARK RESIDENCES"
            ],
            [
             "THE ESTUARY"
            ],
            [
             "EDELWEISS PARK CONDOMINIUM"
            ],
            [
             "NORTH PARK RESIDENCES"
            ],
            [
             "THE ESTUARY"
            ],
            [
             "PARC OLYMPIA"
            ],
            [
             "H2O RESIDENCES"
            ],
            [
             "HIGH PARK RESIDENCES"
            ],
            [
             "RIVERBANK @ FERNVALE"
            ],
            [
             "SKIES MILTONIA"
            ],
            [
             "PALM ISLES"
            ],
            [
             "THE INFLORA"
            ],
            [
             "NINE RESIDENCES"
            ],
            [
             "ESTELLA GARDENS"
            ],
            [
             "THE INFLORA"
            ],
            [
             "AZALEA PARK CONDOMINIUM"
            ],
            [
             "EDELWEISS PARK CONDOMINIUM"
            ],
            [
             "THE GALE"
            ],
            [
             "LOYANG VALLEY"
            ],
            [
             "BALLOTA PARK CONDOMINIUM"
            ],
            [
             "HEDGES PARK CONDOMINIUM"
            ],
            [
             "THE INFLORA"
            ],
            [
             "BALLOTA PARK CONDOMINIUM"
            ],
            [
             "THE GALE"
            ],
            [
             "SUN PLAZA"
            ],
            [
             "CANBERRA RESIDENCES"
            ],
            [
             "SKIES MILTONIA"
            ],
            [
             "RIVERBANK @ FERNVALE"
            ],
            [
             "RIVERTREES RESIDENCES"
            ],
            [
             "ORCHID PARK CONDOMINIUM"
            ],
            [
             "NORTH PARK RESIDENCES"
            ],
            [
             "SKIES MILTONIA"
            ],
            [
             "THE NAUTICAL"
            ],
            [
             "YISHUN EMERALD"
            ],
            [
             "EIGHT COURTYARDS"
            ],
            [
             "CANBERRA RESIDENCES"
            ],
            [
             "NORTHWOOD"
            ],
            [
             "CANBERRA RESIDENCES"
            ],
            [
             "SKIES MILTONIA"
            ],
            [
             "EIGHT COURTYARDS"
            ],
            [
             "D'BANYAN"
            ],
            [
             "PARC OLYMPIA"
            ],
            [
             "ESTELLA GARDENS"
            ],
            [
             "CARISSA PARK CONDOMINIUM"
            ],
            [
             "DAHLIA PARK CONDOMINIUM"
            ],
            [
             "FERRARIA PARK CONDOMINIUM"
            ],
            [
             "CARISSA PARK CONDOMINIUM"
            ],
            [
             "CARISSA PARK CONDOMINIUM"
            ],
            [
             "ORCHID PARK CONDOMINIUM"
            ],
            [
             "SELETAR PARK RESIDENCE"
            ],
            [
             "THE GREENWICH"
            ],
            [
             "NINE RESIDENCES"
            ],
            [
             "THE ESTUARY"
            ],
            [
             "THE GREENWICH"
            ],
            [
             "SELETAR PARK RESIDENCE"
            ],
            [
             "H2O RESIDENCES"
            ],
            [
             "THE WISTERIA"
            ],
            [
             "SYMPHONY SUITES"
            ],
            [
             "HIGH PARK RESIDENCES"
            ],
            [
             "SKIES MILTONIA"
            ],
            [
             "ORCHID PARK CONDOMINIUM"
            ],
            [
             "SYMPHONY SUITES"
            ],
            [
             "CANBERRA RESIDENCES"
            ],
            [
             "YISHUN EMERALD"
            ],
            [
             "EUPHONY GARDENS"
            ]
           ],
           "hovertemplate": "leaseDateStr=2022-01-01<br>lat=%{lat}<br>lng=%{lon}<br>project=%{customdata[0]}<br>price_change=%{marker.color}<extra></extra>",
           "lat": [
            1.4238543175594,
            1.35521095284251,
            1.39283623462094,
            1.39402092122499,
            1.38653998627,
            1.39638961318515,
            1.39459641963935,
            1.41844703579357,
            1.42866319767121,
            1.43281890606271,
            1.43456191549725,
            1.42866319767121,
            1.35639824853602,
            1.35900307841177,
            1.360285340555,
            1.42392837108866,
            1.35736420475575,
            1.35917121402077,
            1.35688865505981,
            1.35941809852708,
            1.35531040259148,
            1.35688865505981,
            1.35736420475575,
            1.35917121402077,
            1.36015764334241,
            1.35736420475575,
            1.41696952433092,
            1.38653998627,
            1.39283623462094,
            1.39185235684708,
            1.38653998627,
            1.39283623462094,
            1.41750734534379,
            1.43795645154437,
            1.43456191549725,
            1.42866319767121,
            1.36073621566409,
            1.36015764334241,
            1.35531040259148,
            1.35639824853602,
            1.37939195187997,
            1.41104826332535,
            1.41345822654196,
            1.42547005593325,
            1.36849628172236,
            1.38143238111123,
            1.4358492226796,
            1.360285340555,
            1.36849628172236,
            1.42547005593325,
            1.36849628172236,
            1.35531040259148,
            1.35887799120341,
            1.36849628172236,
            1.38822776284514,
            1.38820037710408,
            1.41104826332535,
            1.43795645154437,
            1.35900307841177,
            1.36073621566409,
            1.35900307841177,
            1.39185235684708,
            1.35521095284251,
            1.35531040259148,
            1.44363473207597,
            1.41345822654196,
            1.35639824853602,
            1.39638961318515,
            1.39638961318515,
            1.41844703579357,
            1.42866319767121,
            1.41104826332535,
            1.35639824853602,
            1.42866319767121,
            1.41104826332535,
            1.35531040259148,
            1.39283623462094,
            1.39638961318515,
            1.39459641963935,
            1.41807139495834,
            1.35688865505981,
            1.35632843123308,
            1.43281890606271,
            1.360285340555,
            1.35632843123308,
            1.36073621566409,
            1.35639824853602,
            1.35900307841177,
            1.36849628172236,
            1.35887799120341,
            1.35521095284251,
            1.35632843123308,
            1.35887799120341,
            1.35900307841177,
            1.44819436804175,
            1.44447954944853,
            1.41807139495834,
            1.39459641963935,
            1.39402092122499,
            1.41345822654196,
            1.42866319767121,
            1.41807139495834,
            1.44363473207597,
            1.43911656257616,
            1.43795645154437,
            1.44447954944853,
            1.42692706476903,
            1.44447954944853,
            1.41807139495834,
            1.43795645154437,
            1.44403787932825,
            1.35531040259148,
            1.360285340555,
            1.35917121402077,
            1.35941809852708,
            1.35736420475575,
            1.35917121402077,
            1.35917121402077,
            1.41345822654196,
            1.38653998627,
            1.38718841691871,
            1.43281890606271,
            1.41104826332535,
            1.38718841691871,
            1.38653998627,
            1.39283623462094,
            1.41844703579357,
            1.43456191549725,
            1.39638961318515,
            1.41807139495834,
            1.41345822654196,
            1.43456191549725,
            1.44447954944853,
            1.43911656257616,
            1.42547005593325
           ],
           "legendgroup": "",
           "lon": [
            103.848078487443,
            103.966422045067,
            103.87967806826,
            103.881215058062,
            103.869207772374,
            103.875132778517,
            103.881117176349,
            103.841112412447,
            103.835828704052,
            103.841477613841,
            103.844362842957,
            103.835828704052,
            103.96773406082,
            103.96686932054,
            103.966516198261,
            103.849332055297,
            103.963972049935,
            103.963631516169,
            103.964194147192,
            103.965393923725,
            103.965525604183,
            103.964194147192,
            103.963972049935,
            103.963631516169,
            103.965165224191,
            103.963972049935,
            103.84455199927,
            103.869207772374,
            103.87967806826,
            103.851179877786,
            103.869207772374,
            103.87967806826,
            103.847659418224,
            103.830995368522,
            103.844362842957,
            103.835828704052,
            103.963299396559,
            103.965165224191,
            103.965525604183,
            103.96773406082,
            103.96368774531,
            103.832513245026,
            103.835186431485,
            103.824969746542,
            103.970019150268,
            103.863043130131,
            103.824971641966,
            103.966516198261,
            103.970019150268,
            103.824969746542,
            103.970019150268,
            103.965525604183,
            103.96852443877,
            103.970019150268,
            103.858740468004,
            103.878493859317,
            103.832513245026,
            103.830995368522,
            103.96686932054,
            103.963299396559,
            103.96686932054,
            103.851179877786,
            103.966422045067,
            103.965525604183,
            103.825253279684,
            103.835186431485,
            103.96773406082,
            103.875132778517,
            103.875132778517,
            103.841112412447,
            103.835828704052,
            103.832513245026,
            103.96773406082,
            103.835828704052,
            103.832513245026,
            103.965525604183,
            103.87967806826,
            103.875132778517,
            103.881117176349,
            103.84790678249,
            103.964194147192,
            103.966578200418,
            103.841477613841,
            103.966516198261,
            103.966578200418,
            103.963299396559,
            103.96773406082,
            103.96686932054,
            103.970019150268,
            103.96852443877,
            103.966422045067,
            103.966578200418,
            103.96852443877,
            103.96686932054,
            103.819464386349,
            103.825437324844,
            103.84790678249,
            103.881117176349,
            103.881215058062,
            103.835186431485,
            103.835828704052,
            103.84790678249,
            103.825253279684,
            103.830253676903,
            103.830995368522,
            103.825437324844,
            103.82405303932,
            103.825437324844,
            103.84790678249,
            103.830995368522,
            103.825036650569,
            103.965525604183,
            103.966516198261,
            103.963631516169,
            103.965393923725,
            103.963972049935,
            103.963631516169,
            103.963631516169,
            103.835186431485,
            103.869207772374,
            103.869337214926,
            103.841477613841,
            103.832513245026,
            103.869337214926,
            103.869207772374,
            103.87967806826,
            103.841112412447,
            103.844362842957,
            103.875132778517,
            103.84790678249,
            103.835186431485,
            103.844362842957,
            103.825437324844,
            103.830253676903,
            103.824969746542
           ],
           "marker": {
            "color": [
             0.10416666666666667,
             0.09523809523809523,
             0.045454545454545456,
             0.15,
             0,
             0.0989010989010989,
             -0.03571428571428571,
             0,
             0.17857142857142858,
             0.4868421052631579,
             0.1,
             0.03571428571428571,
             0.02857142857142857,
             0.08450704225352113,
             0.15714285714285714,
             -0.10714285714285714,
             0.03571428571428571,
             0,
             -0.023809523809523808,
             0.26666666666666666,
             0.3875,
             0.38095238095238093,
             0.07865168539325842,
             0.27058823529411763,
             0.10526315789473684,
             -0.10112359550561797,
             0.08333333333333333,
             0.16304347826086957,
             0,
             0.16981132075471697,
             0.021739130434782608,
             -0.06818181818181818,
             0.19047619047619047,
             0.056818181818181816,
             0.375,
             0.038461538461538464,
             0.13043478260869565,
             0.01818181818181818,
             0.3,
             0.05555555555555555,
             0.05952380952380952,
             0.1111111111111111,
             0.2830188679245283,
             0,
             0.10714285714285714,
             0.1388888888888889,
             0.25,
             0.037037037037037035,
             0.21904761904761905,
             0.13043478260869565,
             0.0196078431372549,
             0.04054054054054054,
             0,
             0.09803921568627451,
             0.008695652173913044,
             0.010526315789473684,
             0.1794871794871795,
             0,
             0.28,
             0.04838709677419355,
             0.25,
             0,
             0,
             0.08333333333333333,
             0.16,
             0.0660377358490566,
             0.02857142857142857,
             0.011494252873563218,
             0.06896551724137931,
             0.09523809523809523,
             0.2235294117647059,
             0.25,
             0.02736726874657909,
             0.06382978723404255,
             0.16666666666666666,
             0.05555555555555555,
             0.041666666666666664,
             0.25333333333333335,
             0.04225352112676056,
             0.046875,
             0.04054054054054054,
             0.014492753623188406,
             0.05,
             0.25333333333333335,
             0.5,
             0.19047619047619047,
             0.024390243902439025,
             0.13333333333333333,
             0.23809523809523808,
             0.075,
             0.32,
             0.041666666666666664,
             0.125,
             0.10465116279069768,
             0,
             0.08,
             0.3469387755102041,
             -0.04791666666666667,
             0,
             0.375,
             0.02531645569620253,
             0.08,
             0.05,
             0.10891089108910891,
             0.1559633027522936,
             -0.09090909090909091,
             0,
             0.21739130434782608,
             0.12,
             0.5412844036697247,
             0,
             0.25925925925925924,
             0.011627906976744186,
             0,
             0.25,
             0.021739130434782608,
             0.2682926829268293,
             0.076,
             0.25,
             0.20930232558139536,
             0.046511627906976744,
             0.0392156862745098,
             -0.02,
             0.2558139534883721,
             0.3488372093023256,
             0.043478260869565216,
             0.08,
             -0.018867924528301886,
             0.18,
             0.10679611650485436,
             0.10526315789473684,
             0.2169811320754717,
             0,
             0.3176470588235294,
             0.011494252873563218
            ],
            "coloraxis": "coloraxis"
           },
           "mode": "markers",
           "name": "",
           "showlegend": false,
           "subplot": "mapbox",
           "type": "scattermapbox"
          }
         ],
         "name": "2022-01-01"
        },
        {
         "data": [
          {
           "customdata": [
            [
             "ORCHID PARK CONDOMINIUM"
            ],
            [
             "LOYANG VALLEY"
            ],
            [
             "SELETAR SPRINGS CONDOMINIUM"
            ],
            [
             "ORCHID PARK CONDOMINIUM"
            ],
            [
             "EUPHONY GARDENS"
            ],
            [
             "HEDGES PARK CONDOMINIUM"
            ],
            [
             "THE INFLORA"
            ],
            [
             "PALM ISLES"
            ],
            [
             "THE NAUTICAL"
            ],
            [
             "THE ESTUARY"
            ],
            [
             "FLORAVILLE"
            ],
            [
             "EIGHT COURTYARDS"
            ],
            [
             "LOYANG VALLEY"
            ],
            [
             "OCEAN FRONT SUITES"
            ],
            [
             "RIVERTREES RESIDENCES"
            ],
            [
             "HEDGES PARK CONDOMINIUM"
            ],
            [
             "H2O RESIDENCES"
            ],
            [
             "THE CANOPY"
            ],
            [
             "CARISSA PARK CONDOMINIUM"
            ],
            [
             "AZALEA PARK CONDOMINIUM"
            ],
            [
             "EDELWEISS PARK CONDOMINIUM"
            ],
            [
             "THE GALE"
            ],
            [
             "THE ESTUARY"
            ],
            [
             "THE MILTONIA RESIDENCES"
            ],
            [
             "EIGHT COURTYARDS"
            ],
            [
             "CANBERRA RESIDENCES"
            ],
            [
             "THE NAUTICAL"
            ],
            [
             "PALM ISLES"
            ],
            [
             "LOYANG VALLEY"
            ],
            [
             "BALLOTA PARK CONDOMINIUM"
            ],
            [
             "AZALEA PARK CONDOMINIUM"
            ],
            [
             "D'BANYAN"
            ],
            [
             "PARC OLYMPIA"
            ],
            [
             "HEDGES PARK CONDOMINIUM"
            ],
            [
             "GRANDE VISTA"
            ],
            [
             "ORCHID PARK CONDOMINIUM"
            ],
            [
             "PARC OLYMPIA"
            ],
            [
             "THE MILTONIA RESIDENCES"
            ],
            [
             "PALM ISLES"
            ],
            [
             "HIGH PARK RESIDENCES"
            ],
            [
             "THE GREENWICH"
            ],
            [
             "H2O RESIDENCES"
            ],
            [
             "RIVERTREES RESIDENCES"
            ],
            [
             "SYMPHONY SUITES"
            ],
            [
             "NORTH PARK RESIDENCES"
            ],
            [
             "SKIES MILTONIA"
            ],
            [
             "ORCHID PARK CONDOMINIUM"
            ],
            [
             "EIGHT COURTYARDS"
            ],
            [
             "HIGH PARK RESIDENCES"
            ],
            [
             "NORTH PARK RESIDENCES"
            ],
            [
             "AZALEA PARK CONDOMINIUM"
            ],
            [
             "THE GALE"
            ],
            [
             "ESTELLA GARDENS"
            ],
            [
             "EDELWEISS PARK CONDOMINIUM"
            ],
            [
             "THE INFLORA"
            ],
            [
             "NORTH PARK RESIDENCES"
            ],
            [
             "SYMPHONY SUITES"
            ],
            [
             "RIVERTREES RESIDENCES"
            ],
            [
             "HIGH PARK RESIDENCES"
            ],
            [
             "ORCHID PARK CONDOMINIUM"
            ],
            [
             "THE INFLORA"
            ],
            [
             "EDELWEISS PARK CONDOMINIUM"
            ],
            [
             "FERRARIA PARK CONDOMINIUM"
            ],
            [
             "THE WISTERIA"
            ],
            [
             "SKIES MILTONIA"
            ],
            [
             "H2O RESIDENCES"
            ],
            [
             "RIVERBANK @ FERNVALE"
            ],
            [
             "HIGH PARK RESIDENCES"
            ],
            [
             "RIVERBANK @ FERNVALE"
            ],
            [
             "RIVERTREES RESIDENCES"
            ],
            [
             "THE GALE"
            ],
            [
             "DAHLIA PARK CONDOMINIUM"
            ],
            [
             "PALM ISLES"
            ],
            [
             "CARISSA PARK CONDOMINIUM"
            ],
            [
             "THE CANOPY"
            ],
            [
             "PALM ISLES"
            ],
            [
             "FERRARIA PARK CONDOMINIUM"
            ],
            [
             "NORTH PARK RESIDENCES"
            ],
            [
             "SELETAR PARK RESIDENCE"
            ],
            [
             "RIVERTREES RESIDENCES"
            ],
            [
             "HIGH PARK RESIDENCES"
            ],
            [
             "AVILA GARDENS"
            ],
            [
             "CARISSA PARK CONDOMINIUM"
            ],
            [
             "PARC LIFE"
            ],
            [
             "THE ESTUARY"
            ],
            [
             "ESTELLA GARDENS"
            ],
            [
             "DAHLIA PARK CONDOMINIUM"
            ],
            [
             "PARC OLYMPIA"
            ],
            [
             "EIGHT COURTYARDS"
            ],
            [
             "GRANDE VISTA"
            ],
            [
             "ESTELLA GARDENS"
            ],
            [
             "DAHLIA PARK CONDOMINIUM"
            ],
            [
             "CARISSA PARK CONDOMINIUM"
            ],
            [
             "FERRARIA PARK CONDOMINIUM"
            ],
            [
             "ORCHID PARK CONDOMINIUM"
            ],
            [
             "CANBERRA RESIDENCES"
            ],
            [
             "YISHUN EMERALD"
            ],
            [
             "THE NAUTICAL"
            ],
            [
             "YISHUN SAPPHIRE"
            ]
           ],
           "hovertemplate": "leaseDateStr=2022-02-01<br>lat=%{lat}<br>lng=%{lon}<br>project=%{customdata[0]}<br>price_change=%{marker.color}<extra></extra>",
           "lat": [
            1.41345822654196,
            1.36849628172236,
            1.38820037710408,
            1.41345822654196,
            1.42547005593325,
            1.35521095284251,
            1.35632843123308,
            1.35688865505981,
            1.44363473207597,
            1.41104826332535,
            1.39185235684708,
            1.43795645154437,
            1.36849628172236,
            1.37745408150082,
            1.39402092122499,
            1.35521095284251,
            1.39283623462094,
            1.4238543175594,
            1.35917121402077,
            1.36073621566409,
            1.35639824853602,
            1.35900307841177,
            1.41104826332535,
            1.41750734534379,
            1.43795645154437,
            1.44447954944853,
            1.44363473207597,
            1.35688865505981,
            1.36849628172236,
            1.35887799120341,
            1.36073621566409,
            1.44403787932825,
            1.35531040259148,
            1.35521095284251,
            1.38879912168555,
            1.41345822654196,
            1.35531040259148,
            1.41750734534379,
            1.35688865505981,
            1.39638961318515,
            1.38718841691871,
            1.39283623462094,
            1.39402092122499,
            1.43456191549725,
            1.42866319767121,
            1.41807139495834,
            1.41345822654196,
            1.43795645154437,
            1.39638961318515,
            1.42866319767121,
            1.36073621566409,
            1.35900307841177,
            1.360285340555,
            1.35639824853602,
            1.35632843123308,
            1.42866319767121,
            1.43456191549725,
            1.39402092122499,
            1.39638961318515,
            1.41345822654196,
            1.35632843123308,
            1.35639824853602,
            1.35736420475575,
            1.41844703579357,
            1.41807139495834,
            1.39283623462094,
            1.39459641963935,
            1.39638961318515,
            1.39459641963935,
            1.39402092122499,
            1.35900307841177,
            1.35941809852708,
            1.35688865505981,
            1.35917121402077,
            1.4238543175594,
            1.35688865505981,
            1.35736420475575,
            1.42866319767121,
            1.38653998627,
            1.39402092122499,
            1.39638961318515,
            1.36015764334241,
            1.35917121402077,
            1.44369946991503,
            1.41104826332535,
            1.360285340555,
            1.35941809852708,
            1.35531040259148,
            1.43795645154437,
            1.38879912168555,
            1.360285340555,
            1.35941809852708,
            1.35917121402077,
            1.35736420475575,
            1.41345822654196,
            1.44447954944853,
            1.43911656257616,
            1.44363473207597,
            1.44076527720917
           ],
           "legendgroup": "",
           "lon": [
            103.835186431485,
            103.970019150268,
            103.878493859317,
            103.835186431485,
            103.824969746542,
            103.966422045067,
            103.966578200418,
            103.964194147192,
            103.825253279684,
            103.832513245026,
            103.851179877786,
            103.830995368522,
            103.970019150268,
            103.95662588933,
            103.881215058062,
            103.966422045067,
            103.87967806826,
            103.848078487443,
            103.963631516169,
            103.963299396559,
            103.96773406082,
            103.96686932054,
            103.832513245026,
            103.847659418224,
            103.830995368522,
            103.825437324844,
            103.825253279684,
            103.964194147192,
            103.970019150268,
            103.96852443877,
            103.963299396559,
            103.825036650569,
            103.965525604183,
            103.966422045067,
            103.852035348555,
            103.835186431485,
            103.965525604183,
            103.847659418224,
            103.964194147192,
            103.875132778517,
            103.869337214926,
            103.87967806826,
            103.881215058062,
            103.844362842957,
            103.835828704052,
            103.84790678249,
            103.835186431485,
            103.830995368522,
            103.875132778517,
            103.835828704052,
            103.963299396559,
            103.96686932054,
            103.966516198261,
            103.96773406082,
            103.966578200418,
            103.835828704052,
            103.844362842957,
            103.881215058062,
            103.875132778517,
            103.835186431485,
            103.966578200418,
            103.96773406082,
            103.963972049935,
            103.841112412447,
            103.84790678249,
            103.87967806826,
            103.881117176349,
            103.875132778517,
            103.881117176349,
            103.881215058062,
            103.96686932054,
            103.965393923725,
            103.964194147192,
            103.963631516169,
            103.848078487443,
            103.964194147192,
            103.963972049935,
            103.835828704052,
            103.869207772374,
            103.881215058062,
            103.875132778517,
            103.965165224191,
            103.963631516169,
            103.818597271496,
            103.832513245026,
            103.966516198261,
            103.965393923725,
            103.965525604183,
            103.830995368522,
            103.852035348555,
            103.966516198261,
            103.965393923725,
            103.963631516169,
            103.963972049935,
            103.835186431485,
            103.825437324844,
            103.830253676903,
            103.825253279684,
            103.830495461097
           ],
           "marker": {
            "color": [
             -0.025,
             0.2777777777777778,
             0.09523809523809523,
             0,
             0.1781818181818182,
             0.25,
             0.1,
             0,
             0.125,
             0.07692307692307693,
             0.03225806451612903,
             -0.0196078431372549,
             0.15,
             0,
             -0.13043478260869565,
             0,
             0.10638297872340426,
             0.2857142857142857,
             0.2549019607843137,
             0.6170212765957447,
             0.12,
             0.1,
             -0.03225806451612903,
             0.25,
             0.2619047619047619,
             0.1111111111111111,
             0.19047619047619047,
             0.022222222222222223,
             0.19230769230769232,
             0.09411764705882353,
             0.3333333333333333,
             0,
             0.12941176470588237,
             0.18181818181818182,
             0.4,
             0.07142857142857142,
             0.2698412698412698,
             0.1875,
             -0.15789473684210525,
             0.07692307692307693,
             0.020833333333333332,
             0.045454545454545456,
             0.043478260869565216,
             0.25,
             -0.21951219512195122,
             0.08695652173913043,
             0.033707865168539325,
             0.1111111111111111,
             0.14285714285714285,
             0,
             0.1,
             0.09090909090909091,
             0.024096385542168676,
             0.175,
             0.42857142857142855,
             0.19230769230769232,
             0.18421052631578946,
             0.08695652173913043,
             0.12087912087912088,
             0.011235955056179775,
             0.17647058823529413,
             0.12195121951219512,
             -0.045454545454545456,
             0.1643835616438356,
             0.058823529411764705,
             0.03571428571428571,
             -0.0410958904109589,
             0.012987012987012988,
             0.0684931506849315,
             0,
             0.391304347826087,
             0.17073170731707318,
             0.047619047619047616,
             0.35,
             0.15555555555555556,
             0.09366236679753225,
             0.22058823529411764,
             0.13636363636363635,
             0.01282051282051282,
             0.12195121951219512,
             0.21428571428571427,
             0.25,
             0.043478260869565216,
             0.20689655172413793,
             0.24324324324324326,
             0.09722222222222222,
             0,
             0.2830188679245283,
             0.125,
             0.02040816326530612,
             -0.07692307692307693,
             0.19230769230769232,
             0.25,
             0.2727272727272727,
             0.1926605504587156,
             -0.038461538461538464,
             0.061224489795918366,
             0.03571428571428571,
             0.3695652173913043
            ],
            "coloraxis": "coloraxis"
           },
           "mode": "markers",
           "name": "",
           "showlegend": false,
           "subplot": "mapbox",
           "type": "scattermapbox"
          }
         ],
         "name": "2022-02-01"
        },
        {
         "data": [
          {
           "customdata": [
            [
             "ORCHID PARK CONDOMINIUM"
            ],
            [
             "PARC OLYMPIA"
            ],
            [
             "THE TOPIARY"
            ],
            [
             "MIMOSA PARK"
            ],
            [
             "HEDGES PARK CONDOMINIUM"
            ],
            [
             "OCEAN FRONT SUITES"
            ],
            [
             "PALM ISLES"
            ],
            [
             "ORCHID PARK CONDOMINIUM"
            ],
            [
             "SKIES MILTONIA"
            ],
            [
             "THE WISTERIA"
            ],
            [
             "RIVERBANK @ FERNVALE"
            ],
            [
             "ORCHID PARK CONDOMINIUM"
            ],
            [
             "NORTH PARK RESIDENCES"
            ],
            [
             "THE MILTONIA RESIDENCES"
            ],
            [
             "CANBERRA RESIDENCES"
            ],
            [
             "THE INFLORA"
            ],
            [
             "PALM ISLES"
            ],
            [
             "PARC OLYMPIA"
            ],
            [
             "PALM ISLES"
            ],
            [
             "HEDGES PARK CONDOMINIUM"
            ],
            [
             "THE INFLORA"
            ],
            [
             "THE NAUTICAL"
            ],
            [
             "ESTELLA GARDENS"
            ],
            [
             "YISHUN EMERALD"
            ],
            [
             "SELETAR SPRINGS CONDOMINIUM"
            ],
            [
             "RIVERBANK @ FERNVALE"
            ],
            [
             "THE NAUTICAL"
            ],
            [
             "SYMPHONY SUITES"
            ],
            [
             "THE MILTONIA RESIDENCES"
            ],
            [
             "THE NAUTICAL"
            ],
            [
             "SUN PLAZA"
            ],
            [
             "THE MILTONIA RESIDENCES"
            ],
            [
             "PALM ISLES"
            ],
            [
             "WATERCREST"
            ],
            [
             "THE INFLORA"
            ],
            [
             "YISHUN SAPPHIRE"
            ],
            [
             "HEDGES PARK CONDOMINIUM"
            ],
            [
             "EDELWEISS PARK CONDOMINIUM"
            ],
            [
             "DAHLIA PARK CONDOMINIUM"
            ],
            [
             "CARISSA PARK CONDOMINIUM"
            ],
            [
             "1 CANBERRA"
            ],
            [
             "THE CANOPY"
            ],
            [
             "SELETARIS"
            ],
            [
             "AVILA GARDENS"
            ],
            [
             "PARC OLYMPIA"
            ],
            [
             "FERRARIA PARK CONDOMINIUM"
            ],
            [
             "SELETAR PARK RESIDENCE"
            ],
            [
             "EIGHT COURTYARDS"
            ],
            [
             "THE GALE"
            ],
            [
             "GRANDE VISTA"
            ],
            [
             "DAHLIA PARK CONDOMINIUM"
            ],
            [
             "BALLOTA PARK CONDOMINIUM"
            ],
            [
             "RIVERBANK @ FERNVALE"
            ],
            [
             "H2O RESIDENCES"
            ],
            [
             "FERRARIA PARK CONDOMINIUM"
            ],
            [
             "HEDGES PARK CONDOMINIUM"
            ],
            [
             "CARISSA PARK CONDOMINIUM"
            ],
            [
             "FERRARIA PARK CONDOMINIUM"
            ],
            [
             "HEDGES PARK CONDOMINIUM"
            ],
            [
             "EDELWEISS PARK CONDOMINIUM"
            ],
            [
             "ESTELLA GARDENS"
            ],
            [
             "THE GALE"
            ],
            [
             "BLUWATERS"
            ],
            [
             "PARC OLYMPIA"
            ],
            [
             "SELETAR PARK RESIDENCE"
            ],
            [
             "SELETAR SPRINGS CONDOMINIUM"
            ],
            [
             "THE GREENWICH"
            ],
            [
             "SELETAR PARK RESIDENCE"
            ],
            [
             "H2O RESIDENCES"
            ],
            [
             "SYMPHONY SUITES"
            ],
            [
             "NINE RESIDENCES"
            ],
            [
             "SKIES MILTONIA"
            ],
            [
             "ORCHID PARK CONDOMINIUM"
            ],
            [
             "THE ESTUARY"
            ],
            [
             "THE MILTONIA RESIDENCES"
            ],
            [
             "YISHUN EMERALD"
            ],
            [
             "SYMPHONY SUITES"
            ],
            [
             "NORTH PARK RESIDENCES"
            ],
            [
             "HIGH PARK RESIDENCES"
            ],
            [
             "ORCHID PARK CONDOMINIUM"
            ],
            [
             "HIGH PARK RESIDENCES"
            ],
            [
             "NINE RESIDENCES"
            ],
            [
             "THE MILTONIA RESIDENCES"
            ],
            [
             "CARISSA PARK CONDOMINIUM"
            ],
            [
             "LILYDALE"
            ],
            [
             "HEDGES PARK CONDOMINIUM"
            ],
            [
             "OCEAN FRONT SUITES"
            ],
            [
             "CARISSA PARK CONDOMINIUM"
            ],
            [
             "FERRARIA PARK CONDOMINIUM"
            ],
            [
             "PARC OLYMPIA"
            ],
            [
             "NINE RESIDENCES"
            ],
            [
             "NORTH PARK RESIDENCES"
            ],
            [
             "CANBERRA RESIDENCES"
            ],
            [
             "NORTH PARK RESIDENCES"
            ],
            [
             "NORTH PARK RESIDENCES"
            ],
            [
             "THE WISTERIA"
            ],
            [
             "HIGH PARK RESIDENCES"
            ],
            [
             "THE GREENWICH"
            ],
            [
             "HIGH PARK RESIDENCES"
            ],
            [
             "1 CANBERRA"
            ],
            [
             "ESTELLA GARDENS"
            ],
            [
             "PARC OLYMPIA"
            ],
            [
             "EDELWEISS PARK CONDOMINIUM"
            ],
            [
             "THE INFLORA"
            ],
            [
             "NINE RESIDENCES"
            ],
            [
             "NORTH PARK RESIDENCES"
            ],
            [
             "SYMPHONY SUITES"
            ],
            [
             "SKIES MILTONIA"
            ],
            [
             "SELETAR PARK RESIDENCE"
            ],
            [
             "AZALEA PARK CONDOMINIUM"
            ],
            [
             "NORTH PARK RESIDENCES"
            ],
            [
             "SERENITY PARK"
            ],
            [
             "AZALEA PARK CONDOMINIUM"
            ],
            [
             "CANBERRA RESIDENCES"
            ],
            [
             "AVILA GARDENS"
            ],
            [
             "FERRARIA PARK CONDOMINIUM"
            ],
            [
             "HEDGES PARK CONDOMINIUM"
            ],
            [
             "BALLOTA PARK CONDOMINIUM"
            ],
            [
             "NORTHWOOD"
            ],
            [
             "SELETARIS"
            ],
            [
             "THE ESTUARY"
            ],
            [
             "CARISSA PARK CONDOMINIUM"
            ],
            [
             "SELETAR SPRINGS CONDOMINIUM"
            ],
            [
             "THE GALE"
            ]
           ],
           "hovertemplate": "leaseDateStr=2022-03-01<br>lat=%{lat}<br>lng=%{lon}<br>project=%{customdata[0]}<br>price_change=%{marker.color}<extra></extra>",
           "lat": [
            1.41345822654196,
            1.35531040259148,
            1.38887143127704,
            1.3831061797156,
            1.35521095284251,
            1.37745408150082,
            1.35688865505981,
            1.41345822654196,
            1.41807139495834,
            1.41844703579357,
            1.39459641963935,
            1.41345822654196,
            1.42866319767121,
            1.41750734534379,
            1.44447954944853,
            1.35632843123308,
            1.35688865505981,
            1.35531040259148,
            1.35688865505981,
            1.35521095284251,
            1.35632843123308,
            1.44363473207597,
            1.360285340555,
            1.43911656257616,
            1.38820037710408,
            1.39459641963935,
            1.44363473207597,
            1.43456191549725,
            1.41750734534379,
            1.44363473207597,
            1.44819436804175,
            1.41750734534379,
            1.35688865505981,
            1.37776271751871,
            1.35632843123308,
            1.44076527720917,
            1.35521095284251,
            1.35639824853602,
            1.35941809852708,
            1.35917121402077,
            1.43769199919618,
            1.4238543175594,
            1.4358492226796,
            1.36015764334241,
            1.35531040259148,
            1.35736420475575,
            1.38653998627,
            1.43795645154437,
            1.35900307841177,
            1.38879912168555,
            1.35941809852708,
            1.35887799120341,
            1.39459641963935,
            1.39283623462094,
            1.35736420475575,
            1.35521095284251,
            1.35917121402077,
            1.35736420475575,
            1.35521095284251,
            1.35639824853602,
            1.360285340555,
            1.35900307841177,
            1.37976059991781,
            1.35531040259148,
            1.38653998627,
            1.38820037710408,
            1.38718841691871,
            1.38653998627,
            1.39283623462094,
            1.43456191549725,
            1.43281890606271,
            1.41807139495834,
            1.41345822654196,
            1.41104826332535,
            1.41750734534379,
            1.43911656257616,
            1.43456191549725,
            1.42866319767121,
            1.39638961318515,
            1.41345822654196,
            1.39638961318515,
            1.43281890606271,
            1.41750734534379,
            1.35917121402077,
            1.42392837108866,
            1.35521095284251,
            1.37745408150082,
            1.35917121402077,
            1.35736420475575,
            1.35531040259148,
            1.43281890606271,
            1.42866319767121,
            1.44447954944853,
            1.42866319767121,
            1.42866319767121,
            1.41844703579357,
            1.39638961318515,
            1.38718841691871,
            1.39638961318515,
            1.43769199919618,
            1.360285340555,
            1.35531040259148,
            1.35639824853602,
            1.35632843123308,
            1.43281890606271,
            1.42866319767121,
            1.43456191549725,
            1.41807139495834,
            1.38653998627,
            1.36073621566409,
            1.42866319767121,
            1.38822776284514,
            1.36073621566409,
            1.44447954944853,
            1.36015764334241,
            1.35736420475575,
            1.35521095284251,
            1.35887799120341,
            1.42692706476903,
            1.4358492226796,
            1.41104826332535,
            1.35917121402077,
            1.38820037710408,
            1.35900307841177
           ],
           "legendgroup": "",
           "lon": [
            103.835186431485,
            103.965525604183,
            103.872017156345,
            103.864075310229,
            103.966422045067,
            103.95662588933,
            103.964194147192,
            103.835186431485,
            103.84790678249,
            103.841112412447,
            103.881117176349,
            103.835186431485,
            103.835828704052,
            103.847659418224,
            103.825437324844,
            103.966578200418,
            103.964194147192,
            103.965525604183,
            103.964194147192,
            103.966422045067,
            103.966578200418,
            103.825253279684,
            103.966516198261,
            103.830253676903,
            103.878493859317,
            103.881117176349,
            103.825253279684,
            103.844362842957,
            103.847659418224,
            103.825253279684,
            103.819464386349,
            103.847659418224,
            103.964194147192,
            103.957380821299,
            103.966578200418,
            103.830495461097,
            103.966422045067,
            103.96773406082,
            103.965393923725,
            103.963631516169,
            103.830277614211,
            103.848078487443,
            103.824971641966,
            103.965165224191,
            103.965525604183,
            103.963972049935,
            103.869207772374,
            103.830995368522,
            103.96686932054,
            103.852035348555,
            103.965393923725,
            103.96852443877,
            103.881117176349,
            103.87967806826,
            103.963972049935,
            103.966422045067,
            103.963631516169,
            103.963972049935,
            103.966422045067,
            103.96773406082,
            103.966516198261,
            103.96686932054,
            103.963077852592,
            103.965525604183,
            103.869207772374,
            103.878493859317,
            103.869337214926,
            103.869207772374,
            103.87967806826,
            103.844362842957,
            103.841477613841,
            103.84790678249,
            103.835186431485,
            103.832513245026,
            103.847659418224,
            103.830253676903,
            103.844362842957,
            103.835828704052,
            103.875132778517,
            103.835186431485,
            103.875132778517,
            103.841477613841,
            103.847659418224,
            103.963631516169,
            103.849332055297,
            103.966422045067,
            103.95662588933,
            103.963631516169,
            103.963972049935,
            103.965525604183,
            103.841477613841,
            103.835828704052,
            103.825437324844,
            103.835828704052,
            103.835828704052,
            103.841112412447,
            103.875132778517,
            103.869337214926,
            103.875132778517,
            103.830277614211,
            103.966516198261,
            103.965525604183,
            103.96773406082,
            103.966578200418,
            103.841477613841,
            103.835828704052,
            103.844362842957,
            103.84790678249,
            103.869207772374,
            103.963299396559,
            103.835828704052,
            103.858740468004,
            103.963299396559,
            103.825437324844,
            103.965165224191,
            103.963972049935,
            103.966422045067,
            103.96852443877,
            103.82405303932,
            103.824971641966,
            103.832513245026,
            103.963631516169,
            103.878493859317,
            103.96686932054
           ],
           "marker": {
            "color": [
             0.1836734693877551,
             0.13043478260869565,
             0.1038961038961039,
             0.21015384615384616,
             0.125,
             0.030303030303030304,
             0.08571428571428572,
             0.23076923076923078,
             0.015384615384615385,
             0.3235294117647059,
             0,
             0,
             0.25,
             0.21739130434782608,
             0.7368421052631579,
             0.25,
             0.36363636363636365,
             -0.06,
             0.3181818181818182,
             0.30434782608695654,
             0.19473684210526315,
             0.10714285714285714,
             0.16216216216216217,
             0.17307692307692307,
             0.3170731707317073,
             0.009708737864077669,
             0,
             0.38461538461538464,
             0.17391304347826086,
             0.08,
             0.19047619047619047,
             0.30434782608695654,
             0.0625,
             0.4444444444444444,
             0.24489795918367346,
             0.1320754716981132,
             0.32,
             0.5238095238095238,
             -0.011363636363636364,
             0.2727272727272727,
             0.21428571428571427,
             0.08,
             0.27586206896551724,
             -0.2571428571428571,
             -0.14285714285714285,
             0.11363636363636363,
             -0.08163265306122448,
             0.2857142857142857,
             0,
             0,
             0.12,
             -0.02127659574468085,
             0.15789473684210525,
             0.125,
             0.22727272727272727,
             0,
             0.26582278481012656,
             0.1590909090909091,
             0.23809523809523808,
             0,
             0.22727272727272727,
             0.18888888888888888,
             0.25,
             0,
             -0.1,
             0.05,
             0.23404255319148937,
             -0.08333333333333333,
             0.14942528735632185,
             0.20408163265306123,
             0.07692307692307693,
             0.056179775280898875,
             0.2375,
             0.5,
             0.09090909090909091,
             0.2,
             0.22448979591836735,
             0.18181818181818182,
             0.22959183673469388,
             0.5102040816326531,
             0.03125,
             0.043478260869565216,
             0,
             0.1346153846153846,
             0.125,
             0.027777777777777776,
             0.125,
             0.16666666666666666,
             0.2571428571428571,
             0.19540229885057472,
             0.11538461538461539,
             0.11363636363636363,
             0.28205128205128205,
             0.4375,
             0.6326530612244898,
             0.022727272727272728,
             0.045454545454545456,
             0.23076923076923078,
             0.36363636363636365,
             0.17307692307692307,
             0.125,
             0.024096385542168676,
             0.11428571428571428,
             0.10869565217391304,
             0.043478260869565216,
             0.22448979591836735,
             0.3375,
             0.044444444444444446,
             0.013157894736842105,
             0.02702702702702703,
             -0.017857142857142856,
             0.19092627599243855,
             0.1111111111111111,
             0.3103448275862069,
             0.16,
             0.8947368421052632,
             0.0625,
             0.15,
             0.2916666666666667,
             0.13043478260869565,
             0.08196721311475409,
             0.3125,
             0.20408163265306123,
             0.047619047619047616
            ],
            "coloraxis": "coloraxis"
           },
           "mode": "markers",
           "name": "",
           "showlegend": false,
           "subplot": "mapbox",
           "type": "scattermapbox"
          }
         ],
         "name": "2022-03-01"
        },
        {
         "data": [
          {
           "customdata": [
            [
             "THE TOPIARY"
            ],
            [
             "THE ESTUARY"
            ],
            [
             "OCEAN FRONT SUITES"
            ],
            [
             "EDELWEISS PARK CONDOMINIUM"
            ],
            [
             "FERRARIA PARK CONDOMINIUM"
            ],
            [
             "NORTH PARK RESIDENCES"
            ],
            [
             "EIGHT COURTYARDS"
            ],
            [
             "SUNRISE GARDENS"
            ],
            [
             "THE GREENWICH"
            ],
            [
             "ORCHID PARK CONDOMINIUM"
            ],
            [
             "ORCHID PARK CONDOMINIUM"
            ],
            [
             "BALLOTA PARK CONDOMINIUM"
            ],
            [
             "ESTELLA GARDENS"
            ],
            [
             "AVILA GARDENS"
            ],
            [
             "SELETARIS"
            ],
            [
             "CELADON VIEW"
            ],
            [
             "VICTORY 8"
            ],
            [
             "LILYDALE"
            ],
            [
             "EIGHT COURTYARDS"
            ],
            [
             "GRANDE VISTA"
            ],
            [
             "RIVERTREES RESIDENCES"
            ],
            [
             "SELETAR PARK RESIDENCE"
            ],
            [
             "THE WISTERIA"
            ],
            [
             "THE ESTUARY"
            ],
            [
             "THE WISTERIA"
            ],
            [
             "THE GALE"
            ],
            [
             "NORTH PARK RESIDENCES"
            ],
            [
             "THE ESTUARY"
            ],
            [
             "LILYDALE"
            ],
            [
             "SKIES MILTONIA"
            ],
            [
             "LOYANG VALLEY"
            ],
            [
             "PARC OLYMPIA"
            ],
            [
             "CARISSA PARK CONDOMINIUM"
            ],
            [
             "DAHLIA PARK CONDOMINIUM"
            ],
            [
             "ESTELLA GARDENS"
            ],
            [
             "COASTAL VIEW RESIDENCES"
            ],
            [
             "SERENITY PARK"
            ],
            [
             "AZALEA PARK CONDOMINIUM"
            ],
            [
             "CARISSA PARK CONDOMINIUM"
            ],
            [
             "AVILA GARDENS"
            ],
            [
             "HEDGES PARK CONDOMINIUM"
            ],
            [
             "CARISSA PARK CONDOMINIUM"
            ],
            [
             "NINE RESIDENCES"
            ],
            [
             "EIGHT COURTYARDS"
            ],
            [
             "SYMPHONY SUITES"
            ],
            [
             "NORTH PARK RESIDENCES"
            ],
            [
             "THE INFLORA"
            ],
            [
             "YISHUN EMERALD"
            ],
            [
             "YISHUN SAPPHIRE"
            ],
            [
             "SKIES MILTONIA"
            ],
            [
             "NORTH PARK RESIDENCES"
            ],
            [
             "ORCHID PARK CONDOMINIUM"
            ],
            [
             "NORTH PARK RESIDENCES"
            ],
            [
             "THE MILTONIA RESIDENCES"
            ],
            [
             "EIGHT COURTYARDS"
            ],
            [
             "SYMPHONY SUITES"
            ],
            [
             "NORTH PARK RESIDENCES"
            ],
            [
             "THE NAUTICAL"
            ],
            [
             "AZALEA PARK CONDOMINIUM"
            ],
            [
             "THE INFLORA"
            ],
            [
             "PALM ISLES"
            ],
            [
             "CARISSA PARK CONDOMINIUM"
            ],
            [
             "FERRARIA PARK CONDOMINIUM"
            ],
            [
             "NORTH PARK RESIDENCES"
            ],
            [
             "RIVERBANK @ FERNVALE"
            ],
            [
             "BALLOTA PARK CONDOMINIUM"
            ],
            [
             "HIGH PARK RESIDENCES"
            ],
            [
             "THE INFLORA"
            ],
            [
             "PALM ISLES"
            ],
            [
             "SKIES MILTONIA"
            ],
            [
             "THE WISTERIA"
            ],
            [
             "SKIES MILTONIA"
            ],
            [
             "THE MILTONIA RESIDENCES"
            ],
            [
             "RIVERBANK @ FERNVALE"
            ],
            [
             "HIGH PARK RESIDENCES"
            ],
            [
             "SELETAR PARK RESIDENCE"
            ],
            [
             "FERRARIA PARK CONDOMINIUM"
            ],
            [
             "ESTELLA GARDENS"
            ],
            [
             "PARC OLYMPIA"
            ],
            [
             "HIGH PARK RESIDENCES"
            ],
            [
             "H2O RESIDENCES"
            ],
            [
             "RIVERTREES RESIDENCES"
            ],
            [
             "SELETAR PARK RESIDENCE"
            ],
            [
             "HIGH PARK RESIDENCES"
            ],
            [
             "THE WISTERIA"
            ],
            [
             "THE GREENWICH"
            ],
            [
             "HEDGES PARK CONDOMINIUM"
            ],
            [
             "YISHUN EMERALD"
            ],
            [
             "BALLOTA PARK CONDOMINIUM"
            ],
            [
             "AZALEA PARK CONDOMINIUM"
            ],
            [
             "BALLOTA PARK CONDOMINIUM"
            ],
            [
             "LOYANG VALLEY"
            ],
            [
             "THE INFLORA"
            ],
            [
             "CARISSA PARK CONDOMINIUM"
            ],
            [
             "THE GREENWICH"
            ],
            [
             "HIGH PARK RESIDENCES"
            ],
            [
             "SELETAR PARK RESIDENCE"
            ],
            [
             "H2O RESIDENCES"
            ],
            [
             "SYMPHONY SUITES"
            ],
            [
             "NORTH PARK RESIDENCES"
            ],
            [
             "SKIES MILTONIA"
            ],
            [
             "ORCHID PARK CONDOMINIUM"
            ],
            [
             "THE ESTUARY"
            ],
            [
             "SYMPHONY SUITES"
            ],
            [
             "DAHLIA PARK CONDOMINIUM"
            ],
            [
             "THE NAUTICAL"
            ],
            [
             "SELETARIS"
            ],
            [
             "FERRARIA PARK CONDOMINIUM"
            ],
            [
             "AVILA GARDENS"
            ],
            [
             "CARISSA PARK CONDOMINIUM"
            ],
            [
             "LOYANG VALLEY"
            ],
            [
             "FERRARIA PARK CONDOMINIUM"
            ],
            [
             "EDELWEISS PARK CONDOMINIUM"
            ],
            [
             "ESTELLA GARDENS"
            ],
            [
             "THE GALE"
            ],
            [
             "AZALEA PARK CONDOMINIUM"
            ],
            [
             "EIGHT COURTYARDS"
            ],
            [
             "ORCHID PARK CONDOMINIUM"
            ],
            [
             "THE NAUTICAL"
            ],
            [
             "RIVERBANK @ FERNVALE"
            ],
            [
             "SELETAR SPRINGS CONDOMINIUM"
            ],
            [
             "THE GALE"
            ],
            [
             "ORCHID PARK CONDOMINIUM"
            ],
            [
             "FERRARIA PARK CONDOMINIUM"
            ]
           ],
           "hovertemplate": "leaseDateStr=2022-04-01<br>lat=%{lat}<br>lng=%{lon}<br>project=%{customdata[0]}<br>price_change=%{marker.color}<extra></extra>",
           "lat": [
            1.38887143127704,
            1.41104826332535,
            1.37745408150082,
            1.35639824853602,
            1.35736420475575,
            1.42866319767121,
            1.43795645154437,
            1.38969073093565,
            1.38718841691871,
            1.41345822654196,
            1.41345822654196,
            1.35887799120341,
            1.360285340555,
            1.36015764334241,
            1.4358492226796,
            1.37834985706372,
            1.44184070674357,
            1.42392837108866,
            1.43795645154437,
            1.38879912168555,
            1.39402092122499,
            1.38653998627,
            1.41844703579357,
            1.41104826332535,
            1.41844703579357,
            1.35900307841177,
            1.42866319767121,
            1.41104826332535,
            1.42392837108866,
            1.41807139495834,
            1.36849628172236,
            1.35531040259148,
            1.35917121402077,
            1.35941809852708,
            1.360285340555,
            1.37905482184639,
            1.38822776284514,
            1.36073621566409,
            1.35917121402077,
            1.36015764334241,
            1.35521095284251,
            1.35917121402077,
            1.43281890606271,
            1.43795645154437,
            1.43456191549725,
            1.42866319767121,
            1.35632843123308,
            1.43911656257616,
            1.44076527720917,
            1.41807139495834,
            1.42866319767121,
            1.41345822654196,
            1.42866319767121,
            1.41750734534379,
            1.43795645154437,
            1.43456191549725,
            1.42866319767121,
            1.44363473207597,
            1.36073621566409,
            1.35632843123308,
            1.35688865505981,
            1.35917121402077,
            1.35736420475575,
            1.42866319767121,
            1.39459641963935,
            1.35887799120341,
            1.39638961318515,
            1.35632843123308,
            1.35688865505981,
            1.41807139495834,
            1.41844703579357,
            1.41807139495834,
            1.41750734534379,
            1.39459641963935,
            1.39638961318515,
            1.38653998627,
            1.35736420475575,
            1.360285340555,
            1.35531040259148,
            1.39638961318515,
            1.39283623462094,
            1.39402092122499,
            1.38653998627,
            1.39638961318515,
            1.41844703579357,
            1.38718841691871,
            1.35521095284251,
            1.43911656257616,
            1.35887799120341,
            1.36073621566409,
            1.35887799120341,
            1.36849628172236,
            1.35632843123308,
            1.35917121402077,
            1.38718841691871,
            1.39638961318515,
            1.38653998627,
            1.39283623462094,
            1.43456191549725,
            1.42866319767121,
            1.41807139495834,
            1.41345822654196,
            1.41104826332535,
            1.43456191549725,
            1.35941809852708,
            1.44363473207597,
            1.4358492226796,
            1.35736420475575,
            1.36015764334241,
            1.35917121402077,
            1.36849628172236,
            1.35736420475575,
            1.35639824853602,
            1.360285340555,
            1.35900307841177,
            1.36073621566409,
            1.43795645154437,
            1.41345822654196,
            1.44363473207597,
            1.39459641963935,
            1.38820037710408,
            1.35900307841177,
            1.41345822654196,
            1.35736420475575
           ],
           "legendgroup": "",
           "lon": [
            103.872017156345,
            103.832513245026,
            103.95662588933,
            103.96773406082,
            103.963972049935,
            103.835828704052,
            103.830995368522,
            103.857170017555,
            103.869337214926,
            103.835186431485,
            103.835186431485,
            103.96852443877,
            103.966516198261,
            103.965165224191,
            103.824971641966,
            103.95659135188,
            103.823693218432,
            103.849332055297,
            103.830995368522,
            103.852035348555,
            103.881215058062,
            103.869207772374,
            103.841112412447,
            103.832513245026,
            103.841112412447,
            103.96686932054,
            103.835828704052,
            103.832513245026,
            103.849332055297,
            103.84790678249,
            103.970019150268,
            103.965525604183,
            103.963631516169,
            103.965393923725,
            103.966516198261,
            103.961097744973,
            103.858740468004,
            103.963299396559,
            103.963631516169,
            103.965165224191,
            103.966422045067,
            103.963631516169,
            103.841477613841,
            103.830995368522,
            103.844362842957,
            103.835828704052,
            103.966578200418,
            103.830253676903,
            103.830495461097,
            103.84790678249,
            103.835828704052,
            103.835186431485,
            103.835828704052,
            103.847659418224,
            103.830995368522,
            103.844362842957,
            103.835828704052,
            103.825253279684,
            103.963299396559,
            103.966578200418,
            103.964194147192,
            103.963631516169,
            103.963972049935,
            103.835828704052,
            103.881117176349,
            103.96852443877,
            103.875132778517,
            103.966578200418,
            103.964194147192,
            103.84790678249,
            103.841112412447,
            103.84790678249,
            103.847659418224,
            103.881117176349,
            103.875132778517,
            103.869207772374,
            103.963972049935,
            103.966516198261,
            103.965525604183,
            103.875132778517,
            103.87967806826,
            103.881215058062,
            103.869207772374,
            103.875132778517,
            103.841112412447,
            103.869337214926,
            103.966422045067,
            103.830253676903,
            103.96852443877,
            103.963299396559,
            103.96852443877,
            103.970019150268,
            103.966578200418,
            103.963631516169,
            103.869337214926,
            103.875132778517,
            103.869207772374,
            103.87967806826,
            103.844362842957,
            103.835828704052,
            103.84790678249,
            103.835186431485,
            103.832513245026,
            103.844362842957,
            103.965393923725,
            103.825253279684,
            103.824971641966,
            103.963972049935,
            103.965165224191,
            103.963631516169,
            103.970019150268,
            103.963972049935,
            103.96773406082,
            103.966516198261,
            103.96686932054,
            103.963299396559,
            103.830995368522,
            103.835186431485,
            103.825253279684,
            103.881117176349,
            103.878493859317,
            103.96686932054,
            103.835186431485,
            103.963972049935
           ],
           "marker": {
            "color": [
             0.26666666666666666,
             0.18613138686131386,
             0.3114754098360656,
             0.21428571428571427,
             -0.06666666666666667,
             0.07792207792207792,
             0.15384615384615385,
             0.15384615384615385,
             0.06451612903225806,
             -0.125,
             -0.10714285714285714,
             0.17647058823529413,
             0.010752688172043012,
             0.25,
             0.09433962264150944,
             0.1,
             0.03199174406604747,
             0.5602836879432624,
             0.19230769230769232,
             -0.04,
             0.08641975308641975,
             0.07692307692307693,
             0,
             -0.11904761904761904,
             0.05,
             0.05,
             0.09090909090909091,
             0.13333333333333333,
             0.5130023640661938,
             0.37142857142857144,
             0.08108108108108109,
             0.10344827586206896,
             0.08108108108108109,
             0.391304347826087,
             0.060240963855421686,
             0.1504424778761062,
             0.14423076923076922,
             0.14285714285714285,
             0.1111111111111111,
             0.12149532710280374,
             0.1267605633802817,
             0.42574257425742573,
             0.09821428571428571,
             0.13953488372093023,
             0.0874818753020783,
             0.20833333333333334,
             0.13636363636363635,
             0.32038834951456313,
             0.21428571428571427,
             -0.020833333333333332,
             0.6883116883116883,
             0.3877551020408163,
             -0.14893617021276595,
             0.47619047619047616,
             0.1111111111111111,
             0.061224489795918366,
             0.6176,
             0.11627906976744186,
             0.6666666666666666,
             0.5116279069767442,
             0.3488372093023256,
             0.13636363636363635,
             0.017699115044247787,
             0.25,
             0.2857142857142857,
             0.027777777777777776,
             -0.14,
             0.08235294117647059,
             0.13513513513513514,
             0,
             0.45714285714285713,
             0.35135135135135137,
             0.125,
             0.17647058823529413,
             0.15789473684210525,
             0.1,
             0.02702702702702703,
             0.21212121212121213,
             0.16216216216216217,
             0.391304347826087,
             0.07692307692307693,
             0,
             0.02631578947368421,
             0.30434782608695654,
             -0.023255813953488372,
             0,
             0.06818181818181818,
             0.5,
             0.45,
             0,
             0.06,
             0.25,
             0.08333333333333333,
             0.22727272727272727,
             0.18181818181818182,
             0.28,
             -0.125,
             0.1590909090909091,
             0.2978723404255319,
             0.013888888888888888,
             0.18811881188118812,
             0.2625,
             0.375,
             0.7021276595744681,
             0.1415525114155251,
             0.36363636363636365,
             0.2,
             0.5,
             0.39880952380952384,
             0.175,
             -0.07407407407407407,
             0.18181818181818182,
             0.18478260869565216,
             0.034482758620689655,
             0.06382978723404255,
             0.2,
             0.044444444444444446,
             0.4588235294117647,
             0.10344827586206896,
             0.020833333333333332,
             0.15,
             -0.02,
             0.25,
             0.10638297872340426
            ],
            "coloraxis": "coloraxis"
           },
           "mode": "markers",
           "name": "",
           "showlegend": false,
           "subplot": "mapbox",
           "type": "scattermapbox"
          }
         ],
         "name": "2022-04-01"
        },
        {
         "data": [
          {
           "customdata": [
            [
             "NORTH PARK RESIDENCES"
            ],
            [
             "SKIES MILTONIA"
            ],
            [
             "THE WISTERIA"
            ],
            [
             "PALM ISLES"
            ],
            [
             "CARISSA PARK CONDOMINIUM"
            ],
            [
             "PARC OLYMPIA"
            ],
            [
             "HIGH PARK RESIDENCES"
            ],
            [
             "EDELWEISS PARK CONDOMINIUM"
            ],
            [
             "LOYANG VALLEY"
            ],
            [
             "BALLOTA PARK CONDOMINIUM"
            ],
            [
             "SERENITY PARK"
            ],
            [
             "LILYDALE"
            ],
            [
             "FERRARIA PARK CONDOMINIUM"
            ],
            [
             "THE INFLORA"
            ],
            [
             "RIVERTREES RESIDENCES"
            ],
            [
             "EDELWEISS PARK CONDOMINIUM"
            ],
            [
             "THE GREENWICH"
            ],
            [
             "CANBERRA RESIDENCES"
            ],
            [
             "PARC OLYMPIA"
            ],
            [
             "PALM ISLES"
            ],
            [
             "FLORAVILLE"
            ],
            [
             "THE MILTONIA RESIDENCES"
            ],
            [
             "SYMPHONY SUITES"
            ],
            [
             "THE ESTUARY"
            ],
            [
             "THE NAUTICAL"
            ],
            [
             "DAHLIA PARK CONDOMINIUM"
            ],
            [
             "THE INFLORA"
            ],
            [
             "PARC OLYMPIA"
            ],
            [
             "PARC OLYMPIA"
            ],
            [
             "PALM ISLES"
            ],
            [
             "HEDGES PARK CONDOMINIUM"
            ],
            [
             "ESTELLA GARDENS"
            ],
            [
             "SELETAR PARK RESIDENCE"
            ],
            [
             "EIGHT COURTYARDS"
            ],
            [
             "YISHUN SAPPHIRE"
            ],
            [
             "H2O RESIDENCES"
            ],
            [
             "THE GALE"
            ],
            [
             "BALLOTA PARK CONDOMINIUM"
            ],
            [
             "THE WISTERIA"
            ],
            [
             "THE GALE"
            ],
            [
             "THE EDGEWATER"
            ],
            [
             "YISHUN EMERALD"
            ],
            [
             "PARC OLYMPIA"
            ],
            [
             "SELETAR PARK RESIDENCE"
            ],
            [
             "RIVERBANK @ FERNVALE"
            ],
            [
             "H2O RESIDENCES"
            ],
            [
             "SERENITY PARK"
            ],
            [
             "ORCHID PARK CONDOMINIUM"
            ],
            [
             "SKIES MILTONIA"
            ],
            [
             "SYMPHONY SUITES"
            ],
            [
             "ESTELLA GARDENS"
            ],
            [
             "FERRARIA PARK CONDOMINIUM"
            ],
            [
             "ORCHID PARK CONDOMINIUM"
            ],
            [
             "SYMPHONY SUITES"
            ],
            [
             "THE WISTERIA"
            ],
            [
             "EUPHONY GARDENS"
            ],
            [
             "FERRARIA PARK CONDOMINIUM"
            ],
            [
             "THE ESTUARY"
            ],
            [
             "YISHUN EMERALD"
            ],
            [
             "EUPHONY GARDENS"
            ],
            [
             "NINE RESIDENCES"
            ],
            [
             "NORTH PARK RESIDENCES"
            ],
            [
             "HIGH PARK RESIDENCES"
            ],
            [
             "LOYANG VALLEY"
            ],
            [
             "SELETAR PARK RESIDENCE"
            ],
            [
             "RIVERTREES RESIDENCES"
            ],
            [
             "H2O RESIDENCES"
            ],
            [
             "HIGH PARK RESIDENCES"
            ],
            [
             "THE GREENWICH"
            ],
            [
             "GRANDE VISTA"
            ],
            [
             "SELETARIS"
            ],
            [
             "SELETAR PARK RESIDENCE"
            ],
            [
             "HIGH PARK RESIDENCES"
            ],
            [
             "SELETAR PARK RESIDENCE"
            ],
            [
             "THE WISTERIA"
            ],
            [
             "NORTH PARK RESIDENCES"
            ],
            [
             "THE ESTUARY"
            ],
            [
             "SELETAR SPRINGS CONDOMINIUM"
            ],
            [
             "RIZ HAVEN"
            ],
            [
             "FERRARIA PARK CONDOMINIUM"
            ],
            [
             "NORTH PARK RESIDENCES"
            ],
            [
             "CARISSA PARK CONDOMINIUM"
            ],
            [
             "SKIES MILTONIA"
            ],
            [
             "NORTH PARK RESIDENCES"
            ],
            [
             "THE GALE"
            ],
            [
             "ESTELLA GARDENS"
            ],
            [
             "THE INFLORA"
            ],
            [
             "THE EDGEWATER"
            ],
            [
             "SYMPHONY SUITES"
            ],
            [
             "EIGHT COURTYARDS"
            ],
            [
             "ORCHID PARK CONDOMINIUM"
            ],
            [
             "NORTH PARK RESIDENCES"
            ],
            [
             "SYMPHONY SUITES"
            ],
            [
             "THE WISTERIA"
            ],
            [
             "OCEAN FRONT SUITES"
            ],
            [
             "ESTELLA GARDENS"
            ],
            [
             "CANBERRA RESIDENCES"
            ],
            [
             "YISHUN EMERALD"
            ],
            [
             "THE ESTUARY"
            ],
            [
             "THE GREENWICH"
            ],
            [
             "HIGH PARK RESIDENCES"
            ],
            [
             "ORCHID PARK CONDOMINIUM"
            ],
            [
             "ORCHID PARK CONDOMINIUM"
            ],
            [
             "SKIES MILTONIA"
            ],
            [
             "NINE RESIDENCES"
            ]
           ],
           "hovertemplate": "leaseDateStr=2022-05-01<br>lat=%{lat}<br>lng=%{lon}<br>project=%{customdata[0]}<br>price_change=%{marker.color}<extra></extra>",
           "lat": [
            1.42866319767121,
            1.41807139495834,
            1.41844703579357,
            1.35688865505981,
            1.35917121402077,
            1.35531040259148,
            1.39638961318515,
            1.35639824853602,
            1.36849628172236,
            1.35887799120341,
            1.38822776284514,
            1.42392837108866,
            1.35736420475575,
            1.35632843123308,
            1.39402092122499,
            1.35639824853602,
            1.38718841691871,
            1.44447954944853,
            1.35531040259148,
            1.35688865505981,
            1.39185235684708,
            1.41750734534379,
            1.43456191549725,
            1.41104826332535,
            1.44363473207597,
            1.35941809852708,
            1.35632843123308,
            1.35531040259148,
            1.35531040259148,
            1.35688865505981,
            1.35521095284251,
            1.360285340555,
            1.38653998627,
            1.43795645154437,
            1.44076527720917,
            1.39283623462094,
            1.35900307841177,
            1.35887799120341,
            1.41844703579357,
            1.35900307841177,
            1.38029080909587,
            1.43911656257616,
            1.35531040259148,
            1.38653998627,
            1.39459641963935,
            1.39283623462094,
            1.38822776284514,
            1.41345822654196,
            1.41807139495834,
            1.43456191549725,
            1.360285340555,
            1.35736420475575,
            1.41345822654196,
            1.43456191549725,
            1.41844703579357,
            1.42547005593325,
            1.35736420475575,
            1.41104826332535,
            1.43911656257616,
            1.42547005593325,
            1.43281890606271,
            1.42866319767121,
            1.39638961318515,
            1.36849628172236,
            1.38653998627,
            1.39402092122499,
            1.39283623462094,
            1.39638961318515,
            1.38718841691871,
            1.38879912168555,
            1.4358492226796,
            1.38653998627,
            1.39638961318515,
            1.38653998627,
            1.41844703579357,
            1.42866319767121,
            1.41104826332535,
            1.38820037710408,
            1.37989464950184,
            1.35736420475575,
            1.42866319767121,
            1.35917121402077,
            1.41807139495834,
            1.42866319767121,
            1.35900307841177,
            1.360285340555,
            1.35632843123308,
            1.38029080909587,
            1.43456191549725,
            1.43795645154437,
            1.41345822654196,
            1.42866319767121,
            1.43456191549725,
            1.41844703579357,
            1.37745408150082,
            1.360285340555,
            1.44447954944853,
            1.43911656257616,
            1.41104826332535,
            1.38718841691871,
            1.39638961318515,
            1.41345822654196,
            1.41345822654196,
            1.41807139495834,
            1.43281890606271
           ],
           "legendgroup": "",
           "lon": [
            103.835828704052,
            103.84790678249,
            103.841112412447,
            103.964194147192,
            103.963631516169,
            103.965525604183,
            103.875132778517,
            103.96773406082,
            103.970019150268,
            103.96852443877,
            103.858740468004,
            103.849332055297,
            103.963972049935,
            103.966578200418,
            103.881215058062,
            103.96773406082,
            103.869337214926,
            103.825437324844,
            103.965525604183,
            103.964194147192,
            103.851179877786,
            103.847659418224,
            103.844362842957,
            103.832513245026,
            103.825253279684,
            103.965393923725,
            103.966578200418,
            103.965525604183,
            103.965525604183,
            103.964194147192,
            103.966422045067,
            103.966516198261,
            103.869207772374,
            103.830995368522,
            103.830495461097,
            103.87967806826,
            103.96686932054,
            103.96852443877,
            103.841112412447,
            103.96686932054,
            103.964674596342,
            103.830253676903,
            103.965525604183,
            103.869207772374,
            103.881117176349,
            103.87967806826,
            103.858740468004,
            103.835186431485,
            103.84790678249,
            103.844362842957,
            103.966516198261,
            103.963972049935,
            103.835186431485,
            103.844362842957,
            103.841112412447,
            103.824969746542,
            103.963972049935,
            103.832513245026,
            103.830253676903,
            103.824969746542,
            103.841477613841,
            103.835828704052,
            103.875132778517,
            103.970019150268,
            103.869207772374,
            103.881215058062,
            103.87967806826,
            103.875132778517,
            103.869337214926,
            103.852035348555,
            103.824971641966,
            103.869207772374,
            103.875132778517,
            103.869207772374,
            103.841112412447,
            103.835828704052,
            103.832513245026,
            103.878493859317,
            103.96274397719,
            103.963972049935,
            103.835828704052,
            103.963631516169,
            103.84790678249,
            103.835828704052,
            103.96686932054,
            103.966516198261,
            103.966578200418,
            103.964674596342,
            103.844362842957,
            103.830995368522,
            103.835186431485,
            103.835828704052,
            103.844362842957,
            103.841112412447,
            103.95662588933,
            103.966516198261,
            103.825437324844,
            103.830253676903,
            103.832513245026,
            103.869337214926,
            103.875132778517,
            103.835186431485,
            103.835186431485,
            103.84790678249,
            103.841477613841
           ],
           "marker": {
            "color": [
             0.07608695652173914,
             0.08823529411764706,
             0.2328767123287671,
             0.5668044077134986,
             0.5263157894736842,
             0.02702702702702703,
             0.4,
             0.025,
             0.4,
             0.057692307692307696,
             0.1,
             0.06382978723404255,
             0.08737864077669903,
             0.09090909090909091,
             0.125,
             0.14705882352941177,
             0.21739130434782608,
             0.009708737864077669,
             0.30434782608695654,
             0.03571428571428571,
             0.5217391304347826,
             0.14285714285714285,
             0.2608695652173913,
             0.2,
             0.22448979591836735,
             0.14285714285714285,
             0.4090909090909091,
             0.25,
             0.25,
             0.27058823529411763,
             0.5,
             0.47619047619047616,
             0.2972972972972973,
             0.6666666666666666,
             0,
             0.3333333333333333,
             0.30434782608695654,
             0,
             0.36363636363636365,
             0.043478260869565216,
             0.19047619047619047,
             0.08035714285714286,
             0.275,
             -0.1,
             0.25925925925925924,
             0.15384615384615385,
             0.10526315789473684,
             0.12,
             0.38095238095238093,
             0.41818181818181815,
             0.14,
             0.24271844660194175,
             0.1836734693877551,
             0.37373737373737376,
             0.02564102564102564,
             0.2,
             0.1,
             0.09375,
             0.2777777777777778,
             0.9,
             0.6,
             0.17647058823529413,
             0.4318181818181818,
             0.10714285714285714,
             0.14285714285714285,
             0.37209302325581395,
             0.024390243902439025,
             0.29545454545454547,
             -0.012048192771084338,
             0.3333333333333333,
             -0.07936507936507936,
             0.05263157894736842,
             -0.11363636363636363,
             0.21052631578947367,
             0.5217391304347826,
             0.2558139534883721,
             0.2777777777777778,
             0.34285714285714286,
             0,
             -0.046153846153846156,
             0.14925373134328357,
             0.36792452830188677,
             0.19047619047619047,
             0.2568627450980392,
             0.3176470588235294,
             0.328125,
             0.5384615384615384,
             0.10526315789473684,
             0.18181818181818182,
             0.2840909090909091,
             0,
             0.31343283582089554,
             0.09090909090909091,
             0.19658119658119658,
             0.25,
             0.2857142857142857,
             0.2631578947368421,
             -0.10416666666666667,
             0.13043478260869565,
             -0.043478260869565216,
             0.4375,
             0.061224489795918366,
             0.5909090909090909,
             0.16129032258064516,
             0.65
            ],
            "coloraxis": "coloraxis"
           },
           "mode": "markers",
           "name": "",
           "showlegend": false,
           "subplot": "mapbox",
           "type": "scattermapbox"
          }
         ],
         "name": "2022-05-01"
        },
        {
         "data": [
          {
           "customdata": [
            [
             "HIGH PARK RESIDENCES"
            ],
            [
             "CARISSA PARK CONDOMINIUM"
            ],
            [
             "SELETAR PARK RESIDENCE"
            ],
            [
             "SELETAR SPRINGS CONDOMINIUM"
            ],
            [
             "PARC OLYMPIA"
            ],
            [
             "HIGH PARK RESIDENCES"
            ],
            [
             "ORCHID PARK CONDOMINIUM"
            ],
            [
             "THE WISTERIA"
            ],
            [
             "H2O RESIDENCES"
            ],
            [
             "EIGHT COURTYARDS"
            ],
            [
             "YISHUN SAPPHIRE"
            ],
            [
             "THE MILTONIA RESIDENCES"
            ],
            [
             "SELETAR PARK RESIDENCE"
            ],
            [
             "EIGHT COURTYARDS"
            ],
            [
             "EIGHT COURTYARDS"
            ],
            [
             "THE GALE"
            ],
            [
             "THE NAUTICAL"
            ],
            [
             "NORTH PARK RESIDENCES"
            ],
            [
             "H2O RESIDENCES"
            ],
            [
             "THE ESTUARY"
            ],
            [
             "THE WISTERIA"
            ],
            [
             "AVILA GARDENS"
            ],
            [
             "BLUWATERS 2"
            ],
            [
             "NORTH PARK RESIDENCES"
            ],
            [
             "THE MILTONIA RESIDENCES"
            ],
            [
             "THE GREENWICH"
            ],
            [
             "THE GREENWICH"
            ],
            [
             "FERRARIA PARK CONDOMINIUM"
            ],
            [
             "EDELWEISS PARK CONDOMINIUM"
            ],
            [
             "ESTELLA GARDENS"
            ],
            [
             "CANBERRA RESIDENCES"
            ],
            [
             "EIGHT COURTYARDS"
            ],
            [
             "NORTH PARK RESIDENCES"
            ],
            [
             "ORCHID PARK CONDOMINIUM"
            ],
            [
             "THE WISTERIA"
            ],
            [
             "EIGHT COURTYARDS"
            ],
            [
             "THE ESTUARY"
            ],
            [
             "CARISSA PARK CONDOMINIUM"
            ],
            [
             "THE GALE"
            ],
            [
             "PARC OLYMPIA"
            ],
            [
             "H2O RESIDENCES"
            ],
            [
             "RIVERTREES RESIDENCES"
            ],
            [
             "RIVERBANK @ FERNVALE"
            ],
            [
             "HIGH PARK RESIDENCES"
            ],
            [
             "THE GALE"
            ],
            [
             "NORTHWOOD"
            ],
            [
             "GRANDE VISTA"
            ],
            [
             "RIVERBANK @ FERNVALE"
            ],
            [
             "NORTH PARK RESIDENCES"
            ],
            [
             "SKIES MILTONIA"
            ],
            [
             "SYMPHONY SUITES"
            ],
            [
             "SELETAR PARK RESIDENCE"
            ],
            [
             "SERENITY PARK"
            ],
            [
             "THE GREENWICH"
            ],
            [
             "SKIES MILTONIA"
            ],
            [
             "HIGH PARK RESIDENCES"
            ],
            [
             "HEDGES PARK CONDOMINIUM"
            ],
            [
             "EIGHT COURTYARDS"
            ],
            [
             "THE MILTONIA RESIDENCES"
            ],
            [
             "PARC OLYMPIA"
            ],
            [
             "FERRARIA PARK CONDOMINIUM"
            ],
            [
             "LOYANG VALLEY"
            ],
            [
             "BALLOTA PARK CONDOMINIUM"
            ],
            [
             "THE MILTONIA RESIDENCES"
            ],
            [
             "EDELWEISS PARK CONDOMINIUM"
            ],
            [
             "BALLOTA PARK CONDOMINIUM"
            ],
            [
             "NINE RESIDENCES"
            ],
            [
             "THE GALE"
            ],
            [
             "EUPHONY GARDENS"
            ],
            [
             "SKIES MILTONIA"
            ],
            [
             "SYMPHONY SUITES"
            ],
            [
             "EIGHT COURTYARDS"
            ],
            [
             "H2O RESIDENCES"
            ],
            [
             "SUNRISE GARDENS"
            ],
            [
             "THE GREENWICH"
            ],
            [
             "PALM ISLES"
            ],
            [
             "THE INFLORA"
            ],
            [
             "NORTH PARK RESIDENCES"
            ],
            [
             "EIGHT COURTYARDS"
            ],
            [
             "NORTH PARK RESIDENCES"
            ],
            [
             "YISHUN EMERALD"
            ],
            [
             "CARISSA PARK CONDOMINIUM"
            ],
            [
             "LILYDALE"
            ],
            [
             "LILYDALE"
            ],
            [
             "PALM ISLES"
            ],
            [
             "HEDGES PARK CONDOMINIUM"
            ],
            [
             "PARC OLYMPIA"
            ],
            [
             "THE INFLORA"
            ],
            [
             "PALM ISLES"
            ],
            [
             "SKIES MILTONIA"
            ],
            [
             "RIVERBANK @ FERNVALE"
            ],
            [
             "HIGH PARK RESIDENCES"
            ],
            [
             "THE INFLORA"
            ],
            [
             "THE NAUTICAL"
            ],
            [
             "SYMPHONY SUITES"
            ],
            [
             "SELETAR PARK RESIDENCE"
            ],
            [
             "RIVERBANK @ FERNVALE"
            ],
            [
             "EDELWEISS PARK CONDOMINIUM"
            ],
            [
             "THE GALE"
            ],
            [
             "ESTELLA GARDENS"
            ],
            [
             "THE ESTUARY"
            ],
            [
             "NORTHWOOD"
            ],
            [
             "AZALEA PARK CONDOMINIUM"
            ],
            [
             "MIMOSA PARK"
            ],
            [
             "AVILA GARDENS"
            ],
            [
             "DAHLIA PARK CONDOMINIUM"
            ],
            [
             "CARISSA PARK CONDOMINIUM"
            ],
            [
             "ORCHID PARK CONDOMINIUM"
            ],
            [
             "MIMOSA PARK"
            ],
            [
             "H2O RESIDENCES"
            ],
            [
             "THE MILTONIA RESIDENCES"
            ],
            [
             "PALM ISLES"
            ],
            [
             "SANDY PALM"
            ],
            [
             "SUNRISE GARDENS"
            ]
           ],
           "hovertemplate": "leaseDateStr=2022-06-01<br>lat=%{lat}<br>lng=%{lon}<br>project=%{customdata[0]}<br>price_change=%{marker.color}<extra></extra>",
           "lat": [
            1.39638961318515,
            1.35917121402077,
            1.38653998627,
            1.38820037710408,
            1.35531040259148,
            1.39638961318515,
            1.41345822654196,
            1.41844703579357,
            1.39283623462094,
            1.43795645154437,
            1.44076527720917,
            1.41750734534379,
            1.38653998627,
            1.43795645154437,
            1.43795645154437,
            1.35900307841177,
            1.44363473207597,
            1.42866319767121,
            1.39283623462094,
            1.41104826332535,
            1.41844703579357,
            1.36015764334241,
            1.38005079580315,
            1.42866319767121,
            1.41750734534379,
            1.38718841691871,
            1.38718841691871,
            1.35736420475575,
            1.35639824853602,
            1.360285340555,
            1.44447954944853,
            1.43795645154437,
            1.42866319767121,
            1.41345822654196,
            1.41844703579357,
            1.43795645154437,
            1.41104826332535,
            1.35917121402077,
            1.35900307841177,
            1.35531040259148,
            1.39283623462094,
            1.39402092122499,
            1.39459641963935,
            1.39638961318515,
            1.35900307841177,
            1.42692706476903,
            1.38879912168555,
            1.39459641963935,
            1.42866319767121,
            1.41807139495834,
            1.43456191549725,
            1.38653998627,
            1.38822776284514,
            1.38718841691871,
            1.41807139495834,
            1.39638961318515,
            1.35521095284251,
            1.43795645154437,
            1.41750734534379,
            1.35531040259148,
            1.35736420475575,
            1.36849628172236,
            1.35887799120341,
            1.41750734534379,
            1.35639824853602,
            1.35887799120341,
            1.43281890606271,
            1.35900307841177,
            1.42547005593325,
            1.41807139495834,
            1.43456191549725,
            1.43795645154437,
            1.39283623462094,
            1.38969073093565,
            1.38718841691871,
            1.35688865505981,
            1.35632843123308,
            1.42866319767121,
            1.43795645154437,
            1.42866319767121,
            1.43911656257616,
            1.35917121402077,
            1.42392837108866,
            1.42392837108866,
            1.35688865505981,
            1.35521095284251,
            1.35531040259148,
            1.35632843123308,
            1.35688865505981,
            1.41807139495834,
            1.39459641963935,
            1.39638961318515,
            1.35632843123308,
            1.44363473207597,
            1.43456191549725,
            1.38653998627,
            1.39459641963935,
            1.35639824853602,
            1.35900307841177,
            1.360285340555,
            1.41104826332535,
            1.42692706476903,
            1.36073621566409,
            1.3831061797156,
            1.36015764334241,
            1.35941809852708,
            1.35917121402077,
            1.41345822654196,
            1.3831061797156,
            1.39283623462094,
            1.41750734534379,
            1.35688865505981,
            1.37889853918179,
            1.38969073093565
           ],
           "legendgroup": "",
           "lon": [
            103.875132778517,
            103.963631516169,
            103.869207772374,
            103.878493859317,
            103.965525604183,
            103.875132778517,
            103.835186431485,
            103.841112412447,
            103.87967806826,
            103.830995368522,
            103.830495461097,
            103.847659418224,
            103.869207772374,
            103.830995368522,
            103.830995368522,
            103.96686932054,
            103.825253279684,
            103.835828704052,
            103.87967806826,
            103.832513245026,
            103.841112412447,
            103.965165224191,
            103.96390014473,
            103.835828704052,
            103.847659418224,
            103.869337214926,
            103.869337214926,
            103.963972049935,
            103.96773406082,
            103.966516198261,
            103.825437324844,
            103.830995368522,
            103.835828704052,
            103.835186431485,
            103.841112412447,
            103.830995368522,
            103.832513245026,
            103.963631516169,
            103.96686932054,
            103.965525604183,
            103.87967806826,
            103.881215058062,
            103.881117176349,
            103.875132778517,
            103.96686932054,
            103.82405303932,
            103.852035348555,
            103.881117176349,
            103.835828704052,
            103.84790678249,
            103.844362842957,
            103.869207772374,
            103.858740468004,
            103.869337214926,
            103.84790678249,
            103.875132778517,
            103.966422045067,
            103.830995368522,
            103.847659418224,
            103.965525604183,
            103.963972049935,
            103.970019150268,
            103.96852443877,
            103.847659418224,
            103.96773406082,
            103.96852443877,
            103.841477613841,
            103.96686932054,
            103.824969746542,
            103.84790678249,
            103.844362842957,
            103.830995368522,
            103.87967806826,
            103.857170017555,
            103.869337214926,
            103.964194147192,
            103.966578200418,
            103.835828704052,
            103.830995368522,
            103.835828704052,
            103.830253676903,
            103.963631516169,
            103.849332055297,
            103.849332055297,
            103.964194147192,
            103.966422045067,
            103.965525604183,
            103.966578200418,
            103.964194147192,
            103.84790678249,
            103.881117176349,
            103.875132778517,
            103.966578200418,
            103.825253279684,
            103.844362842957,
            103.869207772374,
            103.881117176349,
            103.96773406082,
            103.96686932054,
            103.966516198261,
            103.832513245026,
            103.82405303932,
            103.963299396559,
            103.864075310229,
            103.965165224191,
            103.965393923725,
            103.963631516169,
            103.835186431485,
            103.864075310229,
            103.87967806826,
            103.847659418224,
            103.964194147192,
            103.959628801553,
            103.857170017555
           ],
           "marker": {
            "color": [
             0.14,
             0.225,
             0.25,
             0.36363636363636365,
             0.21951219512195122,
             0.29545454545454547,
             0.54,
             0.16279069767441862,
             0.24444444444444444,
             0.3394495412844037,
             0.05263157894736842,
             0.3333333333333333,
             1.78,
             0.06422018348623854,
             0.16,
             0.20454545454545456,
             0.04,
             0.16326530612244897,
             0.25,
             0.075,
             0.1956521739130435,
             0.2631578947368421,
             0.3563218390804598,
             0.12359550561797752,
             0.05714285714285714,
             0.1891891891891892,
             0.16129032258064516,
             0.30434782608695654,
             0.41304347826086957,
             0.5789473684210527,
             0.46938775510204084,
             0.2692307692307692,
             0.3389830508474576,
             0,
             -0.038461538461538464,
             0.17307692307692307,
             0.17391304347826086,
             0.2894736842105263,
             0.30612244897959184,
             0.23076923076923078,
             0.12631578947368421,
             0.08695652173913043,
             0.38095238095238093,
             0.3333333333333333,
             0.05,
             0.03225806451612903,
             0.10714285714285714,
             0.047619047619047616,
             0.19642857142857142,
             0.125,
             0.2,
             0,
             0.08108108108108109,
             0.13432835820895522,
             0.03333333333333333,
             0.4942528735632184,
             0.23809523809523808,
             0.6428571428571429,
             0.36666666666666664,
             -0.0625,
             0.23232323232323232,
             0.08928571428571429,
             0.12,
             0.2,
             0,
             0.21739130434782608,
             0.11538461538461539,
             0.2765957446808511,
             0.45454545454545453,
             0.15625,
             0.4339622641509434,
             0.1724137931034483,
             0.13793103448275862,
             0.23076923076923078,
             0.248,
             0,
             0.4583333333333333,
             0.125,
             -0.06666666666666667,
             -0.037037037037037035,
             0.17592592592592593,
             0.32323232323232326,
             0.18518518518518517,
             0.2962962962962963,
             0.2391304347826087,
             0.19444444444444445,
             0.2777777777777778,
             0.2328767123287671,
             0.14285714285714285,
             0.21739130434782608,
             0.12195121951219512,
             0.17105263157894737,
             0.06976744186046512,
             0.18181818181818182,
             0.425531914893617,
             0.1891891891891892,
             0.2682926829268293,
             0.08411214953271028,
             0,
             0.011904761904761904,
             0.3333333333333333,
             0.09375,
             0.15517241379310345,
             0.014492753623188406,
             0.21428571428571427,
             0.42,
             0.1111111111111111,
             0.16071428571428573,
             0.1111111111111111,
             0.17777777777777778,
             0.06976744186046512,
             0.09259259259259259,
             0.4074074074074074,
             0.06666666666666667
            ],
            "coloraxis": "coloraxis"
           },
           "mode": "markers",
           "name": "",
           "showlegend": false,
           "subplot": "mapbox",
           "type": "scattermapbox"
          }
         ],
         "name": "2022-06-01"
        },
        {
         "data": [
          {
           "customdata": [
            [
             "NORTH PARK RESIDENCES"
            ],
            [
             "YISHUN EMERALD"
            ],
            [
             "EIGHT COURTYARDS"
            ],
            [
             "SYMPHONY SUITES"
            ],
            [
             "SKIES MILTONIA"
            ],
            [
             "ORCHID PARK CONDOMINIUM"
            ],
            [
             "EIGHT COURTYARDS"
            ],
            [
             "SELETAR PARK RESIDENCE"
            ],
            [
             "NINE RESIDENCES"
            ],
            [
             "NORTH PARK RESIDENCES"
            ],
            [
             "H2O RESIDENCES"
            ],
            [
             "ORCHID PARK CONDOMINIUM"
            ],
            [
             "THE ESTUARY"
            ],
            [
             "AZALEA PARK CONDOMINIUM"
            ],
            [
             "ESTELLA GARDENS"
            ],
            [
             "ESTELLA GARDENS"
            ],
            [
             "HIGH PARK RESIDENCES"
            ],
            [
             "NINE RESIDENCES"
            ],
            [
             "NORTH PARK RESIDENCES"
            ],
            [
             "SYMPHONY SUITES"
            ],
            [
             "SKIES MILTONIA"
            ],
            [
             "NINE RESIDENCES"
            ],
            [
             "NORTH PARK RESIDENCES"
            ],
            [
             "RIVERBANK @ FERNVALE"
            ],
            [
             "RIVERTREES RESIDENCES"
            ],
            [
             "HIGH PARK RESIDENCES"
            ],
            [
             "RIVERBANK @ FERNVALE"
            ],
            [
             "RIVERTREES RESIDENCES"
            ],
            [
             "H2O RESIDENCES"
            ],
            [
             "HIGH PARK RESIDENCES"
            ],
            [
             "YISHUN EMERALD"
            ],
            [
             "SKIES MILTONIA"
            ],
            [
             "THE MILTONIA RESIDENCES"
            ],
            [
             "NORTH PARK RESIDENCES"
            ],
            [
             "RIVERTREES RESIDENCES"
            ],
            [
             "AVILA GARDENS"
            ],
            [
             "CARISSA PARK CONDOMINIUM"
            ],
            [
             "HEDGES PARK CONDOMINIUM"
            ],
            [
             "EDELWEISS PARK CONDOMINIUM"
            ],
            [
             "THE GALE"
            ],
            [
             "RIVERTREES RESIDENCES"
            ],
            [
             "H2O RESIDENCES"
            ],
            [
             "1 CANBERRA"
            ],
            [
             "SERENITY PARK"
            ],
            [
             "RIVERBANK @ FERNVALE"
            ],
            [
             "HEDGES PARK CONDOMINIUM"
            ],
            [
             "PARC OLYMPIA"
            ],
            [
             "THE INFLORA"
            ],
            [
             "PALM ISLES"
            ],
            [
             "SKIES MILTONIA"
            ],
            [
             "HIGH PARK RESIDENCES"
            ],
            [
             "SELETAR PARK RESIDENCE"
            ],
            [
             "EIGHT COURTYARDS"
            ],
            [
             "EIGHT COURTYARDS"
            ],
            [
             "PARC OLYMPIA"
            ],
            [
             "PALM ISLES"
            ],
            [
             "DAHLIA PARK CONDOMINIUM"
            ],
            [
             "SUN PLAZA"
            ],
            [
             "EIGHT COURTYARDS"
            ],
            [
             "THE MILTONIA RESIDENCES"
            ],
            [
             "SELETARIS"
            ],
            [
             "EIGHT COURTYARDS"
            ],
            [
             "GRANDE VISTA"
            ],
            [
             "SELETAR SPRINGS CONDOMINIUM"
            ],
            [
             "THE MILTONIA RESIDENCES"
            ],
            [
             "COASTAL VIEW RESIDENCES"
            ],
            [
             "SELETARIS"
            ],
            [
             "THE GALE"
            ],
            [
             "SELETARIS"
            ],
            [
             "EDELWEISS PARK CONDOMINIUM"
            ],
            [
             "PARC OLYMPIA"
            ],
            [
             "SYMPHONY SUITES"
            ],
            [
             "THE INFLORA"
            ],
            [
             "AZALEA PARK CONDOMINIUM"
            ],
            [
             "CARISSA PARK CONDOMINIUM"
            ],
            [
             "THE NAUTICAL"
            ],
            [
             "ORCHID PARK CONDOMINIUM"
            ],
            [
             "PALM ISLES"
            ],
            [
             "CARISSA PARK CONDOMINIUM"
            ],
            [
             "LILYDALE"
            ],
            [
             "LOYANG VALLEY"
            ],
            [
             "LOYANG VALLEY"
            ],
            [
             "LOYANG VALLEY"
            ],
            [
             "ORCHID PARK CONDOMINIUM"
            ],
            [
             "PARC OLYMPIA"
            ],
            [
             "LILYDALE"
            ],
            [
             "AVILA GARDENS"
            ],
            [
             "RIVERBANK @ FERNVALE"
            ],
            [
             "THE ESTUARY"
            ],
            [
             "HIGH PARK RESIDENCES"
            ],
            [
             "SKIES MILTONIA"
            ],
            [
             "CANBERRA RESIDENCES"
            ],
            [
             "THE MILTONIA RESIDENCES"
            ],
            [
             "JLB RESIDENCES"
            ],
            [
             "PARC OLYMPIA"
            ],
            [
             "PALM ISLES"
            ],
            [
             "THE MILTONIA RESIDENCES"
            ],
            [
             "THE EDGEWATER"
            ],
            [
             "EDELWEISS PARK CONDOMINIUM"
            ],
            [
             "SELETAR PARK RESIDENCE"
            ],
            [
             "RIVERTREES RESIDENCES"
            ],
            [
             "HIGH PARK RESIDENCES"
            ],
            [
             "H2O RESIDENCES"
            ],
            [
             "THE GREENWICH"
            ],
            [
             "THE GALE"
            ],
            [
             "NORTH PARK RESIDENCES"
            ],
            [
             "THE NAUTICAL"
            ],
            [
             "CANBERRA RESIDENCES"
            ],
            [
             "CASA PASIR RIS"
            ],
            [
             "THE GALE"
            ],
            [
             "NORTH PARK RESIDENCES"
            ],
            [
             "LOYANG VALLEY"
            ],
            [
             "1 CANBERRA"
            ],
            [
             "HIGH PARK RESIDENCES"
            ],
            [
             "H2O RESIDENCES"
            ],
            [
             "NORTH PARK RESIDENCES"
            ]
           ],
           "hovertemplate": "leaseDateStr=2022-07-01<br>lat=%{lat}<br>lng=%{lon}<br>project=%{customdata[0]}<br>price_change=%{marker.color}<extra></extra>",
           "lat": [
            1.42866319767121,
            1.43911656257616,
            1.43795645154437,
            1.43456191549725,
            1.41807139495834,
            1.41345822654196,
            1.43795645154437,
            1.38653998627,
            1.43281890606271,
            1.42866319767121,
            1.39283623462094,
            1.41345822654196,
            1.41104826332535,
            1.36073621566409,
            1.360285340555,
            1.360285340555,
            1.39638961318515,
            1.43281890606271,
            1.42866319767121,
            1.43456191549725,
            1.41807139495834,
            1.43281890606271,
            1.42866319767121,
            1.39459641963935,
            1.39402092122499,
            1.39638961318515,
            1.39459641963935,
            1.39402092122499,
            1.39283623462094,
            1.39638961318515,
            1.43911656257616,
            1.41807139495834,
            1.41750734534379,
            1.42866319767121,
            1.39402092122499,
            1.36015764334241,
            1.35917121402077,
            1.35521095284251,
            1.35639824853602,
            1.35900307841177,
            1.39402092122499,
            1.39283623462094,
            1.43769199919618,
            1.38822776284514,
            1.39459641963935,
            1.35521095284251,
            1.35531040259148,
            1.35632843123308,
            1.35688865505981,
            1.41807139495834,
            1.39638961318515,
            1.38653998627,
            1.43795645154437,
            1.43795645154437,
            1.35531040259148,
            1.35688865505981,
            1.35941809852708,
            1.44819436804175,
            1.43795645154437,
            1.41750734534379,
            1.4358492226796,
            1.43795645154437,
            1.38879912168555,
            1.38820037710408,
            1.41750734534379,
            1.37905482184639,
            1.4358492226796,
            1.35900307841177,
            1.4358492226796,
            1.35639824853602,
            1.35531040259148,
            1.43456191549725,
            1.35632843123308,
            1.36073621566409,
            1.35917121402077,
            1.44363473207597,
            1.41345822654196,
            1.35688865505981,
            1.35917121402077,
            1.42392837108866,
            1.36849628172236,
            1.36849628172236,
            1.36849628172236,
            1.41345822654196,
            1.35531040259148,
            1.42392837108866,
            1.36015764334241,
            1.39459641963935,
            1.41104826332535,
            1.39638961318515,
            1.41807139495834,
            1.44447954944853,
            1.41750734534379,
            1.37908988698315,
            1.35531040259148,
            1.35688865505981,
            1.41750734534379,
            1.38029080909587,
            1.35639824853602,
            1.38653998627,
            1.39402092122499,
            1.39638961318515,
            1.39283623462094,
            1.38718841691871,
            1.35900307841177,
            1.42866319767121,
            1.44363473207597,
            1.44447954944853,
            1.37939195187997,
            1.35900307841177,
            1.42866319767121,
            1.36849628172236,
            1.43769199919618,
            1.39638961318515,
            1.39283623462094,
            1.42866319767121
           ],
           "legendgroup": "",
           "lon": [
            103.835828704052,
            103.830253676903,
            103.830995368522,
            103.844362842957,
            103.84790678249,
            103.835186431485,
            103.830995368522,
            103.869207772374,
            103.841477613841,
            103.835828704052,
            103.87967806826,
            103.835186431485,
            103.832513245026,
            103.963299396559,
            103.966516198261,
            103.966516198261,
            103.875132778517,
            103.841477613841,
            103.835828704052,
            103.844362842957,
            103.84790678249,
            103.841477613841,
            103.835828704052,
            103.881117176349,
            103.881215058062,
            103.875132778517,
            103.881117176349,
            103.881215058062,
            103.87967806826,
            103.875132778517,
            103.830253676903,
            103.84790678249,
            103.847659418224,
            103.835828704052,
            103.881215058062,
            103.965165224191,
            103.963631516169,
            103.966422045067,
            103.96773406082,
            103.96686932054,
            103.881215058062,
            103.87967806826,
            103.830277614211,
            103.858740468004,
            103.881117176349,
            103.966422045067,
            103.965525604183,
            103.966578200418,
            103.964194147192,
            103.84790678249,
            103.875132778517,
            103.869207772374,
            103.830995368522,
            103.830995368522,
            103.965525604183,
            103.964194147192,
            103.965393923725,
            103.819464386349,
            103.830995368522,
            103.847659418224,
            103.824971641966,
            103.830995368522,
            103.852035348555,
            103.878493859317,
            103.847659418224,
            103.961097744973,
            103.824971641966,
            103.96686932054,
            103.824971641966,
            103.96773406082,
            103.965525604183,
            103.844362842957,
            103.966578200418,
            103.963299396559,
            103.963631516169,
            103.825253279684,
            103.835186431485,
            103.964194147192,
            103.963631516169,
            103.849332055297,
            103.970019150268,
            103.970019150268,
            103.970019150268,
            103.835186431485,
            103.965525604183,
            103.849332055297,
            103.965165224191,
            103.881117176349,
            103.832513245026,
            103.875132778517,
            103.84790678249,
            103.825437324844,
            103.847659418224,
            103.960558475679,
            103.965525604183,
            103.964194147192,
            103.847659418224,
            103.964674596342,
            103.96773406082,
            103.869207772374,
            103.881215058062,
            103.875132778517,
            103.87967806826,
            103.869337214926,
            103.96686932054,
            103.835828704052,
            103.825253279684,
            103.825437324844,
            103.96368774531,
            103.96686932054,
            103.835828704052,
            103.970019150268,
            103.830277614211,
            103.875132778517,
            103.87967806826,
            103.835828704052
           ],
           "marker": {
            "color": [
             0.5,
             0.46236559139784944,
             0.2975391498881432,
             0.29523809523809524,
             0.21428571428571427,
             0.2558139534883721,
             0.14285714285714285,
             0.017543859649122806,
             0.11711711711711711,
             -0.13333333333333333,
             0.38636363636363635,
             0.37209302325581395,
             0.09259259259259259,
             0.18181818181818182,
             0.20588235294117646,
             0.06666666666666667,
             0.34579439252336447,
             0.5454545454545454,
             0.34615384615384615,
             0.04811815150071463,
             0.7368421052631579,
             -0.045454545454545456,
             0.16346153846153846,
             0.025,
             -0.033707865168539325,
             0.391304347826087,
             0.5,
             0.34831460674157305,
             0.1695906432748538,
             0.30434782608695654,
             0.16071428571428573,
             0.047619047619047616,
             0.1694915254237288,
             0.13157894736842105,
             0.2543859649122807,
             0.5111111111111111,
             0.625,
             0.42857142857142855,
             0.40425531914893614,
             0.125,
             0.03333333333333333,
             0.5121951219512195,
             0.16923076923076924,
             0.15,
             0.24390243902439024,
             0.35135135135135137,
             0.3548387096774194,
             0.11764705882352941,
             0.3,
             0.328125,
             0.12658227848101267,
             0.5428571428571428,
             0.4519230769230769,
             0.23076923076923078,
             0.3392857142857143,
             0.25862068965517243,
             -0.043478260869565216,
             0.125,
             0.19318181818181818,
             0.06666666666666667,
             0.05,
             0.24,
             0.12,
             0.11764705882352941,
             0.75,
             0.2222222222222222,
             0.36363636363636365,
             0.1417910447761194,
             0.15,
             0.4,
             0,
             0.11726117261172611,
             0.24,
             0.1,
             0.1346153846153846,
             0.07142857142857142,
             0.12931034482758622,
             0.17045454545454544,
             0.4166666666666667,
             0.28,
             0.12280701754385964,
             0.16363636363636364,
             0.14545454545454545,
             0.0603448275862069,
             0.02040816326530612,
             0.6,
             0.20833333333333334,
             0.2830188679245283,
             0.24369747899159663,
             0,
             0.30612244897959184,
             0.08,
             0.2916666666666667,
             0.22727272727272727,
             0.1650485436893204,
             0.5094339622641509,
             0.4583333333333333,
             0.11904761904761904,
             0.25773195876288657,
             0.11764705882352941,
             0.36363636363636365,
             0.1958762886597938,
             0.27586206896551724,
             0.1794871794871795,
             0.1346153846153846,
             0.3149655604257984,
             0.3392857142857143,
             0.28859060402684567,
             0.19148936170212766,
             0.09027777777777778,
             0.6901408450704225,
             0.18,
             0.53125,
             0.34328358208955223,
             0.36585365853658536,
             0.2
            ],
            "coloraxis": "coloraxis"
           },
           "mode": "markers",
           "name": "",
           "showlegend": false,
           "subplot": "mapbox",
           "type": "scattermapbox"
          }
         ],
         "name": "2022-07-01"
        },
        {
         "data": [
          {
           "customdata": [
            [
             "EIGHT COURTYARDS"
            ],
            [
             "SELETARIS"
            ],
            [
             "CARISSA PARK CONDOMINIUM"
            ],
            [
             "AVILA GARDENS"
            ],
            [
             "EDELWEISS PARK CONDOMINIUM"
            ],
            [
             "ESTELLA GARDENS"
            ],
            [
             "SANDY PALM"
            ],
            [
             "BALLOTA PARK CONDOMINIUM"
            ],
            [
             "H2O RESIDENCES"
            ],
            [
             "ORCHID PARK CONDOMINIUM"
            ],
            [
             "YISHUN EMERALD"
            ],
            [
             "LILYDALE"
            ],
            [
             "EIGHT COURTYARDS"
            ],
            [
             "THE ESTUARY"
            ],
            [
             "PALM ISLES"
            ],
            [
             "BLUWATERS"
            ],
            [
             "SELETARIS"
            ],
            [
             "FERRARIA PARK CONDOMINIUM"
            ],
            [
             "PARC OLYMPIA"
            ],
            [
             "LILYDALE"
            ],
            [
             "LOYANG VALLEY"
            ],
            [
             "ESTELLA GARDENS"
            ],
            [
             "BALLOTA PARK CONDOMINIUM"
            ],
            [
             "THE NAUTICAL"
            ],
            [
             "PARC OLYMPIA"
            ],
            [
             "BLUWATERS"
            ],
            [
             "H2O RESIDENCES"
            ],
            [
             "ESTELLA GARDENS"
            ],
            [
             "GRANDE VISTA"
            ],
            [
             "THE ESTUARY"
            ],
            [
             "NORTHWOOD"
            ],
            [
             "THE INFLORA"
            ],
            [
             "HIGH PARK RESIDENCES"
            ],
            [
             "H2O RESIDENCES"
            ],
            [
             "RIVERTREES RESIDENCES"
            ],
            [
             "HIGH PARK RESIDENCES"
            ],
            [
             "RIVERTREES RESIDENCES"
            ],
            [
             "NORTH PARK RESIDENCES"
            ],
            [
             "NINE RESIDENCES"
            ],
            [
             "SKIES MILTONIA"
            ],
            [
             "SYMPHONY SUITES"
            ],
            [
             "NORTH PARK RESIDENCES"
            ],
            [
             "THE INFLORA"
            ],
            [
             "ESTELLA GARDENS"
            ],
            [
             "THE GALE"
            ],
            [
             "AZALEA PARK CONDOMINIUM"
            ],
            [
             "DAHLIA PARK CONDOMINIUM"
            ],
            [
             "CARISSA PARK CONDOMINIUM"
            ],
            [
             "PALM ISLES"
            ],
            [
             "SERENITY PARK"
            ],
            [
             "SYMPHONY SUITES"
            ],
            [
             "NIM GARDENS"
            ],
            [
             "RIVERBANK @ FERNVALE"
            ],
            [
             "FERRARIA PARK CONDOMINIUM"
            ],
            [
             "THE GREENWICH"
            ],
            [
             "HIGH PARK RESIDENCES"
            ],
            [
             "SELETAR PARK RESIDENCE"
            ],
            [
             "NORTH PARK RESIDENCES"
            ],
            [
             "THE ESTUARY"
            ],
            [
             "SELETAR PARK RESIDENCE"
            ],
            [
             "NORTH PARK RESIDENCES"
            ],
            [
             "THE ESTUARY"
            ],
            [
             "PARC OLYMPIA"
            ],
            [
             "PARC OLYMPIA"
            ],
            [
             "DAHLIA PARK CONDOMINIUM"
            ],
            [
             "THE BROWNSTONE"
            ],
            [
             "1 CANBERRA"
            ],
            [
             "GRANDE VISTA"
            ],
            [
             "NINE RESIDENCES"
            ],
            [
             "HIGH PARK RESIDENCES"
            ],
            [
             "HIGH PARK RESIDENCES"
            ],
            [
             "THE GREENWICH"
            ],
            [
             "NORTH PARK RESIDENCES"
            ],
            [
             "NINE RESIDENCES"
            ],
            [
             "SKIES MILTONIA"
            ],
            [
             "ORCHID PARK CONDOMINIUM"
            ],
            [
             "THE ESTUARY"
            ],
            [
             "THE NAUTICAL"
            ],
            [
             "YISHUN EMERALD"
            ],
            [
             "EIGHT COURTYARDS"
            ],
            [
             "SYMPHONY SUITES"
            ],
            [
             "ORCHID PARK CONDOMINIUM"
            ],
            [
             "PARC OLYMPIA"
            ],
            [
             "THE GALE"
            ],
            [
             "ESTELLA GARDENS"
            ],
            [
             "EDELWEISS PARK CONDOMINIUM"
            ],
            [
             "FERRARIA PARK CONDOMINIUM"
            ],
            [
             "CARISSA PARK CONDOMINIUM"
            ],
            [
             "SELETAR PARK RESIDENCE"
            ],
            [
             "H2O RESIDENCES"
            ],
            [
             "THE MILTONIA RESIDENCES"
            ],
            [
             "THE INFLORA"
            ],
            [
             "D'BANYAN"
            ],
            [
             "THE GREENWICH"
            ],
            [
             "SELETAR SPRINGS CONDOMINIUM"
            ],
            [
             "EIGHT COURTYARDS"
            ],
            [
             "SELETAR PARK RESIDENCE"
            ],
            [
             "HIGH PARK RESIDENCES"
            ],
            [
             "THE MILTONIA RESIDENCES"
            ],
            [
             "SKIES MILTONIA"
            ],
            [
             "EIGHT COURTYARDS"
            ],
            [
             "PALM ISLES"
            ],
            [
             "HEDGES PARK CONDOMINIUM"
            ],
            [
             "VICTORY 8"
            ],
            [
             "OCEAN FRONT SUITES"
            ],
            [
             "GRANDE VISTA"
            ],
            [
             "THE MILTONIA RESIDENCES"
            ],
            [
             "MIMOSA PARK"
            ],
            [
             "HIGH PARK RESIDENCES"
            ],
            [
             "PARC OLYMPIA"
            ],
            [
             "SYMPHONY SUITES"
            ],
            [
             "SUNRISE GARDENS"
            ],
            [
             "BALLOTA PARK CONDOMINIUM"
            ],
            [
             "SYMPHONY SUITES"
            ],
            [
             "NORTH PARK RESIDENCES"
            ],
            [
             "THE NAUTICAL"
            ],
            [
             "NORTH PARK RESIDENCES"
            ],
            [
             "SUNRISE GARDENS"
            ],
            [
             "NORTH PARK RESIDENCES"
            ],
            [
             "HEDGES PARK CONDOMINIUM"
            ],
            [
             "THE GALE"
            ],
            [
             "THE EDGEWATER"
            ],
            [
             "GRANDE VISTA"
            ],
            [
             "THE GALE"
            ],
            [
             "BALLOTA PARK CONDOMINIUM"
            ]
           ],
           "hovertemplate": "leaseDateStr=2022-08-01<br>lat=%{lat}<br>lng=%{lon}<br>project=%{customdata[0]}<br>price_change=%{marker.color}<extra></extra>",
           "lat": [
            1.43795645154437,
            1.4358492226796,
            1.35917121402077,
            1.36015764334241,
            1.35639824853602,
            1.360285340555,
            1.37889853918179,
            1.35887799120341,
            1.39283623462094,
            1.41345822654196,
            1.43911656257616,
            1.42392837108866,
            1.43795645154437,
            1.41104826332535,
            1.35688865505981,
            1.37976059991781,
            1.4358492226796,
            1.35736420475575,
            1.35531040259148,
            1.42392837108866,
            1.36849628172236,
            1.360285340555,
            1.35887799120341,
            1.44363473207597,
            1.35531040259148,
            1.37976059991781,
            1.39283623462094,
            1.360285340555,
            1.38879912168555,
            1.41104826332535,
            1.42692706476903,
            1.35632843123308,
            1.39638961318515,
            1.39283623462094,
            1.39402092122499,
            1.39638961318515,
            1.39402092122499,
            1.42866319767121,
            1.43281890606271,
            1.41807139495834,
            1.43456191549725,
            1.42866319767121,
            1.35632843123308,
            1.360285340555,
            1.35900307841177,
            1.36073621566409,
            1.35941809852708,
            1.35917121402077,
            1.35688865505981,
            1.38822776284514,
            1.43456191549725,
            1.38143238111123,
            1.39459641963935,
            1.35736420475575,
            1.38718841691871,
            1.39638961318515,
            1.38653998627,
            1.42866319767121,
            1.41104826332535,
            1.38653998627,
            1.42866319767121,
            1.41104826332535,
            1.35531040259148,
            1.35531040259148,
            1.35941809852708,
            1.44605090505522,
            1.43769199919618,
            1.38879912168555,
            1.43281890606271,
            1.39638961318515,
            1.39638961318515,
            1.38718841691871,
            1.42866319767121,
            1.43281890606271,
            1.41807139495834,
            1.41345822654196,
            1.41104826332535,
            1.44363473207597,
            1.43911656257616,
            1.43795645154437,
            1.43456191549725,
            1.41345822654196,
            1.35531040259148,
            1.35900307841177,
            1.360285340555,
            1.35639824853602,
            1.35736420475575,
            1.35917121402077,
            1.38653998627,
            1.39283623462094,
            1.41750734534379,
            1.35632843123308,
            1.44403787932825,
            1.38718841691871,
            1.38820037710408,
            1.43795645154437,
            1.38653998627,
            1.39638961318515,
            1.41750734534379,
            1.41807139495834,
            1.43795645154437,
            1.35688865505981,
            1.35521095284251,
            1.44184070674357,
            1.37745408150082,
            1.38879912168555,
            1.41750734534379,
            1.3831061797156,
            1.39638961318515,
            1.35531040259148,
            1.43456191549725,
            1.38969073093565,
            1.35887799120341,
            1.43456191549725,
            1.42866319767121,
            1.44363473207597,
            1.42866319767121,
            1.38969073093565,
            1.42866319767121,
            1.35521095284251,
            1.35900307841177,
            1.38029080909587,
            1.38879912168555,
            1.35900307841177,
            1.35887799120341
           ],
           "legendgroup": "",
           "lon": [
            103.830995368522,
            103.824971641966,
            103.963631516169,
            103.965165224191,
            103.96773406082,
            103.966516198261,
            103.959628801553,
            103.96852443877,
            103.87967806826,
            103.835186431485,
            103.830253676903,
            103.849332055297,
            103.830995368522,
            103.832513245026,
            103.964194147192,
            103.963077852592,
            103.824971641966,
            103.963972049935,
            103.965525604183,
            103.849332055297,
            103.970019150268,
            103.966516198261,
            103.96852443877,
            103.825253279684,
            103.965525604183,
            103.963077852592,
            103.87967806826,
            103.966516198261,
            103.852035348555,
            103.832513245026,
            103.82405303932,
            103.966578200418,
            103.875132778517,
            103.87967806826,
            103.881215058062,
            103.875132778517,
            103.881215058062,
            103.835828704052,
            103.841477613841,
            103.84790678249,
            103.844362842957,
            103.835828704052,
            103.966578200418,
            103.966516198261,
            103.96686932054,
            103.963299396559,
            103.965393923725,
            103.963631516169,
            103.964194147192,
            103.858740468004,
            103.844362842957,
            103.863043130131,
            103.881117176349,
            103.963972049935,
            103.869337214926,
            103.875132778517,
            103.869207772374,
            103.835828704052,
            103.832513245026,
            103.869207772374,
            103.835828704052,
            103.832513245026,
            103.965525604183,
            103.965525604183,
            103.965393923725,
            103.827051427084,
            103.830277614211,
            103.852035348555,
            103.841477613841,
            103.875132778517,
            103.875132778517,
            103.869337214926,
            103.835828704052,
            103.841477613841,
            103.84790678249,
            103.835186431485,
            103.832513245026,
            103.825253279684,
            103.830253676903,
            103.830995368522,
            103.844362842957,
            103.835186431485,
            103.965525604183,
            103.96686932054,
            103.966516198261,
            103.96773406082,
            103.963972049935,
            103.963631516169,
            103.869207772374,
            103.87967806826,
            103.847659418224,
            103.966578200418,
            103.825036650569,
            103.869337214926,
            103.878493859317,
            103.830995368522,
            103.869207772374,
            103.875132778517,
            103.847659418224,
            103.84790678249,
            103.830995368522,
            103.964194147192,
            103.966422045067,
            103.823693218432,
            103.95662588933,
            103.852035348555,
            103.847659418224,
            103.864075310229,
            103.875132778517,
            103.965525604183,
            103.844362842957,
            103.857170017555,
            103.96852443877,
            103.844362842957,
            103.835828704052,
            103.825253279684,
            103.835828704052,
            103.857170017555,
            103.835828704052,
            103.966422045067,
            103.96686932054,
            103.964674596342,
            103.852035348555,
            103.96686932054,
            103.96852443877
           ],
           "marker": {
            "color": [
             0.0136986301369863,
             0.034482758620689655,
             -0.06666666666666667,
             0.13445378151260504,
             0.22448979591836735,
             0.5833333333333334,
             0.041666666666666664,
             0.19791666666666666,
             -0.017543859649122806,
             0.16666666666666666,
             0.24528301886792453,
             0.34615384615384615,
             -0.0410958904109589,
             0.37373737373737376,
             0.17647058823529413,
             0.3103448275862069,
             0.05,
             0.26153846153846155,
             0.3333333333333333,
             0.2692307692307692,
             0.20689655172413793,
             0.40625,
             0.19,
             0.07272727272727272,
             0.11904761904761904,
             0.34782608695652173,
             0.27049180327868855,
             0.24050632911392406,
             0.36,
             0.5,
             -0.06666666666666667,
             0.24,
             0.3111111111111111,
             0.5714285714285714,
             0.5476190476190477,
             0.3333333333333333,
             0.09523809523809523,
             0.11538461538461539,
             0.30434782608695654,
             0.08695652173913043,
             0.21951219512195122,
             0.23076923076923078,
             0.31868131868131866,
             0.3382352941176471,
             0.43333333333333335,
             0.72,
             0.28846153846153844,
             0.36538461538461536,
             0.65,
             0.10714285714285714,
             0.30434782608695654,
             -0.04032258064516129,
             0.37254901960784315,
             0.0784313725490196,
             0.023809523809523808,
             0.4642857142857143,
             0.3684210526315789,
             0.15384615384615385,
             0.1282051282051282,
             0.24444444444444444,
             0.2631578947368421,
             0.23076923076923078,
             0.225,
             0.07407407407407407,
             0.15625,
             0.34545454545454546,
             0.13793103448275862,
             0.2631578947368421,
             0.25,
             0.43478260869565216,
             0.37037037037037035,
             0.2765957446808511,
             0.4925373134328358,
             0.16,
             0.09523809523809523,
             0,
             0.391304347826087,
             0.24,
             0.5232558139534884,
             0.4090909090909091,
             0.43478260869565216,
             0.08695652173913043,
             0.11827956989247312,
             0.22727272727272727,
             0.20930232558139536,
             0.043478260869565216,
             0.5,
             0.4375,
             0.3333333333333333,
             0.36363636363636365,
             0.14814814814814814,
             0.1323529411764706,
             0.027777777777777776,
             0.01639344262295082,
             0.5909090909090909,
             0.8,
             0.41025641025641024,
             0.15,
             0.2222222222222222,
             0,
             0.2833333333333333,
             0.2222222222222222,
             0.6666666666666666,
             0,
             0,
             0.8055555555555556,
             0.05154639175257732,
             0,
             0.34782608695652173,
             0.3150684931506849,
             0.5098039215686274,
             0.125,
             0.05,
             0.18518518518518517,
             0.25925925925925924,
             0.021739130434782608,
             0.19148936170212766,
             -0.08771929824561403,
             0.11428571428571428,
             0.47619047619047616,
             0.23404255319148937,
             0.65,
             0.25,
             0.06382978723404255,
             0.2
            ],
            "coloraxis": "coloraxis"
           },
           "mode": "markers",
           "name": "",
           "showlegend": false,
           "subplot": "mapbox",
           "type": "scattermapbox"
          }
         ],
         "name": "2022-08-01"
        },
        {
         "data": [
          {
           "customdata": [
            [
             "ORCHID PARK CONDOMINIUM"
            ],
            [
             "THE MILTONIA RESIDENCES"
            ],
            [
             "YISHUN EMERALD"
            ],
            [
             "EIGHT COURTYARDS"
            ],
            [
             "CARISSA PARK CONDOMINIUM"
            ],
            [
             "DAHLIA PARK CONDOMINIUM"
            ],
            [
             "AZALEA PARK CONDOMINIUM"
            ],
            [
             "SYMPHONY SUITES"
            ],
            [
             "EIGHT COURTYARDS"
            ],
            [
             "PARC OLYMPIA"
            ],
            [
             "PALM ISLES"
            ],
            [
             "THE INFLORA"
            ],
            [
             "THE MILTONIA RESIDENCES"
            ],
            [
             "HEDGES PARK CONDOMINIUM"
            ],
            [
             "PALM ISLES"
            ],
            [
             "GRANDE VISTA"
            ],
            [
             "RIVERTREES RESIDENCES"
            ],
            [
             "AZALEA PARK CONDOMINIUM"
            ],
            [
             "WATERCREST"
            ],
            [
             "NORTHWOOD"
            ],
            [
             "SKIES MILTONIA"
            ],
            [
             "SERENITY PARK"
            ],
            [
             "LOYANG VALLEY"
            ],
            [
             "BALLOTA PARK CONDOMINIUM"
            ],
            [
             "SELETAR PARK RESIDENCE"
            ],
            [
             "SELETARIS"
            ],
            [
             "NORTHWOOD"
            ],
            [
             "AVILA GARDENS"
            ],
            [
             "LOYANG VALLEY"
            ],
            [
             "THE GALE"
            ],
            [
             "OCEAN FRONT SUITES"
            ],
            [
             "OCEAN FRONT SUITES"
            ],
            [
             "HEDGES PARK CONDOMINIUM"
            ],
            [
             "PARC OLYMPIA"
            ],
            [
             "THE INFLORA"
            ],
            [
             "RIZ HAVEN"
            ],
            [
             "H2O RESIDENCES"
            ],
            [
             "SKIES MILTONIA"
            ],
            [
             "RIVERBANK @ FERNVALE"
            ],
            [
             "CASA PASIR RIS"
            ],
            [
             "DAHLIA PARK CONDOMINIUM"
            ],
            [
             "CARISSA PARK CONDOMINIUM"
            ],
            [
             "LILYDALE"
            ],
            [
             "HIGH PARK RESIDENCES"
            ],
            [
             "RIVERBANK @ FERNVALE"
            ],
            [
             "ORCHID PARK CONDOMINIUM"
            ],
            [
             "THE MILTONIA RESIDENCES"
            ],
            [
             "THE MILTONIA RESIDENCES"
            ],
            [
             "PARC OLYMPIA"
            ],
            [
             "PALM ISLES"
            ],
            [
             "THE INFLORA"
            ],
            [
             "HEDGES PARK CONDOMINIUM"
            ],
            [
             "BALLOTA PARK CONDOMINIUM"
            ],
            [
             "THE GALE"
            ],
            [
             "EDELWEISS PARK CONDOMINIUM"
            ],
            [
             "FERRARIA PARK CONDOMINIUM"
            ],
            [
             "DAHLIA PARK CONDOMINIUM"
            ],
            [
             "GRANDE VISTA"
            ],
            [
             "NORTH PARK RESIDENCES"
            ],
            [
             "THE SENSORIA"
            ],
            [
             "ORCHID PARK CONDOMINIUM"
            ],
            [
             "THE EDGEWATER"
            ],
            [
             "ESTELLA GARDENS"
            ],
            [
             "EDELWEISS PARK CONDOMINIUM"
            ],
            [
             "DAHLIA PARK CONDOMINIUM"
            ],
            [
             "LILYDALE"
            ],
            [
             "HIGH PARK RESIDENCES"
            ],
            [
             "RIVERBANK @ FERNVALE"
            ],
            [
             "PALM ISLES"
            ],
            [
             "HIGH PARK RESIDENCES"
            ],
            [
             "SYMPHONY SUITES"
            ],
            [
             "ORCHID PARK CONDOMINIUM"
            ],
            [
             "THE ESTUARY"
            ],
            [
             "YISHUN SAPPHIRE"
            ],
            [
             "YISHUN EMERALD"
            ],
            [
             "THE GALE"
            ],
            [
             "EDELWEISS PARK CONDOMINIUM"
            ],
            [
             "CARISSA PARK CONDOMINIUM"
            ],
            [
             "THE INFLORA"
            ],
            [
             "THE WISTERIA"
            ],
            [
             "HEDGES PARK CONDOMINIUM"
            ],
            [
             "FERRARIA PARK CONDOMINIUM"
            ],
            [
             "NORTH PARK RESIDENCES"
            ],
            [
             "THE ESTUARY"
            ],
            [
             "NORTH PARK RESIDENCES"
            ],
            [
             "SELETAR PARK RESIDENCE"
            ],
            [
             "HIGH PARK RESIDENCES"
            ],
            [
             "ESTELLA GARDENS"
            ],
            [
             "HEDGES PARK CONDOMINIUM"
            ],
            [
             "THE TOPIARY"
            ],
            [
             "CARISSA PARK CONDOMINIUM"
            ],
            [
             "H2O RESIDENCES"
            ],
            [
             "THE GREENWICH"
            ],
            [
             "HIGH PARK RESIDENCES"
            ],
            [
             "1 CANBERRA"
            ],
            [
             "RIVERBANK @ FERNVALE"
            ],
            [
             "HIGH PARK RESIDENCES"
            ],
            [
             "RIVERTREES RESIDENCES"
            ],
            [
             "ESTELLA GARDENS"
            ],
            [
             "NINE RESIDENCES"
            ],
            [
             "NORTH PARK RESIDENCES"
            ],
            [
             "HIGH PARK RESIDENCES"
            ],
            [
             "THE GREENWICH"
            ],
            [
             "NORTH PARK RESIDENCES"
            ]
           ],
           "hovertemplate": "leaseDateStr=2022-09-01<br>lat=%{lat}<br>lng=%{lon}<br>project=%{customdata[0]}<br>price_change=%{marker.color}<extra></extra>",
           "lat": [
            1.41345822654196,
            1.41750734534379,
            1.43911656257616,
            1.43795645154437,
            1.35917121402077,
            1.35941809852708,
            1.36073621566409,
            1.43456191549725,
            1.43795645154437,
            1.35531040259148,
            1.35688865505981,
            1.35632843123308,
            1.41750734534379,
            1.35521095284251,
            1.35688865505981,
            1.38879912168555,
            1.39402092122499,
            1.36073621566409,
            1.37776271751871,
            1.42692706476903,
            1.41807139495834,
            1.38822776284514,
            1.36849628172236,
            1.35887799120341,
            1.38653998627,
            1.4358492226796,
            1.42692706476903,
            1.36015764334241,
            1.36849628172236,
            1.35900307841177,
            1.37745408150082,
            1.37745408150082,
            1.35521095284251,
            1.35531040259148,
            1.35632843123308,
            1.37989464950184,
            1.39283623462094,
            1.41807139495834,
            1.39459641963935,
            1.37939195187997,
            1.35941809852708,
            1.35917121402077,
            1.42392837108866,
            1.39638961318515,
            1.39459641963935,
            1.41345822654196,
            1.41750734534379,
            1.41750734534379,
            1.35531040259148,
            1.35688865505981,
            1.35632843123308,
            1.35521095284251,
            1.35887799120341,
            1.35900307841177,
            1.35639824853602,
            1.35736420475575,
            1.35941809852708,
            1.38879912168555,
            1.42866319767121,
            1.43708981866519,
            1.41345822654196,
            1.38029080909587,
            1.360285340555,
            1.35639824853602,
            1.35941809852708,
            1.42392837108866,
            1.39638961318515,
            1.39459641963935,
            1.35688865505981,
            1.39638961318515,
            1.43456191549725,
            1.41345822654196,
            1.41104826332535,
            1.44076527720917,
            1.43911656257616,
            1.35900307841177,
            1.35639824853602,
            1.35917121402077,
            1.35632843123308,
            1.41844703579357,
            1.35521095284251,
            1.35736420475575,
            1.42866319767121,
            1.41104826332535,
            1.42866319767121,
            1.38653998627,
            1.39638961318515,
            1.360285340555,
            1.35521095284251,
            1.38887143127704,
            1.35917121402077,
            1.39283623462094,
            1.38718841691871,
            1.39638961318515,
            1.43769199919618,
            1.39459641963935,
            1.39638961318515,
            1.39402092122499,
            1.360285340555,
            1.43281890606271,
            1.42866319767121,
            1.39638961318515,
            1.38718841691871,
            1.42866319767121
           ],
           "legendgroup": "",
           "lon": [
            103.835186431485,
            103.847659418224,
            103.830253676903,
            103.830995368522,
            103.963631516169,
            103.965393923725,
            103.963299396559,
            103.844362842957,
            103.830995368522,
            103.965525604183,
            103.964194147192,
            103.966578200418,
            103.847659418224,
            103.966422045067,
            103.964194147192,
            103.852035348555,
            103.881215058062,
            103.963299396559,
            103.957380821299,
            103.82405303932,
            103.84790678249,
            103.858740468004,
            103.970019150268,
            103.96852443877,
            103.869207772374,
            103.824971641966,
            103.82405303932,
            103.965165224191,
            103.970019150268,
            103.96686932054,
            103.95662588933,
            103.95662588933,
            103.966422045067,
            103.965525604183,
            103.966578200418,
            103.96274397719,
            103.87967806826,
            103.84790678249,
            103.881117176349,
            103.96368774531,
            103.965393923725,
            103.963631516169,
            103.849332055297,
            103.875132778517,
            103.881117176349,
            103.835186431485,
            103.847659418224,
            103.847659418224,
            103.965525604183,
            103.964194147192,
            103.966578200418,
            103.966422045067,
            103.96852443877,
            103.96686932054,
            103.96773406082,
            103.963972049935,
            103.965393923725,
            103.852035348555,
            103.835828704052,
            103.824846106256,
            103.835186431485,
            103.964674596342,
            103.966516198261,
            103.96773406082,
            103.965393923725,
            103.849332055297,
            103.875132778517,
            103.881117176349,
            103.964194147192,
            103.875132778517,
            103.844362842957,
            103.835186431485,
            103.832513245026,
            103.830495461097,
            103.830253676903,
            103.96686932054,
            103.96773406082,
            103.963631516169,
            103.966578200418,
            103.841112412447,
            103.966422045067,
            103.963972049935,
            103.835828704052,
            103.832513245026,
            103.835828704052,
            103.869207772374,
            103.875132778517,
            103.966516198261,
            103.966422045067,
            103.872017156345,
            103.963631516169,
            103.87967806826,
            103.869337214926,
            103.875132778517,
            103.830277614211,
            103.881117176349,
            103.875132778517,
            103.881215058062,
            103.966516198261,
            103.841477613841,
            103.835828704052,
            103.875132778517,
            103.869337214926,
            103.835828704052
           ],
           "marker": {
            "color": [
             0.05357142857142857,
             0.1111111111111111,
             0.4444444444444444,
             0.3333333333333333,
             0.17647058823529413,
             0.16049382716049382,
             0.20430107526881722,
             0.32727272727272727,
             0.1875,
             0.3469387755102041,
             0.4111111111111111,
             0.7142857142857143,
             0.47674418604651164,
             0.6309523809523809,
             0.5333333333333333,
             0.25,
             0.7948717948717948,
             0.5,
             0.06666666666666667,
             0.28,
             -0.17647058823529413,
             0.034482758620689655,
             0.37254901960784315,
             0.391304347826087,
             0.45161290322580644,
             0.3445378151260504,
             0.14925373134328357,
             0.19008264462809918,
             0.10738255033557047,
             0,
             0.23529411764705882,
             0.3235294117647059,
             0.390625,
             0.3287671232876712,
             0.2972972972972973,
             0,
             0.3333333333333333,
             0.35135135135135137,
             0.12195121951219512,
             0.23076923076923078,
             0.3469387755102041,
             0.2692307692307692,
             0.1724137931034483,
             0.16666666666666666,
             0.6666666666666666,
             0.3333333333333333,
             0.36363636363636365,
             0.5909090909090909,
             0.5416666666666666,
             0.7254901960784313,
             0.32,
             0.5,
             0.35,
             0.14814814814814814,
             0.5421686746987951,
             0.2,
             0,
             0.2871287128712871,
             0.057692307692307696,
             0.6,
             0.34513274336283184,
             0.10714285714285714,
             0.19148936170212766,
             0.0931174089068826,
             0.7307692307692307,
             0.20689655172413793,
             0.3783783783783784,
             0.2682926829268293,
             0.25,
             0.25,
             0.44,
             0.3157894736842105,
             0.24210526315789474,
             0.2631578947368421,
             0.2,
             0.2631578947368421,
             0.3673469387755102,
             0.48717948717948717,
             0.6,
             0.21666666666666667,
             0.10526315789473684,
             0,
             0.30851063829787234,
             0.07142857142857142,
             0.16037735849056603,
             0.35135135135135137,
             0.35555555555555557,
             0.09302325581395349,
             0.20408163265306123,
             1.25,
             0.35294117647058826,
             0.23620309050772628,
             0.6521739130434783,
             0.7307692307692307,
             0.26666666666666666,
             0.6,
             0.4,
             0.7948717948717948,
             0.2777777777777778,
             -0.10204081632653061,
             0.25,
             0.34615384615384615,
             0.45652173913043476,
             0.14285714285714285
            ],
            "coloraxis": "coloraxis"
           },
           "mode": "markers",
           "name": "",
           "showlegend": false,
           "subplot": "mapbox",
           "type": "scattermapbox"
          }
         ],
         "name": "2022-09-01"
        },
        {
         "data": [
          {
           "customdata": [
            [
             "THE GREENWICH"
            ],
            [
             "RIVERBANK @ FERNVALE"
            ],
            [
             "SELETAR PARK RESIDENCE"
            ],
            [
             "THE MILTONIA RESIDENCES"
            ],
            [
             "SYMPHONY SUITES"
            ],
            [
             "WATERCREST"
            ],
            [
             "THE MILTONIA RESIDENCES"
            ],
            [
             "BALLOTA PARK CONDOMINIUM"
            ],
            [
             "EDELWEISS PARK CONDOMINIUM"
            ],
            [
             "THE TOPIARY"
            ],
            [
             "THE CANOPY"
            ],
            [
             "SKIES MILTONIA"
            ],
            [
             "FERRARIA PARK CONDOMINIUM"
            ],
            [
             "THE GREENWICH"
            ],
            [
             "PARC OLYMPIA"
            ],
            [
             "HIGH PARK RESIDENCES"
            ],
            [
             "THE GREENWICH"
            ],
            [
             "HIGH PARK RESIDENCES"
            ],
            [
             "NINE RESIDENCES"
            ],
            [
             "EIGHT COURTYARDS"
            ],
            [
             "ORCHID PARK CONDOMINIUM"
            ],
            [
             "THE ESTUARY"
            ],
            [
             "SKIES MILTONIA"
            ],
            [
             "H2O RESIDENCES"
            ],
            [
             "YISHUN EMERALD"
            ],
            [
             "CANBERRA RESIDENCES"
            ],
            [
             "ORCHID PARK CONDOMINIUM"
            ],
            [
             "EIGHT COURTYARDS"
            ],
            [
             "THE GALE"
            ],
            [
             "ESTELLA GARDENS"
            ],
            [
             "EDELWEISS PARK CONDOMINIUM"
            ],
            [
             "CARISSA PARK CONDOMINIUM"
            ],
            [
             "ESTELLA GARDENS"
            ],
            [
             "EIGHT COURTYARDS"
            ],
            [
             "ESTELLA GARDENS"
            ],
            [
             "CARISSA PARK CONDOMINIUM"
            ],
            [
             "SKIES MILTONIA"
            ],
            [
             "SELETAR PARK RESIDENCE"
            ],
            [
             "H2O RESIDENCES"
            ],
            [
             "RIVERTREES RESIDENCES"
            ],
            [
             "SERENITY PARK"
            ],
            [
             "ORCHID PARK CONDOMINIUM"
            ],
            [
             "SKIES MILTONIA"
            ],
            [
             "YISHUN EMERALD"
            ],
            [
             "EIGHT COURTYARDS"
            ],
            [
             "BLUWATERS"
            ],
            [
             "THE GALE"
            ],
            [
             "HEDGES PARK CONDOMINIUM"
            ],
            [
             "PALM ISLES"
            ],
            [
             "PARC OLYMPIA"
            ],
            [
             "EDELWEISS PARK CONDOMINIUM"
            ],
            [
             "PALM ISLES"
            ],
            [
             "THE INFLORA"
            ],
            [
             "AZALEA PARK CONDOMINIUM"
            ],
            [
             "NORTH PARK RESIDENCES"
            ],
            [
             "EIGHT COURTYARDS"
            ],
            [
             "VICTORY 8"
            ],
            [
             "THE ESTUARY"
            ],
            [
             "HIGH PARK RESIDENCES"
            ],
            [
             "THE WISTERIA"
            ],
            [
             "PALM ISLES"
            ],
            [
             "THE INFLORA"
            ],
            [
             "PARC OLYMPIA"
            ],
            [
             "HEDGES PARK CONDOMINIUM"
            ],
            [
             "LOYANG VALLEY"
            ],
            [
             "MIMOSA PARK"
            ],
            [
             "LOYANG VALLEY"
            ],
            [
             "GRANDE VISTA"
            ],
            [
             "PALM ISLES"
            ],
            [
             "SELETARIS"
            ],
            [
             "BALLOTA PARK CONDOMINIUM"
            ],
            [
             "LOYANG VALLEY"
            ],
            [
             "CARISSA PARK CONDOMINIUM"
            ],
            [
             "PARC OLYMPIA"
            ],
            [
             "PARC OLYMPIA"
            ],
            [
             "NINE RESIDENCES"
            ],
            [
             "THE MILTONIA RESIDENCES"
            ],
            [
             "BLUWATERS"
            ],
            [
             "H2O RESIDENCES"
            ],
            [
             "RIVERBANK @ FERNVALE"
            ],
            [
             "HIGH PARK RESIDENCES"
            ],
            [
             "SELETAR SPRINGS CONDOMINIUM"
            ],
            [
             "ORCHID PARK CONDOMINIUM"
            ],
            [
             "THE NAUTICAL"
            ],
            [
             "RIVERTREES RESIDENCES"
            ],
            [
             "AVILA GARDENS"
            ],
            [
             "RIVERTREES RESIDENCES"
            ],
            [
             "DAHLIA PARK CONDOMINIUM"
            ],
            [
             "PARC LIFE"
            ],
            [
             "SYMPHONY SUITES"
            ],
            [
             "NORTH PARK RESIDENCES"
            ],
            [
             "THE INFLORA"
            ],
            [
             "EDELWEISS PARK CONDOMINIUM"
            ],
            [
             "PARC OLYMPIA"
            ],
            [
             "ESTELLA GARDENS"
            ],
            [
             "NORTH PARK RESIDENCES"
            ],
            [
             "HIGH PARK RESIDENCES"
            ],
            [
             "ESTELLA GARDENS"
            ],
            [
             "H2O RESIDENCES"
            ],
            [
             "SELETAR SPRINGS CONDOMINIUM"
            ],
            [
             "EIGHT COURTYARDS"
            ],
            [
             "SELETARIS"
            ],
            [
             "BALLOTA PARK CONDOMINIUM"
            ],
            [
             "RIVERBANK @ FERNVALE"
            ],
            [
             "AVILA GARDENS"
            ],
            [
             "CARISSA PARK CONDOMINIUM"
            ],
            [
             "LILYDALE"
            ],
            [
             "AZALEA PARK CONDOMINIUM"
            ],
            [
             "RIVERTREES RESIDENCES"
            ],
            [
             "HIGH PARK RESIDENCES"
            ],
            [
             "SELETAR PARK RESIDENCE"
            ],
            [
             "HIGH PARK RESIDENCES"
            ],
            [
             "LILYDALE"
            ]
           ],
           "hovertemplate": "leaseDateStr=2022-10-01<br>lat=%{lat}<br>lng=%{lon}<br>project=%{customdata[0]}<br>price_change=%{marker.color}<extra></extra>",
           "lat": [
            1.38718841691871,
            1.39459641963935,
            1.38653998627,
            1.41750734534379,
            1.43456191549725,
            1.37776271751871,
            1.41750734534379,
            1.35887799120341,
            1.35639824853602,
            1.38887143127704,
            1.4238543175594,
            1.41807139495834,
            1.35736420475575,
            1.38718841691871,
            1.35531040259148,
            1.39638961318515,
            1.38718841691871,
            1.39638961318515,
            1.43281890606271,
            1.43795645154437,
            1.41345822654196,
            1.41104826332535,
            1.41807139495834,
            1.39283623462094,
            1.43911656257616,
            1.44447954944853,
            1.41345822654196,
            1.43795645154437,
            1.35900307841177,
            1.360285340555,
            1.35639824853602,
            1.35917121402077,
            1.360285340555,
            1.43795645154437,
            1.360285340555,
            1.35917121402077,
            1.41807139495834,
            1.38653998627,
            1.39283623462094,
            1.39402092122499,
            1.38822776284514,
            1.41345822654196,
            1.41807139495834,
            1.43911656257616,
            1.43795645154437,
            1.37976059991781,
            1.35900307841177,
            1.35521095284251,
            1.35688865505981,
            1.35531040259148,
            1.35639824853602,
            1.35688865505981,
            1.35632843123308,
            1.36073621566409,
            1.42866319767121,
            1.43795645154437,
            1.44184070674357,
            1.41104826332535,
            1.39638961318515,
            1.41844703579357,
            1.35688865505981,
            1.35632843123308,
            1.35531040259148,
            1.35521095284251,
            1.36849628172236,
            1.3831061797156,
            1.36849628172236,
            1.38879912168555,
            1.35688865505981,
            1.4358492226796,
            1.35887799120341,
            1.36849628172236,
            1.35917121402077,
            1.35531040259148,
            1.35531040259148,
            1.43281890606271,
            1.41750734534379,
            1.37976059991781,
            1.39283623462094,
            1.39459641963935,
            1.39638961318515,
            1.38820037710408,
            1.41345822654196,
            1.44363473207597,
            1.39402092122499,
            1.36015764334241,
            1.39402092122499,
            1.35941809852708,
            1.44369946991503,
            1.43456191549725,
            1.42866319767121,
            1.35632843123308,
            1.35639824853602,
            1.35531040259148,
            1.360285340555,
            1.42866319767121,
            1.39638961318515,
            1.360285340555,
            1.39283623462094,
            1.38820037710408,
            1.43795645154437,
            1.4358492226796,
            1.35887799120341,
            1.39459641963935,
            1.36015764334241,
            1.35917121402077,
            1.42392837108866,
            1.36073621566409,
            1.39402092122499,
            1.39638961318515,
            1.38653998627,
            1.39638961318515,
            1.42392837108866
           ],
           "legendgroup": "",
           "lon": [
            103.869337214926,
            103.881117176349,
            103.869207772374,
            103.847659418224,
            103.844362842957,
            103.957380821299,
            103.847659418224,
            103.96852443877,
            103.96773406082,
            103.872017156345,
            103.848078487443,
            103.84790678249,
            103.963972049935,
            103.869337214926,
            103.965525604183,
            103.875132778517,
            103.869337214926,
            103.875132778517,
            103.841477613841,
            103.830995368522,
            103.835186431485,
            103.832513245026,
            103.84790678249,
            103.87967806826,
            103.830253676903,
            103.825437324844,
            103.835186431485,
            103.830995368522,
            103.96686932054,
            103.966516198261,
            103.96773406082,
            103.963631516169,
            103.966516198261,
            103.830995368522,
            103.966516198261,
            103.963631516169,
            103.84790678249,
            103.869207772374,
            103.87967806826,
            103.881215058062,
            103.858740468004,
            103.835186431485,
            103.84790678249,
            103.830253676903,
            103.830995368522,
            103.963077852592,
            103.96686932054,
            103.966422045067,
            103.964194147192,
            103.965525604183,
            103.96773406082,
            103.964194147192,
            103.966578200418,
            103.963299396559,
            103.835828704052,
            103.830995368522,
            103.823693218432,
            103.832513245026,
            103.875132778517,
            103.841112412447,
            103.964194147192,
            103.966578200418,
            103.965525604183,
            103.966422045067,
            103.970019150268,
            103.864075310229,
            103.970019150268,
            103.852035348555,
            103.964194147192,
            103.824971641966,
            103.96852443877,
            103.970019150268,
            103.963631516169,
            103.965525604183,
            103.965525604183,
            103.841477613841,
            103.847659418224,
            103.963077852592,
            103.87967806826,
            103.881117176349,
            103.875132778517,
            103.878493859317,
            103.835186431485,
            103.825253279684,
            103.881215058062,
            103.965165224191,
            103.881215058062,
            103.965393923725,
            103.818597271496,
            103.844362842957,
            103.835828704052,
            103.966578200418,
            103.96773406082,
            103.965525604183,
            103.966516198261,
            103.835828704052,
            103.875132778517,
            103.966516198261,
            103.87967806826,
            103.878493859317,
            103.830995368522,
            103.824971641966,
            103.96852443877,
            103.881117176349,
            103.965165224191,
            103.963631516169,
            103.849332055297,
            103.963299396559,
            103.881215058062,
            103.875132778517,
            103.869207772374,
            103.875132778517,
            103.849332055297
           ],
           "marker": {
            "color": [
             0.14285714285714285,
             0.09375,
             0.3617021276595745,
             0.13725490196078433,
             0.5254237288135594,
             0.07142857142857142,
             0.18627450980392157,
             0.15,
             0.16,
             0.15,
             0.1724137931034483,
             0.25,
             0.037037037037037035,
             0.43478260869565216,
             -0.09090909090909091,
             0.48148148148148145,
             0.21739130434782608,
             0.3333333333333333,
             0.6666666666666666,
             0.1111111111111111,
             0.8974358974358975,
             0.20754716981132076,
             0.4230769230769231,
             0.16279069767441862,
             -0.08256880733944955,
             0.18518518518518517,
             0.358974358974359,
             0.4375,
             0.13636363636363635,
             0.3125,
             0.19791666666666666,
             0.29213483146067415,
             0.24324324324324326,
             0.041666666666666664,
             0.17169896349707076,
             0.2,
             0.5714285714285714,
             0.28205128205128205,
             0.09701492537313433,
             0.5909090909090909,
             0.04,
             0.5573770491803278,
             0.8260869565217391,
             0.3103448275862069,
             0.1111111111111111,
             0.12903225806451613,
             0.2962962962962963,
             0.2,
             0.5238095238095238,
             0.13636363636363635,
             0.42857142857142855,
             0.5238095238095238,
             0.7111111111111111,
             0.8947368421052632,
             0.1111111111111111,
             0.4,
             0,
             0.16666666666666666,
             0.24440019910403185,
             0.2,
             0.2236842105263158,
             0.35294117647058826,
             0.5428571428571428,
             0.47368421052631576,
             0.15,
             0.5217391304347826,
             0.2222222222222222,
             0.13864701942397856,
             0.5714285714285714,
             0.09090909090909091,
             0.2708333333333333,
             0.23076923076923078,
             0.40540540540540543,
             0.29411764705882354,
             0.3108108108108108,
             0.175,
             0.15555555555555556,
             0.3191489361702128,
             0.21621621621621623,
             0.3333333333333333,
             0.2878787878787879,
             0.2,
             -0.11428571428571428,
             0.125,
             0.525,
             0.125,
             0.7272727272727273,
             0.37142857142857144,
             0.125,
             0.6190476190476191,
             0.32142857142857145,
             0.37254901960784315,
             0.2222222222222222,
             0.4,
             0.175,
             0.35714285714285715,
             0.5208333333333334,
             0.21739130434782608,
             0.75,
             0.2777777777777778,
             0.3125,
             0.14754098360655737,
             0.2872340425531915,
             0.47619047619047616,
             0.64,
             0.4423076923076923,
             0.7021276595744681,
             0.3103448275862069,
             0.09523809523809523,
             0.4090909090909091,
             0.46153846153846156,
             0.375,
             0.23404255319148937
            ],
            "coloraxis": "coloraxis"
           },
           "mode": "markers",
           "name": "",
           "showlegend": false,
           "subplot": "mapbox",
           "type": "scattermapbox"
          }
         ],
         "name": "2022-10-01"
        },
        {
         "data": [
          {
           "customdata": [
            [
             "FERRARIA PARK CONDOMINIUM"
            ],
            [
             "CARISSA PARK CONDOMINIUM"
            ],
            [
             "HEDGES PARK CONDOMINIUM"
            ],
            [
             "PARC OLYMPIA"
            ],
            [
             "THE INFLORA"
            ],
            [
             "PALM ISLES"
            ],
            [
             "SKIES MILTONIA"
            ],
            [
             "SKIES MILTONIA"
            ],
            [
             "RIVERTREES RESIDENCES"
            ],
            [
             "NORTH PARK RESIDENCES"
            ],
            [
             "THE WISTERIA"
            ],
            [
             "THE ESTUARY"
            ],
            [
             "PARC OLYMPIA"
            ],
            [
             "EDELWEISS PARK CONDOMINIUM"
            ],
            [
             "THE MILTONIA RESIDENCES"
            ],
            [
             "HIGH PARK RESIDENCES"
            ],
            [
             "RIVERTREES RESIDENCES"
            ],
            [
             "SELETAR PARK RESIDENCE"
            ],
            [
             "SELETAR PARK RESIDENCE"
            ],
            [
             "ESTELLA GARDENS"
            ],
            [
             "BALLOTA PARK CONDOMINIUM"
            ],
            [
             "BLUWATERS 2"
            ],
            [
             "THE ESTUARY"
            ],
            [
             "BALLOTA PARK CONDOMINIUM"
            ],
            [
             "CASA PASIR RIS"
            ],
            [
             "EDELWEISS PARK CONDOMINIUM"
            ],
            [
             "AVILA GARDENS"
            ],
            [
             "DAHLIA PARK CONDOMINIUM"
            ],
            [
             "CARISSA PARK CONDOMINIUM"
            ],
            [
             "FERRARIA PARK CONDOMINIUM"
            ],
            [
             "LILYDALE"
            ],
            [
             "ORCHID PARK CONDOMINIUM"
            ],
            [
             "FERRARIA PARK CONDOMINIUM"
            ],
            [
             "HEDGES PARK CONDOMINIUM"
            ],
            [
             "BALLOTA PARK CONDOMINIUM"
            ],
            [
             "PALM ISLES"
            ],
            [
             "CANBERRA RESIDENCES"
            ],
            [
             "THE MILTONIA RESIDENCES"
            ],
            [
             "SYMPHONY SUITES"
            ],
            [
             "RIVERBANK @ FERNVALE"
            ],
            [
             "H2O RESIDENCES"
            ],
            [
             "HIGH PARK RESIDENCES"
            ],
            [
             "BALLOTA PARK CONDOMINIUM"
            ],
            [
             "NORTH PARK RESIDENCES"
            ],
            [
             "ORCHID PARK CONDOMINIUM"
            ],
            [
             "CARISSA PARK CONDOMINIUM"
            ],
            [
             "EIGHT COURTYARDS"
            ],
            [
             "NORTH PARK RESIDENCES"
            ],
            [
             "ORCHID PARK CONDOMINIUM"
            ],
            [
             "CANBERRA RESIDENCES"
            ],
            [
             "THE ESTUARY"
            ],
            [
             "NINE RESIDENCES"
            ],
            [
             "SELETAR PARK RESIDENCE"
            ],
            [
             "THE GREENWICH"
            ],
            [
             "HIGH PARK RESIDENCES"
            ],
            [
             "BALLOTA PARK CONDOMINIUM"
            ],
            [
             "AZALEA PARK CONDOMINIUM"
            ],
            [
             "SELETARIS"
            ],
            [
             "AZALEA PARK CONDOMINIUM"
            ],
            [
             "HIGH PARK RESIDENCES"
            ],
            [
             "SERENITY PARK"
            ],
            [
             "THE ESTUARY"
            ],
            [
             "SELETARIS"
            ],
            [
             "THE MILTONIA RESIDENCES"
            ],
            [
             "THE INFLORA"
            ],
            [
             "AZALEA PARK CONDOMINIUM"
            ],
            [
             "AVILA GARDENS"
            ],
            [
             "BLUWATERS"
            ],
            [
             "SELETAR PARK RESIDENCE"
            ],
            [
             "AZALEA PARK CONDOMINIUM"
            ],
            [
             "HIGH PARK RESIDENCES"
            ],
            [
             "SKIES MILTONIA"
            ],
            [
             "THE ESTUARY"
            ],
            [
             "THE NAUTICAL"
            ],
            [
             "THE MILTONIA RESIDENCES"
            ],
            [
             "EIGHT COURTYARDS"
            ],
            [
             "SYMPHONY SUITES"
            ],
            [
             "THE INFLORA"
            ],
            [
             "PALM ISLES"
            ],
            [
             "PARC OLYMPIA"
            ],
            [
             "PALM ISLES"
            ],
            [
             "ESTELLA GARDENS"
            ],
            [
             "THE INFLORA"
            ],
            [
             "ORCHID PARK CONDOMINIUM"
            ],
            [
             "NORTH PARK RESIDENCES"
            ],
            [
             "NINE RESIDENCES"
            ],
            [
             "NORTH PARK RESIDENCES"
            ],
            [
             "RIVERTREES RESIDENCES"
            ],
            [
             "H2O RESIDENCES"
            ],
            [
             "HEDGES PARK CONDOMINIUM"
            ],
            [
             "SKYPARK RESIDENCES"
            ],
            [
             "THE TOPIARY"
            ],
            [
             "DAHLIA PARK CONDOMINIUM"
            ],
            [
             "DAHLIA PARK CONDOMINIUM"
            ],
            [
             "ESTELLA GARDENS"
            ],
            [
             "EIGHT COURTYARDS"
            ],
            [
             "CANBERRA RESIDENCES"
            ],
            [
             "SYMPHONY SUITES"
            ],
            [
             "SERENITY PARK"
            ],
            [
             "THE NAUTICAL"
            ]
           ],
           "hovertemplate": "leaseDateStr=2022-11-01<br>lat=%{lat}<br>lng=%{lon}<br>project=%{customdata[0]}<br>price_change=%{marker.color}<extra></extra>",
           "lat": [
            1.35736420475575,
            1.35917121402077,
            1.35521095284251,
            1.35531040259148,
            1.35632843123308,
            1.35688865505981,
            1.41807139495834,
            1.41807139495834,
            1.39402092122499,
            1.42866319767121,
            1.41844703579357,
            1.41104826332535,
            1.35531040259148,
            1.35639824853602,
            1.41750734534379,
            1.39638961318515,
            1.39402092122499,
            1.38653998627,
            1.38653998627,
            1.360285340555,
            1.35887799120341,
            1.38005079580315,
            1.41104826332535,
            1.35887799120341,
            1.37939195187997,
            1.35639824853602,
            1.36015764334241,
            1.35941809852708,
            1.35917121402077,
            1.35736420475575,
            1.42392837108866,
            1.41345822654196,
            1.35736420475575,
            1.35521095284251,
            1.35887799120341,
            1.35688865505981,
            1.44447954944853,
            1.41750734534379,
            1.43456191549725,
            1.39459641963935,
            1.39283623462094,
            1.39638961318515,
            1.35887799120341,
            1.42866319767121,
            1.41345822654196,
            1.35917121402077,
            1.43795645154437,
            1.42866319767121,
            1.41345822654196,
            1.44447954944853,
            1.41104826332535,
            1.43281890606271,
            1.38653998627,
            1.38718841691871,
            1.39638961318515,
            1.35887799120341,
            1.36073621566409,
            1.4358492226796,
            1.36073621566409,
            1.39638961318515,
            1.38822776284514,
            1.41104826332535,
            1.4358492226796,
            1.41750734534379,
            1.35632843123308,
            1.36073621566409,
            1.36015764334241,
            1.37976059991781,
            1.38653998627,
            1.36073621566409,
            1.39638961318515,
            1.41807139495834,
            1.41104826332535,
            1.44363473207597,
            1.41750734534379,
            1.43795645154437,
            1.43456191549725,
            1.35632843123308,
            1.35688865505981,
            1.35531040259148,
            1.35688865505981,
            1.360285340555,
            1.35632843123308,
            1.41345822654196,
            1.42866319767121,
            1.43281890606271,
            1.42866319767121,
            1.39402092122499,
            1.39283623462094,
            1.35521095284251,
            1.44405152662976,
            1.38887143127704,
            1.35941809852708,
            1.35941809852708,
            1.360285340555,
            1.43795645154437,
            1.44447954944853,
            1.43456191549725,
            1.38822776284514,
            1.44363473207597
           ],
           "legendgroup": "",
           "lon": [
            103.963972049935,
            103.963631516169,
            103.966422045067,
            103.965525604183,
            103.966578200418,
            103.964194147192,
            103.84790678249,
            103.84790678249,
            103.881215058062,
            103.835828704052,
            103.841112412447,
            103.832513245026,
            103.965525604183,
            103.96773406082,
            103.847659418224,
            103.875132778517,
            103.881215058062,
            103.869207772374,
            103.869207772374,
            103.966516198261,
            103.96852443877,
            103.96390014473,
            103.832513245026,
            103.96852443877,
            103.96368774531,
            103.96773406082,
            103.965165224191,
            103.965393923725,
            103.963631516169,
            103.963972049935,
            103.849332055297,
            103.835186431485,
            103.963972049935,
            103.966422045067,
            103.96852443877,
            103.964194147192,
            103.825437324844,
            103.847659418224,
            103.844362842957,
            103.881117176349,
            103.87967806826,
            103.875132778517,
            103.96852443877,
            103.835828704052,
            103.835186431485,
            103.963631516169,
            103.830995368522,
            103.835828704052,
            103.835186431485,
            103.825437324844,
            103.832513245026,
            103.841477613841,
            103.869207772374,
            103.869337214926,
            103.875132778517,
            103.96852443877,
            103.963299396559,
            103.824971641966,
            103.963299396559,
            103.875132778517,
            103.858740468004,
            103.832513245026,
            103.824971641966,
            103.847659418224,
            103.966578200418,
            103.963299396559,
            103.965165224191,
            103.963077852592,
            103.869207772374,
            103.963299396559,
            103.875132778517,
            103.84790678249,
            103.832513245026,
            103.825253279684,
            103.847659418224,
            103.830995368522,
            103.844362842957,
            103.966578200418,
            103.964194147192,
            103.965525604183,
            103.964194147192,
            103.966516198261,
            103.966578200418,
            103.835186431485,
            103.835828704052,
            103.841477613841,
            103.835828704052,
            103.881215058062,
            103.87967806826,
            103.966422045067,
            103.819525889968,
            103.872017156345,
            103.965393923725,
            103.965393923725,
            103.966516198261,
            103.830995368522,
            103.825437324844,
            103.844362842957,
            103.858740468004,
            103.825253279684
           ],
           "marker": {
            "color": [
             0.38461538461538464,
             0.31868131868131866,
             0.6756756756756757,
             0.5833333333333334,
             0.4722222222222222,
             0.4166666666666667,
             0.024390243902439025,
             0.21951219512195122,
             0.5466666666666666,
             0.2916666666666667,
             0.2,
             0.35526315789473684,
             0.47368421052631576,
             0.16666666666666666,
             0.3611111111111111,
             0.17073170731707318,
             0.39283683911313244,
             0.4195121951219512,
             0.3684210526315789,
             -0.18181818181818182,
             0.5217391304347826,
             0.32142857142857145,
             0.47540983606557374,
             0.3404255319148936,
             0.40625,
             0.038461538461538464,
             0.41,
             0.42857142857142855,
             0.9,
             0.6923076923076923,
             0.12903225806451613,
             0.7307692307692307,
             0.12,
             0.1206896551724138,
             0.7093023255813954,
             0.36,
             0.6170212765957447,
             0.04,
             0.5573770491803278,
             0.22772277227722773,
             0.21428571428571427,
             0.684981684981685,
             0.3023255813953488,
             0.3157894736842105,
             0.15384615384615385,
             0.5517241379310345,
             0.25,
             0.23076923076923078,
             0.38461538461538464,
             0.3469387755102041,
             0.32075471698113206,
             0.07352941176470588,
             0.5909090909090909,
             0.08888888888888889,
             0.5272727272727272,
             0.2777777777777778,
             0.30303030303030304,
             0.109375,
             0.09859154929577464,
             0.14893617021276595,
             0.08333333333333333,
             0.42857142857142855,
             0.1896551724137931,
             0.32,
             0.22033898305084745,
             0.7727272727272727,
             0.3877551020408163,
             0.3333333333333333,
             -0.05263157894736842,
             0.09787234042553192,
             0.31958762886597936,
             0.14285714285714285,
             0.504950495049505,
             0.125,
             0.25925925925925924,
             0.2608695652173913,
             0.2857142857142857,
             0.21428571428571427,
             0.23711340206185566,
             0.2708333333333333,
             0.23711340206185566,
             0.2777777777777778,
             0.5897435897435898,
             0.25,
             -0.01818181818181818,
             0.6,
             0.36363636363636365,
             0.4,
             0.6551724137931034,
             0.5,
             0.5,
             0.15151515151515152,
             0.22727272727272727,
             0.36363636363636365,
             0.5384615384615384,
             0.015625,
             0,
             0.1875,
             0.9444444444444444,
             0.4393939393939394
            ],
            "coloraxis": "coloraxis"
           },
           "mode": "markers",
           "name": "",
           "showlegend": false,
           "subplot": "mapbox",
           "type": "scattermapbox"
          }
         ],
         "name": "2022-11-01"
        },
        {
         "data": [
          {
           "customdata": [
            [
             "1 CANBERRA"
            ],
            [
             "EIGHT COURTYARDS"
            ],
            [
             "GRANDE VISTA"
            ],
            [
             "OCEAN FRONT SUITES"
            ],
            [
             "OCEAN FRONT SUITES"
            ],
            [
             "SELETAR PARK RESIDENCE"
            ],
            [
             "HIGH PARK RESIDENCES"
            ],
            [
             "THE GREENWICH"
            ],
            [
             "AZALEA PARK CONDOMINIUM"
            ],
            [
             "H2O RESIDENCES"
            ],
            [
             "THE WISTERIA"
            ],
            [
             "NINE RESIDENCES"
            ],
            [
             "SKIES MILTONIA"
            ],
            [
             "EIGHT COURTYARDS"
            ],
            [
             "THE ESTUARY"
            ],
            [
             "CANBERRA RESIDENCES"
            ],
            [
             "THE GALE"
            ],
            [
             "ESTELLA GARDENS"
            ],
            [
             "LOYANG VALLEY"
            ],
            [
             "NIM GARDENS"
            ],
            [
             "AZALEA PARK CONDOMINIUM"
            ],
            [
             "CARISSA PARK CONDOMINIUM"
            ],
            [
             "THE TOPIARY"
            ],
            [
             "EDELWEISS PARK CONDOMINIUM"
            ],
            [
             "BALLOTA PARK CONDOMINIUM"
            ],
            [
             "SELETAR PARK RESIDENCE"
            ],
            [
             "DAHLIA PARK CONDOMINIUM"
            ],
            [
             "HIGH PARK RESIDENCES"
            ],
            [
             "H2O RESIDENCES"
            ],
            [
             "SERENITY PARK"
            ],
            [
             "LOYANG VALLEY"
            ],
            [
             "NINE RESIDENCES"
            ],
            [
             "SELETARIS"
            ],
            [
             "NORTHWOOD"
            ],
            [
             "ESTELLA GARDENS"
            ],
            [
             "EDELWEISS PARK CONDOMINIUM"
            ],
            [
             "THE INFLORA"
            ],
            [
             "THE MILTONIA RESIDENCES"
            ],
            [
             "PARC OLYMPIA"
            ],
            [
             "BLUWATERS"
            ],
            [
             "THE ESTUARY"
            ],
            [
             "AVILA GARDENS"
            ],
            [
             "YISHUN EMERALD"
            ],
            [
             "BALLOTA PARK CONDOMINIUM"
            ],
            [
             "DAHLIA PARK CONDOMINIUM"
            ],
            [
             "HEDGES PARK CONDOMINIUM"
            ],
            [
             "EDELWEISS PARK CONDOMINIUM"
            ],
            [
             "THE GALE"
            ],
            [
             "THE EDGEWATER"
            ],
            [
             "LOYANG VALLEY"
            ],
            [
             "HEDGES PARK CONDOMINIUM"
            ],
            [
             "THE INFLORA"
            ],
            [
             "THE GALE"
            ],
            [
             "JLB RESIDENCES"
            ],
            [
             "THE EDGEWATER"
            ],
            [
             "PARC OLYMPIA"
            ],
            [
             "EIGHT COURTYARDS"
            ],
            [
             "SKIES MILTONIA"
            ],
            [
             "SYMPHONY SUITES"
            ],
            [
             "ORCHID PARK CONDOMINIUM"
            ],
            [
             "SELETAR SPRINGS CONDOMINIUM"
            ],
            [
             "SELETAR PARK RESIDENCE"
            ],
            [
             "SUNRISE GARDENS"
            ],
            [
             "HIGH PARK RESIDENCES"
            ],
            [
             "PALM ISLES"
            ],
            [
             "AZALEA PARK CONDOMINIUM"
            ],
            [
             "THE NAUTICAL"
            ],
            [
             "SYMPHONY SUITES"
            ],
            [
             "PALM ISLES"
            ],
            [
             "HEDGES PARK CONDOMINIUM"
            ],
            [
             "SELETAR PARK RESIDENCE"
            ],
            [
             "ORCHID PARK CONDOMINIUM"
            ],
            [
             "THE NAUTICAL"
            ],
            [
             "ORCHID PARK CONDOMINIUM"
            ],
            [
             "BALLOTA PARK CONDOMINIUM"
            ],
            [
             "SANDY PALM"
            ],
            [
             "ESTELLA GARDENS"
            ],
            [
             "EDELWEISS PARK CONDOMINIUM"
            ],
            [
             "FERRARIA PARK CONDOMINIUM"
            ],
            [
             "DAHLIA PARK CONDOMINIUM"
            ],
            [
             "FERRARIA PARK CONDOMINIUM"
            ],
            [
             "THE TOPIARY"
            ],
            [
             "LILYDALE"
            ],
            [
             "PALM ISLES"
            ],
            [
             "SELETAR PARK RESIDENCE"
            ],
            [
             "RIVERTREES RESIDENCES"
            ],
            [
             "THE MILTONIA RESIDENCES"
            ],
            [
             "EIGHT COURTYARDS"
            ],
            [
             "CANBERRA RESIDENCES"
            ],
            [
             "CARISSA PARK CONDOMINIUM"
            ],
            [
             "FERRARIA PARK CONDOMINIUM"
            ],
            [
             "LOYANG VALLEY"
            ],
            [
             "AVILA GARDENS"
            ],
            [
             "NINE RESIDENCES"
            ],
            [
             "NORTH PARK RESIDENCES"
            ],
            [
             "SYMPHONY SUITES"
            ],
            [
             "CARISSA PARK CONDOMINIUM"
            ],
            [
             "RIVERBANK @ FERNVALE"
            ],
            [
             "HIGH PARK RESIDENCES"
            ],
            [
             "SKIES MILTONIA"
            ],
            [
             "THE INFLORA"
            ],
            [
             "SKIES MILTONIA"
            ],
            [
             "THE INFLORA"
            ],
            [
             "HEDGES PARK CONDOMINIUM"
            ],
            [
             "SKIES MILTONIA"
            ],
            [
             "NINE RESIDENCES"
            ],
            [
             "NORTH PARK RESIDENCES"
            ],
            [
             "RIVERBANK @ FERNVALE"
            ],
            [
             "HIGH PARK RESIDENCES"
            ],
            [
             "PALM ISLES"
            ],
            [
             "RIVERTREES RESIDENCES"
            ],
            [
             "ESTELLA GARDENS"
            ],
            [
             "LE LOYANG"
            ],
            [
             "YISHUN SAPPHIRE"
            ],
            [
             "ORCHID PARK CONDOMINIUM"
            ],
            [
             "THE GREENWICH"
            ],
            [
             "HIGH PARK RESIDENCES"
            ],
            [
             "RIVERTREES RESIDENCES"
            ],
            [
             "NORTH PARK RESIDENCES"
            ],
            [
             "THE ESTUARY"
            ],
            [
             "FERRARIA PARK CONDOMINIUM"
            ],
            [
             "NORTH PARK RESIDENCES"
            ],
            [
             "FERRARIA PARK CONDOMINIUM"
            ],
            [
             "CARISSA PARK CONDOMINIUM"
            ],
            [
             "PALM ISLES"
            ],
            [
             "THE ESTUARY"
            ],
            [
             "SELETARIS"
            ],
            [
             "YISHUN SAPPHIRE"
            ],
            [
             "EIGHT COURTYARDS"
            ],
            [
             "PARC OLYMPIA"
            ],
            [
             "H2O RESIDENCES"
            ],
            [
             "PALM ISLES"
            ],
            [
             "PARC OLYMPIA"
            ]
           ],
           "hovertemplate": "leaseDateStr=2022-12-01<br>lat=%{lat}<br>lng=%{lon}<br>project=%{customdata[0]}<br>price_change=%{marker.color}<extra></extra>",
           "lat": [
            1.43769199919618,
            1.43795645154437,
            1.38879912168555,
            1.37745408150082,
            1.37745408150082,
            1.38653998627,
            1.39638961318515,
            1.38718841691871,
            1.36073621566409,
            1.39283623462094,
            1.41844703579357,
            1.43281890606271,
            1.41807139495834,
            1.43795645154437,
            1.41104826332535,
            1.44447954944853,
            1.35900307841177,
            1.360285340555,
            1.36849628172236,
            1.38143238111123,
            1.36073621566409,
            1.35917121402077,
            1.38887143127704,
            1.35639824853602,
            1.35887799120341,
            1.38653998627,
            1.35941809852708,
            1.39638961318515,
            1.39283623462094,
            1.38822776284514,
            1.36849628172236,
            1.43281890606271,
            1.4358492226796,
            1.42692706476903,
            1.360285340555,
            1.35639824853602,
            1.35632843123308,
            1.41750734534379,
            1.35531040259148,
            1.37976059991781,
            1.41104826332535,
            1.36015764334241,
            1.43911656257616,
            1.35887799120341,
            1.35941809852708,
            1.35521095284251,
            1.35639824853602,
            1.35900307841177,
            1.38029080909587,
            1.36849628172236,
            1.35521095284251,
            1.35632843123308,
            1.35900307841177,
            1.37908988698315,
            1.38029080909587,
            1.35531040259148,
            1.43795645154437,
            1.41807139495834,
            1.43456191549725,
            1.41345822654196,
            1.38820037710408,
            1.38653998627,
            1.38969073093565,
            1.39638961318515,
            1.35688865505981,
            1.36073621566409,
            1.44363473207597,
            1.43456191549725,
            1.35688865505981,
            1.35521095284251,
            1.38653998627,
            1.41345822654196,
            1.44363473207597,
            1.41345822654196,
            1.35887799120341,
            1.37889853918179,
            1.360285340555,
            1.35639824853602,
            1.35736420475575,
            1.35941809852708,
            1.35736420475575,
            1.38887143127704,
            1.42392837108866,
            1.35688865505981,
            1.38653998627,
            1.39402092122499,
            1.41750734534379,
            1.43795645154437,
            1.44447954944853,
            1.35917121402077,
            1.35736420475575,
            1.36849628172236,
            1.36015764334241,
            1.43281890606271,
            1.42866319767121,
            1.43456191549725,
            1.35917121402077,
            1.39459641963935,
            1.39638961318515,
            1.41807139495834,
            1.35632843123308,
            1.41807139495834,
            1.35632843123308,
            1.35521095284251,
            1.41807139495834,
            1.43281890606271,
            1.42866319767121,
            1.39459641963935,
            1.39638961318515,
            1.35688865505981,
            1.39402092122499,
            1.360285340555,
            1.3783509761617,
            1.44076527720917,
            1.41345822654196,
            1.38718841691871,
            1.39638961318515,
            1.39402092122499,
            1.42866319767121,
            1.41104826332535,
            1.35736420475575,
            1.42866319767121,
            1.35736420475575,
            1.35917121402077,
            1.35688865505981,
            1.41104826332535,
            1.4358492226796,
            1.44076527720917,
            1.43795645154437,
            1.35531040259148,
            1.39283623462094,
            1.35688865505981,
            1.35531040259148
           ],
           "legendgroup": "",
           "lon": [
            103.830277614211,
            103.830995368522,
            103.852035348555,
            103.95662588933,
            103.95662588933,
            103.869207772374,
            103.875132778517,
            103.869337214926,
            103.963299396559,
            103.87967806826,
            103.841112412447,
            103.841477613841,
            103.84790678249,
            103.830995368522,
            103.832513245026,
            103.825437324844,
            103.96686932054,
            103.966516198261,
            103.970019150268,
            103.863043130131,
            103.963299396559,
            103.963631516169,
            103.872017156345,
            103.96773406082,
            103.96852443877,
            103.869207772374,
            103.965393923725,
            103.875132778517,
            103.87967806826,
            103.858740468004,
            103.970019150268,
            103.841477613841,
            103.824971641966,
            103.82405303932,
            103.966516198261,
            103.96773406082,
            103.966578200418,
            103.847659418224,
            103.965525604183,
            103.963077852592,
            103.832513245026,
            103.965165224191,
            103.830253676903,
            103.96852443877,
            103.965393923725,
            103.966422045067,
            103.96773406082,
            103.96686932054,
            103.964674596342,
            103.970019150268,
            103.966422045067,
            103.966578200418,
            103.96686932054,
            103.960558475679,
            103.964674596342,
            103.965525604183,
            103.830995368522,
            103.84790678249,
            103.844362842957,
            103.835186431485,
            103.878493859317,
            103.869207772374,
            103.857170017555,
            103.875132778517,
            103.964194147192,
            103.963299396559,
            103.825253279684,
            103.844362842957,
            103.964194147192,
            103.966422045067,
            103.869207772374,
            103.835186431485,
            103.825253279684,
            103.835186431485,
            103.96852443877,
            103.959628801553,
            103.966516198261,
            103.96773406082,
            103.963972049935,
            103.965393923725,
            103.963972049935,
            103.872017156345,
            103.849332055297,
            103.964194147192,
            103.869207772374,
            103.881215058062,
            103.847659418224,
            103.830995368522,
            103.825437324844,
            103.963631516169,
            103.963972049935,
            103.970019150268,
            103.965165224191,
            103.841477613841,
            103.835828704052,
            103.844362842957,
            103.963631516169,
            103.881117176349,
            103.875132778517,
            103.84790678249,
            103.966578200418,
            103.84790678249,
            103.966578200418,
            103.966422045067,
            103.84790678249,
            103.841477613841,
            103.835828704052,
            103.881117176349,
            103.875132778517,
            103.964194147192,
            103.881215058062,
            103.966516198261,
            103.956295113266,
            103.830495461097,
            103.835186431485,
            103.869337214926,
            103.875132778517,
            103.881215058062,
            103.835828704052,
            103.832513245026,
            103.963972049935,
            103.835828704052,
            103.963972049935,
            103.963631516169,
            103.964194147192,
            103.832513245026,
            103.824971641966,
            103.830495461097,
            103.830995368522,
            103.965525604183,
            103.87967806826,
            103.964194147192,
            103.965525604183
           ],
           "marker": {
            "color": [
             1.9411764705882353,
             0.7431192660550459,
             0.22857142857142856,
             -0.12222222222222222,
             0.2916666666666667,
             0.17857142857142858,
             0.375,
             0.5217391304347826,
             0.4563106796116505,
             0.2727272727272727,
             0.34,
             0.31328511610201754,
             0.6326530612244898,
             -0.06896551724137931,
             0.6521739130434783,
             0.625,
             0.36363636363636365,
             0.24497991967871485,
             0.5370370370370371,
             0.1320754716981132,
             0.19444444444444445,
             0.2,
             0.33881578947368424,
             0.8,
             0.3114754098360656,
             0,
             0.043478260869565216,
             0.28888888888888886,
             0.7014925373134329,
             0.14754098360655737,
             0.265625,
             0.375,
             0.42857142857142855,
             0.6538461538461539,
             0.75,
             0.45794392523364486,
             0.1388888888888889,
             0.2923076923076923,
             0.31666666666666665,
             0.2,
             0.30434782608695654,
             0.5555555555555556,
             0.44954128440366975,
             0.15,
             0.5555555555555556,
             0.5666666666666667,
             0.24,
             0.4318181818181818,
             0.3076923076923077,
             0.28,
             0.3333333333333333,
             0.4583333333333333,
             0.5,
             0.16,
             0.34615384615384615,
             0.1,
             0.19035714285714286,
             0.25,
             0.13333333333333333,
             0.10714285714285714,
             0.5348837209302325,
             0.8695652173913043,
             0.03508771929824561,
             0.3867924528301887,
             0.3448275862068966,
             0.16666666666666666,
             0.017857142857142856,
             0.41,
             0.5510204081632653,
             0.33695652173913043,
             0.22580645161290322,
             0.30275229357798167,
             0.4,
             0.5229357798165137,
             0.21739130434782608,
             0.30434782608695654,
             0.3333333333333333,
             0.4827586206896552,
             0.6981132075471698,
             0.3103448275862069,
             0.4716981132075472,
             2.2,
             -0.015625,
             0.4878048780487805,
             0.3469387755102041,
             0.2916666666666667,
             0.6086956521739131,
             0.28,
             0.41991739329967875,
             0.5517241379310345,
             0.4,
             0.4,
             0.34210526315789475,
             0.05454545454545454,
             0.06666666666666667,
             0.375,
             0.2857142857142857,
             0.6666666666666666,
             0.34146341463414637,
             0.3,
             0.28,
             0.275,
             0.4025974025974026,
             0.35802469135802467,
             0.5454545454545454,
             0.4138181818181818,
             0.3333333333333333,
             0.5714285714285714,
             0.5217391304347826,
             0.29069767441860467,
             0.6666666666666666,
             0.07692307692307693,
             0.11538461538461539,
             0.42857142857142855,
             0.4230769230769231,
             0.40476190476190477,
             0.3894736842105263,
             0.2727272727272727,
             -0.16304347826086957,
             0.24390243902439024,
             0.1,
             0.375,
             0.4430379746835443,
             0.2,
             0.3181818181818182,
             0.40594059405940597,
             0.75,
             0.07142857142857142,
             0.5412844036697247,
             0.6486486486486487,
             0.5909090909090909,
             0.4634146341463415,
             0.3488372093023256
            ],
            "coloraxis": "coloraxis"
           },
           "mode": "markers",
           "name": "",
           "showlegend": false,
           "subplot": "mapbox",
           "type": "scattermapbox"
          }
         ],
         "name": "2022-12-01"
        },
        {
         "data": [
          {
           "customdata": [
            [
             "SKIES MILTONIA"
            ],
            [
             "CASA PASIR RIS"
            ],
            [
             "THE NAUTICAL"
            ],
            [
             "ORCHID PARK CONDOMINIUM"
            ],
            [
             "HIGH PARK RESIDENCES"
            ],
            [
             "HIGH PARK RESIDENCES"
            ],
            [
             "THE WISTERIA"
            ],
            [
             "NORTH PARK RESIDENCES"
            ],
            [
             "NINE RESIDENCES"
            ],
            [
             "THE TOPIARY"
            ],
            [
             "EDELWEISS PARK CONDOMINIUM"
            ],
            [
             "CARISSA PARK CONDOMINIUM"
            ],
            [
             "FERRARIA PARK CONDOMINIUM"
            ],
            [
             "ESTELLA GARDENS"
            ],
            [
             "THE GALE"
            ],
            [
             "ORCHID PARK CONDOMINIUM"
            ],
            [
             "SYMPHONY SUITES"
            ],
            [
             "YISHUN EMERALD"
            ],
            [
             "EUPHONY GARDENS"
            ],
            [
             "THE ESTUARY"
            ],
            [
             "ORCHID PARK CONDOMINIUM"
            ],
            [
             "H2O RESIDENCES"
            ],
            [
             "HIGH PARK RESIDENCES"
            ],
            [
             "RIVERBANK @ FERNVALE"
            ],
            [
             "AZALEA PARK CONDOMINIUM"
            ],
            [
             "PALM ISLES"
            ],
            [
             "THE INFLORA"
            ],
            [
             "CARISSA PARK CONDOMINIUM"
            ],
            [
             "AVILA GARDENS"
            ],
            [
             "ESTELLA GARDENS"
            ],
            [
             "FERRARIA PARK CONDOMINIUM"
            ],
            [
             "DAHLIA PARK CONDOMINIUM"
            ],
            [
             "CARISSA PARK CONDOMINIUM"
            ],
            [
             "KANDIS RESIDENCE"
            ],
            [
             "NORTH PARK RESIDENCES"
            ],
            [
             "SYMPHONY SUITES"
            ],
            [
             "EIGHT COURTYARDS"
            ],
            [
             "THE MILTONIA RESIDENCES"
            ],
            [
             "H2O RESIDENCES"
            ],
            [
             "SELETAR PARK RESIDENCE"
            ],
            [
             "PALM ISLES"
            ],
            [
             "PARC OLYMPIA"
            ],
            [
             "PALM ISLES"
            ],
            [
             "HEDGES PARK CONDOMINIUM"
            ],
            [
             "THE ESTUARY"
            ],
            [
             "NORTH PARK RESIDENCES"
            ],
            [
             "THE WISTERIA"
            ],
            [
             "AZALEA PARK CONDOMINIUM"
            ],
            [
             "CANBERRA RESIDENCES"
            ],
            [
             "NORTH PARK RESIDENCES"
            ],
            [
             "NINE RESIDENCES"
            ],
            [
             "THE ESTUARY"
            ],
            [
             "PARC OLYMPIA"
            ],
            [
             "CARISSA PARK CONDOMINIUM"
            ],
            [
             "PALM ISLES"
            ],
            [
             "RIVERTREES RESIDENCES"
            ],
            [
             "H2O RESIDENCES"
            ],
            [
             "RIVERTREES RESIDENCES"
            ],
            [
             "SELETAR PARK RESIDENCE"
            ],
            [
             "HIGH PARK RESIDENCES"
            ],
            [
             "RIVERBANK @ FERNVALE"
            ],
            [
             "LILYDALE"
            ],
            [
             "FERRARIA PARK CONDOMINIUM"
            ],
            [
             "THE WISTERIA"
            ],
            [
             "THE GALE"
            ],
            [
             "THE INFLORA"
            ],
            [
             "CANBERRA RESIDENCES"
            ],
            [
             "BALLOTA PARK CONDOMINIUM"
            ],
            [
             "SELETARIS"
            ],
            [
             "THE GALE"
            ],
            [
             "BALLOTA PARK CONDOMINIUM"
            ],
            [
             "HEDGES PARK CONDOMINIUM"
            ],
            [
             "THE INFLORA"
            ],
            [
             "EDELWEISS PARK CONDOMINIUM"
            ],
            [
             "SELETARIS"
            ],
            [
             "ESTELLA GARDENS"
            ],
            [
             "ESTELLA GARDENS"
            ],
            [
             "NIM GARDENS"
            ],
            [
             "BALLOTA PARK CONDOMINIUM"
            ],
            [
             "PALM ISLES"
            ],
            [
             "FERRARIA PARK CONDOMINIUM"
            ],
            [
             "THE GALE"
            ],
            [
             "LOYANG VALLEY"
            ],
            [
             "SUN PLAZA"
            ],
            [
             "EDELWEISS PARK CONDOMINIUM"
            ],
            [
             "THE INFLORA"
            ],
            [
             "THE GALE"
            ],
            [
             "NIM GARDENS"
            ],
            [
             "NORTH PARK RESIDENCES"
            ],
            [
             "SYMPHONY SUITES"
            ],
            [
             "CANBERRA RESIDENCES"
            ],
            [
             "ORCHID PARK CONDOMINIUM"
            ],
            [
             "SELETAR PARK RESIDENCE"
            ],
            [
             "RIVERBANK @ FERNVALE"
            ],
            [
             "RIVERBANK @ FERNVALE"
            ],
            [
             "LOYANG VALLEY"
            ],
            [
             "CARISSA PARK CONDOMINIUM"
            ],
            [
             "EDELWEISS PARK CONDOMINIUM"
            ],
            [
             "SKIES MILTONIA"
            ],
            [
             "D'BANYAN"
            ],
            [
             "ESTELLA GARDENS"
            ],
            [
             "PARC OLYMPIA"
            ],
            [
             "THE NAUTICAL"
            ],
            [
             "ORCHID PARK CONDOMINIUM"
            ],
            [
             "SERENITY PARK"
            ],
            [
             "HEDGES PARK CONDOMINIUM"
            ],
            [
             "EIGHT COURTYARDS"
            ],
            [
             "SYMPHONY SUITES"
            ],
            [
             "THE WISTERIA"
            ],
            [
             "SELETAR PARK RESIDENCE"
            ],
            [
             "SKIES MILTONIA"
            ],
            [
             "HIGH PARK RESIDENCES"
            ],
            [
             "CARISSA PARK CONDOMINIUM"
            ],
            [
             "DAHLIA PARK CONDOMINIUM"
            ],
            [
             "LOYANG VALLEY"
            ],
            [
             "THE GREENWICH"
            ],
            [
             "LOYANG VALLEY"
            ],
            [
             "BALLOTA PARK CONDOMINIUM"
            ]
           ],
           "hovertemplate": "leaseDateStr=2023-01-01<br>lat=%{lat}<br>lng=%{lon}<br>project=%{customdata[0]}<br>price_change=%{marker.color}<extra></extra>",
           "lat": [
            1.41807139495834,
            1.37939195187997,
            1.44363473207597,
            1.41345822654196,
            1.39638961318515,
            1.39638961318515,
            1.41844703579357,
            1.42866319767121,
            1.43281890606271,
            1.38887143127704,
            1.35639824853602,
            1.35917121402077,
            1.35736420475575,
            1.360285340555,
            1.35900307841177,
            1.41345822654196,
            1.43456191549725,
            1.43911656257616,
            1.42547005593325,
            1.41104826332535,
            1.41345822654196,
            1.39283623462094,
            1.39638961318515,
            1.39459641963935,
            1.36073621566409,
            1.35688865505981,
            1.35632843123308,
            1.35917121402077,
            1.36015764334241,
            1.360285340555,
            1.35736420475575,
            1.35941809852708,
            1.35917121402077,
            1.45643625409312,
            1.42866319767121,
            1.43456191549725,
            1.43795645154437,
            1.41750734534379,
            1.39283623462094,
            1.38653998627,
            1.35688865505981,
            1.35531040259148,
            1.35688865505981,
            1.35521095284251,
            1.41104826332535,
            1.42866319767121,
            1.41844703579357,
            1.36073621566409,
            1.44447954944853,
            1.42866319767121,
            1.43281890606271,
            1.41104826332535,
            1.35531040259148,
            1.35917121402077,
            1.35688865505981,
            1.39402092122499,
            1.39283623462094,
            1.39402092122499,
            1.38653998627,
            1.39638961318515,
            1.39459641963935,
            1.42392837108866,
            1.35736420475575,
            1.41844703579357,
            1.35900307841177,
            1.35632843123308,
            1.44447954944853,
            1.35887799120341,
            1.4358492226796,
            1.35900307841177,
            1.35887799120341,
            1.35521095284251,
            1.35632843123308,
            1.35639824853602,
            1.4358492226796,
            1.360285340555,
            1.360285340555,
            1.38143238111123,
            1.35887799120341,
            1.35688865505981,
            1.35736420475575,
            1.35900307841177,
            1.36849628172236,
            1.44819436804175,
            1.35639824853602,
            1.35632843123308,
            1.35900307841177,
            1.38143238111123,
            1.42866319767121,
            1.43456191549725,
            1.44447954944853,
            1.41345822654196,
            1.38653998627,
            1.39459641963935,
            1.39459641963935,
            1.36849628172236,
            1.35917121402077,
            1.35639824853602,
            1.41807139495834,
            1.44403787932825,
            1.360285340555,
            1.35531040259148,
            1.44363473207597,
            1.41345822654196,
            1.38822776284514,
            1.35521095284251,
            1.43795645154437,
            1.43456191549725,
            1.41844703579357,
            1.38653998627,
            1.41807139495834,
            1.39638961318515,
            1.35917121402077,
            1.35941809852708,
            1.36849628172236,
            1.38718841691871,
            1.36849628172236,
            1.35887799120341
           ],
           "legendgroup": "",
           "lon": [
            103.84790678249,
            103.96368774531,
            103.825253279684,
            103.835186431485,
            103.875132778517,
            103.875132778517,
            103.841112412447,
            103.835828704052,
            103.841477613841,
            103.872017156345,
            103.96773406082,
            103.963631516169,
            103.963972049935,
            103.966516198261,
            103.96686932054,
            103.835186431485,
            103.844362842957,
            103.830253676903,
            103.824969746542,
            103.832513245026,
            103.835186431485,
            103.87967806826,
            103.875132778517,
            103.881117176349,
            103.963299396559,
            103.964194147192,
            103.966578200418,
            103.963631516169,
            103.965165224191,
            103.966516198261,
            103.963972049935,
            103.965393923725,
            103.963631516169,
            103.837218581465,
            103.835828704052,
            103.844362842957,
            103.830995368522,
            103.847659418224,
            103.87967806826,
            103.869207772374,
            103.964194147192,
            103.965525604183,
            103.964194147192,
            103.966422045067,
            103.832513245026,
            103.835828704052,
            103.841112412447,
            103.963299396559,
            103.825437324844,
            103.835828704052,
            103.841477613841,
            103.832513245026,
            103.965525604183,
            103.963631516169,
            103.964194147192,
            103.881215058062,
            103.87967806826,
            103.881215058062,
            103.869207772374,
            103.875132778517,
            103.881117176349,
            103.849332055297,
            103.963972049935,
            103.841112412447,
            103.96686932054,
            103.966578200418,
            103.825437324844,
            103.96852443877,
            103.824971641966,
            103.96686932054,
            103.96852443877,
            103.966422045067,
            103.966578200418,
            103.96773406082,
            103.824971641966,
            103.966516198261,
            103.966516198261,
            103.863043130131,
            103.96852443877,
            103.964194147192,
            103.963972049935,
            103.96686932054,
            103.970019150268,
            103.819464386349,
            103.96773406082,
            103.966578200418,
            103.96686932054,
            103.863043130131,
            103.835828704052,
            103.844362842957,
            103.825437324844,
            103.835186431485,
            103.869207772374,
            103.881117176349,
            103.881117176349,
            103.970019150268,
            103.963631516169,
            103.96773406082,
            103.84790678249,
            103.825036650569,
            103.966516198261,
            103.965525604183,
            103.825253279684,
            103.835186431485,
            103.858740468004,
            103.966422045067,
            103.830995368522,
            103.844362842957,
            103.841112412447,
            103.869207772374,
            103.84790678249,
            103.875132778517,
            103.963631516169,
            103.965393923725,
            103.970019150268,
            103.869337214926,
            103.970019150268,
            103.96852443877
           ],
           "marker": {
            "color": [
             0.8507462686567164,
             0.3595505617977528,
             0.1724137931034483,
             0.058823529411764705,
             0.3763440860215054,
             0.2903225806451613,
             0.7142857142857143,
             0.4482758620689655,
             -0.07964601769911504,
             0.8526315789473684,
             0.9712306872669153,
             0.2962962962962963,
             0.5875,
             0.23404255319148937,
             0.2631578947368421,
             0,
             0.3643410852713178,
             0.2857142857142857,
             0.13636363636363635,
             0.3469387755102041,
             0.42857142857142855,
             0.52,
             0.14893617021276595,
             0,
             0.34615384615384615,
             0.5584415584415584,
             0.7142857142857143,
             0.41263940520446096,
             0.35714285714285715,
             0.20967741935483872,
             0.27586206896551724,
             0.24561403508771928,
             0.7410526315789474,
             0.10714285714285714,
             0.48148148148148145,
             0.15151515151515152,
             0.46236559139784944,
             0.24,
             0.36585365853658536,
             0.6978723404255319,
             0.8048780487804879,
             0.22522522522522523,
             0.8048780487804879,
             0.42391304347826086,
             0.5714285714285714,
             0.5,
             0.4673913043478261,
             0.26153846153846155,
             0.4634146341463415,
             0.36,
             0.5238095238095238,
             0.3333333333333333,
             0.2631578947368421,
             0.16455696202531644,
             0.2328767123287671,
             0.041666666666666664,
             0.5652173913043478,
             0.4891304347826087,
             0.23076923076923078,
             0.44,
             0.7283950617283951,
             0.62,
             0.3793103448275862,
             0.16666666666666666,
             0.25,
             0.26666666666666666,
             0.4482758620689655,
             0.4074074074074074,
             0.5,
             0.37254901960784315,
             0.06976744186046512,
             0.21212121212121213,
             0.2,
             0.3333333333333333,
             0.4074074074074074,
             0.2345679012345679,
             0.6785714285714286,
             0.23577235772357724,
             0.3953488372093023,
             0.3103448275862069,
             0.3617021276595745,
             0.33766233766233766,
             0.3548387096774194,
             0.6666666666666666,
             0.1111111111111111,
             0.2653061224489796,
             0.2,
             0.125,
             0.3793103448275862,
             0.5454545454545454,
             0.3333333333333333,
             0.5833333333333334,
             0.21428571428571427,
             1.0568927789934355,
             0.3785557986870897,
             0.3387096774193548,
             0.15384615384615385,
             0.6904761904761905,
             0.27631578947368424,
             0.5882352941176471,
             0.5862068965517241,
             0.4358974358974359,
             0.14285714285714285,
             0.2892561983471074,
             0.2413793103448276,
             0.7638888888888888,
             0.023809523809523808,
             0.2713178294573643,
             0.3611111111111111,
             0.27586206896551724,
             0.2857142857142857,
             0.2711864406779661,
             0.9444444444444444,
             0.2571428571428571,
             0.42857142857142855,
             0.18518518518518517,
             0.17857142857142858,
             0
            ],
            "coloraxis": "coloraxis"
           },
           "mode": "markers",
           "name": "",
           "showlegend": false,
           "subplot": "mapbox",
           "type": "scattermapbox"
          }
         ],
         "name": "2023-01-01"
        },
        {
         "data": [
          {
           "customdata": [
            [
             "SUNRISE GARDENS"
            ],
            [
             "ORCHID PARK CONDOMINIUM"
            ],
            [
             "SUN PLAZA"
            ],
            [
             "PALM ISLES"
            ],
            [
             "EDELWEISS PARK CONDOMINIUM"
            ],
            [
             "THE GALE"
            ],
            [
             "LOYANG VALLEY"
            ],
            [
             "HEDGES PARK CONDOMINIUM"
            ],
            [
             "THE INFLORA"
            ],
            [
             "DAHLIA PARK CONDOMINIUM"
            ],
            [
             "THE INFLORA"
            ],
            [
             "ORCHID PARK CONDOMINIUM"
            ],
            [
             "YISHUN EMERALD"
            ],
            [
             "YISHUN SAPPHIRE"
            ],
            [
             "ESTELLA GARDENS"
            ],
            [
             "RIVERTREES RESIDENCES"
            ],
            [
             "HIGH PARK RESIDENCES"
            ],
            [
             "RIVERTREES RESIDENCES"
            ],
            [
             "SELETAR PARK RESIDENCE"
            ],
            [
             "NORTH PARK RESIDENCES"
            ],
            [
             "PALM ISLES"
            ],
            [
             "FERRARIA PARK CONDOMINIUM"
            ],
            [
             "THE ESTUARY"
            ],
            [
             "SELETAR SPRINGS CONDOMINIUM"
            ],
            [
             "CANBERRA RESIDENCES"
            ],
            [
             "ORCHID PARK CONDOMINIUM"
            ],
            [
             "ESTELLA GARDENS"
            ],
            [
             "THE NAUTICAL"
            ],
            [
             "AZALEA PARK CONDOMINIUM"
            ],
            [
             "EDELWEISS PARK CONDOMINIUM"
            ],
            [
             "CARISSA PARK CONDOMINIUM"
            ],
            [
             "FERRARIA PARK CONDOMINIUM"
            ],
            [
             "PALM ISLES"
            ],
            [
             "EDELWEISS PARK CONDOMINIUM"
            ],
            [
             "HIGH PARK RESIDENCES"
            ],
            [
             "ESTELLA GARDENS"
            ],
            [
             "H2O RESIDENCES"
            ],
            [
             "RIVERTREES RESIDENCES"
            ],
            [
             "RIVERBANK @ FERNVALE"
            ],
            [
             "FLORAVILLE"
            ],
            [
             "BALLOTA PARK CONDOMINIUM"
            ],
            [
             "HIGH PARK RESIDENCES"
            ],
            [
             "SKIES MILTONIA"
            ],
            [
             "SYMPHONY SUITES"
            ],
            [
             "NORTH PARK RESIDENCES"
            ],
            [
             "HIGH PARK RESIDENCES"
            ],
            [
             "THE GREENWICH"
            ],
            [
             "SELETAR PARK RESIDENCE"
            ],
            [
             "H2O RESIDENCES"
            ],
            [
             "SYMPHONY SUITES"
            ],
            [
             "NORTH PARK RESIDENCES"
            ],
            [
             "SKIES MILTONIA"
            ],
            [
             "ORCHID PARK CONDOMINIUM"
            ],
            [
             "EIGHT COURTYARDS"
            ],
            [
             "NORTH PARK RESIDENCES"
            ],
            [
             "PARC OLYMPIA"
            ],
            [
             "LOYANG VALLEY"
            ],
            [
             "THE TOPIARY"
            ],
            [
             "SYMPHONY SUITES"
            ],
            [
             "CANBERRA RESIDENCES"
            ],
            [
             "EIGHT COURTYARDS"
            ],
            [
             "THE MILTONIA RESIDENCES"
            ],
            [
             "H2O RESIDENCES"
            ],
            [
             "EDELWEISS PARK CONDOMINIUM"
            ],
            [
             "FERRARIA PARK CONDOMINIUM"
            ],
            [
             "CARISSA PARK CONDOMINIUM"
            ],
            [
             "FERRARIA PARK CONDOMINIUM"
            ],
            [
             "THE GALE"
            ],
            [
             "ORCHID PARK CONDOMINIUM"
            ],
            [
             "RIVERTREES RESIDENCES"
            ],
            [
             "AVILA GARDENS"
            ],
            [
             "RIVERBANK @ FERNVALE"
            ],
            [
             "THE WISTERIA"
            ],
            [
             "SKIES MILTONIA"
            ],
            [
             "PALM ISLES"
            ],
            [
             "THE INFLORA"
            ],
            [
             "PARC OLYMPIA"
            ],
            [
             "HEDGES PARK CONDOMINIUM"
            ],
            [
             "THE CANOPY"
            ],
            [
             "CARISSA PARK CONDOMINIUM"
            ],
            [
             "AZALEA PARK CONDOMINIUM"
            ],
            [
             "THE GALE"
            ],
            [
             "THE ESTUARY"
            ],
            [
             "HIGH PARK RESIDENCES"
            ],
            [
             "HIGH PARK RESIDENCES"
            ],
            [
             "SKIES MILTONIA"
            ]
           ],
           "hovertemplate": "leaseDateStr=2023-02-01<br>lat=%{lat}<br>lng=%{lon}<br>project=%{customdata[0]}<br>price_change=%{marker.color}<extra></extra>",
           "lat": [
            1.38969073093565,
            1.41345822654196,
            1.44819436804175,
            1.35688865505981,
            1.35639824853602,
            1.35900307841177,
            1.36849628172236,
            1.35521095284251,
            1.35632843123308,
            1.35941809852708,
            1.35632843123308,
            1.41345822654196,
            1.43911656257616,
            1.44076527720917,
            1.360285340555,
            1.39402092122499,
            1.39638961318515,
            1.39402092122499,
            1.38653998627,
            1.42866319767121,
            1.35688865505981,
            1.35736420475575,
            1.41104826332535,
            1.38820037710408,
            1.44447954944853,
            1.41345822654196,
            1.360285340555,
            1.44363473207597,
            1.36073621566409,
            1.35639824853602,
            1.35917121402077,
            1.35736420475575,
            1.35688865505981,
            1.35639824853602,
            1.39638961318515,
            1.360285340555,
            1.39283623462094,
            1.39402092122499,
            1.39459641963935,
            1.39185235684708,
            1.35887799120341,
            1.39638961318515,
            1.41807139495834,
            1.43456191549725,
            1.42866319767121,
            1.39638961318515,
            1.38718841691871,
            1.38653998627,
            1.39283623462094,
            1.43456191549725,
            1.42866319767121,
            1.41807139495834,
            1.41345822654196,
            1.43795645154437,
            1.42866319767121,
            1.35531040259148,
            1.36849628172236,
            1.38887143127704,
            1.43456191549725,
            1.44447954944853,
            1.43795645154437,
            1.41750734534379,
            1.39283623462094,
            1.35639824853602,
            1.35736420475575,
            1.35917121402077,
            1.35736420475575,
            1.35900307841177,
            1.41345822654196,
            1.39402092122499,
            1.36015764334241,
            1.39459641963935,
            1.41844703579357,
            1.41807139495834,
            1.35688865505981,
            1.35632843123308,
            1.35531040259148,
            1.35521095284251,
            1.4238543175594,
            1.35917121402077,
            1.36073621566409,
            1.35900307841177,
            1.41104826332535,
            1.39638961318515,
            1.39638961318515,
            1.41807139495834
           ],
           "legendgroup": "",
           "lon": [
            103.857170017555,
            103.835186431485,
            103.819464386349,
            103.964194147192,
            103.96773406082,
            103.96686932054,
            103.970019150268,
            103.966422045067,
            103.966578200418,
            103.965393923725,
            103.966578200418,
            103.835186431485,
            103.830253676903,
            103.830495461097,
            103.966516198261,
            103.881215058062,
            103.875132778517,
            103.881215058062,
            103.869207772374,
            103.835828704052,
            103.964194147192,
            103.963972049935,
            103.832513245026,
            103.878493859317,
            103.825437324844,
            103.835186431485,
            103.966516198261,
            103.825253279684,
            103.963299396559,
            103.96773406082,
            103.963631516169,
            103.963972049935,
            103.964194147192,
            103.96773406082,
            103.875132778517,
            103.966516198261,
            103.87967806826,
            103.881215058062,
            103.881117176349,
            103.851179877786,
            103.96852443877,
            103.875132778517,
            103.84790678249,
            103.844362842957,
            103.835828704052,
            103.875132778517,
            103.869337214926,
            103.869207772374,
            103.87967806826,
            103.844362842957,
            103.835828704052,
            103.84790678249,
            103.835186431485,
            103.830995368522,
            103.835828704052,
            103.965525604183,
            103.970019150268,
            103.872017156345,
            103.844362842957,
            103.825437324844,
            103.830995368522,
            103.847659418224,
            103.87967806826,
            103.96773406082,
            103.963972049935,
            103.963631516169,
            103.963972049935,
            103.96686932054,
            103.835186431485,
            103.881215058062,
            103.965165224191,
            103.881117176349,
            103.841112412447,
            103.84790678249,
            103.964194147192,
            103.966578200418,
            103.965525604183,
            103.966422045067,
            103.848078487443,
            103.963631516169,
            103.963299396559,
            103.96686932054,
            103.832513245026,
            103.875132778517,
            103.875132778517,
            103.84790678249
           ],
           "marker": {
            "color": [
             0.07142857142857142,
             0.25,
             0.6521739130434783,
             0.76,
             0.12,
             0.125,
             0.08695652173913043,
             0.3333333333333333,
             0.37272727272727274,
             0.20833333333333334,
             0.16666666666666666,
             0.13846153846153847,
             0.40384615384615385,
             0.14285714285714285,
             0.34177215189873417,
             0.3870967741935484,
             0.29411764705882354,
             0.2608695652173913,
             0.6455696202531646,
             0.36,
             0.4358974358974359,
             0.20481927710843373,
             0.21739130434782608,
             0.43478260869565216,
             0.32,
             0.4666666666666667,
             0.5,
             0.44,
             0.6607142857142857,
             0.5217391304347826,
             0.375,
             0.5714285714285714,
             0.5909090909090909,
             0.391304347826087,
             0.17647058823529413,
             0.6705882352941176,
             0.6551724137931034,
             0.44,
             0.25,
             0.34782608695652173,
             0.7634408602150538,
             0.39215686274509803,
             0.20454545454545456,
             0.6,
             0.3709677419354839,
             0.6071428571428571,
             0.46938775510204084,
             0.41379310344827586,
             0.5217391304347826,
             0.2833333333333333,
             0.34146341463414637,
             0.52,
             0.3333333333333333,
             0.4,
             0.41935483870967744,
             0.3541666666666667,
             0.0967741935483871,
             -0.22484848484848485,
             0.5757575757575758,
             0.4,
             0.3584905660377358,
             0.4,
             0.3076923076923077,
             0.48936170212765956,
             0.35714285714285715,
             0.6,
             0.6071428571428571,
             0.40625,
             0.5565217391304348,
             0.5263157894736842,
             0.28,
             0.3142857142857143,
             0.21176470588235294,
             0.5555555555555556,
             0.75,
             0.3375,
             0.375,
             0.8235294117647058,
             0.19444444444444445,
             -0.171875,
             0.10526315789473684,
             0.21212121212121213,
             0.5,
             0.4117647058823529,
             0.358974358974359,
             0.2222222222222222
            ],
            "coloraxis": "coloraxis"
           },
           "mode": "markers",
           "name": "",
           "showlegend": false,
           "subplot": "mapbox",
           "type": "scattermapbox"
          }
         ],
         "name": "2023-02-01"
        }
       ],
       "layout": {
        "coloraxis": {
         "cmax": 0.8273199221284868,
         "cmin": -0.1192063492063492,
         "colorbar": {
          "title": {
           "text": "price_change"
          }
         },
         "colorscale": [
          [
           0,
           "#0d0887"
          ],
          [
           0.1111111111111111,
           "#46039f"
          ],
          [
           0.2222222222222222,
           "#7201a8"
          ],
          [
           0.3333333333333333,
           "#9c179e"
          ],
          [
           0.4444444444444444,
           "#bd3786"
          ],
          [
           0.5555555555555556,
           "#d8576b"
          ],
          [
           0.6666666666666666,
           "#ed7953"
          ],
          [
           0.7777777777777778,
           "#fb9f3a"
          ],
          [
           0.8888888888888888,
           "#fdca26"
          ],
          [
           1,
           "#f0f921"
          ]
         ]
        },
        "legend": {
         "tracegroupgap": 0
        },
        "mapbox": {
         "center": {
          "lat": 1.392549287934232,
          "lon": 103.89615051309502
         },
         "domain": {
          "x": [
           0,
           1
          ],
          "y": [
           0,
           1
          ]
         },
         "style": "carto-positron",
         "zoom": 11
        },
        "margin": {
         "b": 0,
         "l": 0,
         "r": 0,
         "t": 0
        },
        "sliders": [
         {
          "active": 0,
          "currentvalue": {
           "prefix": "leaseDateStr="
          },
          "len": 0.9,
          "pad": {
           "b": 10,
           "t": 60
          },
          "steps": [
           {
            "args": [
             [
              "2022-01-01"
             ],
             {
              "frame": {
               "duration": 0,
               "redraw": true
              },
              "fromcurrent": true,
              "mode": "immediate",
              "transition": {
               "duration": 0,
               "easing": "linear"
              }
             }
            ],
            "label": "2022-01-01",
            "method": "animate"
           },
           {
            "args": [
             [
              "2022-02-01"
             ],
             {
              "frame": {
               "duration": 0,
               "redraw": true
              },
              "fromcurrent": true,
              "mode": "immediate",
              "transition": {
               "duration": 0,
               "easing": "linear"
              }
             }
            ],
            "label": "2022-02-01",
            "method": "animate"
           },
           {
            "args": [
             [
              "2022-03-01"
             ],
             {
              "frame": {
               "duration": 0,
               "redraw": true
              },
              "fromcurrent": true,
              "mode": "immediate",
              "transition": {
               "duration": 0,
               "easing": "linear"
              }
             }
            ],
            "label": "2022-03-01",
            "method": "animate"
           },
           {
            "args": [
             [
              "2022-04-01"
             ],
             {
              "frame": {
               "duration": 0,
               "redraw": true
              },
              "fromcurrent": true,
              "mode": "immediate",
              "transition": {
               "duration": 0,
               "easing": "linear"
              }
             }
            ],
            "label": "2022-04-01",
            "method": "animate"
           },
           {
            "args": [
             [
              "2022-05-01"
             ],
             {
              "frame": {
               "duration": 0,
               "redraw": true
              },
              "fromcurrent": true,
              "mode": "immediate",
              "transition": {
               "duration": 0,
               "easing": "linear"
              }
             }
            ],
            "label": "2022-05-01",
            "method": "animate"
           },
           {
            "args": [
             [
              "2022-06-01"
             ],
             {
              "frame": {
               "duration": 0,
               "redraw": true
              },
              "fromcurrent": true,
              "mode": "immediate",
              "transition": {
               "duration": 0,
               "easing": "linear"
              }
             }
            ],
            "label": "2022-06-01",
            "method": "animate"
           },
           {
            "args": [
             [
              "2022-07-01"
             ],
             {
              "frame": {
               "duration": 0,
               "redraw": true
              },
              "fromcurrent": true,
              "mode": "immediate",
              "transition": {
               "duration": 0,
               "easing": "linear"
              }
             }
            ],
            "label": "2022-07-01",
            "method": "animate"
           },
           {
            "args": [
             [
              "2022-08-01"
             ],
             {
              "frame": {
               "duration": 0,
               "redraw": true
              },
              "fromcurrent": true,
              "mode": "immediate",
              "transition": {
               "duration": 0,
               "easing": "linear"
              }
             }
            ],
            "label": "2022-08-01",
            "method": "animate"
           },
           {
            "args": [
             [
              "2022-09-01"
             ],
             {
              "frame": {
               "duration": 0,
               "redraw": true
              },
              "fromcurrent": true,
              "mode": "immediate",
              "transition": {
               "duration": 0,
               "easing": "linear"
              }
             }
            ],
            "label": "2022-09-01",
            "method": "animate"
           },
           {
            "args": [
             [
              "2022-10-01"
             ],
             {
              "frame": {
               "duration": 0,
               "redraw": true
              },
              "fromcurrent": true,
              "mode": "immediate",
              "transition": {
               "duration": 0,
               "easing": "linear"
              }
             }
            ],
            "label": "2022-10-01",
            "method": "animate"
           },
           {
            "args": [
             [
              "2022-11-01"
             ],
             {
              "frame": {
               "duration": 0,
               "redraw": true
              },
              "fromcurrent": true,
              "mode": "immediate",
              "transition": {
               "duration": 0,
               "easing": "linear"
              }
             }
            ],
            "label": "2022-11-01",
            "method": "animate"
           },
           {
            "args": [
             [
              "2022-12-01"
             ],
             {
              "frame": {
               "duration": 0,
               "redraw": true
              },
              "fromcurrent": true,
              "mode": "immediate",
              "transition": {
               "duration": 0,
               "easing": "linear"
              }
             }
            ],
            "label": "2022-12-01",
            "method": "animate"
           },
           {
            "args": [
             [
              "2023-01-01"
             ],
             {
              "frame": {
               "duration": 0,
               "redraw": true
              },
              "fromcurrent": true,
              "mode": "immediate",
              "transition": {
               "duration": 0,
               "easing": "linear"
              }
             }
            ],
            "label": "2023-01-01",
            "method": "animate"
           },
           {
            "args": [
             [
              "2023-02-01"
             ],
             {
              "frame": {
               "duration": 0,
               "redraw": true
              },
              "fromcurrent": true,
              "mode": "immediate",
              "transition": {
               "duration": 0,
               "easing": "linear"
              }
             }
            ],
            "label": "2023-02-01",
            "method": "animate"
           }
          ],
          "x": 0.1,
          "xanchor": "left",
          "y": 0,
          "yanchor": "top"
         }
        ],
        "template": {
         "data": {
          "bar": [
           {
            "error_x": {
             "color": "#2a3f5f"
            },
            "error_y": {
             "color": "#2a3f5f"
            },
            "marker": {
             "line": {
              "color": "#E5ECF6",
              "width": 0.5
             },
             "pattern": {
              "fillmode": "overlay",
              "size": 10,
              "solidity": 0.2
             }
            },
            "type": "bar"
           }
          ],
          "barpolar": [
           {
            "marker": {
             "line": {
              "color": "#E5ECF6",
              "width": 0.5
             },
             "pattern": {
              "fillmode": "overlay",
              "size": 10,
              "solidity": 0.2
             }
            },
            "type": "barpolar"
           }
          ],
          "carpet": [
           {
            "aaxis": {
             "endlinecolor": "#2a3f5f",
             "gridcolor": "white",
             "linecolor": "white",
             "minorgridcolor": "white",
             "startlinecolor": "#2a3f5f"
            },
            "baxis": {
             "endlinecolor": "#2a3f5f",
             "gridcolor": "white",
             "linecolor": "white",
             "minorgridcolor": "white",
             "startlinecolor": "#2a3f5f"
            },
            "type": "carpet"
           }
          ],
          "choropleth": [
           {
            "colorbar": {
             "outlinewidth": 0,
             "ticks": ""
            },
            "type": "choropleth"
           }
          ],
          "contour": [
           {
            "colorbar": {
             "outlinewidth": 0,
             "ticks": ""
            },
            "colorscale": [
             [
              0,
              "#0d0887"
             ],
             [
              0.1111111111111111,
              "#46039f"
             ],
             [
              0.2222222222222222,
              "#7201a8"
             ],
             [
              0.3333333333333333,
              "#9c179e"
             ],
             [
              0.4444444444444444,
              "#bd3786"
             ],
             [
              0.5555555555555556,
              "#d8576b"
             ],
             [
              0.6666666666666666,
              "#ed7953"
             ],
             [
              0.7777777777777778,
              "#fb9f3a"
             ],
             [
              0.8888888888888888,
              "#fdca26"
             ],
             [
              1,
              "#f0f921"
             ]
            ],
            "type": "contour"
           }
          ],
          "contourcarpet": [
           {
            "colorbar": {
             "outlinewidth": 0,
             "ticks": ""
            },
            "type": "contourcarpet"
           }
          ],
          "heatmap": [
           {
            "colorbar": {
             "outlinewidth": 0,
             "ticks": ""
            },
            "colorscale": [
             [
              0,
              "#0d0887"
             ],
             [
              0.1111111111111111,
              "#46039f"
             ],
             [
              0.2222222222222222,
              "#7201a8"
             ],
             [
              0.3333333333333333,
              "#9c179e"
             ],
             [
              0.4444444444444444,
              "#bd3786"
             ],
             [
              0.5555555555555556,
              "#d8576b"
             ],
             [
              0.6666666666666666,
              "#ed7953"
             ],
             [
              0.7777777777777778,
              "#fb9f3a"
             ],
             [
              0.8888888888888888,
              "#fdca26"
             ],
             [
              1,
              "#f0f921"
             ]
            ],
            "type": "heatmap"
           }
          ],
          "heatmapgl": [
           {
            "colorbar": {
             "outlinewidth": 0,
             "ticks": ""
            },
            "colorscale": [
             [
              0,
              "#0d0887"
             ],
             [
              0.1111111111111111,
              "#46039f"
             ],
             [
              0.2222222222222222,
              "#7201a8"
             ],
             [
              0.3333333333333333,
              "#9c179e"
             ],
             [
              0.4444444444444444,
              "#bd3786"
             ],
             [
              0.5555555555555556,
              "#d8576b"
             ],
             [
              0.6666666666666666,
              "#ed7953"
             ],
             [
              0.7777777777777778,
              "#fb9f3a"
             ],
             [
              0.8888888888888888,
              "#fdca26"
             ],
             [
              1,
              "#f0f921"
             ]
            ],
            "type": "heatmapgl"
           }
          ],
          "histogram": [
           {
            "marker": {
             "pattern": {
              "fillmode": "overlay",
              "size": 10,
              "solidity": 0.2
             }
            },
            "type": "histogram"
           }
          ],
          "histogram2d": [
           {
            "colorbar": {
             "outlinewidth": 0,
             "ticks": ""
            },
            "colorscale": [
             [
              0,
              "#0d0887"
             ],
             [
              0.1111111111111111,
              "#46039f"
             ],
             [
              0.2222222222222222,
              "#7201a8"
             ],
             [
              0.3333333333333333,
              "#9c179e"
             ],
             [
              0.4444444444444444,
              "#bd3786"
             ],
             [
              0.5555555555555556,
              "#d8576b"
             ],
             [
              0.6666666666666666,
              "#ed7953"
             ],
             [
              0.7777777777777778,
              "#fb9f3a"
             ],
             [
              0.8888888888888888,
              "#fdca26"
             ],
             [
              1,
              "#f0f921"
             ]
            ],
            "type": "histogram2d"
           }
          ],
          "histogram2dcontour": [
           {
            "colorbar": {
             "outlinewidth": 0,
             "ticks": ""
            },
            "colorscale": [
             [
              0,
              "#0d0887"
             ],
             [
              0.1111111111111111,
              "#46039f"
             ],
             [
              0.2222222222222222,
              "#7201a8"
             ],
             [
              0.3333333333333333,
              "#9c179e"
             ],
             [
              0.4444444444444444,
              "#bd3786"
             ],
             [
              0.5555555555555556,
              "#d8576b"
             ],
             [
              0.6666666666666666,
              "#ed7953"
             ],
             [
              0.7777777777777778,
              "#fb9f3a"
             ],
             [
              0.8888888888888888,
              "#fdca26"
             ],
             [
              1,
              "#f0f921"
             ]
            ],
            "type": "histogram2dcontour"
           }
          ],
          "mesh3d": [
           {
            "colorbar": {
             "outlinewidth": 0,
             "ticks": ""
            },
            "type": "mesh3d"
           }
          ],
          "parcoords": [
           {
            "line": {
             "colorbar": {
              "outlinewidth": 0,
              "ticks": ""
             }
            },
            "type": "parcoords"
           }
          ],
          "pie": [
           {
            "automargin": true,
            "type": "pie"
           }
          ],
          "scatter": [
           {
            "marker": {
             "colorbar": {
              "outlinewidth": 0,
              "ticks": ""
             }
            },
            "type": "scatter"
           }
          ],
          "scatter3d": [
           {
            "line": {
             "colorbar": {
              "outlinewidth": 0,
              "ticks": ""
             }
            },
            "marker": {
             "colorbar": {
              "outlinewidth": 0,
              "ticks": ""
             }
            },
            "type": "scatter3d"
           }
          ],
          "scattercarpet": [
           {
            "marker": {
             "colorbar": {
              "outlinewidth": 0,
              "ticks": ""
             }
            },
            "type": "scattercarpet"
           }
          ],
          "scattergeo": [
           {
            "marker": {
             "colorbar": {
              "outlinewidth": 0,
              "ticks": ""
             }
            },
            "type": "scattergeo"
           }
          ],
          "scattergl": [
           {
            "marker": {
             "colorbar": {
              "outlinewidth": 0,
              "ticks": ""
             }
            },
            "type": "scattergl"
           }
          ],
          "scattermapbox": [
           {
            "marker": {
             "colorbar": {
              "outlinewidth": 0,
              "ticks": ""
             }
            },
            "type": "scattermapbox"
           }
          ],
          "scatterpolar": [
           {
            "marker": {
             "colorbar": {
              "outlinewidth": 0,
              "ticks": ""
             }
            },
            "type": "scatterpolar"
           }
          ],
          "scatterpolargl": [
           {
            "marker": {
             "colorbar": {
              "outlinewidth": 0,
              "ticks": ""
             }
            },
            "type": "scatterpolargl"
           }
          ],
          "scatterternary": [
           {
            "marker": {
             "colorbar": {
              "outlinewidth": 0,
              "ticks": ""
             }
            },
            "type": "scatterternary"
           }
          ],
          "surface": [
           {
            "colorbar": {
             "outlinewidth": 0,
             "ticks": ""
            },
            "colorscale": [
             [
              0,
              "#0d0887"
             ],
             [
              0.1111111111111111,
              "#46039f"
             ],
             [
              0.2222222222222222,
              "#7201a8"
             ],
             [
              0.3333333333333333,
              "#9c179e"
             ],
             [
              0.4444444444444444,
              "#bd3786"
             ],
             [
              0.5555555555555556,
              "#d8576b"
             ],
             [
              0.6666666666666666,
              "#ed7953"
             ],
             [
              0.7777777777777778,
              "#fb9f3a"
             ],
             [
              0.8888888888888888,
              "#fdca26"
             ],
             [
              1,
              "#f0f921"
             ]
            ],
            "type": "surface"
           }
          ],
          "table": [
           {
            "cells": {
             "fill": {
              "color": "#EBF0F8"
             },
             "line": {
              "color": "white"
             }
            },
            "header": {
             "fill": {
              "color": "#C8D4E3"
             },
             "line": {
              "color": "white"
             }
            },
            "type": "table"
           }
          ]
         },
         "layout": {
          "annotationdefaults": {
           "arrowcolor": "#2a3f5f",
           "arrowhead": 0,
           "arrowwidth": 1
          },
          "autotypenumbers": "strict",
          "coloraxis": {
           "colorbar": {
            "outlinewidth": 0,
            "ticks": ""
           }
          },
          "colorscale": {
           "diverging": [
            [
             0,
             "#8e0152"
            ],
            [
             0.1,
             "#c51b7d"
            ],
            [
             0.2,
             "#de77ae"
            ],
            [
             0.3,
             "#f1b6da"
            ],
            [
             0.4,
             "#fde0ef"
            ],
            [
             0.5,
             "#f7f7f7"
            ],
            [
             0.6,
             "#e6f5d0"
            ],
            [
             0.7,
             "#b8e186"
            ],
            [
             0.8,
             "#7fbc41"
            ],
            [
             0.9,
             "#4d9221"
            ],
            [
             1,
             "#276419"
            ]
           ],
           "sequential": [
            [
             0,
             "#0d0887"
            ],
            [
             0.1111111111111111,
             "#46039f"
            ],
            [
             0.2222222222222222,
             "#7201a8"
            ],
            [
             0.3333333333333333,
             "#9c179e"
            ],
            [
             0.4444444444444444,
             "#bd3786"
            ],
            [
             0.5555555555555556,
             "#d8576b"
            ],
            [
             0.6666666666666666,
             "#ed7953"
            ],
            [
             0.7777777777777778,
             "#fb9f3a"
            ],
            [
             0.8888888888888888,
             "#fdca26"
            ],
            [
             1,
             "#f0f921"
            ]
           ],
           "sequentialminus": [
            [
             0,
             "#0d0887"
            ],
            [
             0.1111111111111111,
             "#46039f"
            ],
            [
             0.2222222222222222,
             "#7201a8"
            ],
            [
             0.3333333333333333,
             "#9c179e"
            ],
            [
             0.4444444444444444,
             "#bd3786"
            ],
            [
             0.5555555555555556,
             "#d8576b"
            ],
            [
             0.6666666666666666,
             "#ed7953"
            ],
            [
             0.7777777777777778,
             "#fb9f3a"
            ],
            [
             0.8888888888888888,
             "#fdca26"
            ],
            [
             1,
             "#f0f921"
            ]
           ]
          },
          "colorway": [
           "#636efa",
           "#EF553B",
           "#00cc96",
           "#ab63fa",
           "#FFA15A",
           "#19d3f3",
           "#FF6692",
           "#B6E880",
           "#FF97FF",
           "#FECB52"
          ],
          "font": {
           "color": "#2a3f5f"
          },
          "geo": {
           "bgcolor": "white",
           "lakecolor": "white",
           "landcolor": "#E5ECF6",
           "showlakes": true,
           "showland": true,
           "subunitcolor": "white"
          },
          "hoverlabel": {
           "align": "left"
          },
          "hovermode": "closest",
          "mapbox": {
           "style": "light"
          },
          "paper_bgcolor": "white",
          "plot_bgcolor": "#E5ECF6",
          "polar": {
           "angularaxis": {
            "gridcolor": "white",
            "linecolor": "white",
            "ticks": ""
           },
           "bgcolor": "#E5ECF6",
           "radialaxis": {
            "gridcolor": "white",
            "linecolor": "white",
            "ticks": ""
           }
          },
          "scene": {
           "xaxis": {
            "backgroundcolor": "#E5ECF6",
            "gridcolor": "white",
            "gridwidth": 2,
            "linecolor": "white",
            "showbackground": true,
            "ticks": "",
            "zerolinecolor": "white"
           },
           "yaxis": {
            "backgroundcolor": "#E5ECF6",
            "gridcolor": "white",
            "gridwidth": 2,
            "linecolor": "white",
            "showbackground": true,
            "ticks": "",
            "zerolinecolor": "white"
           },
           "zaxis": {
            "backgroundcolor": "#E5ECF6",
            "gridcolor": "white",
            "gridwidth": 2,
            "linecolor": "white",
            "showbackground": true,
            "ticks": "",
            "zerolinecolor": "white"
           }
          },
          "shapedefaults": {
           "line": {
            "color": "#2a3f5f"
           }
          },
          "ternary": {
           "aaxis": {
            "gridcolor": "white",
            "linecolor": "white",
            "ticks": ""
           },
           "baxis": {
            "gridcolor": "white",
            "linecolor": "white",
            "ticks": ""
           },
           "bgcolor": "#E5ECF6",
           "caxis": {
            "gridcolor": "white",
            "linecolor": "white",
            "ticks": ""
           }
          },
          "title": {
           "x": 0.05
          },
          "xaxis": {
           "automargin": true,
           "gridcolor": "white",
           "linecolor": "white",
           "ticks": "",
           "title": {
            "standoff": 15
           },
           "zerolinecolor": "white",
           "zerolinewidth": 2
          },
          "yaxis": {
           "automargin": true,
           "gridcolor": "white",
           "linecolor": "white",
           "ticks": "",
           "title": {
            "standoff": 15
           },
           "zerolinecolor": "white",
           "zerolinewidth": 2
          }
         }
        },
        "updatemenus": [
         {
          "buttons": [
           {
            "args": [
             null,
             {
              "frame": {
               "duration": 500,
               "redraw": true
              },
              "fromcurrent": true,
              "mode": "immediate",
              "transition": {
               "duration": 500,
               "easing": "linear"
              }
             }
            ],
            "label": "&#9654;",
            "method": "animate"
           },
           {
            "args": [
             [
              null
             ],
             {
              "frame": {
               "duration": 0,
               "redraw": true
              },
              "fromcurrent": true,
              "mode": "immediate",
              "transition": {
               "duration": 0,
               "easing": "linear"
              }
             }
            ],
            "label": "&#9724;",
            "method": "animate"
           }
          ],
          "direction": "left",
          "pad": {
           "r": 10,
           "t": 70
          },
          "showactive": false,
          "type": "buttons",
          "x": 0.1,
          "xanchor": "right",
          "y": 0,
          "yanchor": "top"
         }
        ]
       }
      },
      "text/html": [
       "<div>                            <div id=\"ba2ddbc8-5669-4d4e-a7aa-5e57de956c4b\" class=\"plotly-graph-div\" style=\"height:525px; width:100%;\"></div>            <script type=\"text/javascript\">                require([\"plotly\"], function(Plotly) {                    window.PLOTLYENV=window.PLOTLYENV || {};                                    if (document.getElementById(\"ba2ddbc8-5669-4d4e-a7aa-5e57de956c4b\")) {                    Plotly.newPlot(                        \"ba2ddbc8-5669-4d4e-a7aa-5e57de956c4b\",                        [{\"customdata\":[[\"THE CANOPY\"],[\"HEDGES PARK CONDOMINIUM\"],[\"H2O RESIDENCES\"],[\"RIVERTREES RESIDENCES\"],[\"SELETAR PARK RESIDENCE\"],[\"HIGH PARK RESIDENCES\"],[\"RIVERBANK @ FERNVALE\"],[\"THE WISTERIA\"],[\"NORTH PARK RESIDENCES\"],[\"NINE RESIDENCES\"],[\"SYMPHONY SUITES\"],[\"NORTH PARK RESIDENCES\"],[\"EDELWEISS PARK CONDOMINIUM\"],[\"THE GALE\"],[\"ESTELLA GARDENS\"],[\"LILYDALE\"],[\"FERRARIA PARK CONDOMINIUM\"],[\"CARISSA PARK CONDOMINIUM\"],[\"PALM ISLES\"],[\"DAHLIA PARK CONDOMINIUM\"],[\"PARC OLYMPIA\"],[\"PALM ISLES\"],[\"FERRARIA PARK CONDOMINIUM\"],[\"CARISSA PARK CONDOMINIUM\"],[\"AVILA GARDENS\"],[\"FERRARIA PARK CONDOMINIUM\"],[\"SIGNATURE AT YISHUN\"],[\"SELETAR PARK RESIDENCE\"],[\"H2O RESIDENCES\"],[\"FLORAVILLE\"],[\"SELETAR PARK RESIDENCE\"],[\"H2O RESIDENCES\"],[\"THE MILTONIA RESIDENCES\"],[\"EIGHT COURTYARDS\"],[\"SYMPHONY SUITES\"],[\"NORTH PARK RESIDENCES\"],[\"AZALEA PARK CONDOMINIUM\"],[\"AVILA GARDENS\"],[\"PARC OLYMPIA\"],[\"EDELWEISS PARK CONDOMINIUM\"],[\"CASA PASIR RIS\"],[\"THE ESTUARY\"],[\"ORCHID PARK CONDOMINIUM\"],[\"EUPHONY GARDENS\"],[\"LOYANG VALLEY\"],[\"NIM GARDENS\"],[\"SELETARIS\"],[\"ESTELLA GARDENS\"],[\"LOYANG VALLEY\"],[\"EUPHONY GARDENS\"],[\"LOYANG VALLEY\"],[\"PARC OLYMPIA\"],[\"BALLOTA PARK CONDOMINIUM\"],[\"LOYANG VALLEY\"],[\"SERENITY PARK\"],[\"SELETAR SPRINGS CONDOMINIUM\"],[\"THE ESTUARY\"],[\"EIGHT COURTYARDS\"],[\"THE GALE\"],[\"AZALEA PARK CONDOMINIUM\"],[\"THE GALE\"],[\"FLORAVILLE\"],[\"HEDGES PARK CONDOMINIUM\"],[\"PARC OLYMPIA\"],[\"THE NAUTICAL\"],[\"ORCHID PARK CONDOMINIUM\"],[\"EDELWEISS PARK CONDOMINIUM\"],[\"HIGH PARK RESIDENCES\"],[\"HIGH PARK RESIDENCES\"],[\"THE WISTERIA\"],[\"NORTH PARK RESIDENCES\"],[\"THE ESTUARY\"],[\"EDELWEISS PARK CONDOMINIUM\"],[\"NORTH PARK RESIDENCES\"],[\"THE ESTUARY\"],[\"PARC OLYMPIA\"],[\"H2O RESIDENCES\"],[\"HIGH PARK RESIDENCES\"],[\"RIVERBANK @ FERNVALE\"],[\"SKIES MILTONIA\"],[\"PALM ISLES\"],[\"THE INFLORA\"],[\"NINE RESIDENCES\"],[\"ESTELLA GARDENS\"],[\"THE INFLORA\"],[\"AZALEA PARK CONDOMINIUM\"],[\"EDELWEISS PARK CONDOMINIUM\"],[\"THE GALE\"],[\"LOYANG VALLEY\"],[\"BALLOTA PARK CONDOMINIUM\"],[\"HEDGES PARK CONDOMINIUM\"],[\"THE INFLORA\"],[\"BALLOTA PARK CONDOMINIUM\"],[\"THE GALE\"],[\"SUN PLAZA\"],[\"CANBERRA RESIDENCES\"],[\"SKIES MILTONIA\"],[\"RIVERBANK @ FERNVALE\"],[\"RIVERTREES RESIDENCES\"],[\"ORCHID PARK CONDOMINIUM\"],[\"NORTH PARK RESIDENCES\"],[\"SKIES MILTONIA\"],[\"THE NAUTICAL\"],[\"YISHUN EMERALD\"],[\"EIGHT COURTYARDS\"],[\"CANBERRA RESIDENCES\"],[\"NORTHWOOD\"],[\"CANBERRA RESIDENCES\"],[\"SKIES MILTONIA\"],[\"EIGHT COURTYARDS\"],[\"D'BANYAN\"],[\"PARC OLYMPIA\"],[\"ESTELLA GARDENS\"],[\"CARISSA PARK CONDOMINIUM\"],[\"DAHLIA PARK CONDOMINIUM\"],[\"FERRARIA PARK CONDOMINIUM\"],[\"CARISSA PARK CONDOMINIUM\"],[\"CARISSA PARK CONDOMINIUM\"],[\"ORCHID PARK CONDOMINIUM\"],[\"SELETAR PARK RESIDENCE\"],[\"THE GREENWICH\"],[\"NINE RESIDENCES\"],[\"THE ESTUARY\"],[\"THE GREENWICH\"],[\"SELETAR PARK RESIDENCE\"],[\"H2O RESIDENCES\"],[\"THE WISTERIA\"],[\"SYMPHONY SUITES\"],[\"HIGH PARK RESIDENCES\"],[\"SKIES MILTONIA\"],[\"ORCHID PARK CONDOMINIUM\"],[\"SYMPHONY SUITES\"],[\"CANBERRA RESIDENCES\"],[\"YISHUN EMERALD\"],[\"EUPHONY GARDENS\"]],\"hovertemplate\":\"leaseDateStr=2022-01-01<br>lat=%{lat}<br>lng=%{lon}<br>project=%{customdata[0]}<br>price_change=%{marker.color}<extra></extra>\",\"lat\":[1.4238543175594,1.35521095284251,1.39283623462094,1.39402092122499,1.38653998627,1.39638961318515,1.39459641963935,1.41844703579357,1.42866319767121,1.43281890606271,1.43456191549725,1.42866319767121,1.35639824853602,1.35900307841177,1.360285340555,1.42392837108866,1.35736420475575,1.35917121402077,1.35688865505981,1.35941809852708,1.35531040259148,1.35688865505981,1.35736420475575,1.35917121402077,1.36015764334241,1.35736420475575,1.41696952433092,1.38653998627,1.39283623462094,1.39185235684708,1.38653998627,1.39283623462094,1.41750734534379,1.43795645154437,1.43456191549725,1.42866319767121,1.36073621566409,1.36015764334241,1.35531040259148,1.35639824853602,1.37939195187997,1.41104826332535,1.41345822654196,1.42547005593325,1.36849628172236,1.38143238111123,1.4358492226796,1.360285340555,1.36849628172236,1.42547005593325,1.36849628172236,1.35531040259148,1.35887799120341,1.36849628172236,1.38822776284514,1.38820037710408,1.41104826332535,1.43795645154437,1.35900307841177,1.36073621566409,1.35900307841177,1.39185235684708,1.35521095284251,1.35531040259148,1.44363473207597,1.41345822654196,1.35639824853602,1.39638961318515,1.39638961318515,1.41844703579357,1.42866319767121,1.41104826332535,1.35639824853602,1.42866319767121,1.41104826332535,1.35531040259148,1.39283623462094,1.39638961318515,1.39459641963935,1.41807139495834,1.35688865505981,1.35632843123308,1.43281890606271,1.360285340555,1.35632843123308,1.36073621566409,1.35639824853602,1.35900307841177,1.36849628172236,1.35887799120341,1.35521095284251,1.35632843123308,1.35887799120341,1.35900307841177,1.44819436804175,1.44447954944853,1.41807139495834,1.39459641963935,1.39402092122499,1.41345822654196,1.42866319767121,1.41807139495834,1.44363473207597,1.43911656257616,1.43795645154437,1.44447954944853,1.42692706476903,1.44447954944853,1.41807139495834,1.43795645154437,1.44403787932825,1.35531040259148,1.360285340555,1.35917121402077,1.35941809852708,1.35736420475575,1.35917121402077,1.35917121402077,1.41345822654196,1.38653998627,1.38718841691871,1.43281890606271,1.41104826332535,1.38718841691871,1.38653998627,1.39283623462094,1.41844703579357,1.43456191549725,1.39638961318515,1.41807139495834,1.41345822654196,1.43456191549725,1.44447954944853,1.43911656257616,1.42547005593325],\"legendgroup\":\"\",\"lon\":[103.848078487443,103.966422045067,103.87967806826,103.881215058062,103.869207772374,103.875132778517,103.881117176349,103.841112412447,103.835828704052,103.841477613841,103.844362842957,103.835828704052,103.96773406082,103.96686932054,103.966516198261,103.849332055297,103.963972049935,103.963631516169,103.964194147192,103.965393923725,103.965525604183,103.964194147192,103.963972049935,103.963631516169,103.965165224191,103.963972049935,103.84455199927,103.869207772374,103.87967806826,103.851179877786,103.869207772374,103.87967806826,103.847659418224,103.830995368522,103.844362842957,103.835828704052,103.963299396559,103.965165224191,103.965525604183,103.96773406082,103.96368774531,103.832513245026,103.835186431485,103.824969746542,103.970019150268,103.863043130131,103.824971641966,103.966516198261,103.970019150268,103.824969746542,103.970019150268,103.965525604183,103.96852443877,103.970019150268,103.858740468004,103.878493859317,103.832513245026,103.830995368522,103.96686932054,103.963299396559,103.96686932054,103.851179877786,103.966422045067,103.965525604183,103.825253279684,103.835186431485,103.96773406082,103.875132778517,103.875132778517,103.841112412447,103.835828704052,103.832513245026,103.96773406082,103.835828704052,103.832513245026,103.965525604183,103.87967806826,103.875132778517,103.881117176349,103.84790678249,103.964194147192,103.966578200418,103.841477613841,103.966516198261,103.966578200418,103.963299396559,103.96773406082,103.96686932054,103.970019150268,103.96852443877,103.966422045067,103.966578200418,103.96852443877,103.96686932054,103.819464386349,103.825437324844,103.84790678249,103.881117176349,103.881215058062,103.835186431485,103.835828704052,103.84790678249,103.825253279684,103.830253676903,103.830995368522,103.825437324844,103.82405303932,103.825437324844,103.84790678249,103.830995368522,103.825036650569,103.965525604183,103.966516198261,103.963631516169,103.965393923725,103.963972049935,103.963631516169,103.963631516169,103.835186431485,103.869207772374,103.869337214926,103.841477613841,103.832513245026,103.869337214926,103.869207772374,103.87967806826,103.841112412447,103.844362842957,103.875132778517,103.84790678249,103.835186431485,103.844362842957,103.825437324844,103.830253676903,103.824969746542],\"marker\":{\"color\":[0.10416666666666667,0.09523809523809523,0.045454545454545456,0.15,0.0,0.0989010989010989,-0.03571428571428571,0.0,0.17857142857142858,0.4868421052631579,0.1,0.03571428571428571,0.02857142857142857,0.08450704225352113,0.15714285714285714,-0.10714285714285714,0.03571428571428571,0.0,-0.023809523809523808,0.26666666666666666,0.3875,0.38095238095238093,0.07865168539325842,0.27058823529411763,0.10526315789473684,-0.10112359550561797,0.08333333333333333,0.16304347826086957,0.0,0.16981132075471697,0.021739130434782608,-0.06818181818181818,0.19047619047619047,0.056818181818181816,0.375,0.038461538461538464,0.13043478260869565,0.01818181818181818,0.3,0.05555555555555555,0.05952380952380952,0.1111111111111111,0.2830188679245283,0.0,0.10714285714285714,0.1388888888888889,0.25,0.037037037037037035,0.21904761904761905,0.13043478260869565,0.0196078431372549,0.04054054054054054,0.0,0.09803921568627451,0.008695652173913044,0.010526315789473684,0.1794871794871795,0.0,0.28,0.04838709677419355,0.25,0.0,0.0,0.08333333333333333,0.16,0.0660377358490566,0.02857142857142857,0.011494252873563218,0.06896551724137931,0.09523809523809523,0.2235294117647059,0.25,0.02736726874657909,0.06382978723404255,0.16666666666666666,0.05555555555555555,0.041666666666666664,0.25333333333333335,0.04225352112676056,0.046875,0.04054054054054054,0.014492753623188406,0.05,0.25333333333333335,0.5,0.19047619047619047,0.024390243902439025,0.13333333333333333,0.23809523809523808,0.075,0.32,0.041666666666666664,0.125,0.10465116279069768,0.0,0.08,0.3469387755102041,-0.04791666666666667,0.0,0.375,0.02531645569620253,0.08,0.05,0.10891089108910891,0.1559633027522936,-0.09090909090909091,0.0,0.21739130434782608,0.12,0.5412844036697247,0.0,0.25925925925925924,0.011627906976744186,0.0,0.25,0.021739130434782608,0.2682926829268293,0.076,0.25,0.20930232558139536,0.046511627906976744,0.0392156862745098,-0.02,0.2558139534883721,0.3488372093023256,0.043478260869565216,0.08,-0.018867924528301886,0.18,0.10679611650485436,0.10526315789473684,0.2169811320754717,0.0,0.3176470588235294,0.011494252873563218],\"coloraxis\":\"coloraxis\"},\"mode\":\"markers\",\"name\":\"\",\"showlegend\":false,\"subplot\":\"mapbox\",\"type\":\"scattermapbox\"}],                        {\"template\":{\"data\":{\"bar\":[{\"error_x\":{\"color\":\"#2a3f5f\"},\"error_y\":{\"color\":\"#2a3f5f\"},\"marker\":{\"line\":{\"color\":\"#E5ECF6\",\"width\":0.5},\"pattern\":{\"fillmode\":\"overlay\",\"size\":10,\"solidity\":0.2}},\"type\":\"bar\"}],\"barpolar\":[{\"marker\":{\"line\":{\"color\":\"#E5ECF6\",\"width\":0.5},\"pattern\":{\"fillmode\":\"overlay\",\"size\":10,\"solidity\":0.2}},\"type\":\"barpolar\"}],\"carpet\":[{\"aaxis\":{\"endlinecolor\":\"#2a3f5f\",\"gridcolor\":\"white\",\"linecolor\":\"white\",\"minorgridcolor\":\"white\",\"startlinecolor\":\"#2a3f5f\"},\"baxis\":{\"endlinecolor\":\"#2a3f5f\",\"gridcolor\":\"white\",\"linecolor\":\"white\",\"minorgridcolor\":\"white\",\"startlinecolor\":\"#2a3f5f\"},\"type\":\"carpet\"}],\"choropleth\":[{\"colorbar\":{\"outlinewidth\":0,\"ticks\":\"\"},\"type\":\"choropleth\"}],\"contour\":[{\"colorbar\":{\"outlinewidth\":0,\"ticks\":\"\"},\"colorscale\":[[0.0,\"#0d0887\"],[0.1111111111111111,\"#46039f\"],[0.2222222222222222,\"#7201a8\"],[0.3333333333333333,\"#9c179e\"],[0.4444444444444444,\"#bd3786\"],[0.5555555555555556,\"#d8576b\"],[0.6666666666666666,\"#ed7953\"],[0.7777777777777778,\"#fb9f3a\"],[0.8888888888888888,\"#fdca26\"],[1.0,\"#f0f921\"]],\"type\":\"contour\"}],\"contourcarpet\":[{\"colorbar\":{\"outlinewidth\":0,\"ticks\":\"\"},\"type\":\"contourcarpet\"}],\"heatmap\":[{\"colorbar\":{\"outlinewidth\":0,\"ticks\":\"\"},\"colorscale\":[[0.0,\"#0d0887\"],[0.1111111111111111,\"#46039f\"],[0.2222222222222222,\"#7201a8\"],[0.3333333333333333,\"#9c179e\"],[0.4444444444444444,\"#bd3786\"],[0.5555555555555556,\"#d8576b\"],[0.6666666666666666,\"#ed7953\"],[0.7777777777777778,\"#fb9f3a\"],[0.8888888888888888,\"#fdca26\"],[1.0,\"#f0f921\"]],\"type\":\"heatmap\"}],\"heatmapgl\":[{\"colorbar\":{\"outlinewidth\":0,\"ticks\":\"\"},\"colorscale\":[[0.0,\"#0d0887\"],[0.1111111111111111,\"#46039f\"],[0.2222222222222222,\"#7201a8\"],[0.3333333333333333,\"#9c179e\"],[0.4444444444444444,\"#bd3786\"],[0.5555555555555556,\"#d8576b\"],[0.6666666666666666,\"#ed7953\"],[0.7777777777777778,\"#fb9f3a\"],[0.8888888888888888,\"#fdca26\"],[1.0,\"#f0f921\"]],\"type\":\"heatmapgl\"}],\"histogram\":[{\"marker\":{\"pattern\":{\"fillmode\":\"overlay\",\"size\":10,\"solidity\":0.2}},\"type\":\"histogram\"}],\"histogram2d\":[{\"colorbar\":{\"outlinewidth\":0,\"ticks\":\"\"},\"colorscale\":[[0.0,\"#0d0887\"],[0.1111111111111111,\"#46039f\"],[0.2222222222222222,\"#7201a8\"],[0.3333333333333333,\"#9c179e\"],[0.4444444444444444,\"#bd3786\"],[0.5555555555555556,\"#d8576b\"],[0.6666666666666666,\"#ed7953\"],[0.7777777777777778,\"#fb9f3a\"],[0.8888888888888888,\"#fdca26\"],[1.0,\"#f0f921\"]],\"type\":\"histogram2d\"}],\"histogram2dcontour\":[{\"colorbar\":{\"outlinewidth\":0,\"ticks\":\"\"},\"colorscale\":[[0.0,\"#0d0887\"],[0.1111111111111111,\"#46039f\"],[0.2222222222222222,\"#7201a8\"],[0.3333333333333333,\"#9c179e\"],[0.4444444444444444,\"#bd3786\"],[0.5555555555555556,\"#d8576b\"],[0.6666666666666666,\"#ed7953\"],[0.7777777777777778,\"#fb9f3a\"],[0.8888888888888888,\"#fdca26\"],[1.0,\"#f0f921\"]],\"type\":\"histogram2dcontour\"}],\"mesh3d\":[{\"colorbar\":{\"outlinewidth\":0,\"ticks\":\"\"},\"type\":\"mesh3d\"}],\"parcoords\":[{\"line\":{\"colorbar\":{\"outlinewidth\":0,\"ticks\":\"\"}},\"type\":\"parcoords\"}],\"pie\":[{\"automargin\":true,\"type\":\"pie\"}],\"scatter\":[{\"marker\":{\"colorbar\":{\"outlinewidth\":0,\"ticks\":\"\"}},\"type\":\"scatter\"}],\"scatter3d\":[{\"line\":{\"colorbar\":{\"outlinewidth\":0,\"ticks\":\"\"}},\"marker\":{\"colorbar\":{\"outlinewidth\":0,\"ticks\":\"\"}},\"type\":\"scatter3d\"}],\"scattercarpet\":[{\"marker\":{\"colorbar\":{\"outlinewidth\":0,\"ticks\":\"\"}},\"type\":\"scattercarpet\"}],\"scattergeo\":[{\"marker\":{\"colorbar\":{\"outlinewidth\":0,\"ticks\":\"\"}},\"type\":\"scattergeo\"}],\"scattergl\":[{\"marker\":{\"colorbar\":{\"outlinewidth\":0,\"ticks\":\"\"}},\"type\":\"scattergl\"}],\"scattermapbox\":[{\"marker\":{\"colorbar\":{\"outlinewidth\":0,\"ticks\":\"\"}},\"type\":\"scattermapbox\"}],\"scatterpolar\":[{\"marker\":{\"colorbar\":{\"outlinewidth\":0,\"ticks\":\"\"}},\"type\":\"scatterpolar\"}],\"scatterpolargl\":[{\"marker\":{\"colorbar\":{\"outlinewidth\":0,\"ticks\":\"\"}},\"type\":\"scatterpolargl\"}],\"scatterternary\":[{\"marker\":{\"colorbar\":{\"outlinewidth\":0,\"ticks\":\"\"}},\"type\":\"scatterternary\"}],\"surface\":[{\"colorbar\":{\"outlinewidth\":0,\"ticks\":\"\"},\"colorscale\":[[0.0,\"#0d0887\"],[0.1111111111111111,\"#46039f\"],[0.2222222222222222,\"#7201a8\"],[0.3333333333333333,\"#9c179e\"],[0.4444444444444444,\"#bd3786\"],[0.5555555555555556,\"#d8576b\"],[0.6666666666666666,\"#ed7953\"],[0.7777777777777778,\"#fb9f3a\"],[0.8888888888888888,\"#fdca26\"],[1.0,\"#f0f921\"]],\"type\":\"surface\"}],\"table\":[{\"cells\":{\"fill\":{\"color\":\"#EBF0F8\"},\"line\":{\"color\":\"white\"}},\"header\":{\"fill\":{\"color\":\"#C8D4E3\"},\"line\":{\"color\":\"white\"}},\"type\":\"table\"}]},\"layout\":{\"annotationdefaults\":{\"arrowcolor\":\"#2a3f5f\",\"arrowhead\":0,\"arrowwidth\":1},\"autotypenumbers\":\"strict\",\"coloraxis\":{\"colorbar\":{\"outlinewidth\":0,\"ticks\":\"\"}},\"colorscale\":{\"diverging\":[[0,\"#8e0152\"],[0.1,\"#c51b7d\"],[0.2,\"#de77ae\"],[0.3,\"#f1b6da\"],[0.4,\"#fde0ef\"],[0.5,\"#f7f7f7\"],[0.6,\"#e6f5d0\"],[0.7,\"#b8e186\"],[0.8,\"#7fbc41\"],[0.9,\"#4d9221\"],[1,\"#276419\"]],\"sequential\":[[0.0,\"#0d0887\"],[0.1111111111111111,\"#46039f\"],[0.2222222222222222,\"#7201a8\"],[0.3333333333333333,\"#9c179e\"],[0.4444444444444444,\"#bd3786\"],[0.5555555555555556,\"#d8576b\"],[0.6666666666666666,\"#ed7953\"],[0.7777777777777778,\"#fb9f3a\"],[0.8888888888888888,\"#fdca26\"],[1.0,\"#f0f921\"]],\"sequentialminus\":[[0.0,\"#0d0887\"],[0.1111111111111111,\"#46039f\"],[0.2222222222222222,\"#7201a8\"],[0.3333333333333333,\"#9c179e\"],[0.4444444444444444,\"#bd3786\"],[0.5555555555555556,\"#d8576b\"],[0.6666666666666666,\"#ed7953\"],[0.7777777777777778,\"#fb9f3a\"],[0.8888888888888888,\"#fdca26\"],[1.0,\"#f0f921\"]]},\"colorway\":[\"#636efa\",\"#EF553B\",\"#00cc96\",\"#ab63fa\",\"#FFA15A\",\"#19d3f3\",\"#FF6692\",\"#B6E880\",\"#FF97FF\",\"#FECB52\"],\"font\":{\"color\":\"#2a3f5f\"},\"geo\":{\"bgcolor\":\"white\",\"lakecolor\":\"white\",\"landcolor\":\"#E5ECF6\",\"showlakes\":true,\"showland\":true,\"subunitcolor\":\"white\"},\"hoverlabel\":{\"align\":\"left\"},\"hovermode\":\"closest\",\"mapbox\":{\"style\":\"light\"},\"paper_bgcolor\":\"white\",\"plot_bgcolor\":\"#E5ECF6\",\"polar\":{\"angularaxis\":{\"gridcolor\":\"white\",\"linecolor\":\"white\",\"ticks\":\"\"},\"bgcolor\":\"#E5ECF6\",\"radialaxis\":{\"gridcolor\":\"white\",\"linecolor\":\"white\",\"ticks\":\"\"}},\"scene\":{\"xaxis\":{\"backgroundcolor\":\"#E5ECF6\",\"gridcolor\":\"white\",\"gridwidth\":2,\"linecolor\":\"white\",\"showbackground\":true,\"ticks\":\"\",\"zerolinecolor\":\"white\"},\"yaxis\":{\"backgroundcolor\":\"#E5ECF6\",\"gridcolor\":\"white\",\"gridwidth\":2,\"linecolor\":\"white\",\"showbackground\":true,\"ticks\":\"\",\"zerolinecolor\":\"white\"},\"zaxis\":{\"backgroundcolor\":\"#E5ECF6\",\"gridcolor\":\"white\",\"gridwidth\":2,\"linecolor\":\"white\",\"showbackground\":true,\"ticks\":\"\",\"zerolinecolor\":\"white\"}},\"shapedefaults\":{\"line\":{\"color\":\"#2a3f5f\"}},\"ternary\":{\"aaxis\":{\"gridcolor\":\"white\",\"linecolor\":\"white\",\"ticks\":\"\"},\"baxis\":{\"gridcolor\":\"white\",\"linecolor\":\"white\",\"ticks\":\"\"},\"bgcolor\":\"#E5ECF6\",\"caxis\":{\"gridcolor\":\"white\",\"linecolor\":\"white\",\"ticks\":\"\"}},\"title\":{\"x\":0.05},\"xaxis\":{\"automargin\":true,\"gridcolor\":\"white\",\"linecolor\":\"white\",\"ticks\":\"\",\"title\":{\"standoff\":15},\"zerolinecolor\":\"white\",\"zerolinewidth\":2},\"yaxis\":{\"automargin\":true,\"gridcolor\":\"white\",\"linecolor\":\"white\",\"ticks\":\"\",\"title\":{\"standoff\":15},\"zerolinecolor\":\"white\",\"zerolinewidth\":2}}},\"mapbox\":{\"domain\":{\"x\":[0.0,1.0],\"y\":[0.0,1.0]},\"center\":{\"lat\":1.392549287934232,\"lon\":103.89615051309502},\"zoom\":11,\"style\":\"carto-positron\"},\"coloraxis\":{\"colorbar\":{\"title\":{\"text\":\"price_change\"}},\"colorscale\":[[0.0,\"#0d0887\"],[0.1111111111111111,\"#46039f\"],[0.2222222222222222,\"#7201a8\"],[0.3333333333333333,\"#9c179e\"],[0.4444444444444444,\"#bd3786\"],[0.5555555555555556,\"#d8576b\"],[0.6666666666666666,\"#ed7953\"],[0.7777777777777778,\"#fb9f3a\"],[0.8888888888888888,\"#fdca26\"],[1.0,\"#f0f921\"]],\"cmin\":-0.1192063492063492,\"cmax\":0.8273199221284868},\"legend\":{\"tracegroupgap\":0},\"margin\":{\"t\":0,\"l\":0,\"r\":0,\"b\":0},\"updatemenus\":[{\"buttons\":[{\"args\":[null,{\"frame\":{\"duration\":500,\"redraw\":true},\"mode\":\"immediate\",\"fromcurrent\":true,\"transition\":{\"duration\":500,\"easing\":\"linear\"}}],\"label\":\"&#9654;\",\"method\":\"animate\"},{\"args\":[[null],{\"frame\":{\"duration\":0,\"redraw\":true},\"mode\":\"immediate\",\"fromcurrent\":true,\"transition\":{\"duration\":0,\"easing\":\"linear\"}}],\"label\":\"&#9724;\",\"method\":\"animate\"}],\"direction\":\"left\",\"pad\":{\"r\":10,\"t\":70},\"showactive\":false,\"type\":\"buttons\",\"x\":0.1,\"xanchor\":\"right\",\"y\":0,\"yanchor\":\"top\"}],\"sliders\":[{\"active\":0,\"currentvalue\":{\"prefix\":\"leaseDateStr=\"},\"len\":0.9,\"pad\":{\"b\":10,\"t\":60},\"steps\":[{\"args\":[[\"2022-01-01\"],{\"frame\":{\"duration\":0,\"redraw\":true},\"mode\":\"immediate\",\"fromcurrent\":true,\"transition\":{\"duration\":0,\"easing\":\"linear\"}}],\"label\":\"2022-01-01\",\"method\":\"animate\"},{\"args\":[[\"2022-02-01\"],{\"frame\":{\"duration\":0,\"redraw\":true},\"mode\":\"immediate\",\"fromcurrent\":true,\"transition\":{\"duration\":0,\"easing\":\"linear\"}}],\"label\":\"2022-02-01\",\"method\":\"animate\"},{\"args\":[[\"2022-03-01\"],{\"frame\":{\"duration\":0,\"redraw\":true},\"mode\":\"immediate\",\"fromcurrent\":true,\"transition\":{\"duration\":0,\"easing\":\"linear\"}}],\"label\":\"2022-03-01\",\"method\":\"animate\"},{\"args\":[[\"2022-04-01\"],{\"frame\":{\"duration\":0,\"redraw\":true},\"mode\":\"immediate\",\"fromcurrent\":true,\"transition\":{\"duration\":0,\"easing\":\"linear\"}}],\"label\":\"2022-04-01\",\"method\":\"animate\"},{\"args\":[[\"2022-05-01\"],{\"frame\":{\"duration\":0,\"redraw\":true},\"mode\":\"immediate\",\"fromcurrent\":true,\"transition\":{\"duration\":0,\"easing\":\"linear\"}}],\"label\":\"2022-05-01\",\"method\":\"animate\"},{\"args\":[[\"2022-06-01\"],{\"frame\":{\"duration\":0,\"redraw\":true},\"mode\":\"immediate\",\"fromcurrent\":true,\"transition\":{\"duration\":0,\"easing\":\"linear\"}}],\"label\":\"2022-06-01\",\"method\":\"animate\"},{\"args\":[[\"2022-07-01\"],{\"frame\":{\"duration\":0,\"redraw\":true},\"mode\":\"immediate\",\"fromcurrent\":true,\"transition\":{\"duration\":0,\"easing\":\"linear\"}}],\"label\":\"2022-07-01\",\"method\":\"animate\"},{\"args\":[[\"2022-08-01\"],{\"frame\":{\"duration\":0,\"redraw\":true},\"mode\":\"immediate\",\"fromcurrent\":true,\"transition\":{\"duration\":0,\"easing\":\"linear\"}}],\"label\":\"2022-08-01\",\"method\":\"animate\"},{\"args\":[[\"2022-09-01\"],{\"frame\":{\"duration\":0,\"redraw\":true},\"mode\":\"immediate\",\"fromcurrent\":true,\"transition\":{\"duration\":0,\"easing\":\"linear\"}}],\"label\":\"2022-09-01\",\"method\":\"animate\"},{\"args\":[[\"2022-10-01\"],{\"frame\":{\"duration\":0,\"redraw\":true},\"mode\":\"immediate\",\"fromcurrent\":true,\"transition\":{\"duration\":0,\"easing\":\"linear\"}}],\"label\":\"2022-10-01\",\"method\":\"animate\"},{\"args\":[[\"2022-11-01\"],{\"frame\":{\"duration\":0,\"redraw\":true},\"mode\":\"immediate\",\"fromcurrent\":true,\"transition\":{\"duration\":0,\"easing\":\"linear\"}}],\"label\":\"2022-11-01\",\"method\":\"animate\"},{\"args\":[[\"2022-12-01\"],{\"frame\":{\"duration\":0,\"redraw\":true},\"mode\":\"immediate\",\"fromcurrent\":true,\"transition\":{\"duration\":0,\"easing\":\"linear\"}}],\"label\":\"2022-12-01\",\"method\":\"animate\"},{\"args\":[[\"2023-01-01\"],{\"frame\":{\"duration\":0,\"redraw\":true},\"mode\":\"immediate\",\"fromcurrent\":true,\"transition\":{\"duration\":0,\"easing\":\"linear\"}}],\"label\":\"2023-01-01\",\"method\":\"animate\"},{\"args\":[[\"2023-02-01\"],{\"frame\":{\"duration\":0,\"redraw\":true},\"mode\":\"immediate\",\"fromcurrent\":true,\"transition\":{\"duration\":0,\"easing\":\"linear\"}}],\"label\":\"2023-02-01\",\"method\":\"animate\"}],\"x\":0.1,\"xanchor\":\"left\",\"y\":0,\"yanchor\":\"top\"}]},                        {\"responsive\": true}                    ).then(function(){\n",
       "                            Plotly.addFrames('ba2ddbc8-5669-4d4e-a7aa-5e57de956c4b', [{\"data\":[{\"customdata\":[[\"THE CANOPY\"],[\"HEDGES PARK CONDOMINIUM\"],[\"H2O RESIDENCES\"],[\"RIVERTREES RESIDENCES\"],[\"SELETAR PARK RESIDENCE\"],[\"HIGH PARK RESIDENCES\"],[\"RIVERBANK @ FERNVALE\"],[\"THE WISTERIA\"],[\"NORTH PARK RESIDENCES\"],[\"NINE RESIDENCES\"],[\"SYMPHONY SUITES\"],[\"NORTH PARK RESIDENCES\"],[\"EDELWEISS PARK CONDOMINIUM\"],[\"THE GALE\"],[\"ESTELLA GARDENS\"],[\"LILYDALE\"],[\"FERRARIA PARK CONDOMINIUM\"],[\"CARISSA PARK CONDOMINIUM\"],[\"PALM ISLES\"],[\"DAHLIA PARK CONDOMINIUM\"],[\"PARC OLYMPIA\"],[\"PALM ISLES\"],[\"FERRARIA PARK CONDOMINIUM\"],[\"CARISSA PARK CONDOMINIUM\"],[\"AVILA GARDENS\"],[\"FERRARIA PARK CONDOMINIUM\"],[\"SIGNATURE AT YISHUN\"],[\"SELETAR PARK RESIDENCE\"],[\"H2O RESIDENCES\"],[\"FLORAVILLE\"],[\"SELETAR PARK RESIDENCE\"],[\"H2O RESIDENCES\"],[\"THE MILTONIA RESIDENCES\"],[\"EIGHT COURTYARDS\"],[\"SYMPHONY SUITES\"],[\"NORTH PARK RESIDENCES\"],[\"AZALEA PARK CONDOMINIUM\"],[\"AVILA GARDENS\"],[\"PARC OLYMPIA\"],[\"EDELWEISS PARK CONDOMINIUM\"],[\"CASA PASIR RIS\"],[\"THE ESTUARY\"],[\"ORCHID PARK CONDOMINIUM\"],[\"EUPHONY GARDENS\"],[\"LOYANG VALLEY\"],[\"NIM GARDENS\"],[\"SELETARIS\"],[\"ESTELLA GARDENS\"],[\"LOYANG VALLEY\"],[\"EUPHONY GARDENS\"],[\"LOYANG VALLEY\"],[\"PARC OLYMPIA\"],[\"BALLOTA PARK CONDOMINIUM\"],[\"LOYANG VALLEY\"],[\"SERENITY PARK\"],[\"SELETAR SPRINGS CONDOMINIUM\"],[\"THE ESTUARY\"],[\"EIGHT COURTYARDS\"],[\"THE GALE\"],[\"AZALEA PARK CONDOMINIUM\"],[\"THE GALE\"],[\"FLORAVILLE\"],[\"HEDGES PARK CONDOMINIUM\"],[\"PARC OLYMPIA\"],[\"THE NAUTICAL\"],[\"ORCHID PARK CONDOMINIUM\"],[\"EDELWEISS PARK CONDOMINIUM\"],[\"HIGH PARK RESIDENCES\"],[\"HIGH PARK RESIDENCES\"],[\"THE WISTERIA\"],[\"NORTH PARK RESIDENCES\"],[\"THE ESTUARY\"],[\"EDELWEISS PARK CONDOMINIUM\"],[\"NORTH PARK RESIDENCES\"],[\"THE ESTUARY\"],[\"PARC OLYMPIA\"],[\"H2O RESIDENCES\"],[\"HIGH PARK RESIDENCES\"],[\"RIVERBANK @ FERNVALE\"],[\"SKIES MILTONIA\"],[\"PALM ISLES\"],[\"THE INFLORA\"],[\"NINE RESIDENCES\"],[\"ESTELLA GARDENS\"],[\"THE INFLORA\"],[\"AZALEA PARK CONDOMINIUM\"],[\"EDELWEISS PARK CONDOMINIUM\"],[\"THE GALE\"],[\"LOYANG VALLEY\"],[\"BALLOTA PARK CONDOMINIUM\"],[\"HEDGES PARK CONDOMINIUM\"],[\"THE INFLORA\"],[\"BALLOTA PARK CONDOMINIUM\"],[\"THE GALE\"],[\"SUN PLAZA\"],[\"CANBERRA RESIDENCES\"],[\"SKIES MILTONIA\"],[\"RIVERBANK @ FERNVALE\"],[\"RIVERTREES RESIDENCES\"],[\"ORCHID PARK CONDOMINIUM\"],[\"NORTH PARK RESIDENCES\"],[\"SKIES MILTONIA\"],[\"THE NAUTICAL\"],[\"YISHUN EMERALD\"],[\"EIGHT COURTYARDS\"],[\"CANBERRA RESIDENCES\"],[\"NORTHWOOD\"],[\"CANBERRA RESIDENCES\"],[\"SKIES MILTONIA\"],[\"EIGHT COURTYARDS\"],[\"D'BANYAN\"],[\"PARC OLYMPIA\"],[\"ESTELLA GARDENS\"],[\"CARISSA PARK CONDOMINIUM\"],[\"DAHLIA PARK CONDOMINIUM\"],[\"FERRARIA PARK CONDOMINIUM\"],[\"CARISSA PARK CONDOMINIUM\"],[\"CARISSA PARK CONDOMINIUM\"],[\"ORCHID PARK CONDOMINIUM\"],[\"SELETAR PARK RESIDENCE\"],[\"THE GREENWICH\"],[\"NINE RESIDENCES\"],[\"THE ESTUARY\"],[\"THE GREENWICH\"],[\"SELETAR PARK RESIDENCE\"],[\"H2O RESIDENCES\"],[\"THE WISTERIA\"],[\"SYMPHONY SUITES\"],[\"HIGH PARK RESIDENCES\"],[\"SKIES MILTONIA\"],[\"ORCHID PARK CONDOMINIUM\"],[\"SYMPHONY SUITES\"],[\"CANBERRA RESIDENCES\"],[\"YISHUN EMERALD\"],[\"EUPHONY GARDENS\"]],\"hovertemplate\":\"leaseDateStr=2022-01-01<br>lat=%{lat}<br>lng=%{lon}<br>project=%{customdata[0]}<br>price_change=%{marker.color}<extra></extra>\",\"lat\":[1.4238543175594,1.35521095284251,1.39283623462094,1.39402092122499,1.38653998627,1.39638961318515,1.39459641963935,1.41844703579357,1.42866319767121,1.43281890606271,1.43456191549725,1.42866319767121,1.35639824853602,1.35900307841177,1.360285340555,1.42392837108866,1.35736420475575,1.35917121402077,1.35688865505981,1.35941809852708,1.35531040259148,1.35688865505981,1.35736420475575,1.35917121402077,1.36015764334241,1.35736420475575,1.41696952433092,1.38653998627,1.39283623462094,1.39185235684708,1.38653998627,1.39283623462094,1.41750734534379,1.43795645154437,1.43456191549725,1.42866319767121,1.36073621566409,1.36015764334241,1.35531040259148,1.35639824853602,1.37939195187997,1.41104826332535,1.41345822654196,1.42547005593325,1.36849628172236,1.38143238111123,1.4358492226796,1.360285340555,1.36849628172236,1.42547005593325,1.36849628172236,1.35531040259148,1.35887799120341,1.36849628172236,1.38822776284514,1.38820037710408,1.41104826332535,1.43795645154437,1.35900307841177,1.36073621566409,1.35900307841177,1.39185235684708,1.35521095284251,1.35531040259148,1.44363473207597,1.41345822654196,1.35639824853602,1.39638961318515,1.39638961318515,1.41844703579357,1.42866319767121,1.41104826332535,1.35639824853602,1.42866319767121,1.41104826332535,1.35531040259148,1.39283623462094,1.39638961318515,1.39459641963935,1.41807139495834,1.35688865505981,1.35632843123308,1.43281890606271,1.360285340555,1.35632843123308,1.36073621566409,1.35639824853602,1.35900307841177,1.36849628172236,1.35887799120341,1.35521095284251,1.35632843123308,1.35887799120341,1.35900307841177,1.44819436804175,1.44447954944853,1.41807139495834,1.39459641963935,1.39402092122499,1.41345822654196,1.42866319767121,1.41807139495834,1.44363473207597,1.43911656257616,1.43795645154437,1.44447954944853,1.42692706476903,1.44447954944853,1.41807139495834,1.43795645154437,1.44403787932825,1.35531040259148,1.360285340555,1.35917121402077,1.35941809852708,1.35736420475575,1.35917121402077,1.35917121402077,1.41345822654196,1.38653998627,1.38718841691871,1.43281890606271,1.41104826332535,1.38718841691871,1.38653998627,1.39283623462094,1.41844703579357,1.43456191549725,1.39638961318515,1.41807139495834,1.41345822654196,1.43456191549725,1.44447954944853,1.43911656257616,1.42547005593325],\"legendgroup\":\"\",\"lon\":[103.848078487443,103.966422045067,103.87967806826,103.881215058062,103.869207772374,103.875132778517,103.881117176349,103.841112412447,103.835828704052,103.841477613841,103.844362842957,103.835828704052,103.96773406082,103.96686932054,103.966516198261,103.849332055297,103.963972049935,103.963631516169,103.964194147192,103.965393923725,103.965525604183,103.964194147192,103.963972049935,103.963631516169,103.965165224191,103.963972049935,103.84455199927,103.869207772374,103.87967806826,103.851179877786,103.869207772374,103.87967806826,103.847659418224,103.830995368522,103.844362842957,103.835828704052,103.963299396559,103.965165224191,103.965525604183,103.96773406082,103.96368774531,103.832513245026,103.835186431485,103.824969746542,103.970019150268,103.863043130131,103.824971641966,103.966516198261,103.970019150268,103.824969746542,103.970019150268,103.965525604183,103.96852443877,103.970019150268,103.858740468004,103.878493859317,103.832513245026,103.830995368522,103.96686932054,103.963299396559,103.96686932054,103.851179877786,103.966422045067,103.965525604183,103.825253279684,103.835186431485,103.96773406082,103.875132778517,103.875132778517,103.841112412447,103.835828704052,103.832513245026,103.96773406082,103.835828704052,103.832513245026,103.965525604183,103.87967806826,103.875132778517,103.881117176349,103.84790678249,103.964194147192,103.966578200418,103.841477613841,103.966516198261,103.966578200418,103.963299396559,103.96773406082,103.96686932054,103.970019150268,103.96852443877,103.966422045067,103.966578200418,103.96852443877,103.96686932054,103.819464386349,103.825437324844,103.84790678249,103.881117176349,103.881215058062,103.835186431485,103.835828704052,103.84790678249,103.825253279684,103.830253676903,103.830995368522,103.825437324844,103.82405303932,103.825437324844,103.84790678249,103.830995368522,103.825036650569,103.965525604183,103.966516198261,103.963631516169,103.965393923725,103.963972049935,103.963631516169,103.963631516169,103.835186431485,103.869207772374,103.869337214926,103.841477613841,103.832513245026,103.869337214926,103.869207772374,103.87967806826,103.841112412447,103.844362842957,103.875132778517,103.84790678249,103.835186431485,103.844362842957,103.825437324844,103.830253676903,103.824969746542],\"marker\":{\"color\":[0.10416666666666667,0.09523809523809523,0.045454545454545456,0.15,0.0,0.0989010989010989,-0.03571428571428571,0.0,0.17857142857142858,0.4868421052631579,0.1,0.03571428571428571,0.02857142857142857,0.08450704225352113,0.15714285714285714,-0.10714285714285714,0.03571428571428571,0.0,-0.023809523809523808,0.26666666666666666,0.3875,0.38095238095238093,0.07865168539325842,0.27058823529411763,0.10526315789473684,-0.10112359550561797,0.08333333333333333,0.16304347826086957,0.0,0.16981132075471697,0.021739130434782608,-0.06818181818181818,0.19047619047619047,0.056818181818181816,0.375,0.038461538461538464,0.13043478260869565,0.01818181818181818,0.3,0.05555555555555555,0.05952380952380952,0.1111111111111111,0.2830188679245283,0.0,0.10714285714285714,0.1388888888888889,0.25,0.037037037037037035,0.21904761904761905,0.13043478260869565,0.0196078431372549,0.04054054054054054,0.0,0.09803921568627451,0.008695652173913044,0.010526315789473684,0.1794871794871795,0.0,0.28,0.04838709677419355,0.25,0.0,0.0,0.08333333333333333,0.16,0.0660377358490566,0.02857142857142857,0.011494252873563218,0.06896551724137931,0.09523809523809523,0.2235294117647059,0.25,0.02736726874657909,0.06382978723404255,0.16666666666666666,0.05555555555555555,0.041666666666666664,0.25333333333333335,0.04225352112676056,0.046875,0.04054054054054054,0.014492753623188406,0.05,0.25333333333333335,0.5,0.19047619047619047,0.024390243902439025,0.13333333333333333,0.23809523809523808,0.075,0.32,0.041666666666666664,0.125,0.10465116279069768,0.0,0.08,0.3469387755102041,-0.04791666666666667,0.0,0.375,0.02531645569620253,0.08,0.05,0.10891089108910891,0.1559633027522936,-0.09090909090909091,0.0,0.21739130434782608,0.12,0.5412844036697247,0.0,0.25925925925925924,0.011627906976744186,0.0,0.25,0.021739130434782608,0.2682926829268293,0.076,0.25,0.20930232558139536,0.046511627906976744,0.0392156862745098,-0.02,0.2558139534883721,0.3488372093023256,0.043478260869565216,0.08,-0.018867924528301886,0.18,0.10679611650485436,0.10526315789473684,0.2169811320754717,0.0,0.3176470588235294,0.011494252873563218],\"coloraxis\":\"coloraxis\"},\"mode\":\"markers\",\"name\":\"\",\"showlegend\":false,\"subplot\":\"mapbox\",\"type\":\"scattermapbox\"}],\"name\":\"2022-01-01\"},{\"data\":[{\"customdata\":[[\"ORCHID PARK CONDOMINIUM\"],[\"LOYANG VALLEY\"],[\"SELETAR SPRINGS CONDOMINIUM\"],[\"ORCHID PARK CONDOMINIUM\"],[\"EUPHONY GARDENS\"],[\"HEDGES PARK CONDOMINIUM\"],[\"THE INFLORA\"],[\"PALM ISLES\"],[\"THE NAUTICAL\"],[\"THE ESTUARY\"],[\"FLORAVILLE\"],[\"EIGHT COURTYARDS\"],[\"LOYANG VALLEY\"],[\"OCEAN FRONT SUITES\"],[\"RIVERTREES RESIDENCES\"],[\"HEDGES PARK CONDOMINIUM\"],[\"H2O RESIDENCES\"],[\"THE CANOPY\"],[\"CARISSA PARK CONDOMINIUM\"],[\"AZALEA PARK CONDOMINIUM\"],[\"EDELWEISS PARK CONDOMINIUM\"],[\"THE GALE\"],[\"THE ESTUARY\"],[\"THE MILTONIA RESIDENCES\"],[\"EIGHT COURTYARDS\"],[\"CANBERRA RESIDENCES\"],[\"THE NAUTICAL\"],[\"PALM ISLES\"],[\"LOYANG VALLEY\"],[\"BALLOTA PARK CONDOMINIUM\"],[\"AZALEA PARK CONDOMINIUM\"],[\"D'BANYAN\"],[\"PARC OLYMPIA\"],[\"HEDGES PARK CONDOMINIUM\"],[\"GRANDE VISTA\"],[\"ORCHID PARK CONDOMINIUM\"],[\"PARC OLYMPIA\"],[\"THE MILTONIA RESIDENCES\"],[\"PALM ISLES\"],[\"HIGH PARK RESIDENCES\"],[\"THE GREENWICH\"],[\"H2O RESIDENCES\"],[\"RIVERTREES RESIDENCES\"],[\"SYMPHONY SUITES\"],[\"NORTH PARK RESIDENCES\"],[\"SKIES MILTONIA\"],[\"ORCHID PARK CONDOMINIUM\"],[\"EIGHT COURTYARDS\"],[\"HIGH PARK RESIDENCES\"],[\"NORTH PARK RESIDENCES\"],[\"AZALEA PARK CONDOMINIUM\"],[\"THE GALE\"],[\"ESTELLA GARDENS\"],[\"EDELWEISS PARK CONDOMINIUM\"],[\"THE INFLORA\"],[\"NORTH PARK RESIDENCES\"],[\"SYMPHONY SUITES\"],[\"RIVERTREES RESIDENCES\"],[\"HIGH PARK RESIDENCES\"],[\"ORCHID PARK CONDOMINIUM\"],[\"THE INFLORA\"],[\"EDELWEISS PARK CONDOMINIUM\"],[\"FERRARIA PARK CONDOMINIUM\"],[\"THE WISTERIA\"],[\"SKIES MILTONIA\"],[\"H2O RESIDENCES\"],[\"RIVERBANK @ FERNVALE\"],[\"HIGH PARK RESIDENCES\"],[\"RIVERBANK @ FERNVALE\"],[\"RIVERTREES RESIDENCES\"],[\"THE GALE\"],[\"DAHLIA PARK CONDOMINIUM\"],[\"PALM ISLES\"],[\"CARISSA PARK CONDOMINIUM\"],[\"THE CANOPY\"],[\"PALM ISLES\"],[\"FERRARIA PARK CONDOMINIUM\"],[\"NORTH PARK RESIDENCES\"],[\"SELETAR PARK RESIDENCE\"],[\"RIVERTREES RESIDENCES\"],[\"HIGH PARK RESIDENCES\"],[\"AVILA GARDENS\"],[\"CARISSA PARK CONDOMINIUM\"],[\"PARC LIFE\"],[\"THE ESTUARY\"],[\"ESTELLA GARDENS\"],[\"DAHLIA PARK CONDOMINIUM\"],[\"PARC OLYMPIA\"],[\"EIGHT COURTYARDS\"],[\"GRANDE VISTA\"],[\"ESTELLA GARDENS\"],[\"DAHLIA PARK CONDOMINIUM\"],[\"CARISSA PARK CONDOMINIUM\"],[\"FERRARIA PARK CONDOMINIUM\"],[\"ORCHID PARK CONDOMINIUM\"],[\"CANBERRA RESIDENCES\"],[\"YISHUN EMERALD\"],[\"THE NAUTICAL\"],[\"YISHUN SAPPHIRE\"]],\"hovertemplate\":\"leaseDateStr=2022-02-01<br>lat=%{lat}<br>lng=%{lon}<br>project=%{customdata[0]}<br>price_change=%{marker.color}<extra></extra>\",\"lat\":[1.41345822654196,1.36849628172236,1.38820037710408,1.41345822654196,1.42547005593325,1.35521095284251,1.35632843123308,1.35688865505981,1.44363473207597,1.41104826332535,1.39185235684708,1.43795645154437,1.36849628172236,1.37745408150082,1.39402092122499,1.35521095284251,1.39283623462094,1.4238543175594,1.35917121402077,1.36073621566409,1.35639824853602,1.35900307841177,1.41104826332535,1.41750734534379,1.43795645154437,1.44447954944853,1.44363473207597,1.35688865505981,1.36849628172236,1.35887799120341,1.36073621566409,1.44403787932825,1.35531040259148,1.35521095284251,1.38879912168555,1.41345822654196,1.35531040259148,1.41750734534379,1.35688865505981,1.39638961318515,1.38718841691871,1.39283623462094,1.39402092122499,1.43456191549725,1.42866319767121,1.41807139495834,1.41345822654196,1.43795645154437,1.39638961318515,1.42866319767121,1.36073621566409,1.35900307841177,1.360285340555,1.35639824853602,1.35632843123308,1.42866319767121,1.43456191549725,1.39402092122499,1.39638961318515,1.41345822654196,1.35632843123308,1.35639824853602,1.35736420475575,1.41844703579357,1.41807139495834,1.39283623462094,1.39459641963935,1.39638961318515,1.39459641963935,1.39402092122499,1.35900307841177,1.35941809852708,1.35688865505981,1.35917121402077,1.4238543175594,1.35688865505981,1.35736420475575,1.42866319767121,1.38653998627,1.39402092122499,1.39638961318515,1.36015764334241,1.35917121402077,1.44369946991503,1.41104826332535,1.360285340555,1.35941809852708,1.35531040259148,1.43795645154437,1.38879912168555,1.360285340555,1.35941809852708,1.35917121402077,1.35736420475575,1.41345822654196,1.44447954944853,1.43911656257616,1.44363473207597,1.44076527720917],\"legendgroup\":\"\",\"lon\":[103.835186431485,103.970019150268,103.878493859317,103.835186431485,103.824969746542,103.966422045067,103.966578200418,103.964194147192,103.825253279684,103.832513245026,103.851179877786,103.830995368522,103.970019150268,103.95662588933,103.881215058062,103.966422045067,103.87967806826,103.848078487443,103.963631516169,103.963299396559,103.96773406082,103.96686932054,103.832513245026,103.847659418224,103.830995368522,103.825437324844,103.825253279684,103.964194147192,103.970019150268,103.96852443877,103.963299396559,103.825036650569,103.965525604183,103.966422045067,103.852035348555,103.835186431485,103.965525604183,103.847659418224,103.964194147192,103.875132778517,103.869337214926,103.87967806826,103.881215058062,103.844362842957,103.835828704052,103.84790678249,103.835186431485,103.830995368522,103.875132778517,103.835828704052,103.963299396559,103.96686932054,103.966516198261,103.96773406082,103.966578200418,103.835828704052,103.844362842957,103.881215058062,103.875132778517,103.835186431485,103.966578200418,103.96773406082,103.963972049935,103.841112412447,103.84790678249,103.87967806826,103.881117176349,103.875132778517,103.881117176349,103.881215058062,103.96686932054,103.965393923725,103.964194147192,103.963631516169,103.848078487443,103.964194147192,103.963972049935,103.835828704052,103.869207772374,103.881215058062,103.875132778517,103.965165224191,103.963631516169,103.818597271496,103.832513245026,103.966516198261,103.965393923725,103.965525604183,103.830995368522,103.852035348555,103.966516198261,103.965393923725,103.963631516169,103.963972049935,103.835186431485,103.825437324844,103.830253676903,103.825253279684,103.830495461097],\"marker\":{\"color\":[-0.025,0.2777777777777778,0.09523809523809523,0.0,0.1781818181818182,0.25,0.1,0.0,0.125,0.07692307692307693,0.03225806451612903,-0.0196078431372549,0.15,0.0,-0.13043478260869565,0.0,0.10638297872340426,0.2857142857142857,0.2549019607843137,0.6170212765957447,0.12,0.1,-0.03225806451612903,0.25,0.2619047619047619,0.1111111111111111,0.19047619047619047,0.022222222222222223,0.19230769230769232,0.09411764705882353,0.3333333333333333,0.0,0.12941176470588237,0.18181818181818182,0.4,0.07142857142857142,0.2698412698412698,0.1875,-0.15789473684210525,0.07692307692307693,0.020833333333333332,0.045454545454545456,0.043478260869565216,0.25,-0.21951219512195122,0.08695652173913043,0.033707865168539325,0.1111111111111111,0.14285714285714285,0.0,0.1,0.09090909090909091,0.024096385542168676,0.175,0.42857142857142855,0.19230769230769232,0.18421052631578946,0.08695652173913043,0.12087912087912088,0.011235955056179775,0.17647058823529413,0.12195121951219512,-0.045454545454545456,0.1643835616438356,0.058823529411764705,0.03571428571428571,-0.0410958904109589,0.012987012987012988,0.0684931506849315,0.0,0.391304347826087,0.17073170731707318,0.047619047619047616,0.35,0.15555555555555556,0.09366236679753225,0.22058823529411764,0.13636363636363635,0.01282051282051282,0.12195121951219512,0.21428571428571427,0.25,0.043478260869565216,0.20689655172413793,0.24324324324324326,0.09722222222222222,0.0,0.2830188679245283,0.125,0.02040816326530612,-0.07692307692307693,0.19230769230769232,0.25,0.2727272727272727,0.1926605504587156,-0.038461538461538464,0.061224489795918366,0.03571428571428571,0.3695652173913043],\"coloraxis\":\"coloraxis\"},\"mode\":\"markers\",\"name\":\"\",\"showlegend\":false,\"subplot\":\"mapbox\",\"type\":\"scattermapbox\"}],\"name\":\"2022-02-01\"},{\"data\":[{\"customdata\":[[\"ORCHID PARK CONDOMINIUM\"],[\"PARC OLYMPIA\"],[\"THE TOPIARY\"],[\"MIMOSA PARK\"],[\"HEDGES PARK CONDOMINIUM\"],[\"OCEAN FRONT SUITES\"],[\"PALM ISLES\"],[\"ORCHID PARK CONDOMINIUM\"],[\"SKIES MILTONIA\"],[\"THE WISTERIA\"],[\"RIVERBANK @ FERNVALE\"],[\"ORCHID PARK CONDOMINIUM\"],[\"NORTH PARK RESIDENCES\"],[\"THE MILTONIA RESIDENCES\"],[\"CANBERRA RESIDENCES\"],[\"THE INFLORA\"],[\"PALM ISLES\"],[\"PARC OLYMPIA\"],[\"PALM ISLES\"],[\"HEDGES PARK CONDOMINIUM\"],[\"THE INFLORA\"],[\"THE NAUTICAL\"],[\"ESTELLA GARDENS\"],[\"YISHUN EMERALD\"],[\"SELETAR SPRINGS CONDOMINIUM\"],[\"RIVERBANK @ FERNVALE\"],[\"THE NAUTICAL\"],[\"SYMPHONY SUITES\"],[\"THE MILTONIA RESIDENCES\"],[\"THE NAUTICAL\"],[\"SUN PLAZA\"],[\"THE MILTONIA RESIDENCES\"],[\"PALM ISLES\"],[\"WATERCREST\"],[\"THE INFLORA\"],[\"YISHUN SAPPHIRE\"],[\"HEDGES PARK CONDOMINIUM\"],[\"EDELWEISS PARK CONDOMINIUM\"],[\"DAHLIA PARK CONDOMINIUM\"],[\"CARISSA PARK CONDOMINIUM\"],[\"1 CANBERRA\"],[\"THE CANOPY\"],[\"SELETARIS\"],[\"AVILA GARDENS\"],[\"PARC OLYMPIA\"],[\"FERRARIA PARK CONDOMINIUM\"],[\"SELETAR PARK RESIDENCE\"],[\"EIGHT COURTYARDS\"],[\"THE GALE\"],[\"GRANDE VISTA\"],[\"DAHLIA PARK CONDOMINIUM\"],[\"BALLOTA PARK CONDOMINIUM\"],[\"RIVERBANK @ FERNVALE\"],[\"H2O RESIDENCES\"],[\"FERRARIA PARK CONDOMINIUM\"],[\"HEDGES PARK CONDOMINIUM\"],[\"CARISSA PARK CONDOMINIUM\"],[\"FERRARIA PARK CONDOMINIUM\"],[\"HEDGES PARK CONDOMINIUM\"],[\"EDELWEISS PARK CONDOMINIUM\"],[\"ESTELLA GARDENS\"],[\"THE GALE\"],[\"BLUWATERS\"],[\"PARC OLYMPIA\"],[\"SELETAR PARK RESIDENCE\"],[\"SELETAR SPRINGS CONDOMINIUM\"],[\"THE GREENWICH\"],[\"SELETAR PARK RESIDENCE\"],[\"H2O RESIDENCES\"],[\"SYMPHONY SUITES\"],[\"NINE RESIDENCES\"],[\"SKIES MILTONIA\"],[\"ORCHID PARK CONDOMINIUM\"],[\"THE ESTUARY\"],[\"THE MILTONIA RESIDENCES\"],[\"YISHUN EMERALD\"],[\"SYMPHONY SUITES\"],[\"NORTH PARK RESIDENCES\"],[\"HIGH PARK RESIDENCES\"],[\"ORCHID PARK CONDOMINIUM\"],[\"HIGH PARK RESIDENCES\"],[\"NINE RESIDENCES\"],[\"THE MILTONIA RESIDENCES\"],[\"CARISSA PARK CONDOMINIUM\"],[\"LILYDALE\"],[\"HEDGES PARK CONDOMINIUM\"],[\"OCEAN FRONT SUITES\"],[\"CARISSA PARK CONDOMINIUM\"],[\"FERRARIA PARK CONDOMINIUM\"],[\"PARC OLYMPIA\"],[\"NINE RESIDENCES\"],[\"NORTH PARK RESIDENCES\"],[\"CANBERRA RESIDENCES\"],[\"NORTH PARK RESIDENCES\"],[\"NORTH PARK RESIDENCES\"],[\"THE WISTERIA\"],[\"HIGH PARK RESIDENCES\"],[\"THE GREENWICH\"],[\"HIGH PARK RESIDENCES\"],[\"1 CANBERRA\"],[\"ESTELLA GARDENS\"],[\"PARC OLYMPIA\"],[\"EDELWEISS PARK CONDOMINIUM\"],[\"THE INFLORA\"],[\"NINE RESIDENCES\"],[\"NORTH PARK RESIDENCES\"],[\"SYMPHONY SUITES\"],[\"SKIES MILTONIA\"],[\"SELETAR PARK RESIDENCE\"],[\"AZALEA PARK CONDOMINIUM\"],[\"NORTH PARK RESIDENCES\"],[\"SERENITY PARK\"],[\"AZALEA PARK CONDOMINIUM\"],[\"CANBERRA RESIDENCES\"],[\"AVILA GARDENS\"],[\"FERRARIA PARK CONDOMINIUM\"],[\"HEDGES PARK CONDOMINIUM\"],[\"BALLOTA PARK CONDOMINIUM\"],[\"NORTHWOOD\"],[\"SELETARIS\"],[\"THE ESTUARY\"],[\"CARISSA PARK CONDOMINIUM\"],[\"SELETAR SPRINGS CONDOMINIUM\"],[\"THE GALE\"]],\"hovertemplate\":\"leaseDateStr=2022-03-01<br>lat=%{lat}<br>lng=%{lon}<br>project=%{customdata[0]}<br>price_change=%{marker.color}<extra></extra>\",\"lat\":[1.41345822654196,1.35531040259148,1.38887143127704,1.3831061797156,1.35521095284251,1.37745408150082,1.35688865505981,1.41345822654196,1.41807139495834,1.41844703579357,1.39459641963935,1.41345822654196,1.42866319767121,1.41750734534379,1.44447954944853,1.35632843123308,1.35688865505981,1.35531040259148,1.35688865505981,1.35521095284251,1.35632843123308,1.44363473207597,1.360285340555,1.43911656257616,1.38820037710408,1.39459641963935,1.44363473207597,1.43456191549725,1.41750734534379,1.44363473207597,1.44819436804175,1.41750734534379,1.35688865505981,1.37776271751871,1.35632843123308,1.44076527720917,1.35521095284251,1.35639824853602,1.35941809852708,1.35917121402077,1.43769199919618,1.4238543175594,1.4358492226796,1.36015764334241,1.35531040259148,1.35736420475575,1.38653998627,1.43795645154437,1.35900307841177,1.38879912168555,1.35941809852708,1.35887799120341,1.39459641963935,1.39283623462094,1.35736420475575,1.35521095284251,1.35917121402077,1.35736420475575,1.35521095284251,1.35639824853602,1.360285340555,1.35900307841177,1.37976059991781,1.35531040259148,1.38653998627,1.38820037710408,1.38718841691871,1.38653998627,1.39283623462094,1.43456191549725,1.43281890606271,1.41807139495834,1.41345822654196,1.41104826332535,1.41750734534379,1.43911656257616,1.43456191549725,1.42866319767121,1.39638961318515,1.41345822654196,1.39638961318515,1.43281890606271,1.41750734534379,1.35917121402077,1.42392837108866,1.35521095284251,1.37745408150082,1.35917121402077,1.35736420475575,1.35531040259148,1.43281890606271,1.42866319767121,1.44447954944853,1.42866319767121,1.42866319767121,1.41844703579357,1.39638961318515,1.38718841691871,1.39638961318515,1.43769199919618,1.360285340555,1.35531040259148,1.35639824853602,1.35632843123308,1.43281890606271,1.42866319767121,1.43456191549725,1.41807139495834,1.38653998627,1.36073621566409,1.42866319767121,1.38822776284514,1.36073621566409,1.44447954944853,1.36015764334241,1.35736420475575,1.35521095284251,1.35887799120341,1.42692706476903,1.4358492226796,1.41104826332535,1.35917121402077,1.38820037710408,1.35900307841177],\"legendgroup\":\"\",\"lon\":[103.835186431485,103.965525604183,103.872017156345,103.864075310229,103.966422045067,103.95662588933,103.964194147192,103.835186431485,103.84790678249,103.841112412447,103.881117176349,103.835186431485,103.835828704052,103.847659418224,103.825437324844,103.966578200418,103.964194147192,103.965525604183,103.964194147192,103.966422045067,103.966578200418,103.825253279684,103.966516198261,103.830253676903,103.878493859317,103.881117176349,103.825253279684,103.844362842957,103.847659418224,103.825253279684,103.819464386349,103.847659418224,103.964194147192,103.957380821299,103.966578200418,103.830495461097,103.966422045067,103.96773406082,103.965393923725,103.963631516169,103.830277614211,103.848078487443,103.824971641966,103.965165224191,103.965525604183,103.963972049935,103.869207772374,103.830995368522,103.96686932054,103.852035348555,103.965393923725,103.96852443877,103.881117176349,103.87967806826,103.963972049935,103.966422045067,103.963631516169,103.963972049935,103.966422045067,103.96773406082,103.966516198261,103.96686932054,103.963077852592,103.965525604183,103.869207772374,103.878493859317,103.869337214926,103.869207772374,103.87967806826,103.844362842957,103.841477613841,103.84790678249,103.835186431485,103.832513245026,103.847659418224,103.830253676903,103.844362842957,103.835828704052,103.875132778517,103.835186431485,103.875132778517,103.841477613841,103.847659418224,103.963631516169,103.849332055297,103.966422045067,103.95662588933,103.963631516169,103.963972049935,103.965525604183,103.841477613841,103.835828704052,103.825437324844,103.835828704052,103.835828704052,103.841112412447,103.875132778517,103.869337214926,103.875132778517,103.830277614211,103.966516198261,103.965525604183,103.96773406082,103.966578200418,103.841477613841,103.835828704052,103.844362842957,103.84790678249,103.869207772374,103.963299396559,103.835828704052,103.858740468004,103.963299396559,103.825437324844,103.965165224191,103.963972049935,103.966422045067,103.96852443877,103.82405303932,103.824971641966,103.832513245026,103.963631516169,103.878493859317,103.96686932054],\"marker\":{\"color\":[0.1836734693877551,0.13043478260869565,0.1038961038961039,0.21015384615384616,0.125,0.030303030303030304,0.08571428571428572,0.23076923076923078,0.015384615384615385,0.3235294117647059,0.0,0.0,0.25,0.21739130434782608,0.7368421052631579,0.25,0.36363636363636365,-0.06,0.3181818181818182,0.30434782608695654,0.19473684210526315,0.10714285714285714,0.16216216216216217,0.17307692307692307,0.3170731707317073,0.009708737864077669,0.0,0.38461538461538464,0.17391304347826086,0.08,0.19047619047619047,0.30434782608695654,0.0625,0.4444444444444444,0.24489795918367346,0.1320754716981132,0.32,0.5238095238095238,-0.011363636363636364,0.2727272727272727,0.21428571428571427,0.08,0.27586206896551724,-0.2571428571428571,-0.14285714285714285,0.11363636363636363,-0.08163265306122448,0.2857142857142857,0.0,0.0,0.12,-0.02127659574468085,0.15789473684210525,0.125,0.22727272727272727,0.0,0.26582278481012656,0.1590909090909091,0.23809523809523808,0.0,0.22727272727272727,0.18888888888888888,0.25,0.0,-0.1,0.05,0.23404255319148937,-0.08333333333333333,0.14942528735632185,0.20408163265306123,0.07692307692307693,0.056179775280898875,0.2375,0.5,0.09090909090909091,0.2,0.22448979591836735,0.18181818181818182,0.22959183673469388,0.5102040816326531,0.03125,0.043478260869565216,0.0,0.1346153846153846,0.125,0.027777777777777776,0.125,0.16666666666666666,0.2571428571428571,0.19540229885057472,0.11538461538461539,0.11363636363636363,0.28205128205128205,0.4375,0.6326530612244898,0.022727272727272728,0.045454545454545456,0.23076923076923078,0.36363636363636365,0.17307692307692307,0.125,0.024096385542168676,0.11428571428571428,0.10869565217391304,0.043478260869565216,0.22448979591836735,0.3375,0.044444444444444446,0.013157894736842105,0.02702702702702703,-0.017857142857142856,0.19092627599243855,0.1111111111111111,0.3103448275862069,0.16,0.8947368421052632,0.0625,0.15,0.2916666666666667,0.13043478260869565,0.08196721311475409,0.3125,0.20408163265306123,0.047619047619047616],\"coloraxis\":\"coloraxis\"},\"mode\":\"markers\",\"name\":\"\",\"showlegend\":false,\"subplot\":\"mapbox\",\"type\":\"scattermapbox\"}],\"name\":\"2022-03-01\"},{\"data\":[{\"customdata\":[[\"THE TOPIARY\"],[\"THE ESTUARY\"],[\"OCEAN FRONT SUITES\"],[\"EDELWEISS PARK CONDOMINIUM\"],[\"FERRARIA PARK CONDOMINIUM\"],[\"NORTH PARK RESIDENCES\"],[\"EIGHT COURTYARDS\"],[\"SUNRISE GARDENS\"],[\"THE GREENWICH\"],[\"ORCHID PARK CONDOMINIUM\"],[\"ORCHID PARK CONDOMINIUM\"],[\"BALLOTA PARK CONDOMINIUM\"],[\"ESTELLA GARDENS\"],[\"AVILA GARDENS\"],[\"SELETARIS\"],[\"CELADON VIEW\"],[\"VICTORY 8\"],[\"LILYDALE\"],[\"EIGHT COURTYARDS\"],[\"GRANDE VISTA\"],[\"RIVERTREES RESIDENCES\"],[\"SELETAR PARK RESIDENCE\"],[\"THE WISTERIA\"],[\"THE ESTUARY\"],[\"THE WISTERIA\"],[\"THE GALE\"],[\"NORTH PARK RESIDENCES\"],[\"THE ESTUARY\"],[\"LILYDALE\"],[\"SKIES MILTONIA\"],[\"LOYANG VALLEY\"],[\"PARC OLYMPIA\"],[\"CARISSA PARK CONDOMINIUM\"],[\"DAHLIA PARK CONDOMINIUM\"],[\"ESTELLA GARDENS\"],[\"COASTAL VIEW RESIDENCES\"],[\"SERENITY PARK\"],[\"AZALEA PARK CONDOMINIUM\"],[\"CARISSA PARK CONDOMINIUM\"],[\"AVILA GARDENS\"],[\"HEDGES PARK CONDOMINIUM\"],[\"CARISSA PARK CONDOMINIUM\"],[\"NINE RESIDENCES\"],[\"EIGHT COURTYARDS\"],[\"SYMPHONY SUITES\"],[\"NORTH PARK RESIDENCES\"],[\"THE INFLORA\"],[\"YISHUN EMERALD\"],[\"YISHUN SAPPHIRE\"],[\"SKIES MILTONIA\"],[\"NORTH PARK RESIDENCES\"],[\"ORCHID PARK CONDOMINIUM\"],[\"NORTH PARK RESIDENCES\"],[\"THE MILTONIA RESIDENCES\"],[\"EIGHT COURTYARDS\"],[\"SYMPHONY SUITES\"],[\"NORTH PARK RESIDENCES\"],[\"THE NAUTICAL\"],[\"AZALEA PARK CONDOMINIUM\"],[\"THE INFLORA\"],[\"PALM ISLES\"],[\"CARISSA PARK CONDOMINIUM\"],[\"FERRARIA PARK CONDOMINIUM\"],[\"NORTH PARK RESIDENCES\"],[\"RIVERBANK @ FERNVALE\"],[\"BALLOTA PARK CONDOMINIUM\"],[\"HIGH PARK RESIDENCES\"],[\"THE INFLORA\"],[\"PALM ISLES\"],[\"SKIES MILTONIA\"],[\"THE WISTERIA\"],[\"SKIES MILTONIA\"],[\"THE MILTONIA RESIDENCES\"],[\"RIVERBANK @ FERNVALE\"],[\"HIGH PARK RESIDENCES\"],[\"SELETAR PARK RESIDENCE\"],[\"FERRARIA PARK CONDOMINIUM\"],[\"ESTELLA GARDENS\"],[\"PARC OLYMPIA\"],[\"HIGH PARK RESIDENCES\"],[\"H2O RESIDENCES\"],[\"RIVERTREES RESIDENCES\"],[\"SELETAR PARK RESIDENCE\"],[\"HIGH PARK RESIDENCES\"],[\"THE WISTERIA\"],[\"THE GREENWICH\"],[\"HEDGES PARK CONDOMINIUM\"],[\"YISHUN EMERALD\"],[\"BALLOTA PARK CONDOMINIUM\"],[\"AZALEA PARK CONDOMINIUM\"],[\"BALLOTA PARK CONDOMINIUM\"],[\"LOYANG VALLEY\"],[\"THE INFLORA\"],[\"CARISSA PARK CONDOMINIUM\"],[\"THE GREENWICH\"],[\"HIGH PARK RESIDENCES\"],[\"SELETAR PARK RESIDENCE\"],[\"H2O RESIDENCES\"],[\"SYMPHONY SUITES\"],[\"NORTH PARK RESIDENCES\"],[\"SKIES MILTONIA\"],[\"ORCHID PARK CONDOMINIUM\"],[\"THE ESTUARY\"],[\"SYMPHONY SUITES\"],[\"DAHLIA PARK CONDOMINIUM\"],[\"THE NAUTICAL\"],[\"SELETARIS\"],[\"FERRARIA PARK CONDOMINIUM\"],[\"AVILA GARDENS\"],[\"CARISSA PARK CONDOMINIUM\"],[\"LOYANG VALLEY\"],[\"FERRARIA PARK CONDOMINIUM\"],[\"EDELWEISS PARK CONDOMINIUM\"],[\"ESTELLA GARDENS\"],[\"THE GALE\"],[\"AZALEA PARK CONDOMINIUM\"],[\"EIGHT COURTYARDS\"],[\"ORCHID PARK CONDOMINIUM\"],[\"THE NAUTICAL\"],[\"RIVERBANK @ FERNVALE\"],[\"SELETAR SPRINGS CONDOMINIUM\"],[\"THE GALE\"],[\"ORCHID PARK CONDOMINIUM\"],[\"FERRARIA PARK CONDOMINIUM\"]],\"hovertemplate\":\"leaseDateStr=2022-04-01<br>lat=%{lat}<br>lng=%{lon}<br>project=%{customdata[0]}<br>price_change=%{marker.color}<extra></extra>\",\"lat\":[1.38887143127704,1.41104826332535,1.37745408150082,1.35639824853602,1.35736420475575,1.42866319767121,1.43795645154437,1.38969073093565,1.38718841691871,1.41345822654196,1.41345822654196,1.35887799120341,1.360285340555,1.36015764334241,1.4358492226796,1.37834985706372,1.44184070674357,1.42392837108866,1.43795645154437,1.38879912168555,1.39402092122499,1.38653998627,1.41844703579357,1.41104826332535,1.41844703579357,1.35900307841177,1.42866319767121,1.41104826332535,1.42392837108866,1.41807139495834,1.36849628172236,1.35531040259148,1.35917121402077,1.35941809852708,1.360285340555,1.37905482184639,1.38822776284514,1.36073621566409,1.35917121402077,1.36015764334241,1.35521095284251,1.35917121402077,1.43281890606271,1.43795645154437,1.43456191549725,1.42866319767121,1.35632843123308,1.43911656257616,1.44076527720917,1.41807139495834,1.42866319767121,1.41345822654196,1.42866319767121,1.41750734534379,1.43795645154437,1.43456191549725,1.42866319767121,1.44363473207597,1.36073621566409,1.35632843123308,1.35688865505981,1.35917121402077,1.35736420475575,1.42866319767121,1.39459641963935,1.35887799120341,1.39638961318515,1.35632843123308,1.35688865505981,1.41807139495834,1.41844703579357,1.41807139495834,1.41750734534379,1.39459641963935,1.39638961318515,1.38653998627,1.35736420475575,1.360285340555,1.35531040259148,1.39638961318515,1.39283623462094,1.39402092122499,1.38653998627,1.39638961318515,1.41844703579357,1.38718841691871,1.35521095284251,1.43911656257616,1.35887799120341,1.36073621566409,1.35887799120341,1.36849628172236,1.35632843123308,1.35917121402077,1.38718841691871,1.39638961318515,1.38653998627,1.39283623462094,1.43456191549725,1.42866319767121,1.41807139495834,1.41345822654196,1.41104826332535,1.43456191549725,1.35941809852708,1.44363473207597,1.4358492226796,1.35736420475575,1.36015764334241,1.35917121402077,1.36849628172236,1.35736420475575,1.35639824853602,1.360285340555,1.35900307841177,1.36073621566409,1.43795645154437,1.41345822654196,1.44363473207597,1.39459641963935,1.38820037710408,1.35900307841177,1.41345822654196,1.35736420475575],\"legendgroup\":\"\",\"lon\":[103.872017156345,103.832513245026,103.95662588933,103.96773406082,103.963972049935,103.835828704052,103.830995368522,103.857170017555,103.869337214926,103.835186431485,103.835186431485,103.96852443877,103.966516198261,103.965165224191,103.824971641966,103.95659135188,103.823693218432,103.849332055297,103.830995368522,103.852035348555,103.881215058062,103.869207772374,103.841112412447,103.832513245026,103.841112412447,103.96686932054,103.835828704052,103.832513245026,103.849332055297,103.84790678249,103.970019150268,103.965525604183,103.963631516169,103.965393923725,103.966516198261,103.961097744973,103.858740468004,103.963299396559,103.963631516169,103.965165224191,103.966422045067,103.963631516169,103.841477613841,103.830995368522,103.844362842957,103.835828704052,103.966578200418,103.830253676903,103.830495461097,103.84790678249,103.835828704052,103.835186431485,103.835828704052,103.847659418224,103.830995368522,103.844362842957,103.835828704052,103.825253279684,103.963299396559,103.966578200418,103.964194147192,103.963631516169,103.963972049935,103.835828704052,103.881117176349,103.96852443877,103.875132778517,103.966578200418,103.964194147192,103.84790678249,103.841112412447,103.84790678249,103.847659418224,103.881117176349,103.875132778517,103.869207772374,103.963972049935,103.966516198261,103.965525604183,103.875132778517,103.87967806826,103.881215058062,103.869207772374,103.875132778517,103.841112412447,103.869337214926,103.966422045067,103.830253676903,103.96852443877,103.963299396559,103.96852443877,103.970019150268,103.966578200418,103.963631516169,103.869337214926,103.875132778517,103.869207772374,103.87967806826,103.844362842957,103.835828704052,103.84790678249,103.835186431485,103.832513245026,103.844362842957,103.965393923725,103.825253279684,103.824971641966,103.963972049935,103.965165224191,103.963631516169,103.970019150268,103.963972049935,103.96773406082,103.966516198261,103.96686932054,103.963299396559,103.830995368522,103.835186431485,103.825253279684,103.881117176349,103.878493859317,103.96686932054,103.835186431485,103.963972049935],\"marker\":{\"color\":[0.26666666666666666,0.18613138686131386,0.3114754098360656,0.21428571428571427,-0.06666666666666667,0.07792207792207792,0.15384615384615385,0.15384615384615385,0.06451612903225806,-0.125,-0.10714285714285714,0.17647058823529413,0.010752688172043012,0.25,0.09433962264150944,0.1,0.03199174406604747,0.5602836879432624,0.19230769230769232,-0.04,0.08641975308641975,0.07692307692307693,0.0,-0.11904761904761904,0.05,0.05,0.09090909090909091,0.13333333333333333,0.5130023640661938,0.37142857142857144,0.08108108108108109,0.10344827586206896,0.08108108108108109,0.391304347826087,0.060240963855421686,0.1504424778761062,0.14423076923076922,0.14285714285714285,0.1111111111111111,0.12149532710280374,0.1267605633802817,0.42574257425742573,0.09821428571428571,0.13953488372093023,0.0874818753020783,0.20833333333333334,0.13636363636363635,0.32038834951456313,0.21428571428571427,-0.020833333333333332,0.6883116883116883,0.3877551020408163,-0.14893617021276595,0.47619047619047616,0.1111111111111111,0.061224489795918366,0.6176,0.11627906976744186,0.6666666666666666,0.5116279069767442,0.3488372093023256,0.13636363636363635,0.017699115044247787,0.25,0.2857142857142857,0.027777777777777776,-0.14,0.08235294117647059,0.13513513513513514,0.0,0.45714285714285713,0.35135135135135137,0.125,0.17647058823529413,0.15789473684210525,0.1,0.02702702702702703,0.21212121212121213,0.16216216216216217,0.391304347826087,0.07692307692307693,0.0,0.02631578947368421,0.30434782608695654,-0.023255813953488372,0.0,0.06818181818181818,0.5,0.45,0.0,0.06,0.25,0.08333333333333333,0.22727272727272727,0.18181818181818182,0.28,-0.125,0.1590909090909091,0.2978723404255319,0.013888888888888888,0.18811881188118812,0.2625,0.375,0.7021276595744681,0.1415525114155251,0.36363636363636365,0.2,0.5,0.39880952380952384,0.175,-0.07407407407407407,0.18181818181818182,0.18478260869565216,0.034482758620689655,0.06382978723404255,0.2,0.044444444444444446,0.4588235294117647,0.10344827586206896,0.020833333333333332,0.15,-0.02,0.25,0.10638297872340426],\"coloraxis\":\"coloraxis\"},\"mode\":\"markers\",\"name\":\"\",\"showlegend\":false,\"subplot\":\"mapbox\",\"type\":\"scattermapbox\"}],\"name\":\"2022-04-01\"},{\"data\":[{\"customdata\":[[\"NORTH PARK RESIDENCES\"],[\"SKIES MILTONIA\"],[\"THE WISTERIA\"],[\"PALM ISLES\"],[\"CARISSA PARK CONDOMINIUM\"],[\"PARC OLYMPIA\"],[\"HIGH PARK RESIDENCES\"],[\"EDELWEISS PARK CONDOMINIUM\"],[\"LOYANG VALLEY\"],[\"BALLOTA PARK CONDOMINIUM\"],[\"SERENITY PARK\"],[\"LILYDALE\"],[\"FERRARIA PARK CONDOMINIUM\"],[\"THE INFLORA\"],[\"RIVERTREES RESIDENCES\"],[\"EDELWEISS PARK CONDOMINIUM\"],[\"THE GREENWICH\"],[\"CANBERRA RESIDENCES\"],[\"PARC OLYMPIA\"],[\"PALM ISLES\"],[\"FLORAVILLE\"],[\"THE MILTONIA RESIDENCES\"],[\"SYMPHONY SUITES\"],[\"THE ESTUARY\"],[\"THE NAUTICAL\"],[\"DAHLIA PARK CONDOMINIUM\"],[\"THE INFLORA\"],[\"PARC OLYMPIA\"],[\"PARC OLYMPIA\"],[\"PALM ISLES\"],[\"HEDGES PARK CONDOMINIUM\"],[\"ESTELLA GARDENS\"],[\"SELETAR PARK RESIDENCE\"],[\"EIGHT COURTYARDS\"],[\"YISHUN SAPPHIRE\"],[\"H2O RESIDENCES\"],[\"THE GALE\"],[\"BALLOTA PARK CONDOMINIUM\"],[\"THE WISTERIA\"],[\"THE GALE\"],[\"THE EDGEWATER\"],[\"YISHUN EMERALD\"],[\"PARC OLYMPIA\"],[\"SELETAR PARK RESIDENCE\"],[\"RIVERBANK @ FERNVALE\"],[\"H2O RESIDENCES\"],[\"SERENITY PARK\"],[\"ORCHID PARK CONDOMINIUM\"],[\"SKIES MILTONIA\"],[\"SYMPHONY SUITES\"],[\"ESTELLA GARDENS\"],[\"FERRARIA PARK CONDOMINIUM\"],[\"ORCHID PARK CONDOMINIUM\"],[\"SYMPHONY SUITES\"],[\"THE WISTERIA\"],[\"EUPHONY GARDENS\"],[\"FERRARIA PARK CONDOMINIUM\"],[\"THE ESTUARY\"],[\"YISHUN EMERALD\"],[\"EUPHONY GARDENS\"],[\"NINE RESIDENCES\"],[\"NORTH PARK RESIDENCES\"],[\"HIGH PARK RESIDENCES\"],[\"LOYANG VALLEY\"],[\"SELETAR PARK RESIDENCE\"],[\"RIVERTREES RESIDENCES\"],[\"H2O RESIDENCES\"],[\"HIGH PARK RESIDENCES\"],[\"THE GREENWICH\"],[\"GRANDE VISTA\"],[\"SELETARIS\"],[\"SELETAR PARK RESIDENCE\"],[\"HIGH PARK RESIDENCES\"],[\"SELETAR PARK RESIDENCE\"],[\"THE WISTERIA\"],[\"NORTH PARK RESIDENCES\"],[\"THE ESTUARY\"],[\"SELETAR SPRINGS CONDOMINIUM\"],[\"RIZ HAVEN\"],[\"FERRARIA PARK CONDOMINIUM\"],[\"NORTH PARK RESIDENCES\"],[\"CARISSA PARK CONDOMINIUM\"],[\"SKIES MILTONIA\"],[\"NORTH PARK RESIDENCES\"],[\"THE GALE\"],[\"ESTELLA GARDENS\"],[\"THE INFLORA\"],[\"THE EDGEWATER\"],[\"SYMPHONY SUITES\"],[\"EIGHT COURTYARDS\"],[\"ORCHID PARK CONDOMINIUM\"],[\"NORTH PARK RESIDENCES\"],[\"SYMPHONY SUITES\"],[\"THE WISTERIA\"],[\"OCEAN FRONT SUITES\"],[\"ESTELLA GARDENS\"],[\"CANBERRA RESIDENCES\"],[\"YISHUN EMERALD\"],[\"THE ESTUARY\"],[\"THE GREENWICH\"],[\"HIGH PARK RESIDENCES\"],[\"ORCHID PARK CONDOMINIUM\"],[\"ORCHID PARK CONDOMINIUM\"],[\"SKIES MILTONIA\"],[\"NINE RESIDENCES\"]],\"hovertemplate\":\"leaseDateStr=2022-05-01<br>lat=%{lat}<br>lng=%{lon}<br>project=%{customdata[0]}<br>price_change=%{marker.color}<extra></extra>\",\"lat\":[1.42866319767121,1.41807139495834,1.41844703579357,1.35688865505981,1.35917121402077,1.35531040259148,1.39638961318515,1.35639824853602,1.36849628172236,1.35887799120341,1.38822776284514,1.42392837108866,1.35736420475575,1.35632843123308,1.39402092122499,1.35639824853602,1.38718841691871,1.44447954944853,1.35531040259148,1.35688865505981,1.39185235684708,1.41750734534379,1.43456191549725,1.41104826332535,1.44363473207597,1.35941809852708,1.35632843123308,1.35531040259148,1.35531040259148,1.35688865505981,1.35521095284251,1.360285340555,1.38653998627,1.43795645154437,1.44076527720917,1.39283623462094,1.35900307841177,1.35887799120341,1.41844703579357,1.35900307841177,1.38029080909587,1.43911656257616,1.35531040259148,1.38653998627,1.39459641963935,1.39283623462094,1.38822776284514,1.41345822654196,1.41807139495834,1.43456191549725,1.360285340555,1.35736420475575,1.41345822654196,1.43456191549725,1.41844703579357,1.42547005593325,1.35736420475575,1.41104826332535,1.43911656257616,1.42547005593325,1.43281890606271,1.42866319767121,1.39638961318515,1.36849628172236,1.38653998627,1.39402092122499,1.39283623462094,1.39638961318515,1.38718841691871,1.38879912168555,1.4358492226796,1.38653998627,1.39638961318515,1.38653998627,1.41844703579357,1.42866319767121,1.41104826332535,1.38820037710408,1.37989464950184,1.35736420475575,1.42866319767121,1.35917121402077,1.41807139495834,1.42866319767121,1.35900307841177,1.360285340555,1.35632843123308,1.38029080909587,1.43456191549725,1.43795645154437,1.41345822654196,1.42866319767121,1.43456191549725,1.41844703579357,1.37745408150082,1.360285340555,1.44447954944853,1.43911656257616,1.41104826332535,1.38718841691871,1.39638961318515,1.41345822654196,1.41345822654196,1.41807139495834,1.43281890606271],\"legendgroup\":\"\",\"lon\":[103.835828704052,103.84790678249,103.841112412447,103.964194147192,103.963631516169,103.965525604183,103.875132778517,103.96773406082,103.970019150268,103.96852443877,103.858740468004,103.849332055297,103.963972049935,103.966578200418,103.881215058062,103.96773406082,103.869337214926,103.825437324844,103.965525604183,103.964194147192,103.851179877786,103.847659418224,103.844362842957,103.832513245026,103.825253279684,103.965393923725,103.966578200418,103.965525604183,103.965525604183,103.964194147192,103.966422045067,103.966516198261,103.869207772374,103.830995368522,103.830495461097,103.87967806826,103.96686932054,103.96852443877,103.841112412447,103.96686932054,103.964674596342,103.830253676903,103.965525604183,103.869207772374,103.881117176349,103.87967806826,103.858740468004,103.835186431485,103.84790678249,103.844362842957,103.966516198261,103.963972049935,103.835186431485,103.844362842957,103.841112412447,103.824969746542,103.963972049935,103.832513245026,103.830253676903,103.824969746542,103.841477613841,103.835828704052,103.875132778517,103.970019150268,103.869207772374,103.881215058062,103.87967806826,103.875132778517,103.869337214926,103.852035348555,103.824971641966,103.869207772374,103.875132778517,103.869207772374,103.841112412447,103.835828704052,103.832513245026,103.878493859317,103.96274397719,103.963972049935,103.835828704052,103.963631516169,103.84790678249,103.835828704052,103.96686932054,103.966516198261,103.966578200418,103.964674596342,103.844362842957,103.830995368522,103.835186431485,103.835828704052,103.844362842957,103.841112412447,103.95662588933,103.966516198261,103.825437324844,103.830253676903,103.832513245026,103.869337214926,103.875132778517,103.835186431485,103.835186431485,103.84790678249,103.841477613841],\"marker\":{\"color\":[0.07608695652173914,0.08823529411764706,0.2328767123287671,0.5668044077134986,0.5263157894736842,0.02702702702702703,0.4,0.025,0.4,0.057692307692307696,0.1,0.06382978723404255,0.08737864077669903,0.09090909090909091,0.125,0.14705882352941177,0.21739130434782608,0.009708737864077669,0.30434782608695654,0.03571428571428571,0.5217391304347826,0.14285714285714285,0.2608695652173913,0.2,0.22448979591836735,0.14285714285714285,0.4090909090909091,0.25,0.25,0.27058823529411763,0.5,0.47619047619047616,0.2972972972972973,0.6666666666666666,0.0,0.3333333333333333,0.30434782608695654,0.0,0.36363636363636365,0.043478260869565216,0.19047619047619047,0.08035714285714286,0.275,-0.1,0.25925925925925924,0.15384615384615385,0.10526315789473684,0.12,0.38095238095238093,0.41818181818181815,0.14,0.24271844660194175,0.1836734693877551,0.37373737373737376,0.02564102564102564,0.2,0.1,0.09375,0.2777777777777778,0.9,0.6,0.17647058823529413,0.4318181818181818,0.10714285714285714,0.14285714285714285,0.37209302325581395,0.024390243902439025,0.29545454545454547,-0.012048192771084338,0.3333333333333333,-0.07936507936507936,0.05263157894736842,-0.11363636363636363,0.21052631578947367,0.5217391304347826,0.2558139534883721,0.2777777777777778,0.34285714285714286,0.0,-0.046153846153846156,0.14925373134328357,0.36792452830188677,0.19047619047619047,0.2568627450980392,0.3176470588235294,0.328125,0.5384615384615384,0.10526315789473684,0.18181818181818182,0.2840909090909091,0.0,0.31343283582089554,0.09090909090909091,0.19658119658119658,0.25,0.2857142857142857,0.2631578947368421,-0.10416666666666667,0.13043478260869565,-0.043478260869565216,0.4375,0.061224489795918366,0.5909090909090909,0.16129032258064516,0.65],\"coloraxis\":\"coloraxis\"},\"mode\":\"markers\",\"name\":\"\",\"showlegend\":false,\"subplot\":\"mapbox\",\"type\":\"scattermapbox\"}],\"name\":\"2022-05-01\"},{\"data\":[{\"customdata\":[[\"HIGH PARK RESIDENCES\"],[\"CARISSA PARK CONDOMINIUM\"],[\"SELETAR PARK RESIDENCE\"],[\"SELETAR SPRINGS CONDOMINIUM\"],[\"PARC OLYMPIA\"],[\"HIGH PARK RESIDENCES\"],[\"ORCHID PARK CONDOMINIUM\"],[\"THE WISTERIA\"],[\"H2O RESIDENCES\"],[\"EIGHT COURTYARDS\"],[\"YISHUN SAPPHIRE\"],[\"THE MILTONIA RESIDENCES\"],[\"SELETAR PARK RESIDENCE\"],[\"EIGHT COURTYARDS\"],[\"EIGHT COURTYARDS\"],[\"THE GALE\"],[\"THE NAUTICAL\"],[\"NORTH PARK RESIDENCES\"],[\"H2O RESIDENCES\"],[\"THE ESTUARY\"],[\"THE WISTERIA\"],[\"AVILA GARDENS\"],[\"BLUWATERS 2\"],[\"NORTH PARK RESIDENCES\"],[\"THE MILTONIA RESIDENCES\"],[\"THE GREENWICH\"],[\"THE GREENWICH\"],[\"FERRARIA PARK CONDOMINIUM\"],[\"EDELWEISS PARK CONDOMINIUM\"],[\"ESTELLA GARDENS\"],[\"CANBERRA RESIDENCES\"],[\"EIGHT COURTYARDS\"],[\"NORTH PARK RESIDENCES\"],[\"ORCHID PARK CONDOMINIUM\"],[\"THE WISTERIA\"],[\"EIGHT COURTYARDS\"],[\"THE ESTUARY\"],[\"CARISSA PARK CONDOMINIUM\"],[\"THE GALE\"],[\"PARC OLYMPIA\"],[\"H2O RESIDENCES\"],[\"RIVERTREES RESIDENCES\"],[\"RIVERBANK @ FERNVALE\"],[\"HIGH PARK RESIDENCES\"],[\"THE GALE\"],[\"NORTHWOOD\"],[\"GRANDE VISTA\"],[\"RIVERBANK @ FERNVALE\"],[\"NORTH PARK RESIDENCES\"],[\"SKIES MILTONIA\"],[\"SYMPHONY SUITES\"],[\"SELETAR PARK RESIDENCE\"],[\"SERENITY PARK\"],[\"THE GREENWICH\"],[\"SKIES MILTONIA\"],[\"HIGH PARK RESIDENCES\"],[\"HEDGES PARK CONDOMINIUM\"],[\"EIGHT COURTYARDS\"],[\"THE MILTONIA RESIDENCES\"],[\"PARC OLYMPIA\"],[\"FERRARIA PARK CONDOMINIUM\"],[\"LOYANG VALLEY\"],[\"BALLOTA PARK CONDOMINIUM\"],[\"THE MILTONIA RESIDENCES\"],[\"EDELWEISS PARK CONDOMINIUM\"],[\"BALLOTA PARK CONDOMINIUM\"],[\"NINE RESIDENCES\"],[\"THE GALE\"],[\"EUPHONY GARDENS\"],[\"SKIES MILTONIA\"],[\"SYMPHONY SUITES\"],[\"EIGHT COURTYARDS\"],[\"H2O RESIDENCES\"],[\"SUNRISE GARDENS\"],[\"THE GREENWICH\"],[\"PALM ISLES\"],[\"THE INFLORA\"],[\"NORTH PARK RESIDENCES\"],[\"EIGHT COURTYARDS\"],[\"NORTH PARK RESIDENCES\"],[\"YISHUN EMERALD\"],[\"CARISSA PARK CONDOMINIUM\"],[\"LILYDALE\"],[\"LILYDALE\"],[\"PALM ISLES\"],[\"HEDGES PARK CONDOMINIUM\"],[\"PARC OLYMPIA\"],[\"THE INFLORA\"],[\"PALM ISLES\"],[\"SKIES MILTONIA\"],[\"RIVERBANK @ FERNVALE\"],[\"HIGH PARK RESIDENCES\"],[\"THE INFLORA\"],[\"THE NAUTICAL\"],[\"SYMPHONY SUITES\"],[\"SELETAR PARK RESIDENCE\"],[\"RIVERBANK @ FERNVALE\"],[\"EDELWEISS PARK CONDOMINIUM\"],[\"THE GALE\"],[\"ESTELLA GARDENS\"],[\"THE ESTUARY\"],[\"NORTHWOOD\"],[\"AZALEA PARK CONDOMINIUM\"],[\"MIMOSA PARK\"],[\"AVILA GARDENS\"],[\"DAHLIA PARK CONDOMINIUM\"],[\"CARISSA PARK CONDOMINIUM\"],[\"ORCHID PARK CONDOMINIUM\"],[\"MIMOSA PARK\"],[\"H2O RESIDENCES\"],[\"THE MILTONIA RESIDENCES\"],[\"PALM ISLES\"],[\"SANDY PALM\"],[\"SUNRISE GARDENS\"]],\"hovertemplate\":\"leaseDateStr=2022-06-01<br>lat=%{lat}<br>lng=%{lon}<br>project=%{customdata[0]}<br>price_change=%{marker.color}<extra></extra>\",\"lat\":[1.39638961318515,1.35917121402077,1.38653998627,1.38820037710408,1.35531040259148,1.39638961318515,1.41345822654196,1.41844703579357,1.39283623462094,1.43795645154437,1.44076527720917,1.41750734534379,1.38653998627,1.43795645154437,1.43795645154437,1.35900307841177,1.44363473207597,1.42866319767121,1.39283623462094,1.41104826332535,1.41844703579357,1.36015764334241,1.38005079580315,1.42866319767121,1.41750734534379,1.38718841691871,1.38718841691871,1.35736420475575,1.35639824853602,1.360285340555,1.44447954944853,1.43795645154437,1.42866319767121,1.41345822654196,1.41844703579357,1.43795645154437,1.41104826332535,1.35917121402077,1.35900307841177,1.35531040259148,1.39283623462094,1.39402092122499,1.39459641963935,1.39638961318515,1.35900307841177,1.42692706476903,1.38879912168555,1.39459641963935,1.42866319767121,1.41807139495834,1.43456191549725,1.38653998627,1.38822776284514,1.38718841691871,1.41807139495834,1.39638961318515,1.35521095284251,1.43795645154437,1.41750734534379,1.35531040259148,1.35736420475575,1.36849628172236,1.35887799120341,1.41750734534379,1.35639824853602,1.35887799120341,1.43281890606271,1.35900307841177,1.42547005593325,1.41807139495834,1.43456191549725,1.43795645154437,1.39283623462094,1.38969073093565,1.38718841691871,1.35688865505981,1.35632843123308,1.42866319767121,1.43795645154437,1.42866319767121,1.43911656257616,1.35917121402077,1.42392837108866,1.42392837108866,1.35688865505981,1.35521095284251,1.35531040259148,1.35632843123308,1.35688865505981,1.41807139495834,1.39459641963935,1.39638961318515,1.35632843123308,1.44363473207597,1.43456191549725,1.38653998627,1.39459641963935,1.35639824853602,1.35900307841177,1.360285340555,1.41104826332535,1.42692706476903,1.36073621566409,1.3831061797156,1.36015764334241,1.35941809852708,1.35917121402077,1.41345822654196,1.3831061797156,1.39283623462094,1.41750734534379,1.35688865505981,1.37889853918179,1.38969073093565],\"legendgroup\":\"\",\"lon\":[103.875132778517,103.963631516169,103.869207772374,103.878493859317,103.965525604183,103.875132778517,103.835186431485,103.841112412447,103.87967806826,103.830995368522,103.830495461097,103.847659418224,103.869207772374,103.830995368522,103.830995368522,103.96686932054,103.825253279684,103.835828704052,103.87967806826,103.832513245026,103.841112412447,103.965165224191,103.96390014473,103.835828704052,103.847659418224,103.869337214926,103.869337214926,103.963972049935,103.96773406082,103.966516198261,103.825437324844,103.830995368522,103.835828704052,103.835186431485,103.841112412447,103.830995368522,103.832513245026,103.963631516169,103.96686932054,103.965525604183,103.87967806826,103.881215058062,103.881117176349,103.875132778517,103.96686932054,103.82405303932,103.852035348555,103.881117176349,103.835828704052,103.84790678249,103.844362842957,103.869207772374,103.858740468004,103.869337214926,103.84790678249,103.875132778517,103.966422045067,103.830995368522,103.847659418224,103.965525604183,103.963972049935,103.970019150268,103.96852443877,103.847659418224,103.96773406082,103.96852443877,103.841477613841,103.96686932054,103.824969746542,103.84790678249,103.844362842957,103.830995368522,103.87967806826,103.857170017555,103.869337214926,103.964194147192,103.966578200418,103.835828704052,103.830995368522,103.835828704052,103.830253676903,103.963631516169,103.849332055297,103.849332055297,103.964194147192,103.966422045067,103.965525604183,103.966578200418,103.964194147192,103.84790678249,103.881117176349,103.875132778517,103.966578200418,103.825253279684,103.844362842957,103.869207772374,103.881117176349,103.96773406082,103.96686932054,103.966516198261,103.832513245026,103.82405303932,103.963299396559,103.864075310229,103.965165224191,103.965393923725,103.963631516169,103.835186431485,103.864075310229,103.87967806826,103.847659418224,103.964194147192,103.959628801553,103.857170017555],\"marker\":{\"color\":[0.14,0.225,0.25,0.36363636363636365,0.21951219512195122,0.29545454545454547,0.54,0.16279069767441862,0.24444444444444444,0.3394495412844037,0.05263157894736842,0.3333333333333333,1.78,0.06422018348623854,0.16,0.20454545454545456,0.04,0.16326530612244897,0.25,0.075,0.1956521739130435,0.2631578947368421,0.3563218390804598,0.12359550561797752,0.05714285714285714,0.1891891891891892,0.16129032258064516,0.30434782608695654,0.41304347826086957,0.5789473684210527,0.46938775510204084,0.2692307692307692,0.3389830508474576,0.0,-0.038461538461538464,0.17307692307692307,0.17391304347826086,0.2894736842105263,0.30612244897959184,0.23076923076923078,0.12631578947368421,0.08695652173913043,0.38095238095238093,0.3333333333333333,0.05,0.03225806451612903,0.10714285714285714,0.047619047619047616,0.19642857142857142,0.125,0.2,0.0,0.08108108108108109,0.13432835820895522,0.03333333333333333,0.4942528735632184,0.23809523809523808,0.6428571428571429,0.36666666666666664,-0.0625,0.23232323232323232,0.08928571428571429,0.12,0.2,0.0,0.21739130434782608,0.11538461538461539,0.2765957446808511,0.45454545454545453,0.15625,0.4339622641509434,0.1724137931034483,0.13793103448275862,0.23076923076923078,0.248,0.0,0.4583333333333333,0.125,-0.06666666666666667,-0.037037037037037035,0.17592592592592593,0.32323232323232326,0.18518518518518517,0.2962962962962963,0.2391304347826087,0.19444444444444445,0.2777777777777778,0.2328767123287671,0.14285714285714285,0.21739130434782608,0.12195121951219512,0.17105263157894737,0.06976744186046512,0.18181818181818182,0.425531914893617,0.1891891891891892,0.2682926829268293,0.08411214953271028,0.0,0.011904761904761904,0.3333333333333333,0.09375,0.15517241379310345,0.014492753623188406,0.21428571428571427,0.42,0.1111111111111111,0.16071428571428573,0.1111111111111111,0.17777777777777778,0.06976744186046512,0.09259259259259259,0.4074074074074074,0.06666666666666667],\"coloraxis\":\"coloraxis\"},\"mode\":\"markers\",\"name\":\"\",\"showlegend\":false,\"subplot\":\"mapbox\",\"type\":\"scattermapbox\"}],\"name\":\"2022-06-01\"},{\"data\":[{\"customdata\":[[\"NORTH PARK RESIDENCES\"],[\"YISHUN EMERALD\"],[\"EIGHT COURTYARDS\"],[\"SYMPHONY SUITES\"],[\"SKIES MILTONIA\"],[\"ORCHID PARK CONDOMINIUM\"],[\"EIGHT COURTYARDS\"],[\"SELETAR PARK RESIDENCE\"],[\"NINE RESIDENCES\"],[\"NORTH PARK RESIDENCES\"],[\"H2O RESIDENCES\"],[\"ORCHID PARK CONDOMINIUM\"],[\"THE ESTUARY\"],[\"AZALEA PARK CONDOMINIUM\"],[\"ESTELLA GARDENS\"],[\"ESTELLA GARDENS\"],[\"HIGH PARK RESIDENCES\"],[\"NINE RESIDENCES\"],[\"NORTH PARK RESIDENCES\"],[\"SYMPHONY SUITES\"],[\"SKIES MILTONIA\"],[\"NINE RESIDENCES\"],[\"NORTH PARK RESIDENCES\"],[\"RIVERBANK @ FERNVALE\"],[\"RIVERTREES RESIDENCES\"],[\"HIGH PARK RESIDENCES\"],[\"RIVERBANK @ FERNVALE\"],[\"RIVERTREES RESIDENCES\"],[\"H2O RESIDENCES\"],[\"HIGH PARK RESIDENCES\"],[\"YISHUN EMERALD\"],[\"SKIES MILTONIA\"],[\"THE MILTONIA RESIDENCES\"],[\"NORTH PARK RESIDENCES\"],[\"RIVERTREES RESIDENCES\"],[\"AVILA GARDENS\"],[\"CARISSA PARK CONDOMINIUM\"],[\"HEDGES PARK CONDOMINIUM\"],[\"EDELWEISS PARK CONDOMINIUM\"],[\"THE GALE\"],[\"RIVERTREES RESIDENCES\"],[\"H2O RESIDENCES\"],[\"1 CANBERRA\"],[\"SERENITY PARK\"],[\"RIVERBANK @ FERNVALE\"],[\"HEDGES PARK CONDOMINIUM\"],[\"PARC OLYMPIA\"],[\"THE INFLORA\"],[\"PALM ISLES\"],[\"SKIES MILTONIA\"],[\"HIGH PARK RESIDENCES\"],[\"SELETAR PARK RESIDENCE\"],[\"EIGHT COURTYARDS\"],[\"EIGHT COURTYARDS\"],[\"PARC OLYMPIA\"],[\"PALM ISLES\"],[\"DAHLIA PARK CONDOMINIUM\"],[\"SUN PLAZA\"],[\"EIGHT COURTYARDS\"],[\"THE MILTONIA RESIDENCES\"],[\"SELETARIS\"],[\"EIGHT COURTYARDS\"],[\"GRANDE VISTA\"],[\"SELETAR SPRINGS CONDOMINIUM\"],[\"THE MILTONIA RESIDENCES\"],[\"COASTAL VIEW RESIDENCES\"],[\"SELETARIS\"],[\"THE GALE\"],[\"SELETARIS\"],[\"EDELWEISS PARK CONDOMINIUM\"],[\"PARC OLYMPIA\"],[\"SYMPHONY SUITES\"],[\"THE INFLORA\"],[\"AZALEA PARK CONDOMINIUM\"],[\"CARISSA PARK CONDOMINIUM\"],[\"THE NAUTICAL\"],[\"ORCHID PARK CONDOMINIUM\"],[\"PALM ISLES\"],[\"CARISSA PARK CONDOMINIUM\"],[\"LILYDALE\"],[\"LOYANG VALLEY\"],[\"LOYANG VALLEY\"],[\"LOYANG VALLEY\"],[\"ORCHID PARK CONDOMINIUM\"],[\"PARC OLYMPIA\"],[\"LILYDALE\"],[\"AVILA GARDENS\"],[\"RIVERBANK @ FERNVALE\"],[\"THE ESTUARY\"],[\"HIGH PARK RESIDENCES\"],[\"SKIES MILTONIA\"],[\"CANBERRA RESIDENCES\"],[\"THE MILTONIA RESIDENCES\"],[\"JLB RESIDENCES\"],[\"PARC OLYMPIA\"],[\"PALM ISLES\"],[\"THE MILTONIA RESIDENCES\"],[\"THE EDGEWATER\"],[\"EDELWEISS PARK CONDOMINIUM\"],[\"SELETAR PARK RESIDENCE\"],[\"RIVERTREES RESIDENCES\"],[\"HIGH PARK RESIDENCES\"],[\"H2O RESIDENCES\"],[\"THE GREENWICH\"],[\"THE GALE\"],[\"NORTH PARK RESIDENCES\"],[\"THE NAUTICAL\"],[\"CANBERRA RESIDENCES\"],[\"CASA PASIR RIS\"],[\"THE GALE\"],[\"NORTH PARK RESIDENCES\"],[\"LOYANG VALLEY\"],[\"1 CANBERRA\"],[\"HIGH PARK RESIDENCES\"],[\"H2O RESIDENCES\"],[\"NORTH PARK RESIDENCES\"]],\"hovertemplate\":\"leaseDateStr=2022-07-01<br>lat=%{lat}<br>lng=%{lon}<br>project=%{customdata[0]}<br>price_change=%{marker.color}<extra></extra>\",\"lat\":[1.42866319767121,1.43911656257616,1.43795645154437,1.43456191549725,1.41807139495834,1.41345822654196,1.43795645154437,1.38653998627,1.43281890606271,1.42866319767121,1.39283623462094,1.41345822654196,1.41104826332535,1.36073621566409,1.360285340555,1.360285340555,1.39638961318515,1.43281890606271,1.42866319767121,1.43456191549725,1.41807139495834,1.43281890606271,1.42866319767121,1.39459641963935,1.39402092122499,1.39638961318515,1.39459641963935,1.39402092122499,1.39283623462094,1.39638961318515,1.43911656257616,1.41807139495834,1.41750734534379,1.42866319767121,1.39402092122499,1.36015764334241,1.35917121402077,1.35521095284251,1.35639824853602,1.35900307841177,1.39402092122499,1.39283623462094,1.43769199919618,1.38822776284514,1.39459641963935,1.35521095284251,1.35531040259148,1.35632843123308,1.35688865505981,1.41807139495834,1.39638961318515,1.38653998627,1.43795645154437,1.43795645154437,1.35531040259148,1.35688865505981,1.35941809852708,1.44819436804175,1.43795645154437,1.41750734534379,1.4358492226796,1.43795645154437,1.38879912168555,1.38820037710408,1.41750734534379,1.37905482184639,1.4358492226796,1.35900307841177,1.4358492226796,1.35639824853602,1.35531040259148,1.43456191549725,1.35632843123308,1.36073621566409,1.35917121402077,1.44363473207597,1.41345822654196,1.35688865505981,1.35917121402077,1.42392837108866,1.36849628172236,1.36849628172236,1.36849628172236,1.41345822654196,1.35531040259148,1.42392837108866,1.36015764334241,1.39459641963935,1.41104826332535,1.39638961318515,1.41807139495834,1.44447954944853,1.41750734534379,1.37908988698315,1.35531040259148,1.35688865505981,1.41750734534379,1.38029080909587,1.35639824853602,1.38653998627,1.39402092122499,1.39638961318515,1.39283623462094,1.38718841691871,1.35900307841177,1.42866319767121,1.44363473207597,1.44447954944853,1.37939195187997,1.35900307841177,1.42866319767121,1.36849628172236,1.43769199919618,1.39638961318515,1.39283623462094,1.42866319767121],\"legendgroup\":\"\",\"lon\":[103.835828704052,103.830253676903,103.830995368522,103.844362842957,103.84790678249,103.835186431485,103.830995368522,103.869207772374,103.841477613841,103.835828704052,103.87967806826,103.835186431485,103.832513245026,103.963299396559,103.966516198261,103.966516198261,103.875132778517,103.841477613841,103.835828704052,103.844362842957,103.84790678249,103.841477613841,103.835828704052,103.881117176349,103.881215058062,103.875132778517,103.881117176349,103.881215058062,103.87967806826,103.875132778517,103.830253676903,103.84790678249,103.847659418224,103.835828704052,103.881215058062,103.965165224191,103.963631516169,103.966422045067,103.96773406082,103.96686932054,103.881215058062,103.87967806826,103.830277614211,103.858740468004,103.881117176349,103.966422045067,103.965525604183,103.966578200418,103.964194147192,103.84790678249,103.875132778517,103.869207772374,103.830995368522,103.830995368522,103.965525604183,103.964194147192,103.965393923725,103.819464386349,103.830995368522,103.847659418224,103.824971641966,103.830995368522,103.852035348555,103.878493859317,103.847659418224,103.961097744973,103.824971641966,103.96686932054,103.824971641966,103.96773406082,103.965525604183,103.844362842957,103.966578200418,103.963299396559,103.963631516169,103.825253279684,103.835186431485,103.964194147192,103.963631516169,103.849332055297,103.970019150268,103.970019150268,103.970019150268,103.835186431485,103.965525604183,103.849332055297,103.965165224191,103.881117176349,103.832513245026,103.875132778517,103.84790678249,103.825437324844,103.847659418224,103.960558475679,103.965525604183,103.964194147192,103.847659418224,103.964674596342,103.96773406082,103.869207772374,103.881215058062,103.875132778517,103.87967806826,103.869337214926,103.96686932054,103.835828704052,103.825253279684,103.825437324844,103.96368774531,103.96686932054,103.835828704052,103.970019150268,103.830277614211,103.875132778517,103.87967806826,103.835828704052],\"marker\":{\"color\":[0.5,0.46236559139784944,0.2975391498881432,0.29523809523809524,0.21428571428571427,0.2558139534883721,0.14285714285714285,0.017543859649122806,0.11711711711711711,-0.13333333333333333,0.38636363636363635,0.37209302325581395,0.09259259259259259,0.18181818181818182,0.20588235294117646,0.06666666666666667,0.34579439252336447,0.5454545454545454,0.34615384615384615,0.04811815150071463,0.7368421052631579,-0.045454545454545456,0.16346153846153846,0.025,-0.033707865168539325,0.391304347826087,0.5,0.34831460674157305,0.1695906432748538,0.30434782608695654,0.16071428571428573,0.047619047619047616,0.1694915254237288,0.13157894736842105,0.2543859649122807,0.5111111111111111,0.625,0.42857142857142855,0.40425531914893614,0.125,0.03333333333333333,0.5121951219512195,0.16923076923076924,0.15,0.24390243902439024,0.35135135135135137,0.3548387096774194,0.11764705882352941,0.3,0.328125,0.12658227848101267,0.5428571428571428,0.4519230769230769,0.23076923076923078,0.3392857142857143,0.25862068965517243,-0.043478260869565216,0.125,0.19318181818181818,0.06666666666666667,0.05,0.24,0.12,0.11764705882352941,0.75,0.2222222222222222,0.36363636363636365,0.1417910447761194,0.15,0.4,0.0,0.11726117261172611,0.24,0.1,0.1346153846153846,0.07142857142857142,0.12931034482758622,0.17045454545454544,0.4166666666666667,0.28,0.12280701754385964,0.16363636363636364,0.14545454545454545,0.0603448275862069,0.02040816326530612,0.6,0.20833333333333334,0.2830188679245283,0.24369747899159663,0.0,0.30612244897959184,0.08,0.2916666666666667,0.22727272727272727,0.1650485436893204,0.5094339622641509,0.4583333333333333,0.11904761904761904,0.25773195876288657,0.11764705882352941,0.36363636363636365,0.1958762886597938,0.27586206896551724,0.1794871794871795,0.1346153846153846,0.3149655604257984,0.3392857142857143,0.28859060402684567,0.19148936170212766,0.09027777777777778,0.6901408450704225,0.18,0.53125,0.34328358208955223,0.36585365853658536,0.2],\"coloraxis\":\"coloraxis\"},\"mode\":\"markers\",\"name\":\"\",\"showlegend\":false,\"subplot\":\"mapbox\",\"type\":\"scattermapbox\"}],\"name\":\"2022-07-01\"},{\"data\":[{\"customdata\":[[\"EIGHT COURTYARDS\"],[\"SELETARIS\"],[\"CARISSA PARK CONDOMINIUM\"],[\"AVILA GARDENS\"],[\"EDELWEISS PARK CONDOMINIUM\"],[\"ESTELLA GARDENS\"],[\"SANDY PALM\"],[\"BALLOTA PARK CONDOMINIUM\"],[\"H2O RESIDENCES\"],[\"ORCHID PARK CONDOMINIUM\"],[\"YISHUN EMERALD\"],[\"LILYDALE\"],[\"EIGHT COURTYARDS\"],[\"THE ESTUARY\"],[\"PALM ISLES\"],[\"BLUWATERS\"],[\"SELETARIS\"],[\"FERRARIA PARK CONDOMINIUM\"],[\"PARC OLYMPIA\"],[\"LILYDALE\"],[\"LOYANG VALLEY\"],[\"ESTELLA GARDENS\"],[\"BALLOTA PARK CONDOMINIUM\"],[\"THE NAUTICAL\"],[\"PARC OLYMPIA\"],[\"BLUWATERS\"],[\"H2O RESIDENCES\"],[\"ESTELLA GARDENS\"],[\"GRANDE VISTA\"],[\"THE ESTUARY\"],[\"NORTHWOOD\"],[\"THE INFLORA\"],[\"HIGH PARK RESIDENCES\"],[\"H2O RESIDENCES\"],[\"RIVERTREES RESIDENCES\"],[\"HIGH PARK RESIDENCES\"],[\"RIVERTREES RESIDENCES\"],[\"NORTH PARK RESIDENCES\"],[\"NINE RESIDENCES\"],[\"SKIES MILTONIA\"],[\"SYMPHONY SUITES\"],[\"NORTH PARK RESIDENCES\"],[\"THE INFLORA\"],[\"ESTELLA GARDENS\"],[\"THE GALE\"],[\"AZALEA PARK CONDOMINIUM\"],[\"DAHLIA PARK CONDOMINIUM\"],[\"CARISSA PARK CONDOMINIUM\"],[\"PALM ISLES\"],[\"SERENITY PARK\"],[\"SYMPHONY SUITES\"],[\"NIM GARDENS\"],[\"RIVERBANK @ FERNVALE\"],[\"FERRARIA PARK CONDOMINIUM\"],[\"THE GREENWICH\"],[\"HIGH PARK RESIDENCES\"],[\"SELETAR PARK RESIDENCE\"],[\"NORTH PARK RESIDENCES\"],[\"THE ESTUARY\"],[\"SELETAR PARK RESIDENCE\"],[\"NORTH PARK RESIDENCES\"],[\"THE ESTUARY\"],[\"PARC OLYMPIA\"],[\"PARC OLYMPIA\"],[\"DAHLIA PARK CONDOMINIUM\"],[\"THE BROWNSTONE\"],[\"1 CANBERRA\"],[\"GRANDE VISTA\"],[\"NINE RESIDENCES\"],[\"HIGH PARK RESIDENCES\"],[\"HIGH PARK RESIDENCES\"],[\"THE GREENWICH\"],[\"NORTH PARK RESIDENCES\"],[\"NINE RESIDENCES\"],[\"SKIES MILTONIA\"],[\"ORCHID PARK CONDOMINIUM\"],[\"THE ESTUARY\"],[\"THE NAUTICAL\"],[\"YISHUN EMERALD\"],[\"EIGHT COURTYARDS\"],[\"SYMPHONY SUITES\"],[\"ORCHID PARK CONDOMINIUM\"],[\"PARC OLYMPIA\"],[\"THE GALE\"],[\"ESTELLA GARDENS\"],[\"EDELWEISS PARK CONDOMINIUM\"],[\"FERRARIA PARK CONDOMINIUM\"],[\"CARISSA PARK CONDOMINIUM\"],[\"SELETAR PARK RESIDENCE\"],[\"H2O RESIDENCES\"],[\"THE MILTONIA RESIDENCES\"],[\"THE INFLORA\"],[\"D'BANYAN\"],[\"THE GREENWICH\"],[\"SELETAR SPRINGS CONDOMINIUM\"],[\"EIGHT COURTYARDS\"],[\"SELETAR PARK RESIDENCE\"],[\"HIGH PARK RESIDENCES\"],[\"THE MILTONIA RESIDENCES\"],[\"SKIES MILTONIA\"],[\"EIGHT COURTYARDS\"],[\"PALM ISLES\"],[\"HEDGES PARK CONDOMINIUM\"],[\"VICTORY 8\"],[\"OCEAN FRONT SUITES\"],[\"GRANDE VISTA\"],[\"THE MILTONIA RESIDENCES\"],[\"MIMOSA PARK\"],[\"HIGH PARK RESIDENCES\"],[\"PARC OLYMPIA\"],[\"SYMPHONY SUITES\"],[\"SUNRISE GARDENS\"],[\"BALLOTA PARK CONDOMINIUM\"],[\"SYMPHONY SUITES\"],[\"NORTH PARK RESIDENCES\"],[\"THE NAUTICAL\"],[\"NORTH PARK RESIDENCES\"],[\"SUNRISE GARDENS\"],[\"NORTH PARK RESIDENCES\"],[\"HEDGES PARK CONDOMINIUM\"],[\"THE GALE\"],[\"THE EDGEWATER\"],[\"GRANDE VISTA\"],[\"THE GALE\"],[\"BALLOTA PARK CONDOMINIUM\"]],\"hovertemplate\":\"leaseDateStr=2022-08-01<br>lat=%{lat}<br>lng=%{lon}<br>project=%{customdata[0]}<br>price_change=%{marker.color}<extra></extra>\",\"lat\":[1.43795645154437,1.4358492226796,1.35917121402077,1.36015764334241,1.35639824853602,1.360285340555,1.37889853918179,1.35887799120341,1.39283623462094,1.41345822654196,1.43911656257616,1.42392837108866,1.43795645154437,1.41104826332535,1.35688865505981,1.37976059991781,1.4358492226796,1.35736420475575,1.35531040259148,1.42392837108866,1.36849628172236,1.360285340555,1.35887799120341,1.44363473207597,1.35531040259148,1.37976059991781,1.39283623462094,1.360285340555,1.38879912168555,1.41104826332535,1.42692706476903,1.35632843123308,1.39638961318515,1.39283623462094,1.39402092122499,1.39638961318515,1.39402092122499,1.42866319767121,1.43281890606271,1.41807139495834,1.43456191549725,1.42866319767121,1.35632843123308,1.360285340555,1.35900307841177,1.36073621566409,1.35941809852708,1.35917121402077,1.35688865505981,1.38822776284514,1.43456191549725,1.38143238111123,1.39459641963935,1.35736420475575,1.38718841691871,1.39638961318515,1.38653998627,1.42866319767121,1.41104826332535,1.38653998627,1.42866319767121,1.41104826332535,1.35531040259148,1.35531040259148,1.35941809852708,1.44605090505522,1.43769199919618,1.38879912168555,1.43281890606271,1.39638961318515,1.39638961318515,1.38718841691871,1.42866319767121,1.43281890606271,1.41807139495834,1.41345822654196,1.41104826332535,1.44363473207597,1.43911656257616,1.43795645154437,1.43456191549725,1.41345822654196,1.35531040259148,1.35900307841177,1.360285340555,1.35639824853602,1.35736420475575,1.35917121402077,1.38653998627,1.39283623462094,1.41750734534379,1.35632843123308,1.44403787932825,1.38718841691871,1.38820037710408,1.43795645154437,1.38653998627,1.39638961318515,1.41750734534379,1.41807139495834,1.43795645154437,1.35688865505981,1.35521095284251,1.44184070674357,1.37745408150082,1.38879912168555,1.41750734534379,1.3831061797156,1.39638961318515,1.35531040259148,1.43456191549725,1.38969073093565,1.35887799120341,1.43456191549725,1.42866319767121,1.44363473207597,1.42866319767121,1.38969073093565,1.42866319767121,1.35521095284251,1.35900307841177,1.38029080909587,1.38879912168555,1.35900307841177,1.35887799120341],\"legendgroup\":\"\",\"lon\":[103.830995368522,103.824971641966,103.963631516169,103.965165224191,103.96773406082,103.966516198261,103.959628801553,103.96852443877,103.87967806826,103.835186431485,103.830253676903,103.849332055297,103.830995368522,103.832513245026,103.964194147192,103.963077852592,103.824971641966,103.963972049935,103.965525604183,103.849332055297,103.970019150268,103.966516198261,103.96852443877,103.825253279684,103.965525604183,103.963077852592,103.87967806826,103.966516198261,103.852035348555,103.832513245026,103.82405303932,103.966578200418,103.875132778517,103.87967806826,103.881215058062,103.875132778517,103.881215058062,103.835828704052,103.841477613841,103.84790678249,103.844362842957,103.835828704052,103.966578200418,103.966516198261,103.96686932054,103.963299396559,103.965393923725,103.963631516169,103.964194147192,103.858740468004,103.844362842957,103.863043130131,103.881117176349,103.963972049935,103.869337214926,103.875132778517,103.869207772374,103.835828704052,103.832513245026,103.869207772374,103.835828704052,103.832513245026,103.965525604183,103.965525604183,103.965393923725,103.827051427084,103.830277614211,103.852035348555,103.841477613841,103.875132778517,103.875132778517,103.869337214926,103.835828704052,103.841477613841,103.84790678249,103.835186431485,103.832513245026,103.825253279684,103.830253676903,103.830995368522,103.844362842957,103.835186431485,103.965525604183,103.96686932054,103.966516198261,103.96773406082,103.963972049935,103.963631516169,103.869207772374,103.87967806826,103.847659418224,103.966578200418,103.825036650569,103.869337214926,103.878493859317,103.830995368522,103.869207772374,103.875132778517,103.847659418224,103.84790678249,103.830995368522,103.964194147192,103.966422045067,103.823693218432,103.95662588933,103.852035348555,103.847659418224,103.864075310229,103.875132778517,103.965525604183,103.844362842957,103.857170017555,103.96852443877,103.844362842957,103.835828704052,103.825253279684,103.835828704052,103.857170017555,103.835828704052,103.966422045067,103.96686932054,103.964674596342,103.852035348555,103.96686932054,103.96852443877],\"marker\":{\"color\":[0.0136986301369863,0.034482758620689655,-0.06666666666666667,0.13445378151260504,0.22448979591836735,0.5833333333333334,0.041666666666666664,0.19791666666666666,-0.017543859649122806,0.16666666666666666,0.24528301886792453,0.34615384615384615,-0.0410958904109589,0.37373737373737376,0.17647058823529413,0.3103448275862069,0.05,0.26153846153846155,0.3333333333333333,0.2692307692307692,0.20689655172413793,0.40625,0.19,0.07272727272727272,0.11904761904761904,0.34782608695652173,0.27049180327868855,0.24050632911392406,0.36,0.5,-0.06666666666666667,0.24,0.3111111111111111,0.5714285714285714,0.5476190476190477,0.3333333333333333,0.09523809523809523,0.11538461538461539,0.30434782608695654,0.08695652173913043,0.21951219512195122,0.23076923076923078,0.31868131868131866,0.3382352941176471,0.43333333333333335,0.72,0.28846153846153844,0.36538461538461536,0.65,0.10714285714285714,0.30434782608695654,-0.04032258064516129,0.37254901960784315,0.0784313725490196,0.023809523809523808,0.4642857142857143,0.3684210526315789,0.15384615384615385,0.1282051282051282,0.24444444444444444,0.2631578947368421,0.23076923076923078,0.225,0.07407407407407407,0.15625,0.34545454545454546,0.13793103448275862,0.2631578947368421,0.25,0.43478260869565216,0.37037037037037035,0.2765957446808511,0.4925373134328358,0.16,0.09523809523809523,0.0,0.391304347826087,0.24,0.5232558139534884,0.4090909090909091,0.43478260869565216,0.08695652173913043,0.11827956989247312,0.22727272727272727,0.20930232558139536,0.043478260869565216,0.5,0.4375,0.3333333333333333,0.36363636363636365,0.14814814814814814,0.1323529411764706,0.027777777777777776,0.01639344262295082,0.5909090909090909,0.8,0.41025641025641024,0.15,0.2222222222222222,0.0,0.2833333333333333,0.2222222222222222,0.6666666666666666,0.0,0.0,0.8055555555555556,0.05154639175257732,0.0,0.34782608695652173,0.3150684931506849,0.5098039215686274,0.125,0.05,0.18518518518518517,0.25925925925925924,0.021739130434782608,0.19148936170212766,-0.08771929824561403,0.11428571428571428,0.47619047619047616,0.23404255319148937,0.65,0.25,0.06382978723404255,0.2],\"coloraxis\":\"coloraxis\"},\"mode\":\"markers\",\"name\":\"\",\"showlegend\":false,\"subplot\":\"mapbox\",\"type\":\"scattermapbox\"}],\"name\":\"2022-08-01\"},{\"data\":[{\"customdata\":[[\"ORCHID PARK CONDOMINIUM\"],[\"THE MILTONIA RESIDENCES\"],[\"YISHUN EMERALD\"],[\"EIGHT COURTYARDS\"],[\"CARISSA PARK CONDOMINIUM\"],[\"DAHLIA PARK CONDOMINIUM\"],[\"AZALEA PARK CONDOMINIUM\"],[\"SYMPHONY SUITES\"],[\"EIGHT COURTYARDS\"],[\"PARC OLYMPIA\"],[\"PALM ISLES\"],[\"THE INFLORA\"],[\"THE MILTONIA RESIDENCES\"],[\"HEDGES PARK CONDOMINIUM\"],[\"PALM ISLES\"],[\"GRANDE VISTA\"],[\"RIVERTREES RESIDENCES\"],[\"AZALEA PARK CONDOMINIUM\"],[\"WATERCREST\"],[\"NORTHWOOD\"],[\"SKIES MILTONIA\"],[\"SERENITY PARK\"],[\"LOYANG VALLEY\"],[\"BALLOTA PARK CONDOMINIUM\"],[\"SELETAR PARK RESIDENCE\"],[\"SELETARIS\"],[\"NORTHWOOD\"],[\"AVILA GARDENS\"],[\"LOYANG VALLEY\"],[\"THE GALE\"],[\"OCEAN FRONT SUITES\"],[\"OCEAN FRONT SUITES\"],[\"HEDGES PARK CONDOMINIUM\"],[\"PARC OLYMPIA\"],[\"THE INFLORA\"],[\"RIZ HAVEN\"],[\"H2O RESIDENCES\"],[\"SKIES MILTONIA\"],[\"RIVERBANK @ FERNVALE\"],[\"CASA PASIR RIS\"],[\"DAHLIA PARK CONDOMINIUM\"],[\"CARISSA PARK CONDOMINIUM\"],[\"LILYDALE\"],[\"HIGH PARK RESIDENCES\"],[\"RIVERBANK @ FERNVALE\"],[\"ORCHID PARK CONDOMINIUM\"],[\"THE MILTONIA RESIDENCES\"],[\"THE MILTONIA RESIDENCES\"],[\"PARC OLYMPIA\"],[\"PALM ISLES\"],[\"THE INFLORA\"],[\"HEDGES PARK CONDOMINIUM\"],[\"BALLOTA PARK CONDOMINIUM\"],[\"THE GALE\"],[\"EDELWEISS PARK CONDOMINIUM\"],[\"FERRARIA PARK CONDOMINIUM\"],[\"DAHLIA PARK CONDOMINIUM\"],[\"GRANDE VISTA\"],[\"NORTH PARK RESIDENCES\"],[\"THE SENSORIA\"],[\"ORCHID PARK CONDOMINIUM\"],[\"THE EDGEWATER\"],[\"ESTELLA GARDENS\"],[\"EDELWEISS PARK CONDOMINIUM\"],[\"DAHLIA PARK CONDOMINIUM\"],[\"LILYDALE\"],[\"HIGH PARK RESIDENCES\"],[\"RIVERBANK @ FERNVALE\"],[\"PALM ISLES\"],[\"HIGH PARK RESIDENCES\"],[\"SYMPHONY SUITES\"],[\"ORCHID PARK CONDOMINIUM\"],[\"THE ESTUARY\"],[\"YISHUN SAPPHIRE\"],[\"YISHUN EMERALD\"],[\"THE GALE\"],[\"EDELWEISS PARK CONDOMINIUM\"],[\"CARISSA PARK CONDOMINIUM\"],[\"THE INFLORA\"],[\"THE WISTERIA\"],[\"HEDGES PARK CONDOMINIUM\"],[\"FERRARIA PARK CONDOMINIUM\"],[\"NORTH PARK RESIDENCES\"],[\"THE ESTUARY\"],[\"NORTH PARK RESIDENCES\"],[\"SELETAR PARK RESIDENCE\"],[\"HIGH PARK RESIDENCES\"],[\"ESTELLA GARDENS\"],[\"HEDGES PARK CONDOMINIUM\"],[\"THE TOPIARY\"],[\"CARISSA PARK CONDOMINIUM\"],[\"H2O RESIDENCES\"],[\"THE GREENWICH\"],[\"HIGH PARK RESIDENCES\"],[\"1 CANBERRA\"],[\"RIVERBANK @ FERNVALE\"],[\"HIGH PARK RESIDENCES\"],[\"RIVERTREES RESIDENCES\"],[\"ESTELLA GARDENS\"],[\"NINE RESIDENCES\"],[\"NORTH PARK RESIDENCES\"],[\"HIGH PARK RESIDENCES\"],[\"THE GREENWICH\"],[\"NORTH PARK RESIDENCES\"]],\"hovertemplate\":\"leaseDateStr=2022-09-01<br>lat=%{lat}<br>lng=%{lon}<br>project=%{customdata[0]}<br>price_change=%{marker.color}<extra></extra>\",\"lat\":[1.41345822654196,1.41750734534379,1.43911656257616,1.43795645154437,1.35917121402077,1.35941809852708,1.36073621566409,1.43456191549725,1.43795645154437,1.35531040259148,1.35688865505981,1.35632843123308,1.41750734534379,1.35521095284251,1.35688865505981,1.38879912168555,1.39402092122499,1.36073621566409,1.37776271751871,1.42692706476903,1.41807139495834,1.38822776284514,1.36849628172236,1.35887799120341,1.38653998627,1.4358492226796,1.42692706476903,1.36015764334241,1.36849628172236,1.35900307841177,1.37745408150082,1.37745408150082,1.35521095284251,1.35531040259148,1.35632843123308,1.37989464950184,1.39283623462094,1.41807139495834,1.39459641963935,1.37939195187997,1.35941809852708,1.35917121402077,1.42392837108866,1.39638961318515,1.39459641963935,1.41345822654196,1.41750734534379,1.41750734534379,1.35531040259148,1.35688865505981,1.35632843123308,1.35521095284251,1.35887799120341,1.35900307841177,1.35639824853602,1.35736420475575,1.35941809852708,1.38879912168555,1.42866319767121,1.43708981866519,1.41345822654196,1.38029080909587,1.360285340555,1.35639824853602,1.35941809852708,1.42392837108866,1.39638961318515,1.39459641963935,1.35688865505981,1.39638961318515,1.43456191549725,1.41345822654196,1.41104826332535,1.44076527720917,1.43911656257616,1.35900307841177,1.35639824853602,1.35917121402077,1.35632843123308,1.41844703579357,1.35521095284251,1.35736420475575,1.42866319767121,1.41104826332535,1.42866319767121,1.38653998627,1.39638961318515,1.360285340555,1.35521095284251,1.38887143127704,1.35917121402077,1.39283623462094,1.38718841691871,1.39638961318515,1.43769199919618,1.39459641963935,1.39638961318515,1.39402092122499,1.360285340555,1.43281890606271,1.42866319767121,1.39638961318515,1.38718841691871,1.42866319767121],\"legendgroup\":\"\",\"lon\":[103.835186431485,103.847659418224,103.830253676903,103.830995368522,103.963631516169,103.965393923725,103.963299396559,103.844362842957,103.830995368522,103.965525604183,103.964194147192,103.966578200418,103.847659418224,103.966422045067,103.964194147192,103.852035348555,103.881215058062,103.963299396559,103.957380821299,103.82405303932,103.84790678249,103.858740468004,103.970019150268,103.96852443877,103.869207772374,103.824971641966,103.82405303932,103.965165224191,103.970019150268,103.96686932054,103.95662588933,103.95662588933,103.966422045067,103.965525604183,103.966578200418,103.96274397719,103.87967806826,103.84790678249,103.881117176349,103.96368774531,103.965393923725,103.963631516169,103.849332055297,103.875132778517,103.881117176349,103.835186431485,103.847659418224,103.847659418224,103.965525604183,103.964194147192,103.966578200418,103.966422045067,103.96852443877,103.96686932054,103.96773406082,103.963972049935,103.965393923725,103.852035348555,103.835828704052,103.824846106256,103.835186431485,103.964674596342,103.966516198261,103.96773406082,103.965393923725,103.849332055297,103.875132778517,103.881117176349,103.964194147192,103.875132778517,103.844362842957,103.835186431485,103.832513245026,103.830495461097,103.830253676903,103.96686932054,103.96773406082,103.963631516169,103.966578200418,103.841112412447,103.966422045067,103.963972049935,103.835828704052,103.832513245026,103.835828704052,103.869207772374,103.875132778517,103.966516198261,103.966422045067,103.872017156345,103.963631516169,103.87967806826,103.869337214926,103.875132778517,103.830277614211,103.881117176349,103.875132778517,103.881215058062,103.966516198261,103.841477613841,103.835828704052,103.875132778517,103.869337214926,103.835828704052],\"marker\":{\"color\":[0.05357142857142857,0.1111111111111111,0.4444444444444444,0.3333333333333333,0.17647058823529413,0.16049382716049382,0.20430107526881722,0.32727272727272727,0.1875,0.3469387755102041,0.4111111111111111,0.7142857142857143,0.47674418604651164,0.6309523809523809,0.5333333333333333,0.25,0.7948717948717948,0.5,0.06666666666666667,0.28,-0.17647058823529413,0.034482758620689655,0.37254901960784315,0.391304347826087,0.45161290322580644,0.3445378151260504,0.14925373134328357,0.19008264462809918,0.10738255033557047,0.0,0.23529411764705882,0.3235294117647059,0.390625,0.3287671232876712,0.2972972972972973,0.0,0.3333333333333333,0.35135135135135137,0.12195121951219512,0.23076923076923078,0.3469387755102041,0.2692307692307692,0.1724137931034483,0.16666666666666666,0.6666666666666666,0.3333333333333333,0.36363636363636365,0.5909090909090909,0.5416666666666666,0.7254901960784313,0.32,0.5,0.35,0.14814814814814814,0.5421686746987951,0.2,0.0,0.2871287128712871,0.057692307692307696,0.6,0.34513274336283184,0.10714285714285714,0.19148936170212766,0.0931174089068826,0.7307692307692307,0.20689655172413793,0.3783783783783784,0.2682926829268293,0.25,0.25,0.44,0.3157894736842105,0.24210526315789474,0.2631578947368421,0.2,0.2631578947368421,0.3673469387755102,0.48717948717948717,0.6,0.21666666666666667,0.10526315789473684,0.0,0.30851063829787234,0.07142857142857142,0.16037735849056603,0.35135135135135137,0.35555555555555557,0.09302325581395349,0.20408163265306123,1.25,0.35294117647058826,0.23620309050772628,0.6521739130434783,0.7307692307692307,0.26666666666666666,0.6,0.4,0.7948717948717948,0.2777777777777778,-0.10204081632653061,0.25,0.34615384615384615,0.45652173913043476,0.14285714285714285],\"coloraxis\":\"coloraxis\"},\"mode\":\"markers\",\"name\":\"\",\"showlegend\":false,\"subplot\":\"mapbox\",\"type\":\"scattermapbox\"}],\"name\":\"2022-09-01\"},{\"data\":[{\"customdata\":[[\"THE GREENWICH\"],[\"RIVERBANK @ FERNVALE\"],[\"SELETAR PARK RESIDENCE\"],[\"THE MILTONIA RESIDENCES\"],[\"SYMPHONY SUITES\"],[\"WATERCREST\"],[\"THE MILTONIA RESIDENCES\"],[\"BALLOTA PARK CONDOMINIUM\"],[\"EDELWEISS PARK CONDOMINIUM\"],[\"THE TOPIARY\"],[\"THE CANOPY\"],[\"SKIES MILTONIA\"],[\"FERRARIA PARK CONDOMINIUM\"],[\"THE GREENWICH\"],[\"PARC OLYMPIA\"],[\"HIGH PARK RESIDENCES\"],[\"THE GREENWICH\"],[\"HIGH PARK RESIDENCES\"],[\"NINE RESIDENCES\"],[\"EIGHT COURTYARDS\"],[\"ORCHID PARK CONDOMINIUM\"],[\"THE ESTUARY\"],[\"SKIES MILTONIA\"],[\"H2O RESIDENCES\"],[\"YISHUN EMERALD\"],[\"CANBERRA RESIDENCES\"],[\"ORCHID PARK CONDOMINIUM\"],[\"EIGHT COURTYARDS\"],[\"THE GALE\"],[\"ESTELLA GARDENS\"],[\"EDELWEISS PARK CONDOMINIUM\"],[\"CARISSA PARK CONDOMINIUM\"],[\"ESTELLA GARDENS\"],[\"EIGHT COURTYARDS\"],[\"ESTELLA GARDENS\"],[\"CARISSA PARK CONDOMINIUM\"],[\"SKIES MILTONIA\"],[\"SELETAR PARK RESIDENCE\"],[\"H2O RESIDENCES\"],[\"RIVERTREES RESIDENCES\"],[\"SERENITY PARK\"],[\"ORCHID PARK CONDOMINIUM\"],[\"SKIES MILTONIA\"],[\"YISHUN EMERALD\"],[\"EIGHT COURTYARDS\"],[\"BLUWATERS\"],[\"THE GALE\"],[\"HEDGES PARK CONDOMINIUM\"],[\"PALM ISLES\"],[\"PARC OLYMPIA\"],[\"EDELWEISS PARK CONDOMINIUM\"],[\"PALM ISLES\"],[\"THE INFLORA\"],[\"AZALEA PARK CONDOMINIUM\"],[\"NORTH PARK RESIDENCES\"],[\"EIGHT COURTYARDS\"],[\"VICTORY 8\"],[\"THE ESTUARY\"],[\"HIGH PARK RESIDENCES\"],[\"THE WISTERIA\"],[\"PALM ISLES\"],[\"THE INFLORA\"],[\"PARC OLYMPIA\"],[\"HEDGES PARK CONDOMINIUM\"],[\"LOYANG VALLEY\"],[\"MIMOSA PARK\"],[\"LOYANG VALLEY\"],[\"GRANDE VISTA\"],[\"PALM ISLES\"],[\"SELETARIS\"],[\"BALLOTA PARK CONDOMINIUM\"],[\"LOYANG VALLEY\"],[\"CARISSA PARK CONDOMINIUM\"],[\"PARC OLYMPIA\"],[\"PARC OLYMPIA\"],[\"NINE RESIDENCES\"],[\"THE MILTONIA RESIDENCES\"],[\"BLUWATERS\"],[\"H2O RESIDENCES\"],[\"RIVERBANK @ FERNVALE\"],[\"HIGH PARK RESIDENCES\"],[\"SELETAR SPRINGS CONDOMINIUM\"],[\"ORCHID PARK CONDOMINIUM\"],[\"THE NAUTICAL\"],[\"RIVERTREES RESIDENCES\"],[\"AVILA GARDENS\"],[\"RIVERTREES RESIDENCES\"],[\"DAHLIA PARK CONDOMINIUM\"],[\"PARC LIFE\"],[\"SYMPHONY SUITES\"],[\"NORTH PARK RESIDENCES\"],[\"THE INFLORA\"],[\"EDELWEISS PARK CONDOMINIUM\"],[\"PARC OLYMPIA\"],[\"ESTELLA GARDENS\"],[\"NORTH PARK RESIDENCES\"],[\"HIGH PARK RESIDENCES\"],[\"ESTELLA GARDENS\"],[\"H2O RESIDENCES\"],[\"SELETAR SPRINGS CONDOMINIUM\"],[\"EIGHT COURTYARDS\"],[\"SELETARIS\"],[\"BALLOTA PARK CONDOMINIUM\"],[\"RIVERBANK @ FERNVALE\"],[\"AVILA GARDENS\"],[\"CARISSA PARK CONDOMINIUM\"],[\"LILYDALE\"],[\"AZALEA PARK CONDOMINIUM\"],[\"RIVERTREES RESIDENCES\"],[\"HIGH PARK RESIDENCES\"],[\"SELETAR PARK RESIDENCE\"],[\"HIGH PARK RESIDENCES\"],[\"LILYDALE\"]],\"hovertemplate\":\"leaseDateStr=2022-10-01<br>lat=%{lat}<br>lng=%{lon}<br>project=%{customdata[0]}<br>price_change=%{marker.color}<extra></extra>\",\"lat\":[1.38718841691871,1.39459641963935,1.38653998627,1.41750734534379,1.43456191549725,1.37776271751871,1.41750734534379,1.35887799120341,1.35639824853602,1.38887143127704,1.4238543175594,1.41807139495834,1.35736420475575,1.38718841691871,1.35531040259148,1.39638961318515,1.38718841691871,1.39638961318515,1.43281890606271,1.43795645154437,1.41345822654196,1.41104826332535,1.41807139495834,1.39283623462094,1.43911656257616,1.44447954944853,1.41345822654196,1.43795645154437,1.35900307841177,1.360285340555,1.35639824853602,1.35917121402077,1.360285340555,1.43795645154437,1.360285340555,1.35917121402077,1.41807139495834,1.38653998627,1.39283623462094,1.39402092122499,1.38822776284514,1.41345822654196,1.41807139495834,1.43911656257616,1.43795645154437,1.37976059991781,1.35900307841177,1.35521095284251,1.35688865505981,1.35531040259148,1.35639824853602,1.35688865505981,1.35632843123308,1.36073621566409,1.42866319767121,1.43795645154437,1.44184070674357,1.41104826332535,1.39638961318515,1.41844703579357,1.35688865505981,1.35632843123308,1.35531040259148,1.35521095284251,1.36849628172236,1.3831061797156,1.36849628172236,1.38879912168555,1.35688865505981,1.4358492226796,1.35887799120341,1.36849628172236,1.35917121402077,1.35531040259148,1.35531040259148,1.43281890606271,1.41750734534379,1.37976059991781,1.39283623462094,1.39459641963935,1.39638961318515,1.38820037710408,1.41345822654196,1.44363473207597,1.39402092122499,1.36015764334241,1.39402092122499,1.35941809852708,1.44369946991503,1.43456191549725,1.42866319767121,1.35632843123308,1.35639824853602,1.35531040259148,1.360285340555,1.42866319767121,1.39638961318515,1.360285340555,1.39283623462094,1.38820037710408,1.43795645154437,1.4358492226796,1.35887799120341,1.39459641963935,1.36015764334241,1.35917121402077,1.42392837108866,1.36073621566409,1.39402092122499,1.39638961318515,1.38653998627,1.39638961318515,1.42392837108866],\"legendgroup\":\"\",\"lon\":[103.869337214926,103.881117176349,103.869207772374,103.847659418224,103.844362842957,103.957380821299,103.847659418224,103.96852443877,103.96773406082,103.872017156345,103.848078487443,103.84790678249,103.963972049935,103.869337214926,103.965525604183,103.875132778517,103.869337214926,103.875132778517,103.841477613841,103.830995368522,103.835186431485,103.832513245026,103.84790678249,103.87967806826,103.830253676903,103.825437324844,103.835186431485,103.830995368522,103.96686932054,103.966516198261,103.96773406082,103.963631516169,103.966516198261,103.830995368522,103.966516198261,103.963631516169,103.84790678249,103.869207772374,103.87967806826,103.881215058062,103.858740468004,103.835186431485,103.84790678249,103.830253676903,103.830995368522,103.963077852592,103.96686932054,103.966422045067,103.964194147192,103.965525604183,103.96773406082,103.964194147192,103.966578200418,103.963299396559,103.835828704052,103.830995368522,103.823693218432,103.832513245026,103.875132778517,103.841112412447,103.964194147192,103.966578200418,103.965525604183,103.966422045067,103.970019150268,103.864075310229,103.970019150268,103.852035348555,103.964194147192,103.824971641966,103.96852443877,103.970019150268,103.963631516169,103.965525604183,103.965525604183,103.841477613841,103.847659418224,103.963077852592,103.87967806826,103.881117176349,103.875132778517,103.878493859317,103.835186431485,103.825253279684,103.881215058062,103.965165224191,103.881215058062,103.965393923725,103.818597271496,103.844362842957,103.835828704052,103.966578200418,103.96773406082,103.965525604183,103.966516198261,103.835828704052,103.875132778517,103.966516198261,103.87967806826,103.878493859317,103.830995368522,103.824971641966,103.96852443877,103.881117176349,103.965165224191,103.963631516169,103.849332055297,103.963299396559,103.881215058062,103.875132778517,103.869207772374,103.875132778517,103.849332055297],\"marker\":{\"color\":[0.14285714285714285,0.09375,0.3617021276595745,0.13725490196078433,0.5254237288135594,0.07142857142857142,0.18627450980392157,0.15,0.16,0.15,0.1724137931034483,0.25,0.037037037037037035,0.43478260869565216,-0.09090909090909091,0.48148148148148145,0.21739130434782608,0.3333333333333333,0.6666666666666666,0.1111111111111111,0.8974358974358975,0.20754716981132076,0.4230769230769231,0.16279069767441862,-0.08256880733944955,0.18518518518518517,0.358974358974359,0.4375,0.13636363636363635,0.3125,0.19791666666666666,0.29213483146067415,0.24324324324324326,0.041666666666666664,0.17169896349707076,0.2,0.5714285714285714,0.28205128205128205,0.09701492537313433,0.5909090909090909,0.04,0.5573770491803278,0.8260869565217391,0.3103448275862069,0.1111111111111111,0.12903225806451613,0.2962962962962963,0.2,0.5238095238095238,0.13636363636363635,0.42857142857142855,0.5238095238095238,0.7111111111111111,0.8947368421052632,0.1111111111111111,0.4,0.0,0.16666666666666666,0.24440019910403185,0.2,0.2236842105263158,0.35294117647058826,0.5428571428571428,0.47368421052631576,0.15,0.5217391304347826,0.2222222222222222,0.13864701942397856,0.5714285714285714,0.09090909090909091,0.2708333333333333,0.23076923076923078,0.40540540540540543,0.29411764705882354,0.3108108108108108,0.175,0.15555555555555556,0.3191489361702128,0.21621621621621623,0.3333333333333333,0.2878787878787879,0.2,-0.11428571428571428,0.125,0.525,0.125,0.7272727272727273,0.37142857142857144,0.125,0.6190476190476191,0.32142857142857145,0.37254901960784315,0.2222222222222222,0.4,0.175,0.35714285714285715,0.5208333333333334,0.21739130434782608,0.75,0.2777777777777778,0.3125,0.14754098360655737,0.2872340425531915,0.47619047619047616,0.64,0.4423076923076923,0.7021276595744681,0.3103448275862069,0.09523809523809523,0.4090909090909091,0.46153846153846156,0.375,0.23404255319148937],\"coloraxis\":\"coloraxis\"},\"mode\":\"markers\",\"name\":\"\",\"showlegend\":false,\"subplot\":\"mapbox\",\"type\":\"scattermapbox\"}],\"name\":\"2022-10-01\"},{\"data\":[{\"customdata\":[[\"FERRARIA PARK CONDOMINIUM\"],[\"CARISSA PARK CONDOMINIUM\"],[\"HEDGES PARK CONDOMINIUM\"],[\"PARC OLYMPIA\"],[\"THE INFLORA\"],[\"PALM ISLES\"],[\"SKIES MILTONIA\"],[\"SKIES MILTONIA\"],[\"RIVERTREES RESIDENCES\"],[\"NORTH PARK RESIDENCES\"],[\"THE WISTERIA\"],[\"THE ESTUARY\"],[\"PARC OLYMPIA\"],[\"EDELWEISS PARK CONDOMINIUM\"],[\"THE MILTONIA RESIDENCES\"],[\"HIGH PARK RESIDENCES\"],[\"RIVERTREES RESIDENCES\"],[\"SELETAR PARK RESIDENCE\"],[\"SELETAR PARK RESIDENCE\"],[\"ESTELLA GARDENS\"],[\"BALLOTA PARK CONDOMINIUM\"],[\"BLUWATERS 2\"],[\"THE ESTUARY\"],[\"BALLOTA PARK CONDOMINIUM\"],[\"CASA PASIR RIS\"],[\"EDELWEISS PARK CONDOMINIUM\"],[\"AVILA GARDENS\"],[\"DAHLIA PARK CONDOMINIUM\"],[\"CARISSA PARK CONDOMINIUM\"],[\"FERRARIA PARK CONDOMINIUM\"],[\"LILYDALE\"],[\"ORCHID PARK CONDOMINIUM\"],[\"FERRARIA PARK CONDOMINIUM\"],[\"HEDGES PARK CONDOMINIUM\"],[\"BALLOTA PARK CONDOMINIUM\"],[\"PALM ISLES\"],[\"CANBERRA RESIDENCES\"],[\"THE MILTONIA RESIDENCES\"],[\"SYMPHONY SUITES\"],[\"RIVERBANK @ FERNVALE\"],[\"H2O RESIDENCES\"],[\"HIGH PARK RESIDENCES\"],[\"BALLOTA PARK CONDOMINIUM\"],[\"NORTH PARK RESIDENCES\"],[\"ORCHID PARK CONDOMINIUM\"],[\"CARISSA PARK CONDOMINIUM\"],[\"EIGHT COURTYARDS\"],[\"NORTH PARK RESIDENCES\"],[\"ORCHID PARK CONDOMINIUM\"],[\"CANBERRA RESIDENCES\"],[\"THE ESTUARY\"],[\"NINE RESIDENCES\"],[\"SELETAR PARK RESIDENCE\"],[\"THE GREENWICH\"],[\"HIGH PARK RESIDENCES\"],[\"BALLOTA PARK CONDOMINIUM\"],[\"AZALEA PARK CONDOMINIUM\"],[\"SELETARIS\"],[\"AZALEA PARK CONDOMINIUM\"],[\"HIGH PARK RESIDENCES\"],[\"SERENITY PARK\"],[\"THE ESTUARY\"],[\"SELETARIS\"],[\"THE MILTONIA RESIDENCES\"],[\"THE INFLORA\"],[\"AZALEA PARK CONDOMINIUM\"],[\"AVILA GARDENS\"],[\"BLUWATERS\"],[\"SELETAR PARK RESIDENCE\"],[\"AZALEA PARK CONDOMINIUM\"],[\"HIGH PARK RESIDENCES\"],[\"SKIES MILTONIA\"],[\"THE ESTUARY\"],[\"THE NAUTICAL\"],[\"THE MILTONIA RESIDENCES\"],[\"EIGHT COURTYARDS\"],[\"SYMPHONY SUITES\"],[\"THE INFLORA\"],[\"PALM ISLES\"],[\"PARC OLYMPIA\"],[\"PALM ISLES\"],[\"ESTELLA GARDENS\"],[\"THE INFLORA\"],[\"ORCHID PARK CONDOMINIUM\"],[\"NORTH PARK RESIDENCES\"],[\"NINE RESIDENCES\"],[\"NORTH PARK RESIDENCES\"],[\"RIVERTREES RESIDENCES\"],[\"H2O RESIDENCES\"],[\"HEDGES PARK CONDOMINIUM\"],[\"SKYPARK RESIDENCES\"],[\"THE TOPIARY\"],[\"DAHLIA PARK CONDOMINIUM\"],[\"DAHLIA PARK CONDOMINIUM\"],[\"ESTELLA GARDENS\"],[\"EIGHT COURTYARDS\"],[\"CANBERRA RESIDENCES\"],[\"SYMPHONY SUITES\"],[\"SERENITY PARK\"],[\"THE NAUTICAL\"]],\"hovertemplate\":\"leaseDateStr=2022-11-01<br>lat=%{lat}<br>lng=%{lon}<br>project=%{customdata[0]}<br>price_change=%{marker.color}<extra></extra>\",\"lat\":[1.35736420475575,1.35917121402077,1.35521095284251,1.35531040259148,1.35632843123308,1.35688865505981,1.41807139495834,1.41807139495834,1.39402092122499,1.42866319767121,1.41844703579357,1.41104826332535,1.35531040259148,1.35639824853602,1.41750734534379,1.39638961318515,1.39402092122499,1.38653998627,1.38653998627,1.360285340555,1.35887799120341,1.38005079580315,1.41104826332535,1.35887799120341,1.37939195187997,1.35639824853602,1.36015764334241,1.35941809852708,1.35917121402077,1.35736420475575,1.42392837108866,1.41345822654196,1.35736420475575,1.35521095284251,1.35887799120341,1.35688865505981,1.44447954944853,1.41750734534379,1.43456191549725,1.39459641963935,1.39283623462094,1.39638961318515,1.35887799120341,1.42866319767121,1.41345822654196,1.35917121402077,1.43795645154437,1.42866319767121,1.41345822654196,1.44447954944853,1.41104826332535,1.43281890606271,1.38653998627,1.38718841691871,1.39638961318515,1.35887799120341,1.36073621566409,1.4358492226796,1.36073621566409,1.39638961318515,1.38822776284514,1.41104826332535,1.4358492226796,1.41750734534379,1.35632843123308,1.36073621566409,1.36015764334241,1.37976059991781,1.38653998627,1.36073621566409,1.39638961318515,1.41807139495834,1.41104826332535,1.44363473207597,1.41750734534379,1.43795645154437,1.43456191549725,1.35632843123308,1.35688865505981,1.35531040259148,1.35688865505981,1.360285340555,1.35632843123308,1.41345822654196,1.42866319767121,1.43281890606271,1.42866319767121,1.39402092122499,1.39283623462094,1.35521095284251,1.44405152662976,1.38887143127704,1.35941809852708,1.35941809852708,1.360285340555,1.43795645154437,1.44447954944853,1.43456191549725,1.38822776284514,1.44363473207597],\"legendgroup\":\"\",\"lon\":[103.963972049935,103.963631516169,103.966422045067,103.965525604183,103.966578200418,103.964194147192,103.84790678249,103.84790678249,103.881215058062,103.835828704052,103.841112412447,103.832513245026,103.965525604183,103.96773406082,103.847659418224,103.875132778517,103.881215058062,103.869207772374,103.869207772374,103.966516198261,103.96852443877,103.96390014473,103.832513245026,103.96852443877,103.96368774531,103.96773406082,103.965165224191,103.965393923725,103.963631516169,103.963972049935,103.849332055297,103.835186431485,103.963972049935,103.966422045067,103.96852443877,103.964194147192,103.825437324844,103.847659418224,103.844362842957,103.881117176349,103.87967806826,103.875132778517,103.96852443877,103.835828704052,103.835186431485,103.963631516169,103.830995368522,103.835828704052,103.835186431485,103.825437324844,103.832513245026,103.841477613841,103.869207772374,103.869337214926,103.875132778517,103.96852443877,103.963299396559,103.824971641966,103.963299396559,103.875132778517,103.858740468004,103.832513245026,103.824971641966,103.847659418224,103.966578200418,103.963299396559,103.965165224191,103.963077852592,103.869207772374,103.963299396559,103.875132778517,103.84790678249,103.832513245026,103.825253279684,103.847659418224,103.830995368522,103.844362842957,103.966578200418,103.964194147192,103.965525604183,103.964194147192,103.966516198261,103.966578200418,103.835186431485,103.835828704052,103.841477613841,103.835828704052,103.881215058062,103.87967806826,103.966422045067,103.819525889968,103.872017156345,103.965393923725,103.965393923725,103.966516198261,103.830995368522,103.825437324844,103.844362842957,103.858740468004,103.825253279684],\"marker\":{\"color\":[0.38461538461538464,0.31868131868131866,0.6756756756756757,0.5833333333333334,0.4722222222222222,0.4166666666666667,0.024390243902439025,0.21951219512195122,0.5466666666666666,0.2916666666666667,0.2,0.35526315789473684,0.47368421052631576,0.16666666666666666,0.3611111111111111,0.17073170731707318,0.39283683911313244,0.4195121951219512,0.3684210526315789,-0.18181818181818182,0.5217391304347826,0.32142857142857145,0.47540983606557374,0.3404255319148936,0.40625,0.038461538461538464,0.41,0.42857142857142855,0.9,0.6923076923076923,0.12903225806451613,0.7307692307692307,0.12,0.1206896551724138,0.7093023255813954,0.36,0.6170212765957447,0.04,0.5573770491803278,0.22772277227722773,0.21428571428571427,0.684981684981685,0.3023255813953488,0.3157894736842105,0.15384615384615385,0.5517241379310345,0.25,0.23076923076923078,0.38461538461538464,0.3469387755102041,0.32075471698113206,0.07352941176470588,0.5909090909090909,0.08888888888888889,0.5272727272727272,0.2777777777777778,0.30303030303030304,0.109375,0.09859154929577464,0.14893617021276595,0.08333333333333333,0.42857142857142855,0.1896551724137931,0.32,0.22033898305084745,0.7727272727272727,0.3877551020408163,0.3333333333333333,-0.05263157894736842,0.09787234042553192,0.31958762886597936,0.14285714285714285,0.504950495049505,0.125,0.25925925925925924,0.2608695652173913,0.2857142857142857,0.21428571428571427,0.23711340206185566,0.2708333333333333,0.23711340206185566,0.2777777777777778,0.5897435897435898,0.25,-0.01818181818181818,0.6,0.36363636363636365,0.4,0.6551724137931034,0.5,0.5,0.15151515151515152,0.22727272727272727,0.36363636363636365,0.5384615384615384,0.015625,0.0,0.1875,0.9444444444444444,0.4393939393939394],\"coloraxis\":\"coloraxis\"},\"mode\":\"markers\",\"name\":\"\",\"showlegend\":false,\"subplot\":\"mapbox\",\"type\":\"scattermapbox\"}],\"name\":\"2022-11-01\"},{\"data\":[{\"customdata\":[[\"1 CANBERRA\"],[\"EIGHT COURTYARDS\"],[\"GRANDE VISTA\"],[\"OCEAN FRONT SUITES\"],[\"OCEAN FRONT SUITES\"],[\"SELETAR PARK RESIDENCE\"],[\"HIGH PARK RESIDENCES\"],[\"THE GREENWICH\"],[\"AZALEA PARK CONDOMINIUM\"],[\"H2O RESIDENCES\"],[\"THE WISTERIA\"],[\"NINE RESIDENCES\"],[\"SKIES MILTONIA\"],[\"EIGHT COURTYARDS\"],[\"THE ESTUARY\"],[\"CANBERRA RESIDENCES\"],[\"THE GALE\"],[\"ESTELLA GARDENS\"],[\"LOYANG VALLEY\"],[\"NIM GARDENS\"],[\"AZALEA PARK CONDOMINIUM\"],[\"CARISSA PARK CONDOMINIUM\"],[\"THE TOPIARY\"],[\"EDELWEISS PARK CONDOMINIUM\"],[\"BALLOTA PARK CONDOMINIUM\"],[\"SELETAR PARK RESIDENCE\"],[\"DAHLIA PARK CONDOMINIUM\"],[\"HIGH PARK RESIDENCES\"],[\"H2O RESIDENCES\"],[\"SERENITY PARK\"],[\"LOYANG VALLEY\"],[\"NINE RESIDENCES\"],[\"SELETARIS\"],[\"NORTHWOOD\"],[\"ESTELLA GARDENS\"],[\"EDELWEISS PARK CONDOMINIUM\"],[\"THE INFLORA\"],[\"THE MILTONIA RESIDENCES\"],[\"PARC OLYMPIA\"],[\"BLUWATERS\"],[\"THE ESTUARY\"],[\"AVILA GARDENS\"],[\"YISHUN EMERALD\"],[\"BALLOTA PARK CONDOMINIUM\"],[\"DAHLIA PARK CONDOMINIUM\"],[\"HEDGES PARK CONDOMINIUM\"],[\"EDELWEISS PARK CONDOMINIUM\"],[\"THE GALE\"],[\"THE EDGEWATER\"],[\"LOYANG VALLEY\"],[\"HEDGES PARK CONDOMINIUM\"],[\"THE INFLORA\"],[\"THE GALE\"],[\"JLB RESIDENCES\"],[\"THE EDGEWATER\"],[\"PARC OLYMPIA\"],[\"EIGHT COURTYARDS\"],[\"SKIES MILTONIA\"],[\"SYMPHONY SUITES\"],[\"ORCHID PARK CONDOMINIUM\"],[\"SELETAR SPRINGS CONDOMINIUM\"],[\"SELETAR PARK RESIDENCE\"],[\"SUNRISE GARDENS\"],[\"HIGH PARK RESIDENCES\"],[\"PALM ISLES\"],[\"AZALEA PARK CONDOMINIUM\"],[\"THE NAUTICAL\"],[\"SYMPHONY SUITES\"],[\"PALM ISLES\"],[\"HEDGES PARK CONDOMINIUM\"],[\"SELETAR PARK RESIDENCE\"],[\"ORCHID PARK CONDOMINIUM\"],[\"THE NAUTICAL\"],[\"ORCHID PARK CONDOMINIUM\"],[\"BALLOTA PARK CONDOMINIUM\"],[\"SANDY PALM\"],[\"ESTELLA GARDENS\"],[\"EDELWEISS PARK CONDOMINIUM\"],[\"FERRARIA PARK CONDOMINIUM\"],[\"DAHLIA PARK CONDOMINIUM\"],[\"FERRARIA PARK CONDOMINIUM\"],[\"THE TOPIARY\"],[\"LILYDALE\"],[\"PALM ISLES\"],[\"SELETAR PARK RESIDENCE\"],[\"RIVERTREES RESIDENCES\"],[\"THE MILTONIA RESIDENCES\"],[\"EIGHT COURTYARDS\"],[\"CANBERRA RESIDENCES\"],[\"CARISSA PARK CONDOMINIUM\"],[\"FERRARIA PARK CONDOMINIUM\"],[\"LOYANG VALLEY\"],[\"AVILA GARDENS\"],[\"NINE RESIDENCES\"],[\"NORTH PARK RESIDENCES\"],[\"SYMPHONY SUITES\"],[\"CARISSA PARK CONDOMINIUM\"],[\"RIVERBANK @ FERNVALE\"],[\"HIGH PARK RESIDENCES\"],[\"SKIES MILTONIA\"],[\"THE INFLORA\"],[\"SKIES MILTONIA\"],[\"THE INFLORA\"],[\"HEDGES PARK CONDOMINIUM\"],[\"SKIES MILTONIA\"],[\"NINE RESIDENCES\"],[\"NORTH PARK RESIDENCES\"],[\"RIVERBANK @ FERNVALE\"],[\"HIGH PARK RESIDENCES\"],[\"PALM ISLES\"],[\"RIVERTREES RESIDENCES\"],[\"ESTELLA GARDENS\"],[\"LE LOYANG\"],[\"YISHUN SAPPHIRE\"],[\"ORCHID PARK CONDOMINIUM\"],[\"THE GREENWICH\"],[\"HIGH PARK RESIDENCES\"],[\"RIVERTREES RESIDENCES\"],[\"NORTH PARK RESIDENCES\"],[\"THE ESTUARY\"],[\"FERRARIA PARK CONDOMINIUM\"],[\"NORTH PARK RESIDENCES\"],[\"FERRARIA PARK CONDOMINIUM\"],[\"CARISSA PARK CONDOMINIUM\"],[\"PALM ISLES\"],[\"THE ESTUARY\"],[\"SELETARIS\"],[\"YISHUN SAPPHIRE\"],[\"EIGHT COURTYARDS\"],[\"PARC OLYMPIA\"],[\"H2O RESIDENCES\"],[\"PALM ISLES\"],[\"PARC OLYMPIA\"]],\"hovertemplate\":\"leaseDateStr=2022-12-01<br>lat=%{lat}<br>lng=%{lon}<br>project=%{customdata[0]}<br>price_change=%{marker.color}<extra></extra>\",\"lat\":[1.43769199919618,1.43795645154437,1.38879912168555,1.37745408150082,1.37745408150082,1.38653998627,1.39638961318515,1.38718841691871,1.36073621566409,1.39283623462094,1.41844703579357,1.43281890606271,1.41807139495834,1.43795645154437,1.41104826332535,1.44447954944853,1.35900307841177,1.360285340555,1.36849628172236,1.38143238111123,1.36073621566409,1.35917121402077,1.38887143127704,1.35639824853602,1.35887799120341,1.38653998627,1.35941809852708,1.39638961318515,1.39283623462094,1.38822776284514,1.36849628172236,1.43281890606271,1.4358492226796,1.42692706476903,1.360285340555,1.35639824853602,1.35632843123308,1.41750734534379,1.35531040259148,1.37976059991781,1.41104826332535,1.36015764334241,1.43911656257616,1.35887799120341,1.35941809852708,1.35521095284251,1.35639824853602,1.35900307841177,1.38029080909587,1.36849628172236,1.35521095284251,1.35632843123308,1.35900307841177,1.37908988698315,1.38029080909587,1.35531040259148,1.43795645154437,1.41807139495834,1.43456191549725,1.41345822654196,1.38820037710408,1.38653998627,1.38969073093565,1.39638961318515,1.35688865505981,1.36073621566409,1.44363473207597,1.43456191549725,1.35688865505981,1.35521095284251,1.38653998627,1.41345822654196,1.44363473207597,1.41345822654196,1.35887799120341,1.37889853918179,1.360285340555,1.35639824853602,1.35736420475575,1.35941809852708,1.35736420475575,1.38887143127704,1.42392837108866,1.35688865505981,1.38653998627,1.39402092122499,1.41750734534379,1.43795645154437,1.44447954944853,1.35917121402077,1.35736420475575,1.36849628172236,1.36015764334241,1.43281890606271,1.42866319767121,1.43456191549725,1.35917121402077,1.39459641963935,1.39638961318515,1.41807139495834,1.35632843123308,1.41807139495834,1.35632843123308,1.35521095284251,1.41807139495834,1.43281890606271,1.42866319767121,1.39459641963935,1.39638961318515,1.35688865505981,1.39402092122499,1.360285340555,1.3783509761617,1.44076527720917,1.41345822654196,1.38718841691871,1.39638961318515,1.39402092122499,1.42866319767121,1.41104826332535,1.35736420475575,1.42866319767121,1.35736420475575,1.35917121402077,1.35688865505981,1.41104826332535,1.4358492226796,1.44076527720917,1.43795645154437,1.35531040259148,1.39283623462094,1.35688865505981,1.35531040259148],\"legendgroup\":\"\",\"lon\":[103.830277614211,103.830995368522,103.852035348555,103.95662588933,103.95662588933,103.869207772374,103.875132778517,103.869337214926,103.963299396559,103.87967806826,103.841112412447,103.841477613841,103.84790678249,103.830995368522,103.832513245026,103.825437324844,103.96686932054,103.966516198261,103.970019150268,103.863043130131,103.963299396559,103.963631516169,103.872017156345,103.96773406082,103.96852443877,103.869207772374,103.965393923725,103.875132778517,103.87967806826,103.858740468004,103.970019150268,103.841477613841,103.824971641966,103.82405303932,103.966516198261,103.96773406082,103.966578200418,103.847659418224,103.965525604183,103.963077852592,103.832513245026,103.965165224191,103.830253676903,103.96852443877,103.965393923725,103.966422045067,103.96773406082,103.96686932054,103.964674596342,103.970019150268,103.966422045067,103.966578200418,103.96686932054,103.960558475679,103.964674596342,103.965525604183,103.830995368522,103.84790678249,103.844362842957,103.835186431485,103.878493859317,103.869207772374,103.857170017555,103.875132778517,103.964194147192,103.963299396559,103.825253279684,103.844362842957,103.964194147192,103.966422045067,103.869207772374,103.835186431485,103.825253279684,103.835186431485,103.96852443877,103.959628801553,103.966516198261,103.96773406082,103.963972049935,103.965393923725,103.963972049935,103.872017156345,103.849332055297,103.964194147192,103.869207772374,103.881215058062,103.847659418224,103.830995368522,103.825437324844,103.963631516169,103.963972049935,103.970019150268,103.965165224191,103.841477613841,103.835828704052,103.844362842957,103.963631516169,103.881117176349,103.875132778517,103.84790678249,103.966578200418,103.84790678249,103.966578200418,103.966422045067,103.84790678249,103.841477613841,103.835828704052,103.881117176349,103.875132778517,103.964194147192,103.881215058062,103.966516198261,103.956295113266,103.830495461097,103.835186431485,103.869337214926,103.875132778517,103.881215058062,103.835828704052,103.832513245026,103.963972049935,103.835828704052,103.963972049935,103.963631516169,103.964194147192,103.832513245026,103.824971641966,103.830495461097,103.830995368522,103.965525604183,103.87967806826,103.964194147192,103.965525604183],\"marker\":{\"color\":[1.9411764705882353,0.7431192660550459,0.22857142857142856,-0.12222222222222222,0.2916666666666667,0.17857142857142858,0.375,0.5217391304347826,0.4563106796116505,0.2727272727272727,0.34,0.31328511610201754,0.6326530612244898,-0.06896551724137931,0.6521739130434783,0.625,0.36363636363636365,0.24497991967871485,0.5370370370370371,0.1320754716981132,0.19444444444444445,0.2,0.33881578947368424,0.8,0.3114754098360656,0.0,0.043478260869565216,0.28888888888888886,0.7014925373134329,0.14754098360655737,0.265625,0.375,0.42857142857142855,0.6538461538461539,0.75,0.45794392523364486,0.1388888888888889,0.2923076923076923,0.31666666666666665,0.2,0.30434782608695654,0.5555555555555556,0.44954128440366975,0.15,0.5555555555555556,0.5666666666666667,0.24,0.4318181818181818,0.3076923076923077,0.28,0.3333333333333333,0.4583333333333333,0.5,0.16,0.34615384615384615,0.1,0.19035714285714286,0.25,0.13333333333333333,0.10714285714285714,0.5348837209302325,0.8695652173913043,0.03508771929824561,0.3867924528301887,0.3448275862068966,0.16666666666666666,0.017857142857142856,0.41,0.5510204081632653,0.33695652173913043,0.22580645161290322,0.30275229357798167,0.4,0.5229357798165137,0.21739130434782608,0.30434782608695654,0.3333333333333333,0.4827586206896552,0.6981132075471698,0.3103448275862069,0.4716981132075472,2.2,-0.015625,0.4878048780487805,0.3469387755102041,0.2916666666666667,0.6086956521739131,0.28,0.41991739329967875,0.5517241379310345,0.4,0.4,0.34210526315789475,0.05454545454545454,0.06666666666666667,0.375,0.2857142857142857,0.6666666666666666,0.34146341463414637,0.3,0.28,0.275,0.4025974025974026,0.35802469135802467,0.5454545454545454,0.4138181818181818,0.3333333333333333,0.5714285714285714,0.5217391304347826,0.29069767441860467,0.6666666666666666,0.07692307692307693,0.11538461538461539,0.42857142857142855,0.4230769230769231,0.40476190476190477,0.3894736842105263,0.2727272727272727,-0.16304347826086957,0.24390243902439024,0.1,0.375,0.4430379746835443,0.2,0.3181818181818182,0.40594059405940597,0.75,0.07142857142857142,0.5412844036697247,0.6486486486486487,0.5909090909090909,0.4634146341463415,0.3488372093023256],\"coloraxis\":\"coloraxis\"},\"mode\":\"markers\",\"name\":\"\",\"showlegend\":false,\"subplot\":\"mapbox\",\"type\":\"scattermapbox\"}],\"name\":\"2022-12-01\"},{\"data\":[{\"customdata\":[[\"SKIES MILTONIA\"],[\"CASA PASIR RIS\"],[\"THE NAUTICAL\"],[\"ORCHID PARK CONDOMINIUM\"],[\"HIGH PARK RESIDENCES\"],[\"HIGH PARK RESIDENCES\"],[\"THE WISTERIA\"],[\"NORTH PARK RESIDENCES\"],[\"NINE RESIDENCES\"],[\"THE TOPIARY\"],[\"EDELWEISS PARK CONDOMINIUM\"],[\"CARISSA PARK CONDOMINIUM\"],[\"FERRARIA PARK CONDOMINIUM\"],[\"ESTELLA GARDENS\"],[\"THE GALE\"],[\"ORCHID PARK CONDOMINIUM\"],[\"SYMPHONY SUITES\"],[\"YISHUN EMERALD\"],[\"EUPHONY GARDENS\"],[\"THE ESTUARY\"],[\"ORCHID PARK CONDOMINIUM\"],[\"H2O RESIDENCES\"],[\"HIGH PARK RESIDENCES\"],[\"RIVERBANK @ FERNVALE\"],[\"AZALEA PARK CONDOMINIUM\"],[\"PALM ISLES\"],[\"THE INFLORA\"],[\"CARISSA PARK CONDOMINIUM\"],[\"AVILA GARDENS\"],[\"ESTELLA GARDENS\"],[\"FERRARIA PARK CONDOMINIUM\"],[\"DAHLIA PARK CONDOMINIUM\"],[\"CARISSA PARK CONDOMINIUM\"],[\"KANDIS RESIDENCE\"],[\"NORTH PARK RESIDENCES\"],[\"SYMPHONY SUITES\"],[\"EIGHT COURTYARDS\"],[\"THE MILTONIA RESIDENCES\"],[\"H2O RESIDENCES\"],[\"SELETAR PARK RESIDENCE\"],[\"PALM ISLES\"],[\"PARC OLYMPIA\"],[\"PALM ISLES\"],[\"HEDGES PARK CONDOMINIUM\"],[\"THE ESTUARY\"],[\"NORTH PARK RESIDENCES\"],[\"THE WISTERIA\"],[\"AZALEA PARK CONDOMINIUM\"],[\"CANBERRA RESIDENCES\"],[\"NORTH PARK RESIDENCES\"],[\"NINE RESIDENCES\"],[\"THE ESTUARY\"],[\"PARC OLYMPIA\"],[\"CARISSA PARK CONDOMINIUM\"],[\"PALM ISLES\"],[\"RIVERTREES RESIDENCES\"],[\"H2O RESIDENCES\"],[\"RIVERTREES RESIDENCES\"],[\"SELETAR PARK RESIDENCE\"],[\"HIGH PARK RESIDENCES\"],[\"RIVERBANK @ FERNVALE\"],[\"LILYDALE\"],[\"FERRARIA PARK CONDOMINIUM\"],[\"THE WISTERIA\"],[\"THE GALE\"],[\"THE INFLORA\"],[\"CANBERRA RESIDENCES\"],[\"BALLOTA PARK CONDOMINIUM\"],[\"SELETARIS\"],[\"THE GALE\"],[\"BALLOTA PARK CONDOMINIUM\"],[\"HEDGES PARK CONDOMINIUM\"],[\"THE INFLORA\"],[\"EDELWEISS PARK CONDOMINIUM\"],[\"SELETARIS\"],[\"ESTELLA GARDENS\"],[\"ESTELLA GARDENS\"],[\"NIM GARDENS\"],[\"BALLOTA PARK CONDOMINIUM\"],[\"PALM ISLES\"],[\"FERRARIA PARK CONDOMINIUM\"],[\"THE GALE\"],[\"LOYANG VALLEY\"],[\"SUN PLAZA\"],[\"EDELWEISS PARK CONDOMINIUM\"],[\"THE INFLORA\"],[\"THE GALE\"],[\"NIM GARDENS\"],[\"NORTH PARK RESIDENCES\"],[\"SYMPHONY SUITES\"],[\"CANBERRA RESIDENCES\"],[\"ORCHID PARK CONDOMINIUM\"],[\"SELETAR PARK RESIDENCE\"],[\"RIVERBANK @ FERNVALE\"],[\"RIVERBANK @ FERNVALE\"],[\"LOYANG VALLEY\"],[\"CARISSA PARK CONDOMINIUM\"],[\"EDELWEISS PARK CONDOMINIUM\"],[\"SKIES MILTONIA\"],[\"D'BANYAN\"],[\"ESTELLA GARDENS\"],[\"PARC OLYMPIA\"],[\"THE NAUTICAL\"],[\"ORCHID PARK CONDOMINIUM\"],[\"SERENITY PARK\"],[\"HEDGES PARK CONDOMINIUM\"],[\"EIGHT COURTYARDS\"],[\"SYMPHONY SUITES\"],[\"THE WISTERIA\"],[\"SELETAR PARK RESIDENCE\"],[\"SKIES MILTONIA\"],[\"HIGH PARK RESIDENCES\"],[\"CARISSA PARK CONDOMINIUM\"],[\"DAHLIA PARK CONDOMINIUM\"],[\"LOYANG VALLEY\"],[\"THE GREENWICH\"],[\"LOYANG VALLEY\"],[\"BALLOTA PARK CONDOMINIUM\"]],\"hovertemplate\":\"leaseDateStr=2023-01-01<br>lat=%{lat}<br>lng=%{lon}<br>project=%{customdata[0]}<br>price_change=%{marker.color}<extra></extra>\",\"lat\":[1.41807139495834,1.37939195187997,1.44363473207597,1.41345822654196,1.39638961318515,1.39638961318515,1.41844703579357,1.42866319767121,1.43281890606271,1.38887143127704,1.35639824853602,1.35917121402077,1.35736420475575,1.360285340555,1.35900307841177,1.41345822654196,1.43456191549725,1.43911656257616,1.42547005593325,1.41104826332535,1.41345822654196,1.39283623462094,1.39638961318515,1.39459641963935,1.36073621566409,1.35688865505981,1.35632843123308,1.35917121402077,1.36015764334241,1.360285340555,1.35736420475575,1.35941809852708,1.35917121402077,1.45643625409312,1.42866319767121,1.43456191549725,1.43795645154437,1.41750734534379,1.39283623462094,1.38653998627,1.35688865505981,1.35531040259148,1.35688865505981,1.35521095284251,1.41104826332535,1.42866319767121,1.41844703579357,1.36073621566409,1.44447954944853,1.42866319767121,1.43281890606271,1.41104826332535,1.35531040259148,1.35917121402077,1.35688865505981,1.39402092122499,1.39283623462094,1.39402092122499,1.38653998627,1.39638961318515,1.39459641963935,1.42392837108866,1.35736420475575,1.41844703579357,1.35900307841177,1.35632843123308,1.44447954944853,1.35887799120341,1.4358492226796,1.35900307841177,1.35887799120341,1.35521095284251,1.35632843123308,1.35639824853602,1.4358492226796,1.360285340555,1.360285340555,1.38143238111123,1.35887799120341,1.35688865505981,1.35736420475575,1.35900307841177,1.36849628172236,1.44819436804175,1.35639824853602,1.35632843123308,1.35900307841177,1.38143238111123,1.42866319767121,1.43456191549725,1.44447954944853,1.41345822654196,1.38653998627,1.39459641963935,1.39459641963935,1.36849628172236,1.35917121402077,1.35639824853602,1.41807139495834,1.44403787932825,1.360285340555,1.35531040259148,1.44363473207597,1.41345822654196,1.38822776284514,1.35521095284251,1.43795645154437,1.43456191549725,1.41844703579357,1.38653998627,1.41807139495834,1.39638961318515,1.35917121402077,1.35941809852708,1.36849628172236,1.38718841691871,1.36849628172236,1.35887799120341],\"legendgroup\":\"\",\"lon\":[103.84790678249,103.96368774531,103.825253279684,103.835186431485,103.875132778517,103.875132778517,103.841112412447,103.835828704052,103.841477613841,103.872017156345,103.96773406082,103.963631516169,103.963972049935,103.966516198261,103.96686932054,103.835186431485,103.844362842957,103.830253676903,103.824969746542,103.832513245026,103.835186431485,103.87967806826,103.875132778517,103.881117176349,103.963299396559,103.964194147192,103.966578200418,103.963631516169,103.965165224191,103.966516198261,103.963972049935,103.965393923725,103.963631516169,103.837218581465,103.835828704052,103.844362842957,103.830995368522,103.847659418224,103.87967806826,103.869207772374,103.964194147192,103.965525604183,103.964194147192,103.966422045067,103.832513245026,103.835828704052,103.841112412447,103.963299396559,103.825437324844,103.835828704052,103.841477613841,103.832513245026,103.965525604183,103.963631516169,103.964194147192,103.881215058062,103.87967806826,103.881215058062,103.869207772374,103.875132778517,103.881117176349,103.849332055297,103.963972049935,103.841112412447,103.96686932054,103.966578200418,103.825437324844,103.96852443877,103.824971641966,103.96686932054,103.96852443877,103.966422045067,103.966578200418,103.96773406082,103.824971641966,103.966516198261,103.966516198261,103.863043130131,103.96852443877,103.964194147192,103.963972049935,103.96686932054,103.970019150268,103.819464386349,103.96773406082,103.966578200418,103.96686932054,103.863043130131,103.835828704052,103.844362842957,103.825437324844,103.835186431485,103.869207772374,103.881117176349,103.881117176349,103.970019150268,103.963631516169,103.96773406082,103.84790678249,103.825036650569,103.966516198261,103.965525604183,103.825253279684,103.835186431485,103.858740468004,103.966422045067,103.830995368522,103.844362842957,103.841112412447,103.869207772374,103.84790678249,103.875132778517,103.963631516169,103.965393923725,103.970019150268,103.869337214926,103.970019150268,103.96852443877],\"marker\":{\"color\":[0.8507462686567164,0.3595505617977528,0.1724137931034483,0.058823529411764705,0.3763440860215054,0.2903225806451613,0.7142857142857143,0.4482758620689655,-0.07964601769911504,0.8526315789473684,0.9712306872669153,0.2962962962962963,0.5875,0.23404255319148937,0.2631578947368421,0.0,0.3643410852713178,0.2857142857142857,0.13636363636363635,0.3469387755102041,0.42857142857142855,0.52,0.14893617021276595,0.0,0.34615384615384615,0.5584415584415584,0.7142857142857143,0.41263940520446096,0.35714285714285715,0.20967741935483872,0.27586206896551724,0.24561403508771928,0.7410526315789474,0.10714285714285714,0.48148148148148145,0.15151515151515152,0.46236559139784944,0.24,0.36585365853658536,0.6978723404255319,0.8048780487804879,0.22522522522522523,0.8048780487804879,0.42391304347826086,0.5714285714285714,0.5,0.4673913043478261,0.26153846153846155,0.4634146341463415,0.36,0.5238095238095238,0.3333333333333333,0.2631578947368421,0.16455696202531644,0.2328767123287671,0.041666666666666664,0.5652173913043478,0.4891304347826087,0.23076923076923078,0.44,0.7283950617283951,0.62,0.3793103448275862,0.16666666666666666,0.25,0.26666666666666666,0.4482758620689655,0.4074074074074074,0.5,0.37254901960784315,0.06976744186046512,0.21212121212121213,0.2,0.3333333333333333,0.4074074074074074,0.2345679012345679,0.6785714285714286,0.23577235772357724,0.3953488372093023,0.3103448275862069,0.3617021276595745,0.33766233766233766,0.3548387096774194,0.6666666666666666,0.1111111111111111,0.2653061224489796,0.2,0.125,0.3793103448275862,0.5454545454545454,0.3333333333333333,0.5833333333333334,0.21428571428571427,1.0568927789934355,0.3785557986870897,0.3387096774193548,0.15384615384615385,0.6904761904761905,0.27631578947368424,0.5882352941176471,0.5862068965517241,0.4358974358974359,0.14285714285714285,0.2892561983471074,0.2413793103448276,0.7638888888888888,0.023809523809523808,0.2713178294573643,0.3611111111111111,0.27586206896551724,0.2857142857142857,0.2711864406779661,0.9444444444444444,0.2571428571428571,0.42857142857142855,0.18518518518518517,0.17857142857142858,0.0],\"coloraxis\":\"coloraxis\"},\"mode\":\"markers\",\"name\":\"\",\"showlegend\":false,\"subplot\":\"mapbox\",\"type\":\"scattermapbox\"}],\"name\":\"2023-01-01\"},{\"data\":[{\"customdata\":[[\"SUNRISE GARDENS\"],[\"ORCHID PARK CONDOMINIUM\"],[\"SUN PLAZA\"],[\"PALM ISLES\"],[\"EDELWEISS PARK CONDOMINIUM\"],[\"THE GALE\"],[\"LOYANG VALLEY\"],[\"HEDGES PARK CONDOMINIUM\"],[\"THE INFLORA\"],[\"DAHLIA PARK CONDOMINIUM\"],[\"THE INFLORA\"],[\"ORCHID PARK CONDOMINIUM\"],[\"YISHUN EMERALD\"],[\"YISHUN SAPPHIRE\"],[\"ESTELLA GARDENS\"],[\"RIVERTREES RESIDENCES\"],[\"HIGH PARK RESIDENCES\"],[\"RIVERTREES RESIDENCES\"],[\"SELETAR PARK RESIDENCE\"],[\"NORTH PARK RESIDENCES\"],[\"PALM ISLES\"],[\"FERRARIA PARK CONDOMINIUM\"],[\"THE ESTUARY\"],[\"SELETAR SPRINGS CONDOMINIUM\"],[\"CANBERRA RESIDENCES\"],[\"ORCHID PARK CONDOMINIUM\"],[\"ESTELLA GARDENS\"],[\"THE NAUTICAL\"],[\"AZALEA PARK CONDOMINIUM\"],[\"EDELWEISS PARK CONDOMINIUM\"],[\"CARISSA PARK CONDOMINIUM\"],[\"FERRARIA PARK CONDOMINIUM\"],[\"PALM ISLES\"],[\"EDELWEISS PARK CONDOMINIUM\"],[\"HIGH PARK RESIDENCES\"],[\"ESTELLA GARDENS\"],[\"H2O RESIDENCES\"],[\"RIVERTREES RESIDENCES\"],[\"RIVERBANK @ FERNVALE\"],[\"FLORAVILLE\"],[\"BALLOTA PARK CONDOMINIUM\"],[\"HIGH PARK RESIDENCES\"],[\"SKIES MILTONIA\"],[\"SYMPHONY SUITES\"],[\"NORTH PARK RESIDENCES\"],[\"HIGH PARK RESIDENCES\"],[\"THE GREENWICH\"],[\"SELETAR PARK RESIDENCE\"],[\"H2O RESIDENCES\"],[\"SYMPHONY SUITES\"],[\"NORTH PARK RESIDENCES\"],[\"SKIES MILTONIA\"],[\"ORCHID PARK CONDOMINIUM\"],[\"EIGHT COURTYARDS\"],[\"NORTH PARK RESIDENCES\"],[\"PARC OLYMPIA\"],[\"LOYANG VALLEY\"],[\"THE TOPIARY\"],[\"SYMPHONY SUITES\"],[\"CANBERRA RESIDENCES\"],[\"EIGHT COURTYARDS\"],[\"THE MILTONIA RESIDENCES\"],[\"H2O RESIDENCES\"],[\"EDELWEISS PARK CONDOMINIUM\"],[\"FERRARIA PARK CONDOMINIUM\"],[\"CARISSA PARK CONDOMINIUM\"],[\"FERRARIA PARK CONDOMINIUM\"],[\"THE GALE\"],[\"ORCHID PARK CONDOMINIUM\"],[\"RIVERTREES RESIDENCES\"],[\"AVILA GARDENS\"],[\"RIVERBANK @ FERNVALE\"],[\"THE WISTERIA\"],[\"SKIES MILTONIA\"],[\"PALM ISLES\"],[\"THE INFLORA\"],[\"PARC OLYMPIA\"],[\"HEDGES PARK CONDOMINIUM\"],[\"THE CANOPY\"],[\"CARISSA PARK CONDOMINIUM\"],[\"AZALEA PARK CONDOMINIUM\"],[\"THE GALE\"],[\"THE ESTUARY\"],[\"HIGH PARK RESIDENCES\"],[\"HIGH PARK RESIDENCES\"],[\"SKIES MILTONIA\"]],\"hovertemplate\":\"leaseDateStr=2023-02-01<br>lat=%{lat}<br>lng=%{lon}<br>project=%{customdata[0]}<br>price_change=%{marker.color}<extra></extra>\",\"lat\":[1.38969073093565,1.41345822654196,1.44819436804175,1.35688865505981,1.35639824853602,1.35900307841177,1.36849628172236,1.35521095284251,1.35632843123308,1.35941809852708,1.35632843123308,1.41345822654196,1.43911656257616,1.44076527720917,1.360285340555,1.39402092122499,1.39638961318515,1.39402092122499,1.38653998627,1.42866319767121,1.35688865505981,1.35736420475575,1.41104826332535,1.38820037710408,1.44447954944853,1.41345822654196,1.360285340555,1.44363473207597,1.36073621566409,1.35639824853602,1.35917121402077,1.35736420475575,1.35688865505981,1.35639824853602,1.39638961318515,1.360285340555,1.39283623462094,1.39402092122499,1.39459641963935,1.39185235684708,1.35887799120341,1.39638961318515,1.41807139495834,1.43456191549725,1.42866319767121,1.39638961318515,1.38718841691871,1.38653998627,1.39283623462094,1.43456191549725,1.42866319767121,1.41807139495834,1.41345822654196,1.43795645154437,1.42866319767121,1.35531040259148,1.36849628172236,1.38887143127704,1.43456191549725,1.44447954944853,1.43795645154437,1.41750734534379,1.39283623462094,1.35639824853602,1.35736420475575,1.35917121402077,1.35736420475575,1.35900307841177,1.41345822654196,1.39402092122499,1.36015764334241,1.39459641963935,1.41844703579357,1.41807139495834,1.35688865505981,1.35632843123308,1.35531040259148,1.35521095284251,1.4238543175594,1.35917121402077,1.36073621566409,1.35900307841177,1.41104826332535,1.39638961318515,1.39638961318515,1.41807139495834],\"legendgroup\":\"\",\"lon\":[103.857170017555,103.835186431485,103.819464386349,103.964194147192,103.96773406082,103.96686932054,103.970019150268,103.966422045067,103.966578200418,103.965393923725,103.966578200418,103.835186431485,103.830253676903,103.830495461097,103.966516198261,103.881215058062,103.875132778517,103.881215058062,103.869207772374,103.835828704052,103.964194147192,103.963972049935,103.832513245026,103.878493859317,103.825437324844,103.835186431485,103.966516198261,103.825253279684,103.963299396559,103.96773406082,103.963631516169,103.963972049935,103.964194147192,103.96773406082,103.875132778517,103.966516198261,103.87967806826,103.881215058062,103.881117176349,103.851179877786,103.96852443877,103.875132778517,103.84790678249,103.844362842957,103.835828704052,103.875132778517,103.869337214926,103.869207772374,103.87967806826,103.844362842957,103.835828704052,103.84790678249,103.835186431485,103.830995368522,103.835828704052,103.965525604183,103.970019150268,103.872017156345,103.844362842957,103.825437324844,103.830995368522,103.847659418224,103.87967806826,103.96773406082,103.963972049935,103.963631516169,103.963972049935,103.96686932054,103.835186431485,103.881215058062,103.965165224191,103.881117176349,103.841112412447,103.84790678249,103.964194147192,103.966578200418,103.965525604183,103.966422045067,103.848078487443,103.963631516169,103.963299396559,103.96686932054,103.832513245026,103.875132778517,103.875132778517,103.84790678249],\"marker\":{\"color\":[0.07142857142857142,0.25,0.6521739130434783,0.76,0.12,0.125,0.08695652173913043,0.3333333333333333,0.37272727272727274,0.20833333333333334,0.16666666666666666,0.13846153846153847,0.40384615384615385,0.14285714285714285,0.34177215189873417,0.3870967741935484,0.29411764705882354,0.2608695652173913,0.6455696202531646,0.36,0.4358974358974359,0.20481927710843373,0.21739130434782608,0.43478260869565216,0.32,0.4666666666666667,0.5,0.44,0.6607142857142857,0.5217391304347826,0.375,0.5714285714285714,0.5909090909090909,0.391304347826087,0.17647058823529413,0.6705882352941176,0.6551724137931034,0.44,0.25,0.34782608695652173,0.7634408602150538,0.39215686274509803,0.20454545454545456,0.6,0.3709677419354839,0.6071428571428571,0.46938775510204084,0.41379310344827586,0.5217391304347826,0.2833333333333333,0.34146341463414637,0.52,0.3333333333333333,0.4,0.41935483870967744,0.3541666666666667,0.0967741935483871,-0.22484848484848485,0.5757575757575758,0.4,0.3584905660377358,0.4,0.3076923076923077,0.48936170212765956,0.35714285714285715,0.6,0.6071428571428571,0.40625,0.5565217391304348,0.5263157894736842,0.28,0.3142857142857143,0.21176470588235294,0.5555555555555556,0.75,0.3375,0.375,0.8235294117647058,0.19444444444444445,-0.171875,0.10526315789473684,0.21212121212121213,0.5,0.4117647058823529,0.358974358974359,0.2222222222222222],\"coloraxis\":\"coloraxis\"},\"mode\":\"markers\",\"name\":\"\",\"showlegend\":false,\"subplot\":\"mapbox\",\"type\":\"scattermapbox\"}],\"name\":\"2023-02-01\"}]);\n",
       "                        }).then(function(){\n",
       "                            \n",
       "var gd = document.getElementById('ba2ddbc8-5669-4d4e-a7aa-5e57de956c4b');\n",
       "var x = new MutationObserver(function (mutations, observer) {{\n",
       "        var display = window.getComputedStyle(gd).display;\n",
       "        if (!display || display === 'none') {{\n",
       "            console.log([gd, 'removed!']);\n",
       "            Plotly.purge(gd);\n",
       "            observer.disconnect();\n",
       "        }}\n",
       "}});\n",
       "\n",
       "// Listen for the removal of the full notebook cells\n",
       "var notebookContainer = gd.closest('#notebook-container');\n",
       "if (notebookContainer) {{\n",
       "    x.observe(notebookContainer, {childList: true});\n",
       "}}\n",
       "\n",
       "// Listen for the clearing of the current output cell\n",
       "var outputEl = gd.closest('.output');\n",
       "if (outputEl) {{\n",
       "    x.observe(outputEl, {childList: true});\n",
       "}}\n",
       "\n",
       "                        })                };                });            </script>        </div>"
      ]
     },
     "metadata": {},
     "output_type": "display_data"
    }
   ],
   "source": [
    "# n = 1\n",
    "districts = [27, 17, 28]\n",
    "\n",
    "# projects = ['RIVIERA 38', 'SOPHIA 98', 'SPACE @ KOVAN', 'CENTRA RESIDENCE',\n",
    "#             'TWIN WATERFALLS', 'CHARLESTON', 'LAVERNE\\'S LOFT', 'ST FRANCIS COURT',\n",
    "#             'LOTUS AT PAYA LEBAR (EAST WING)', 'THE DRAYCOTT']\n",
    "\n",
    "# target_column = 'price_change'\n",
    "# filtered_df = rent_master_agg_geo_2022[rent_master_agg_geo_2022['noOfBedRoom']==n]\n",
    "filtered_df = rent_master_agg_geo_2022.copy().dropna(subset=[target_column])\n",
    "filtered_df = filtered_df[filtered_df['district'].isin(districts)]\n",
    "# filtered_df = filtered_df[filtered_df['project'].isin(projects)]\n",
    "filtered_df = filtered_df.sort_values(by='leaseDate')\n",
    "px.scatter_mapbox(\n",
    "    filtered_df,\n",
    "    lat=\"lat\",\n",
    "    lon=\"lng\",\n",
    "    color=target_column,\n",
    "    range_color=[filtered_df[target_column].quantile(0.01), filtered_df[target_column].quantile(0.99)],\n",
    "    hover_data=[\"project\"],\n",
    "    animation_frame=\"leaseDateStr\",\n",
    ").update_layout(\n",
    "    mapbox={\"style\": \"carto-positron\", \"zoom\":11}, margin={\"l\": 0, \"r\": 0, \"t\": 0, \"b\": 0})\n"
   ]
  },
  {
   "cell_type": "code",
   "execution_count": 190,
   "metadata": {
    "ExecuteTime": {
     "end_time": "2023-03-27T13:20:59.009388Z",
     "start_time": "2023-03-27T13:20:59.007118Z"
    },
    "scrolled": true
   },
   "outputs": [],
   "source": [
    "# n = 2\n",
    "# target_column = 'price_change'\n",
    "# filtered_df = rent_master_agg_geo_2022[rent_master_agg_geo_2022['noOfBedRoom']==n].dropna(subset=[target_column])\n",
    "# px.scaatter_mapbox(\n",
    "#     filtered_df,\n",
    "#     lat=\"lat\",\n",
    "#     lon=\"lng\",\n",
    "#     color=target_column,\n",
    "#     range_color=[filtered_df[target_column].quantile(0.01), filtered_df[target_column].quantile(0.99)],\n",
    "#     hover_data=[\"project\"],\n",
    "#     animation_frame=\"leaseDateStr\",\n",
    "# ).update_layout(\n",
    "#     mapbox={\"style\": \"carto-positron\", \"zoom\":11}, margin={\"l\": 0, \"r\": 0, \"t\": 0, \"b\": 0})\n"
   ]
  },
  {
   "cell_type": "code",
   "execution_count": 21,
   "metadata": {
    "ExecuteTime": {
     "end_time": "2023-03-27T07:27:45.183211Z",
     "start_time": "2023-03-27T07:27:42.135807Z"
    }
   },
   "outputs": [
    {
     "name": "stderr",
     "output_type": "stream",
     "text": [
      "/usr/local/anaconda3/lib/python3.7/site-packages/urllib3/connectionpool.py:1004: InsecureRequestWarning:\n",
      "\n",
      "Unverified HTTPS request is being made to host 'demo.sparkbeyond.com'. Adding certificate verification is strongly advised. See: https://urllib3.readthedocs.io/en/latest/advanced-usage.html#ssl-warnings\n",
      "\n",
      "/usr/local/anaconda3/lib/python3.7/site-packages/urllib3/connectionpool.py:1004: InsecureRequestWarning:\n",
      "\n",
      "Unverified HTTPS request is being made to host 'demo.sparkbeyond.com'. Adding certificate verification is strongly advised. See: https://urllib3.readthedocs.io/en/latest/advanced-usage.html#ssl-warnings\n",
      "\n",
      "/usr/local/anaconda3/lib/python3.7/site-packages/urllib3/connectionpool.py:1004: InsecureRequestWarning:\n",
      "\n",
      "Unverified HTTPS request is being made to host 'demo.sparkbeyond.com'. Adding certificate verification is strongly advised. See: https://urllib3.readthedocs.io/en/latest/advanced-usage.html#ssl-warnings\n",
      "\n"
     ]
    }
   ],
   "source": [
    "import sparkbeyond._api2.classes as sb\n",
    "base_url = 'https://demo.sparkbeyond.com'\n",
    "api_key = 'eyJhbGciOiJIUzI1NiIsInR5cCIgOiAiSldUIiwia2lkIiA6ICI3YzE2YmVjYy1lZjQ0LTQ2NjYtOGI4Ni0xMDVmZWQ3ZGVlOTkifQ.eyJpYXQiOjE2NzYyMTA3MjYsImp0aSI6Ijg2MjZjMDU3LTRkOTEtNGI4ZC1iMzUyLTlkN2RiYmM5MDk0MCIsImlzcyI6Imh0dHBzOi8vZGVtby5zcGFya2JleW9uZC5jb20vYXV0aC9yZWFsbXMvc3BhcmtiZXlvbmQiLCJhdWQiOiJodHRwczovL2RlbW8uc3BhcmtiZXlvbmQuY29tL2F1dGgvcmVhbG1zL3NwYXJrYmV5b25kIiwic3ViIjoiMTkxMzFhZWYtYWMxNi00MjYwLTgzMWEtNDMzMWI4YTVmZjRmIiwidHlwIjoiT2ZmbGluZSIsImF6cCI6ImRpc2NvdmVyeS1zZGsiLCJzZXNzaW9uX3N0YXRlIjoiNDRmNDViZTctM2YyYi00OTZiLThhNTMtYzA2ZWMzYzM1MjhkIiwic2NvcGUiOiJwcm9maWxlIGVtYWlsIG9mZmxpbmVfYWNjZXNzIiwic2lkIjoiNDRmNDViZTctM2YyYi00OTZiLThhNTMtYzA2ZWMzYzM1MjhkIn0.3tZERcflDYAO-109T3_69yVffMaDW0k6kZLrZF7jpEg'\n",
    "\n",
    "client = sb.SparkBeyondClient(base_url = base_url,\n",
    "                              api_key=api_key,\n",
    "                              verify_ssl_certificate=False)"
   ]
  },
  {
   "cell_type": "code",
   "execution_count": 24,
   "metadata": {
    "ExecuteTime": {
     "end_time": "2023-03-27T07:28:38.150055Z",
     "start_time": "2023-03-27T07:28:38.129062Z"
    }
   },
   "outputs": [
    {
     "name": "stderr",
     "output_type": "stream",
     "text": [
      "/usr/local/anaconda3/lib/python3.7/site-packages/ipykernel_launcher.py:1: FutureWarning:\n",
      "\n",
      "Treating datetime data as categorical rather than numeric in `.describe` is deprecated and will be removed in a future version of pandas. Specify `datetime_is_numeric=True` to silence this warning and adopt the future behavior now.\n",
      "\n"
     ]
    },
    {
     "data": {
      "text/plain": [
       "count                  220716\n",
       "unique                     60\n",
       "top       2023-01-01 00:00:00\n",
       "freq                     4638\n",
       "first     2018-03-01 00:00:00\n",
       "last      2023-02-01 00:00:00\n",
       "Name: leaseDate, dtype: object"
      ]
     },
     "execution_count": 24,
     "metadata": {},
     "output_type": "execute_result"
    }
   ],
   "source": [
    "rent_master_agg_geo['leaseDate'].describe()"
   ]
  },
  {
   "cell_type": "code",
   "execution_count": 192,
   "metadata": {
    "ExecuteTime": {
     "end_time": "2023-03-27T13:23:26.547632Z",
     "start_time": "2023-03-27T13:23:26.538914Z"
    }
   },
   "outputs": [
    {
     "data": {
      "text/plain": [
       "8.17333117897995"
      ]
     },
     "execution_count": 192,
     "metadata": {},
     "output_type": "execute_result"
    }
   ],
   "source": [
    "np.log(rent_master_agg_geo['median']).mean()"
   ]
  },
  {
   "cell_type": "code",
   "execution_count": 27,
   "metadata": {
    "ExecuteTime": {
     "end_time": "2023-03-27T07:30:23.817524Z",
     "start_time": "2023-03-27T07:30:23.770108Z"
    },
    "scrolled": true
   },
   "outputs": [
    {
     "data": {
      "text/html": [
       "<div>\n",
       "<style scoped>\n",
       "    .dataframe tbody tr th:only-of-type {\n",
       "        vertical-align: middle;\n",
       "    }\n",
       "\n",
       "    .dataframe tbody tr th {\n",
       "        vertical-align: top;\n",
       "    }\n",
       "\n",
       "    .dataframe thead th {\n",
       "        text-align: right;\n",
       "    }\n",
       "</style>\n",
       "<table border=\"1\" class=\"dataframe\">\n",
       "  <thead>\n",
       "    <tr style=\"text-align: right;\">\n",
       "      <th></th>\n",
       "      <th>areaSqm</th>\n",
       "      <th>leaseDate</th>\n",
       "      <th>propertyType</th>\n",
       "      <th>district</th>\n",
       "      <th>areaSqft</th>\n",
       "      <th>noOfBedRoom</th>\n",
       "      <th>street</th>\n",
       "      <th>project</th>\n",
       "      <th>min</th>\n",
       "      <th>mean</th>\n",
       "      <th>median</th>\n",
       "      <th>max</th>\n",
       "      <th>lat</th>\n",
       "      <th>lng</th>\n",
       "      <th>leaseDateStr</th>\n",
       "      <th>key</th>\n",
       "    </tr>\n",
       "  </thead>\n",
       "  <tbody>\n",
       "    <tr>\n",
       "      <th>0</th>\n",
       "      <td>100-110</td>\n",
       "      <td>2018-03-01</td>\n",
       "      <td>Executive Condominium</td>\n",
       "      <td>18</td>\n",
       "      <td>1100-1200</td>\n",
       "      <td>3.0</td>\n",
       "      <td>PASIR RIS STREET 72</td>\n",
       "      <td>WHITEWATER</td>\n",
       "      <td>2350</td>\n",
       "      <td>2416.666667</td>\n",
       "      <td>2400.0</td>\n",
       "      <td>2500</td>\n",
       "      <td>1.379936</td>\n",
       "      <td>103.935495</td>\n",
       "      <td>2018-03-01</td>\n",
       "      <td>100-110181100-12003.0PASIR RIS STREET 72WHITEW...</td>\n",
       "    </tr>\n",
       "    <tr>\n",
       "      <th>1</th>\n",
       "      <td>100-110</td>\n",
       "      <td>2018-03-01</td>\n",
       "      <td>Executive Condominium</td>\n",
       "      <td>22</td>\n",
       "      <td>1000-1100</td>\n",
       "      <td>3.0</td>\n",
       "      <td>JURONG EAST STREET 13</td>\n",
       "      <td>WESTMERE</td>\n",
       "      <td>2700</td>\n",
       "      <td>2700.000000</td>\n",
       "      <td>2700.0</td>\n",
       "      <td>2700</td>\n",
       "      <td>1.337585</td>\n",
       "      <td>103.736683</td>\n",
       "      <td>2018-03-01</td>\n",
       "      <td>100-110221000-11003.0JURONG EAST STREET 13WEST...</td>\n",
       "    </tr>\n",
       "    <tr>\n",
       "      <th>2</th>\n",
       "      <td>100-110</td>\n",
       "      <td>2018-03-01</td>\n",
       "      <td>Executive Condominium</td>\n",
       "      <td>25</td>\n",
       "      <td>1100-1200</td>\n",
       "      <td>3.0</td>\n",
       "      <td>WOODLANDS DRIVE 16</td>\n",
       "      <td>LA CASA</td>\n",
       "      <td>2400</td>\n",
       "      <td>2450.000000</td>\n",
       "      <td>2450.0</td>\n",
       "      <td>2500</td>\n",
       "      <td>1.431887</td>\n",
       "      <td>103.797921</td>\n",
       "      <td>2018-03-01</td>\n",
       "      <td>100-110251100-12003.0WOODLANDS DRIVE 16LA CASA</td>\n",
       "    </tr>\n",
       "    <tr>\n",
       "      <th>3</th>\n",
       "      <td>100-110</td>\n",
       "      <td>2018-03-01</td>\n",
       "      <td>Executive Condominium</td>\n",
       "      <td>27</td>\n",
       "      <td>1100-1200</td>\n",
       "      <td>3.0</td>\n",
       "      <td>YISHUN AVENUE 6</td>\n",
       "      <td>LILYDALE</td>\n",
       "      <td>2450</td>\n",
       "      <td>2450.000000</td>\n",
       "      <td>2450.0</td>\n",
       "      <td>2450</td>\n",
       "      <td>1.423928</td>\n",
       "      <td>103.849332</td>\n",
       "      <td>2018-03-01</td>\n",
       "      <td>100-110271100-12003.0YISHUN AVENUE 6LILYDALE</td>\n",
       "    </tr>\n",
       "    <tr>\n",
       "      <th>4</th>\n",
       "      <td>100-110</td>\n",
       "      <td>2018-03-01</td>\n",
       "      <td>Non-landed Properties</td>\n",
       "      <td>1</td>\n",
       "      <td>1000-1100</td>\n",
       "      <td>2.0</td>\n",
       "      <td>SHENTON WAY</td>\n",
       "      <td>ONE SHENTON</td>\n",
       "      <td>4850</td>\n",
       "      <td>4850.000000</td>\n",
       "      <td>4850.0</td>\n",
       "      <td>4850</td>\n",
       "      <td>1.279295</td>\n",
       "      <td>103.850553</td>\n",
       "      <td>2018-03-01</td>\n",
       "      <td>100-11011000-11002.0SHENTON WAYONE SHENTON</td>\n",
       "    </tr>\n",
       "    <tr>\n",
       "      <th>...</th>\n",
       "      <td>...</td>\n",
       "      <td>...</td>\n",
       "      <td>...</td>\n",
       "      <td>...</td>\n",
       "      <td>...</td>\n",
       "      <td>...</td>\n",
       "      <td>...</td>\n",
       "      <td>...</td>\n",
       "      <td>...</td>\n",
       "      <td>...</td>\n",
       "      <td>...</td>\n",
       "      <td>...</td>\n",
       "      <td>...</td>\n",
       "      <td>...</td>\n",
       "      <td>...</td>\n",
       "      <td>...</td>\n",
       "    </tr>\n",
       "    <tr>\n",
       "      <th>220711</th>\n",
       "      <td>&gt;800</td>\n",
       "      <td>2023-01-01</td>\n",
       "      <td>Detached House</td>\n",
       "      <td>11</td>\n",
       "      <td>&gt;8000</td>\n",
       "      <td>NaN</td>\n",
       "      <td>ASH GROVE</td>\n",
       "      <td>RAFFLES PARK</td>\n",
       "      <td>12000</td>\n",
       "      <td>12000.000000</td>\n",
       "      <td>12000.0</td>\n",
       "      <td>12000</td>\n",
       "      <td>1.333565</td>\n",
       "      <td>103.802383</td>\n",
       "      <td>2023-01-01</td>\n",
       "      <td>&gt;80011&gt;8000nanASH GROVERAFFLES PARK</td>\n",
       "    </tr>\n",
       "    <tr>\n",
       "      <th>220712</th>\n",
       "      <td>&gt;800</td>\n",
       "      <td>2023-02-01</td>\n",
       "      <td>Detached House</td>\n",
       "      <td>10</td>\n",
       "      <td>&gt;8000</td>\n",
       "      <td>NaN</td>\n",
       "      <td>LEEDON PARK</td>\n",
       "      <td>LANDED HOUSING DEVELOPMENT</td>\n",
       "      <td>42000</td>\n",
       "      <td>42000.000000</td>\n",
       "      <td>42000.0</td>\n",
       "      <td>42000</td>\n",
       "      <td>1.316460</td>\n",
       "      <td>103.796056</td>\n",
       "      <td>2023-02-01</td>\n",
       "      <td>&gt;80010&gt;8000nanLEEDON PARKLANDED HOUSING DEVELO...</td>\n",
       "    </tr>\n",
       "    <tr>\n",
       "      <th>220713</th>\n",
       "      <td>&gt;800</td>\n",
       "      <td>2023-02-01</td>\n",
       "      <td>Detached House</td>\n",
       "      <td>10</td>\n",
       "      <td>&gt;8000</td>\n",
       "      <td>NaN</td>\n",
       "      <td>QUEEN ASTRID PARK</td>\n",
       "      <td>LANDED HOUSING DEVELOPMENT</td>\n",
       "      <td>35000</td>\n",
       "      <td>35000.000000</td>\n",
       "      <td>35000.0</td>\n",
       "      <td>35000</td>\n",
       "      <td>1.317969</td>\n",
       "      <td>103.790369</td>\n",
       "      <td>2023-02-01</td>\n",
       "      <td>&gt;80010&gt;8000nanQUEEN ASTRID PARKLANDED HOUSING ...</td>\n",
       "    </tr>\n",
       "    <tr>\n",
       "      <th>220714</th>\n",
       "      <td>&gt;800</td>\n",
       "      <td>2023-02-01</td>\n",
       "      <td>Detached House</td>\n",
       "      <td>11</td>\n",
       "      <td>&gt;8000</td>\n",
       "      <td>NaN</td>\n",
       "      <td>BUKIT TUNGGAL ROAD</td>\n",
       "      <td>LANDED HOUSING DEVELOPMENT</td>\n",
       "      <td>29750</td>\n",
       "      <td>29750.000000</td>\n",
       "      <td>29750.0</td>\n",
       "      <td>29750</td>\n",
       "      <td>1.321244</td>\n",
       "      <td>103.838957</td>\n",
       "      <td>2023-02-01</td>\n",
       "      <td>&gt;80011&gt;8000nanBUKIT TUNGGAL ROADLANDED HOUSING...</td>\n",
       "    </tr>\n",
       "    <tr>\n",
       "      <th>220715</th>\n",
       "      <td>&gt;800</td>\n",
       "      <td>2023-02-01</td>\n",
       "      <td>Detached House</td>\n",
       "      <td>11</td>\n",
       "      <td>&gt;8000</td>\n",
       "      <td>NaN</td>\n",
       "      <td>TREVOSE CRESCENT</td>\n",
       "      <td>TREVOSE 12</td>\n",
       "      <td>16800</td>\n",
       "      <td>16800.000000</td>\n",
       "      <td>16800.0</td>\n",
       "      <td>16800</td>\n",
       "      <td>1.322589</td>\n",
       "      <td>103.824031</td>\n",
       "      <td>2023-02-01</td>\n",
       "      <td>&gt;80011&gt;8000nanTREVOSE CRESCENTTREVOSE 12</td>\n",
       "    </tr>\n",
       "  </tbody>\n",
       "</table>\n",
       "<p>220716 rows × 16 columns</p>\n",
       "</div>"
      ],
      "text/plain": [
       "        areaSqm  leaseDate           propertyType  district   areaSqft  \\\n",
       "0       100-110 2018-03-01  Executive Condominium        18  1100-1200   \n",
       "1       100-110 2018-03-01  Executive Condominium        22  1000-1100   \n",
       "2       100-110 2018-03-01  Executive Condominium        25  1100-1200   \n",
       "3       100-110 2018-03-01  Executive Condominium        27  1100-1200   \n",
       "4       100-110 2018-03-01  Non-landed Properties         1  1000-1100   \n",
       "...         ...        ...                    ...       ...        ...   \n",
       "220711     >800 2023-01-01         Detached House        11      >8000   \n",
       "220712     >800 2023-02-01         Detached House        10      >8000   \n",
       "220713     >800 2023-02-01         Detached House        10      >8000   \n",
       "220714     >800 2023-02-01         Detached House        11      >8000   \n",
       "220715     >800 2023-02-01         Detached House        11      >8000   \n",
       "\n",
       "        noOfBedRoom                 street                     project    min  \\\n",
       "0               3.0    PASIR RIS STREET 72                  WHITEWATER   2350   \n",
       "1               3.0  JURONG EAST STREET 13                    WESTMERE   2700   \n",
       "2               3.0     WOODLANDS DRIVE 16                     LA CASA   2400   \n",
       "3               3.0        YISHUN AVENUE 6                    LILYDALE   2450   \n",
       "4               2.0            SHENTON WAY                 ONE SHENTON   4850   \n",
       "...             ...                    ...                         ...    ...   \n",
       "220711          NaN              ASH GROVE                RAFFLES PARK  12000   \n",
       "220712          NaN            LEEDON PARK  LANDED HOUSING DEVELOPMENT  42000   \n",
       "220713          NaN      QUEEN ASTRID PARK  LANDED HOUSING DEVELOPMENT  35000   \n",
       "220714          NaN     BUKIT TUNGGAL ROAD  LANDED HOUSING DEVELOPMENT  29750   \n",
       "220715          NaN       TREVOSE CRESCENT                  TREVOSE 12  16800   \n",
       "\n",
       "                mean   median    max       lat         lng leaseDateStr  \\\n",
       "0        2416.666667   2400.0   2500  1.379936  103.935495   2018-03-01   \n",
       "1        2700.000000   2700.0   2700  1.337585  103.736683   2018-03-01   \n",
       "2        2450.000000   2450.0   2500  1.431887  103.797921   2018-03-01   \n",
       "3        2450.000000   2450.0   2450  1.423928  103.849332   2018-03-01   \n",
       "4        4850.000000   4850.0   4850  1.279295  103.850553   2018-03-01   \n",
       "...              ...      ...    ...       ...         ...          ...   \n",
       "220711  12000.000000  12000.0  12000  1.333565  103.802383   2023-01-01   \n",
       "220712  42000.000000  42000.0  42000  1.316460  103.796056   2023-02-01   \n",
       "220713  35000.000000  35000.0  35000  1.317969  103.790369   2023-02-01   \n",
       "220714  29750.000000  29750.0  29750  1.321244  103.838957   2023-02-01   \n",
       "220715  16800.000000  16800.0  16800  1.322589  103.824031   2023-02-01   \n",
       "\n",
       "                                                      key  \n",
       "0       100-110181100-12003.0PASIR RIS STREET 72WHITEW...  \n",
       "1       100-110221000-11003.0JURONG EAST STREET 13WEST...  \n",
       "2          100-110251100-12003.0WOODLANDS DRIVE 16LA CASA  \n",
       "3            100-110271100-12003.0YISHUN AVENUE 6LILYDALE  \n",
       "4              100-11011000-11002.0SHENTON WAYONE SHENTON  \n",
       "...                                                   ...  \n",
       "220711                >80011>8000nanASH GROVERAFFLES PARK  \n",
       "220712  >80010>8000nanLEEDON PARKLANDED HOUSING DEVELO...  \n",
       "220713  >80010>8000nanQUEEN ASTRID PARKLANDED HOUSING ...  \n",
       "220714  >80011>8000nanBUKIT TUNGGAL ROADLANDED HOUSING...  \n",
       "220715           >80011>8000nanTREVOSE CRESCENTTREVOSE 12  \n",
       "\n",
       "[220716 rows x 16 columns]"
      ]
     },
     "execution_count": 27,
     "metadata": {},
     "output_type": "execute_result"
    }
   ],
   "source": [
    "rent_master_agg_geo"
   ]
  },
  {
   "cell_type": "code",
   "execution_count": null,
   "metadata": {},
   "outputs": [],
   "source": []
  },
  {
   "cell_type": "code",
   "execution_count": 28,
   "metadata": {
    "ExecuteTime": {
     "end_time": "2023-03-27T07:30:40.455770Z",
     "start_time": "2023-03-27T07:30:35.103531Z"
    }
   },
   "outputs": [],
   "source": [
    "rent_master_agg_geo['unique_property_key'] = rent_master_agg_geo.apply(lambda x: x['areaSqm'] + x['street'] + x['project'], axis=1)"
   ]
  },
  {
   "cell_type": "code",
   "execution_count": 31,
   "metadata": {
    "ExecuteTime": {
     "end_time": "2023-03-27T07:31:16.301335Z",
     "start_time": "2023-03-27T07:31:16.268730Z"
    }
   },
   "outputs": [],
   "source": [
    "rent_master_agg_geo_clean  = rent_master_agg_geo.drop(['key', 'leaseDateStr', 'min', 'mean', 'max'], axis=1)"
   ]
  },
  {
   "cell_type": "code",
   "execution_count": 76,
   "metadata": {
    "ExecuteTime": {
     "end_time": "2023-03-27T11:00:17.057191Z",
     "start_time": "2023-03-27T11:00:17.026740Z"
    }
   },
   "outputs": [],
   "source": [
    "rent_master_agg_geo_clean = rent_master_agg_geo_clean.rename({'lng':'lon'}, axis=1)"
   ]
  },
  {
   "cell_type": "code",
   "execution_count": 77,
   "metadata": {
    "ExecuteTime": {
     "end_time": "2023-03-27T11:00:18.162803Z",
     "start_time": "2023-03-27T11:00:18.160327Z"
    }
   },
   "outputs": [],
   "source": [
    "project_name = 'singapore_rent'"
   ]
  },
  {
   "cell_type": "code",
   "execution_count": 79,
   "metadata": {
    "ExecuteTime": {
     "end_time": "2023-03-27T11:01:03.411419Z",
     "start_time": "2023-03-27T11:00:47.436898Z"
    }
   },
   "outputs": [
    {
     "name": "stderr",
     "output_type": "stream",
     "text": [
      "/usr/local/anaconda3/lib/python3.7/site-packages/urllib3/connectionpool.py:1004: InsecureRequestWarning:\n",
      "\n",
      "Unverified HTTPS request is being made to host 'demo.sparkbeyond.com'. Adding certificate verification is strongly advised. See: https://urllib3.readthedocs.io/en/latest/advanced-usage.html#ssl-warnings\n",
      "\n",
      "/usr/local/anaconda3/lib/python3.7/site-packages/urllib3/connectionpool.py:1004: InsecureRequestWarning:\n",
      "\n",
      "Unverified HTTPS request is being made to host 'demo.sparkbeyond.com'. Adding certificate verification is strongly advised. See: https://urllib3.readthedocs.io/en/latest/advanced-usage.html#ssl-warnings\n",
      "\n",
      "/usr/local/anaconda3/lib/python3.7/site-packages/urllib3/connectionpool.py:1004: InsecureRequestWarning:\n",
      "\n",
      "Unverified HTTPS request is being made to host 'demo.sparkbeyond.com'. Adding certificate verification is strongly advised. See: https://urllib3.readthedocs.io/en/latest/advanced-usage.html#ssl-warnings\n",
      "\n"
     ]
    },
    {
     "name": "stdout",
     "output_type": "stream",
     "text": [
      "Uploading: 100%|██████████| 7.08M/7.08M [00:09<00:00, 711kB/s]\n"
     ]
    },
    {
     "data": {
      "text/plain": [
       "TabularInput(\n",
       "    name=\"rent_master_clean.csv.gz\",\n",
       "    source=FormattedSource(\n",
       "        source=LocalFileSource(location=FileReference(\n",
       "            location=<FileReferenceLocation.Project: 'Project'>,\n",
       "            path=\"rent_master_clean.csv.gz\",\n",
       "            project_name=\"singapore_rent\",\n",
       "            \n",
       "        )),\n",
       "        settings=StreamParsingSettings(\n",
       "            compression=GzipCompression,\n",
       "            encoding=\"UTF-8\",\n",
       "            format=DelimitedStreamFormat(separator='\\t')\n",
       "        )\n",
       "    )\n",
       ")"
      ]
     },
     "execution_count": 79,
     "metadata": {},
     "output_type": "execute_result"
    }
   ],
   "source": [
    "client.upload_dataframe(rent_master_agg_geo_clean, project_name=project_name, target_path = 'rent_master_clean.csv.gz', append_contents_hash=False)"
   ]
  },
  {
   "cell_type": "code",
   "execution_count": 177,
   "metadata": {
    "ExecuteTime": {
     "end_time": "2023-03-27T11:53:19.638531Z",
     "start_time": "2023-03-27T11:53:16.761443Z"
    }
   },
   "outputs": [
    {
     "name": "stderr",
     "output_type": "stream",
     "text": [
      "/usr/local/anaconda3/lib/python3.7/site-packages/urllib3/connectionpool.py:1004: InsecureRequestWarning:\n",
      "\n",
      "Unverified HTTPS request is being made to host 'demo.sparkbeyond.com'. Adding certificate verification is strongly advised. See: https://urllib3.readthedocs.io/en/latest/advanced-usage.html#ssl-warnings\n",
      "\n",
      "/usr/local/anaconda3/lib/python3.7/site-packages/urllib3/connectionpool.py:1004: InsecureRequestWarning:\n",
      "\n",
      "Unverified HTTPS request is being made to host 'demo.sparkbeyond.com'. Adding certificate verification is strongly advised. See: https://urllib3.readthedocs.io/en/latest/advanced-usage.html#ssl-warnings\n",
      "\n",
      "/usr/local/anaconda3/lib/python3.7/site-packages/urllib3/connectionpool.py:1004: InsecureRequestWarning:\n",
      "\n",
      "Unverified HTTPS request is being made to host 'demo.sparkbeyond.com'. Adding certificate verification is strongly advised. See: https://urllib3.readthedocs.io/en/latest/advanced-usage.html#ssl-warnings\n",
      "\n"
     ]
    }
   ],
   "source": [
    "model = client.revision(project_name=project_name, revision_id=4)"
   ]
  },
  {
   "cell_type": "code",
   "execution_count": 206,
   "metadata": {
    "ExecuteTime": {
     "end_time": "2023-03-28T00:43:56.785137Z",
     "start_time": "2023-03-28T00:42:27.662574Z"
    },
    "scrolled": true
   },
   "outputs": [
    {
     "name": "stderr",
     "output_type": "stream",
     "text": [
      "Hashing dataframe contents: 100%|██████████| 220716/220716 [00:00<00:00, 957458.14 rows/s]\n",
      "/usr/local/anaconda3/lib/python3.7/site-packages/urllib3/connectionpool.py:1004: InsecureRequestWarning:\n",
      "\n",
      "Unverified HTTPS request is being made to host 'demo.sparkbeyond.com'. Adding certificate verification is strongly advised. See: https://urllib3.readthedocs.io/en/latest/advanced-usage.html#ssl-warnings\n",
      "\n",
      "/usr/local/anaconda3/lib/python3.7/site-packages/urllib3/connectionpool.py:1004: InsecureRequestWarning:\n",
      "\n",
      "Unverified HTTPS request is being made to host 'demo.sparkbeyond.com'. Adding certificate verification is strongly advised. See: https://urllib3.readthedocs.io/en/latest/advanced-usage.html#ssl-warnings\n",
      "\n",
      "/usr/local/anaconda3/lib/python3.7/site-packages/urllib3/connectionpool.py:1004: InsecureRequestWarning:\n",
      "\n",
      "Unverified HTTPS request is being made to host 'demo.sparkbeyond.com'. Adding certificate verification is strongly advised. See: https://urllib3.readthedocs.io/en/latest/advanced-usage.html#ssl-warnings\n",
      "\n",
      "/usr/local/anaconda3/lib/python3.7/site-packages/urllib3/connectionpool.py:1004: InsecureRequestWarning:\n",
      "\n",
      "Unverified HTTPS request is being made to host 'demo.sparkbeyond.com'. Adding certificate verification is strongly advised. See: https://urllib3.readthedocs.io/en/latest/advanced-usage.html#ssl-warnings\n",
      "\n",
      "/usr/local/anaconda3/lib/python3.7/site-packages/urllib3/connectionpool.py:1004: InsecureRequestWarning:\n",
      "\n",
      "Unverified HTTPS request is being made to host 'demo.sparkbeyond.com'. Adding certificate verification is strongly advised. See: https://urllib3.readthedocs.io/en/latest/advanced-usage.html#ssl-warnings\n",
      "\n",
      "/usr/local/anaconda3/lib/python3.7/site-packages/urllib3/connectionpool.py:1004: InsecureRequestWarning:\n",
      "\n",
      "Unverified HTTPS request is being made to host 'demo.sparkbeyond.com'. Adding certificate verification is strongly advised. See: https://urllib3.readthedocs.io/en/latest/advanced-usage.html#ssl-warnings\n",
      "\n",
      "Rows processed: 0 [00:00, ? rows/s]/usr/local/anaconda3/lib/python3.7/site-packages/urllib3/connectionpool.py:1004: InsecureRequestWarning:\n",
      "\n",
      "Unverified HTTPS request is being made to host 'demo.sparkbeyond.com'. Adding certificate verification is strongly advised. See: https://urllib3.readthedocs.io/en/latest/advanced-usage.html#ssl-warnings\n",
      "\n",
      "Rows processed: 3200 [00:01, 2532.67 rows/s]/usr/local/anaconda3/lib/python3.7/site-packages/urllib3/connectionpool.py:1004: InsecureRequestWarning:\n",
      "\n",
      "Unverified HTTPS request is being made to host 'demo.sparkbeyond.com'. Adding certificate verification is strongly advised. See: https://urllib3.readthedocs.io/en/latest/advanced-usage.html#ssl-warnings\n",
      "\n",
      "Rows processed: 6400 [00:02, 2531.53 rows/s]/usr/local/anaconda3/lib/python3.7/site-packages/urllib3/connectionpool.py:1004: InsecureRequestWarning:\n",
      "\n",
      "Unverified HTTPS request is being made to host 'demo.sparkbeyond.com'. Adding certificate verification is strongly advised. See: https://urllib3.readthedocs.io/en/latest/advanced-usage.html#ssl-warnings\n",
      "\n",
      "Rows processed: 9600 [00:03, 2530.01 rows/s]/usr/local/anaconda3/lib/python3.7/site-packages/urllib3/connectionpool.py:1004: InsecureRequestWarning:\n",
      "\n",
      "Unverified HTTPS request is being made to host 'demo.sparkbeyond.com'. Adding certificate verification is strongly advised. See: https://urllib3.readthedocs.io/en/latest/advanced-usage.html#ssl-warnings\n",
      "\n",
      "Rows processed: 16000 [00:05, 2949.41 rows/s]/usr/local/anaconda3/lib/python3.7/site-packages/urllib3/connectionpool.py:1004: InsecureRequestWarning:\n",
      "\n",
      "Unverified HTTPS request is being made to host 'demo.sparkbeyond.com'. Adding certificate verification is strongly advised. See: https://urllib3.readthedocs.io/en/latest/advanced-usage.html#ssl-warnings\n",
      "\n",
      "Rows processed: 20800 [00:06, 3152.85 rows/s]/usr/local/anaconda3/lib/python3.7/site-packages/urllib3/connectionpool.py:1004: InsecureRequestWarning:\n",
      "\n",
      "Unverified HTTPS request is being made to host 'demo.sparkbeyond.com'. Adding certificate verification is strongly advised. See: https://urllib3.readthedocs.io/en/latest/advanced-usage.html#ssl-warnings\n",
      "\n",
      "Rows processed: 25600 [00:07, 3321.07 rows/s]/usr/local/anaconda3/lib/python3.7/site-packages/urllib3/connectionpool.py:1004: InsecureRequestWarning:\n",
      "\n",
      "Unverified HTTPS request is being made to host 'demo.sparkbeyond.com'. Adding certificate verification is strongly advised. See: https://urllib3.readthedocs.io/en/latest/advanced-usage.html#ssl-warnings\n",
      "\n",
      "Rows processed: 30400 [00:08, 3444.85 rows/s]/usr/local/anaconda3/lib/python3.7/site-packages/urllib3/connectionpool.py:1004: InsecureRequestWarning:\n",
      "\n",
      "Unverified HTTPS request is being made to host 'demo.sparkbeyond.com'. Adding certificate verification is strongly advised. See: https://urllib3.readthedocs.io/en/latest/advanced-usage.html#ssl-warnings\n",
      "\n",
      "Rows processed: 33600 [00:10, 3105.15 rows/s]/usr/local/anaconda3/lib/python3.7/site-packages/urllib3/connectionpool.py:1004: InsecureRequestWarning:\n",
      "\n",
      "Unverified HTTPS request is being made to host 'demo.sparkbeyond.com'. Adding certificate verification is strongly advised. See: https://urllib3.readthedocs.io/en/latest/advanced-usage.html#ssl-warnings\n",
      "\n",
      "Rows processed: 40000 [00:11, 3509.95 rows/s]/usr/local/anaconda3/lib/python3.7/site-packages/urllib3/connectionpool.py:1004: InsecureRequestWarning:\n",
      "\n",
      "Unverified HTTPS request is being made to host 'demo.sparkbeyond.com'. Adding certificate verification is strongly advised. See: https://urllib3.readthedocs.io/en/latest/advanced-usage.html#ssl-warnings\n",
      "\n",
      "Rows processed: 43200 [00:12, 3139.10 rows/s]/usr/local/anaconda3/lib/python3.7/site-packages/urllib3/connectionpool.py:1004: InsecureRequestWarning:\n",
      "\n",
      "Unverified HTTPS request is being made to host 'demo.sparkbeyond.com'. Adding certificate verification is strongly advised. See: https://urllib3.readthedocs.io/en/latest/advanced-usage.html#ssl-warnings\n",
      "\n",
      "Rows processed: 48000 [00:14, 3308.97 rows/s]/usr/local/anaconda3/lib/python3.7/site-packages/urllib3/connectionpool.py:1004: InsecureRequestWarning:\n",
      "\n",
      "Unverified HTTPS request is being made to host 'demo.sparkbeyond.com'. Adding certificate verification is strongly advised. See: https://urllib3.readthedocs.io/en/latest/advanced-usage.html#ssl-warnings\n",
      "\n",
      "Rows processed: 52800 [00:15, 3440.34 rows/s]/usr/local/anaconda3/lib/python3.7/site-packages/urllib3/connectionpool.py:1004: InsecureRequestWarning:\n",
      "\n",
      "Unverified HTTPS request is being made to host 'demo.sparkbeyond.com'. Adding certificate verification is strongly advised. See: https://urllib3.readthedocs.io/en/latest/advanced-usage.html#ssl-warnings\n",
      "\n",
      "Rows processed: 56000 [00:16, 3101.66 rows/s]/usr/local/anaconda3/lib/python3.7/site-packages/urllib3/connectionpool.py:1004: InsecureRequestWarning:\n",
      "\n",
      "Unverified HTTPS request is being made to host 'demo.sparkbeyond.com'. Adding certificate verification is strongly advised. See: https://urllib3.readthedocs.io/en/latest/advanced-usage.html#ssl-warnings\n",
      "\n",
      "Rows processed: 60800 [00:17, 3281.61 rows/s]/usr/local/anaconda3/lib/python3.7/site-packages/urllib3/connectionpool.py:1004: InsecureRequestWarning:\n",
      "\n",
      "Unverified HTTPS request is being made to host 'demo.sparkbeyond.com'. Adding certificate verification is strongly advised. See: https://urllib3.readthedocs.io/en/latest/advanced-usage.html#ssl-warnings\n",
      "\n",
      "Rows processed: 65600 [00:19, 3417.31 rows/s]/usr/local/anaconda3/lib/python3.7/site-packages/urllib3/connectionpool.py:1004: InsecureRequestWarning:\n",
      "\n",
      "Unverified HTTPS request is being made to host 'demo.sparkbeyond.com'. Adding certificate verification is strongly advised. See: https://urllib3.readthedocs.io/en/latest/advanced-usage.html#ssl-warnings\n",
      "\n",
      "Rows processed: 70400 [00:20, 3518.45 rows/s]/usr/local/anaconda3/lib/python3.7/site-packages/urllib3/connectionpool.py:1004: InsecureRequestWarning:\n",
      "\n",
      "Unverified HTTPS request is being made to host 'demo.sparkbeyond.com'. Adding certificate verification is strongly advised. See: https://urllib3.readthedocs.io/en/latest/advanced-usage.html#ssl-warnings\n",
      "\n",
      "Rows processed: 73600 [00:21, 3080.83 rows/s]/usr/local/anaconda3/lib/python3.7/site-packages/urllib3/connectionpool.py:1004: InsecureRequestWarning:\n",
      "\n",
      "Unverified HTTPS request is being made to host 'demo.sparkbeyond.com'. Adding certificate verification is strongly advised. See: https://urllib3.readthedocs.io/en/latest/advanced-usage.html#ssl-warnings\n",
      "\n"
     ]
    },
    {
     "name": "stderr",
     "output_type": "stream",
     "text": [
      "Rows processed: 80000 [00:22, 3488.70 rows/s]/usr/local/anaconda3/lib/python3.7/site-packages/urllib3/connectionpool.py:1004: InsecureRequestWarning:\n",
      "\n",
      "Unverified HTTPS request is being made to host 'demo.sparkbeyond.com'. Adding certificate verification is strongly advised. See: https://urllib3.readthedocs.io/en/latest/advanced-usage.html#ssl-warnings\n",
      "\n",
      "Rows processed: 84800 [00:24, 3574.92 rows/s]/usr/local/anaconda3/lib/python3.7/site-packages/urllib3/connectionpool.py:1004: InsecureRequestWarning:\n",
      "\n",
      "Unverified HTTPS request is being made to host 'demo.sparkbeyond.com'. Adding certificate verification is strongly advised. See: https://urllib3.readthedocs.io/en/latest/advanced-usage.html#ssl-warnings\n",
      "\n",
      "Rows processed: 88000 [00:25, 3178.31 rows/s]/usr/local/anaconda3/lib/python3.7/site-packages/urllib3/connectionpool.py:1004: InsecureRequestWarning:\n",
      "\n",
      "Unverified HTTPS request is being made to host 'demo.sparkbeyond.com'. Adding certificate verification is strongly advised. See: https://urllib3.readthedocs.io/en/latest/advanced-usage.html#ssl-warnings\n",
      "\n",
      "Rows processed: 91200 [00:26, 2950.73 rows/s]/usr/local/anaconda3/lib/python3.7/site-packages/urllib3/connectionpool.py:1004: InsecureRequestWarning:\n",
      "\n",
      "Unverified HTTPS request is being made to host 'demo.sparkbeyond.com'. Adding certificate verification is strongly advised. See: https://urllib3.readthedocs.io/en/latest/advanced-usage.html#ssl-warnings\n",
      "\n",
      "Rows processed: 97600 [00:28, 3370.23 rows/s]/usr/local/anaconda3/lib/python3.7/site-packages/urllib3/connectionpool.py:1004: InsecureRequestWarning:\n",
      "\n",
      "Unverified HTTPS request is being made to host 'demo.sparkbeyond.com'. Adding certificate verification is strongly advised. See: https://urllib3.readthedocs.io/en/latest/advanced-usage.html#ssl-warnings\n",
      "\n",
      "Rows processed: 100800 [00:29, 3063.41 rows/s]/usr/local/anaconda3/lib/python3.7/site-packages/urllib3/connectionpool.py:1004: InsecureRequestWarning:\n",
      "\n",
      "Unverified HTTPS request is being made to host 'demo.sparkbeyond.com'. Adding certificate verification is strongly advised. See: https://urllib3.readthedocs.io/en/latest/advanced-usage.html#ssl-warnings\n",
      "\n",
      "Rows processed: 105600 [00:30, 3249.74 rows/s]/usr/local/anaconda3/lib/python3.7/site-packages/urllib3/connectionpool.py:1004: InsecureRequestWarning:\n",
      "\n",
      "Unverified HTTPS request is being made to host 'demo.sparkbeyond.com'. Adding certificate verification is strongly advised. See: https://urllib3.readthedocs.io/en/latest/advanced-usage.html#ssl-warnings\n",
      "\n",
      "Rows processed: 108800 [00:31, 2992.98 rows/s]/usr/local/anaconda3/lib/python3.7/site-packages/urllib3/connectionpool.py:1004: InsecureRequestWarning:\n",
      "\n",
      "Unverified HTTPS request is being made to host 'demo.sparkbeyond.com'. Adding certificate verification is strongly advised. See: https://urllib3.readthedocs.io/en/latest/advanced-usage.html#ssl-warnings\n",
      "\n",
      "Rows processed: 115200 [00:33, 3406.09 rows/s]/usr/local/anaconda3/lib/python3.7/site-packages/urllib3/connectionpool.py:1004: InsecureRequestWarning:\n",
      "\n",
      "Unverified HTTPS request is being made to host 'demo.sparkbeyond.com'. Adding certificate verification is strongly advised. See: https://urllib3.readthedocs.io/en/latest/advanced-usage.html#ssl-warnings\n",
      "\n",
      "Rows processed: 118400 [00:34, 3085.45 rows/s]/usr/local/anaconda3/lib/python3.7/site-packages/urllib3/connectionpool.py:1004: InsecureRequestWarning:\n",
      "\n",
      "Unverified HTTPS request is being made to host 'demo.sparkbeyond.com'. Adding certificate verification is strongly advised. See: https://urllib3.readthedocs.io/en/latest/advanced-usage.html#ssl-warnings\n",
      "\n",
      "Rows processed: 124800 [00:35, 3492.74 rows/s]/usr/local/anaconda3/lib/python3.7/site-packages/urllib3/connectionpool.py:1004: InsecureRequestWarning:\n",
      "\n",
      "Unverified HTTPS request is being made to host 'demo.sparkbeyond.com'. Adding certificate verification is strongly advised. See: https://urllib3.readthedocs.io/en/latest/advanced-usage.html#ssl-warnings\n",
      "\n",
      "Rows processed: 128000 [00:36, 3130.73 rows/s]/usr/local/anaconda3/lib/python3.7/site-packages/urllib3/connectionpool.py:1004: InsecureRequestWarning:\n",
      "\n",
      "Unverified HTTPS request is being made to host 'demo.sparkbeyond.com'. Adding certificate verification is strongly advised. See: https://urllib3.readthedocs.io/en/latest/advanced-usage.html#ssl-warnings\n",
      "\n",
      "Rows processed: 134400 [00:38, 3533.21 rows/s]/usr/local/anaconda3/lib/python3.7/site-packages/urllib3/connectionpool.py:1004: InsecureRequestWarning:\n",
      "\n",
      "Unverified HTTPS request is being made to host 'demo.sparkbeyond.com'. Adding certificate verification is strongly advised. See: https://urllib3.readthedocs.io/en/latest/advanced-usage.html#ssl-warnings\n",
      "\n",
      "Rows processed: 137600 [00:39, 3156.09 rows/s]/usr/local/anaconda3/lib/python3.7/site-packages/urllib3/connectionpool.py:1004: InsecureRequestWarning:\n",
      "\n",
      "Unverified HTTPS request is being made to host 'demo.sparkbeyond.com'. Adding certificate verification is strongly advised. See: https://urllib3.readthedocs.io/en/latest/advanced-usage.html#ssl-warnings\n",
      "\n",
      "Rows processed: 144000 [00:40, 3557.99 rows/s]/usr/local/anaconda3/lib/python3.7/site-packages/urllib3/connectionpool.py:1004: InsecureRequestWarning:\n",
      "\n",
      "Unverified HTTPS request is being made to host 'demo.sparkbeyond.com'. Adding certificate verification is strongly advised. See: https://urllib3.readthedocs.io/en/latest/advanced-usage.html#ssl-warnings\n",
      "\n",
      "Rows processed: 147200 [00:41, 3168.30 rows/s]/usr/local/anaconda3/lib/python3.7/site-packages/urllib3/connectionpool.py:1004: InsecureRequestWarning:\n",
      "\n",
      "Unverified HTTPS request is being made to host 'demo.sparkbeyond.com'. Adding certificate verification is strongly advised. See: https://urllib3.readthedocs.io/en/latest/advanced-usage.html#ssl-warnings\n",
      "\n",
      "Rows processed: 152000 [00:43, 3276.36 rows/s]/usr/local/anaconda3/lib/python3.7/site-packages/urllib3/connectionpool.py:1004: InsecureRequestWarning:\n",
      "\n",
      "Unverified HTTPS request is being made to host 'demo.sparkbeyond.com'. Adding certificate verification is strongly advised. See: https://urllib3.readthedocs.io/en/latest/advanced-usage.html#ssl-warnings\n",
      "\n",
      "Rows processed: 156800 [00:44, 3412.38 rows/s]/usr/local/anaconda3/lib/python3.7/site-packages/urllib3/connectionpool.py:1004: InsecureRequestWarning:\n",
      "\n",
      "Unverified HTTPS request is being made to host 'demo.sparkbeyond.com'. Adding certificate verification is strongly advised. See: https://urllib3.readthedocs.io/en/latest/advanced-usage.html#ssl-warnings\n",
      "\n",
      "Rows processed: 161600 [00:45, 3517.91 rows/s]/usr/local/anaconda3/lib/python3.7/site-packages/urllib3/connectionpool.py:1004: InsecureRequestWarning:\n",
      "\n",
      "Unverified HTTPS request is being made to host 'demo.sparkbeyond.com'. Adding certificate verification is strongly advised. See: https://urllib3.readthedocs.io/en/latest/advanced-usage.html#ssl-warnings\n",
      "\n",
      "Rows processed: 164800 [00:47, 3142.56 rows/s]/usr/local/anaconda3/lib/python3.7/site-packages/urllib3/connectionpool.py:1004: InsecureRequestWarning:\n",
      "\n",
      "Unverified HTTPS request is being made to host 'demo.sparkbeyond.com'. Adding certificate verification is strongly advised. See: https://urllib3.readthedocs.io/en/latest/advanced-usage.html#ssl-warnings\n",
      "\n",
      "Rows processed: 171200 [00:48, 3544.58 rows/s]/usr/local/anaconda3/lib/python3.7/site-packages/urllib3/connectionpool.py:1004: InsecureRequestWarning:\n",
      "\n",
      "Unverified HTTPS request is being made to host 'demo.sparkbeyond.com'. Adding certificate verification is strongly advised. See: https://urllib3.readthedocs.io/en/latest/advanced-usage.html#ssl-warnings\n",
      "\n",
      "Rows processed: 174400 [00:49, 3062.48 rows/s]/usr/local/anaconda3/lib/python3.7/site-packages/urllib3/connectionpool.py:1004: InsecureRequestWarning:\n",
      "\n",
      "Unverified HTTPS request is being made to host 'demo.sparkbeyond.com'. Adding certificate verification is strongly advised. See: https://urllib3.readthedocs.io/en/latest/advanced-usage.html#ssl-warnings\n",
      "\n",
      "Rows processed: 180800 [00:51, 3470.04 rows/s]/usr/local/anaconda3/lib/python3.7/site-packages/urllib3/connectionpool.py:1004: InsecureRequestWarning:\n",
      "\n",
      "Unverified HTTPS request is being made to host 'demo.sparkbeyond.com'. Adding certificate verification is strongly advised. See: https://urllib3.readthedocs.io/en/latest/advanced-usage.html#ssl-warnings\n",
      "\n",
      "Rows processed: 185600 [00:52, 3560.00 rows/s]/usr/local/anaconda3/lib/python3.7/site-packages/urllib3/connectionpool.py:1004: InsecureRequestWarning:\n",
      "\n",
      "Unverified HTTPS request is being made to host 'demo.sparkbeyond.com'. Adding certificate verification is strongly advised. See: https://urllib3.readthedocs.io/en/latest/advanced-usage.html#ssl-warnings\n",
      "\n",
      "Rows processed: 190400 [00:53, 3621.52 rows/s]/usr/local/anaconda3/lib/python3.7/site-packages/urllib3/connectionpool.py:1004: InsecureRequestWarning:\n",
      "\n",
      "Unverified HTTPS request is being made to host 'demo.sparkbeyond.com'. Adding certificate verification is strongly advised. See: https://urllib3.readthedocs.io/en/latest/advanced-usage.html#ssl-warnings\n",
      "\n",
      "Rows processed: 193600 [00:54, 3206.51 rows/s]/usr/local/anaconda3/lib/python3.7/site-packages/urllib3/connectionpool.py:1004: InsecureRequestWarning:\n",
      "\n",
      "Unverified HTTPS request is being made to host 'demo.sparkbeyond.com'. Adding certificate verification is strongly advised. See: https://urllib3.readthedocs.io/en/latest/advanced-usage.html#ssl-warnings\n",
      "\n",
      "Rows processed: 200000 [00:56, 3533.06 rows/s]/usr/local/anaconda3/lib/python3.7/site-packages/urllib3/connectionpool.py:1004: InsecureRequestWarning:\n",
      "\n",
      "Unverified HTTPS request is being made to host 'demo.sparkbeyond.com'. Adding certificate verification is strongly advised. See: https://urllib3.readthedocs.io/en/latest/advanced-usage.html#ssl-warnings\n",
      "\n",
      "Rows processed: 204800 [00:57, 3558.67 rows/s]/usr/local/anaconda3/lib/python3.7/site-packages/urllib3/connectionpool.py:1004: InsecureRequestWarning:\n",
      "\n",
      "Unverified HTTPS request is being made to host 'demo.sparkbeyond.com'. Adding certificate verification is strongly advised. See: https://urllib3.readthedocs.io/en/latest/advanced-usage.html#ssl-warnings\n",
      "\n",
      "Rows processed: 208000 [00:58, 3170.27 rows/s]/usr/local/anaconda3/lib/python3.7/site-packages/urllib3/connectionpool.py:1004: InsecureRequestWarning:\n",
      "\n",
      "Unverified HTTPS request is being made to host 'demo.sparkbeyond.com'. Adding certificate verification is strongly advised. See: https://urllib3.readthedocs.io/en/latest/advanced-usage.html#ssl-warnings\n",
      "\n",
      "Rows processed: 214400 [01:00, 3568.21 rows/s]/usr/local/anaconda3/lib/python3.7/site-packages/urllib3/connectionpool.py:1004: InsecureRequestWarning:\n",
      "\n",
      "Unverified HTTPS request is being made to host 'demo.sparkbeyond.com'. Adding certificate verification is strongly advised. See: https://urllib3.readthedocs.io/en/latest/advanced-usage.html#ssl-warnings\n",
      "\n",
      "Rows processed: 217600 [01:01, 3174.79 rows/s]/usr/local/anaconda3/lib/python3.7/site-packages/urllib3/connectionpool.py:1004: InsecureRequestWarning:\n",
      "\n",
      "Unverified HTTPS request is being made to host 'demo.sparkbeyond.com'. Adding certificate verification is strongly advised. See: https://urllib3.readthedocs.io/en/latest/advanced-usage.html#ssl-warnings\n",
      "\n",
      "Rows processed: 219116 [01:02, 3498.66 rows/s]\n",
      "/usr/local/anaconda3/lib/python3.7/site-packages/urllib3/connectionpool.py:1004: InsecureRequestWarning:\n",
      "\n",
      "Unverified HTTPS request is being made to host 'demo.sparkbeyond.com'. Adding certificate verification is strongly advised. See: https://urllib3.readthedocs.io/en/latest/advanced-usage.html#ssl-warnings\n",
      "\n"
     ]
    },
    {
     "name": "stdout",
     "output_type": "stream",
     "text": [
      "Downloading to /var/folders/yc/6q91cj0j58g0sp16nvsj83wh0000gr/T/result-98f23dd9-02b4-40cd-86b2-a49dd4f3f8bdu8y5pn0o.tsv.gz: 17.9MB [00:18, 989kB/s] \n"
     ]
    }
   ],
   "source": [
    "pred = model.predict(sb.PredictParams(inputs=[rent_master_agg_geo_clean], include_originals=True)).results_dataframe()"
   ]
  },
  {
   "cell_type": "code",
   "execution_count": 208,
   "metadata": {
    "ExecuteTime": {
     "end_time": "2023-03-28T01:54:56.600827Z",
     "start_time": "2023-03-28T01:54:56.572088Z"
    },
    "scrolled": true
   },
   "outputs": [
    {
     "data": {
      "text/html": [
       "<div>\n",
       "<style scoped>\n",
       "    .dataframe tbody tr th:only-of-type {\n",
       "        vertical-align: middle;\n",
       "    }\n",
       "\n",
       "    .dataframe tbody tr th {\n",
       "        vertical-align: top;\n",
       "    }\n",
       "\n",
       "    .dataframe thead th {\n",
       "        text-align: right;\n",
       "    }\n",
       "</style>\n",
       "<table border=\"1\" class=\"dataframe\">\n",
       "  <thead>\n",
       "    <tr style=\"text-align: right;\">\n",
       "      <th></th>\n",
       "      <th>areaSqm</th>\n",
       "      <th>leaseDate</th>\n",
       "      <th>propertyType</th>\n",
       "      <th>district</th>\n",
       "      <th>areaSqft</th>\n",
       "      <th>noOfBedRoom</th>\n",
       "      <th>street</th>\n",
       "      <th>project</th>\n",
       "      <th>median</th>\n",
       "      <th>unique_property_key</th>\n",
       "      <th>latLong</th>\n",
       "      <th>last 1 years by project ID-cac3</th>\n",
       "      <th>last 12 weeks by project ID-f85f</th>\n",
       "      <th>last 1 years by district ID-72c5</th>\n",
       "      <th>last 12 weeks by district ID-99cc</th>\n",
       "      <th>last 1 years by unique_property_key ID-0849</th>\n",
       "      <th>last 12 weeks by unique_property_key ID-30bf</th>\n",
       "      <th>median_predicted</th>\n",
       "    </tr>\n",
       "  </thead>\n",
       "  <tbody>\n",
       "    <tr>\n",
       "      <th>0</th>\n",
       "      <td>Segment(100.0,110.0)</td>\n",
       "      <td>Thu Mar 01 00:00:00 UTC 2018</td>\n",
       "      <td>\"Executive Condominium\"</td>\n",
       "      <td>18</td>\n",
       "      <td>Segment(1100.0,1200.0)</td>\n",
       "      <td>3.0</td>\n",
       "      <td>\"PASIR RIS STREET 72\"</td>\n",
       "      <td>\"WHITEWATER\"</td>\n",
       "      <td>2400.0</td>\n",
       "      <td>\"100-110PASIR RIS STREET 72WHITEWATER\"</td>\n",
       "      <td>1.37993635799156, 103.935495173706</td>\n",
       "      <td>KeyedTimeWindow(key=WHITEWATER, startDate=01/0...</td>\n",
       "      <td>KeyedTimeWindow(key=WHITEWATER, startDate=07/1...</td>\n",
       "      <td>KeyedTimeWindow(key=18, startDate=01/03/17 12:...</td>\n",
       "      <td>KeyedTimeWindow(key=18, startDate=07/12/17 12:...</td>\n",
       "      <td>KeyedTimeWindow(key=100-110PASIR RIS STREET 72...</td>\n",
       "      <td>KeyedTimeWindow(key=100-110PASIR RIS STREET 72...</td>\n",
       "      <td>2756.423827</td>\n",
       "    </tr>\n",
       "    <tr>\n",
       "      <th>1</th>\n",
       "      <td>Segment(100.0,110.0)</td>\n",
       "      <td>Thu Mar 01 00:00:00 UTC 2018</td>\n",
       "      <td>\"Executive Condominium\"</td>\n",
       "      <td>22</td>\n",
       "      <td>Segment(1000.0,1100.0)</td>\n",
       "      <td>3.0</td>\n",
       "      <td>\"JURONG EAST STREET 13\"</td>\n",
       "      <td>\"WESTMERE\"</td>\n",
       "      <td>2700.0</td>\n",
       "      <td>\"100-110JURONG EAST STREET 13WESTMERE\"</td>\n",
       "      <td>1.33758505557106, 103.736682684179</td>\n",
       "      <td>KeyedTimeWindow(key=WESTMERE, startDate=01/03/...</td>\n",
       "      <td>KeyedTimeWindow(key=WESTMERE, startDate=07/12/...</td>\n",
       "      <td>KeyedTimeWindow(key=22, startDate=01/03/17 12:...</td>\n",
       "      <td>KeyedTimeWindow(key=22, startDate=07/12/17 12:...</td>\n",
       "      <td>KeyedTimeWindow(key=100-110JURONG EAST STREET ...</td>\n",
       "      <td>KeyedTimeWindow(key=100-110JURONG EAST STREET ...</td>\n",
       "      <td>2756.423827</td>\n",
       "    </tr>\n",
       "    <tr>\n",
       "      <th>2</th>\n",
       "      <td>Segment(100.0,110.0)</td>\n",
       "      <td>Thu Mar 01 00:00:00 UTC 2018</td>\n",
       "      <td>\"Executive Condominium\"</td>\n",
       "      <td>25</td>\n",
       "      <td>Segment(1100.0,1200.0)</td>\n",
       "      <td>3.0</td>\n",
       "      <td>\"WOODLANDS DRIVE 16\"</td>\n",
       "      <td>\"LA CASA\"</td>\n",
       "      <td>2450.0</td>\n",
       "      <td>\"100-110WOODLANDS DRIVE 16LA CASA\"</td>\n",
       "      <td>1.43188746099951, 103.797920739127</td>\n",
       "      <td>KeyedTimeWindow(key=LA CASA, startDate=01/03/1...</td>\n",
       "      <td>KeyedTimeWindow(key=LA CASA, startDate=07/12/1...</td>\n",
       "      <td>KeyedTimeWindow(key=25, startDate=01/03/17 12:...</td>\n",
       "      <td>KeyedTimeWindow(key=25, startDate=07/12/17 12:...</td>\n",
       "      <td>KeyedTimeWindow(key=100-110WOODLANDS DRIVE 16L...</td>\n",
       "      <td>KeyedTimeWindow(key=100-110WOODLANDS DRIVE 16L...</td>\n",
       "      <td>2756.423827</td>\n",
       "    </tr>\n",
       "    <tr>\n",
       "      <th>3</th>\n",
       "      <td>Segment(100.0,110.0)</td>\n",
       "      <td>Thu Mar 01 00:00:00 UTC 2018</td>\n",
       "      <td>\"Executive Condominium\"</td>\n",
       "      <td>27</td>\n",
       "      <td>Segment(1100.0,1200.0)</td>\n",
       "      <td>3.0</td>\n",
       "      <td>\"YISHUN AVENUE 6\"</td>\n",
       "      <td>\"LILYDALE\"</td>\n",
       "      <td>2450.0</td>\n",
       "      <td>\"100-110YISHUN AVENUE 6LILYDALE\"</td>\n",
       "      <td>1.4239283710886599, 103.849332055297</td>\n",
       "      <td>KeyedTimeWindow(key=LILYDALE, startDate=01/03/...</td>\n",
       "      <td>KeyedTimeWindow(key=LILYDALE, startDate=07/12/...</td>\n",
       "      <td>KeyedTimeWindow(key=27, startDate=01/03/17 12:...</td>\n",
       "      <td>KeyedTimeWindow(key=27, startDate=07/12/17 12:...</td>\n",
       "      <td>KeyedTimeWindow(key=100-110YISHUN AVENUE 6LILY...</td>\n",
       "      <td>KeyedTimeWindow(key=100-110YISHUN AVENUE 6LILY...</td>\n",
       "      <td>2566.163202</td>\n",
       "    </tr>\n",
       "    <tr>\n",
       "      <th>4</th>\n",
       "      <td>Segment(100.0,110.0)</td>\n",
       "      <td>Thu Mar 01 00:00:00 UTC 2018</td>\n",
       "      <td>\"Non-landed Properties\"</td>\n",
       "      <td>1</td>\n",
       "      <td>Segment(1000.0,1100.0)</td>\n",
       "      <td>2.0</td>\n",
       "      <td>\"SHENTON WAY\"</td>\n",
       "      <td>\"ONE SHENTON\"</td>\n",
       "      <td>4850.0</td>\n",
       "      <td>\"100-110SHENTON WAYONE SHENTON\"</td>\n",
       "      <td>1.27929478959373, 103.850552555075</td>\n",
       "      <td>KeyedTimeWindow(key=ONE SHENTON, startDate=01/...</td>\n",
       "      <td>KeyedTimeWindow(key=ONE SHENTON, startDate=07/...</td>\n",
       "      <td>KeyedTimeWindow(key=1, startDate=01/03/17 12:0...</td>\n",
       "      <td>KeyedTimeWindow(key=1, startDate=07/12/17 12:0...</td>\n",
       "      <td>KeyedTimeWindow(key=100-110SHENTON WAYONE SHEN...</td>\n",
       "      <td>KeyedTimeWindow(key=100-110SHENTON WAYONE SHEN...</td>\n",
       "      <td>4449.393536</td>\n",
       "    </tr>\n",
       "    <tr>\n",
       "      <th>...</th>\n",
       "      <td>...</td>\n",
       "      <td>...</td>\n",
       "      <td>...</td>\n",
       "      <td>...</td>\n",
       "      <td>...</td>\n",
       "      <td>...</td>\n",
       "      <td>...</td>\n",
       "      <td>...</td>\n",
       "      <td>...</td>\n",
       "      <td>...</td>\n",
       "      <td>...</td>\n",
       "      <td>...</td>\n",
       "      <td>...</td>\n",
       "      <td>...</td>\n",
       "      <td>...</td>\n",
       "      <td>...</td>\n",
       "      <td>...</td>\n",
       "      <td>...</td>\n",
       "    </tr>\n",
       "    <tr>\n",
       "      <th>220711</th>\n",
       "      <td>Segment(800.0,Infinity)</td>\n",
       "      <td>Sun Jan 01 00:00:00 UTC 2023</td>\n",
       "      <td>\"Detached House\"</td>\n",
       "      <td>11</td>\n",
       "      <td>Segment(8000.0,Infinity)</td>\n",
       "      <td>NaN</td>\n",
       "      <td>\"ASH GROVE\"</td>\n",
       "      <td>\"RAFFLES PARK\"</td>\n",
       "      <td>12000.0</td>\n",
       "      <td>\"&gt;800ASH GROVERAFFLES PARK\"</td>\n",
       "      <td>1.3335650513238, 103.802383498619</td>\n",
       "      <td>KeyedTimeWindow(key=RAFFLES PARK, startDate=01...</td>\n",
       "      <td>KeyedTimeWindow(key=RAFFLES PARK, startDate=09...</td>\n",
       "      <td>KeyedTimeWindow(key=11, startDate=01/01/22 12:...</td>\n",
       "      <td>KeyedTimeWindow(key=11, startDate=09/10/22 12:...</td>\n",
       "      <td>KeyedTimeWindow(key=&gt;800ASH GROVERAFFLES PARK,...</td>\n",
       "      <td>KeyedTimeWindow(key=&gt;800ASH GROVERAFFLES PARK,...</td>\n",
       "      <td>16776.226962</td>\n",
       "    </tr>\n",
       "    <tr>\n",
       "      <th>220712</th>\n",
       "      <td>Segment(800.0,Infinity)</td>\n",
       "      <td>Wed Feb 01 00:00:00 UTC 2023</td>\n",
       "      <td>\"Detached House\"</td>\n",
       "      <td>10</td>\n",
       "      <td>Segment(8000.0,Infinity)</td>\n",
       "      <td>NaN</td>\n",
       "      <td>\"LEEDON PARK\"</td>\n",
       "      <td>\"LANDED HOUSING DEVELOPMENT\"</td>\n",
       "      <td>42000.0</td>\n",
       "      <td>\"&gt;800LEEDON PARKLANDED HOUSING DEVELOPMENT\"</td>\n",
       "      <td>1.3164600478156, 103.796056269735</td>\n",
       "      <td>KeyedTimeWindow(key=LANDED HOUSING DEVELOPMENT...</td>\n",
       "      <td>KeyedTimeWindow(key=LANDED HOUSING DEVELOPMENT...</td>\n",
       "      <td>KeyedTimeWindow(key=10, startDate=01/02/22 12:...</td>\n",
       "      <td>KeyedTimeWindow(key=10, startDate=09/11/22 12:...</td>\n",
       "      <td>KeyedTimeWindow(key=&gt;800LEEDON PARKLANDED HOUS...</td>\n",
       "      <td>KeyedTimeWindow(key=&gt;800LEEDON PARKLANDED HOUS...</td>\n",
       "      <td>16921.437109</td>\n",
       "    </tr>\n",
       "    <tr>\n",
       "      <th>220713</th>\n",
       "      <td>Segment(800.0,Infinity)</td>\n",
       "      <td>Wed Feb 01 00:00:00 UTC 2023</td>\n",
       "      <td>\"Detached House\"</td>\n",
       "      <td>10</td>\n",
       "      <td>Segment(8000.0,Infinity)</td>\n",
       "      <td>NaN</td>\n",
       "      <td>\"QUEEN ASTRID PARK\"</td>\n",
       "      <td>\"LANDED HOUSING DEVELOPMENT\"</td>\n",
       "      <td>35000.0</td>\n",
       "      <td>\"&gt;800QUEEN ASTRID PARKLANDED HOUSING DEVELOPMENT\"</td>\n",
       "      <td>1.31796906737673, 103.790368876953</td>\n",
       "      <td>KeyedTimeWindow(key=LANDED HOUSING DEVELOPMENT...</td>\n",
       "      <td>KeyedTimeWindow(key=LANDED HOUSING DEVELOPMENT...</td>\n",
       "      <td>KeyedTimeWindow(key=10, startDate=01/02/22 12:...</td>\n",
       "      <td>KeyedTimeWindow(key=10, startDate=09/11/22 12:...</td>\n",
       "      <td>KeyedTimeWindow(key=&gt;800QUEEN ASTRID PARKLANDE...</td>\n",
       "      <td>KeyedTimeWindow(key=&gt;800QUEEN ASTRID PARKLANDE...</td>\n",
       "      <td>16921.437109</td>\n",
       "    </tr>\n",
       "    <tr>\n",
       "      <th>220714</th>\n",
       "      <td>Segment(800.0,Infinity)</td>\n",
       "      <td>Wed Feb 01 00:00:00 UTC 2023</td>\n",
       "      <td>\"Detached House\"</td>\n",
       "      <td>11</td>\n",
       "      <td>Segment(8000.0,Infinity)</td>\n",
       "      <td>NaN</td>\n",
       "      <td>\"BUKIT TUNGGAL ROAD\"</td>\n",
       "      <td>\"LANDED HOUSING DEVELOPMENT\"</td>\n",
       "      <td>29750.0</td>\n",
       "      <td>\"&gt;800BUKIT TUNGGAL ROADLANDED HOUSING DEVELOPM...</td>\n",
       "      <td>1.32124415858565, 103.838957217737</td>\n",
       "      <td>KeyedTimeWindow(key=LANDED HOUSING DEVELOPMENT...</td>\n",
       "      <td>KeyedTimeWindow(key=LANDED HOUSING DEVELOPMENT...</td>\n",
       "      <td>KeyedTimeWindow(key=11, startDate=01/02/22 12:...</td>\n",
       "      <td>KeyedTimeWindow(key=11, startDate=09/11/22 12:...</td>\n",
       "      <td>KeyedTimeWindow(key=&gt;800BUKIT TUNGGAL ROADLAND...</td>\n",
       "      <td>KeyedTimeWindow(key=&gt;800BUKIT TUNGGAL ROADLAND...</td>\n",
       "      <td>16273.855049</td>\n",
       "    </tr>\n",
       "    <tr>\n",
       "      <th>220715</th>\n",
       "      <td>Segment(800.0,Infinity)</td>\n",
       "      <td>Wed Feb 01 00:00:00 UTC 2023</td>\n",
       "      <td>\"Detached House\"</td>\n",
       "      <td>11</td>\n",
       "      <td>Segment(8000.0,Infinity)</td>\n",
       "      <td>NaN</td>\n",
       "      <td>\"TREVOSE CRESCENT\"</td>\n",
       "      <td>\"TREVOSE 12\"</td>\n",
       "      <td>16800.0</td>\n",
       "      <td>\"&gt;800TREVOSE CRESCENTTREVOSE 12\"</td>\n",
       "      <td>1.3225890468825199, 103.824030502532</td>\n",
       "      <td>KeyedTimeWindow(key=TREVOSE 12, startDate=01/0...</td>\n",
       "      <td>KeyedTimeWindow(key=TREVOSE 12, startDate=09/1...</td>\n",
       "      <td>KeyedTimeWindow(key=11, startDate=01/02/22 12:...</td>\n",
       "      <td>KeyedTimeWindow(key=11, startDate=09/11/22 12:...</td>\n",
       "      <td>KeyedTimeWindow(key=&gt;800TREVOSE CRESCENTTREVOS...</td>\n",
       "      <td>KeyedTimeWindow(key=&gt;800TREVOSE CRESCENTTREVOS...</td>\n",
       "      <td>20290.653757</td>\n",
       "    </tr>\n",
       "  </tbody>\n",
       "</table>\n",
       "<p>220716 rows × 18 columns</p>\n",
       "</div>"
      ],
      "text/plain": [
       "                        areaSqm                     leaseDate  \\\n",
       "0          Segment(100.0,110.0)  Thu Mar 01 00:00:00 UTC 2018   \n",
       "1          Segment(100.0,110.0)  Thu Mar 01 00:00:00 UTC 2018   \n",
       "2          Segment(100.0,110.0)  Thu Mar 01 00:00:00 UTC 2018   \n",
       "3          Segment(100.0,110.0)  Thu Mar 01 00:00:00 UTC 2018   \n",
       "4          Segment(100.0,110.0)  Thu Mar 01 00:00:00 UTC 2018   \n",
       "...                         ...                           ...   \n",
       "220711  Segment(800.0,Infinity)  Sun Jan 01 00:00:00 UTC 2023   \n",
       "220712  Segment(800.0,Infinity)  Wed Feb 01 00:00:00 UTC 2023   \n",
       "220713  Segment(800.0,Infinity)  Wed Feb 01 00:00:00 UTC 2023   \n",
       "220714  Segment(800.0,Infinity)  Wed Feb 01 00:00:00 UTC 2023   \n",
       "220715  Segment(800.0,Infinity)  Wed Feb 01 00:00:00 UTC 2023   \n",
       "\n",
       "                   propertyType  district                  areaSqft  \\\n",
       "0       \"Executive Condominium\"        18    Segment(1100.0,1200.0)   \n",
       "1       \"Executive Condominium\"        22    Segment(1000.0,1100.0)   \n",
       "2       \"Executive Condominium\"        25    Segment(1100.0,1200.0)   \n",
       "3       \"Executive Condominium\"        27    Segment(1100.0,1200.0)   \n",
       "4       \"Non-landed Properties\"         1    Segment(1000.0,1100.0)   \n",
       "...                         ...       ...                       ...   \n",
       "220711         \"Detached House\"        11  Segment(8000.0,Infinity)   \n",
       "220712         \"Detached House\"        10  Segment(8000.0,Infinity)   \n",
       "220713         \"Detached House\"        10  Segment(8000.0,Infinity)   \n",
       "220714         \"Detached House\"        11  Segment(8000.0,Infinity)   \n",
       "220715         \"Detached House\"        11  Segment(8000.0,Infinity)   \n",
       "\n",
       "        noOfBedRoom                   street                       project  \\\n",
       "0               3.0    \"PASIR RIS STREET 72\"                  \"WHITEWATER\"   \n",
       "1               3.0  \"JURONG EAST STREET 13\"                    \"WESTMERE\"   \n",
       "2               3.0     \"WOODLANDS DRIVE 16\"                     \"LA CASA\"   \n",
       "3               3.0        \"YISHUN AVENUE 6\"                    \"LILYDALE\"   \n",
       "4               2.0            \"SHENTON WAY\"                 \"ONE SHENTON\"   \n",
       "...             ...                      ...                           ...   \n",
       "220711          NaN              \"ASH GROVE\"                \"RAFFLES PARK\"   \n",
       "220712          NaN            \"LEEDON PARK\"  \"LANDED HOUSING DEVELOPMENT\"   \n",
       "220713          NaN      \"QUEEN ASTRID PARK\"  \"LANDED HOUSING DEVELOPMENT\"   \n",
       "220714          NaN     \"BUKIT TUNGGAL ROAD\"  \"LANDED HOUSING DEVELOPMENT\"   \n",
       "220715          NaN       \"TREVOSE CRESCENT\"                  \"TREVOSE 12\"   \n",
       "\n",
       "         median                                unique_property_key  \\\n",
       "0        2400.0             \"100-110PASIR RIS STREET 72WHITEWATER\"   \n",
       "1        2700.0             \"100-110JURONG EAST STREET 13WESTMERE\"   \n",
       "2        2450.0                 \"100-110WOODLANDS DRIVE 16LA CASA\"   \n",
       "3        2450.0                   \"100-110YISHUN AVENUE 6LILYDALE\"   \n",
       "4        4850.0                    \"100-110SHENTON WAYONE SHENTON\"   \n",
       "...         ...                                                ...   \n",
       "220711  12000.0                        \">800ASH GROVERAFFLES PARK\"   \n",
       "220712  42000.0        \">800LEEDON PARKLANDED HOUSING DEVELOPMENT\"   \n",
       "220713  35000.0  \">800QUEEN ASTRID PARKLANDED HOUSING DEVELOPMENT\"   \n",
       "220714  29750.0  \">800BUKIT TUNGGAL ROADLANDED HOUSING DEVELOPM...   \n",
       "220715  16800.0                   \">800TREVOSE CRESCENTTREVOSE 12\"   \n",
       "\n",
       "                                     latLong  \\\n",
       "0         1.37993635799156, 103.935495173706   \n",
       "1         1.33758505557106, 103.736682684179   \n",
       "2         1.43188746099951, 103.797920739127   \n",
       "3       1.4239283710886599, 103.849332055297   \n",
       "4         1.27929478959373, 103.850552555075   \n",
       "...                                      ...   \n",
       "220711     1.3335650513238, 103.802383498619   \n",
       "220712     1.3164600478156, 103.796056269735   \n",
       "220713    1.31796906737673, 103.790368876953   \n",
       "220714    1.32124415858565, 103.838957217737   \n",
       "220715  1.3225890468825199, 103.824030502532   \n",
       "\n",
       "                          last 1 years by project ID-cac3  \\\n",
       "0       KeyedTimeWindow(key=WHITEWATER, startDate=01/0...   \n",
       "1       KeyedTimeWindow(key=WESTMERE, startDate=01/03/...   \n",
       "2       KeyedTimeWindow(key=LA CASA, startDate=01/03/1...   \n",
       "3       KeyedTimeWindow(key=LILYDALE, startDate=01/03/...   \n",
       "4       KeyedTimeWindow(key=ONE SHENTON, startDate=01/...   \n",
       "...                                                   ...   \n",
       "220711  KeyedTimeWindow(key=RAFFLES PARK, startDate=01...   \n",
       "220712  KeyedTimeWindow(key=LANDED HOUSING DEVELOPMENT...   \n",
       "220713  KeyedTimeWindow(key=LANDED HOUSING DEVELOPMENT...   \n",
       "220714  KeyedTimeWindow(key=LANDED HOUSING DEVELOPMENT...   \n",
       "220715  KeyedTimeWindow(key=TREVOSE 12, startDate=01/0...   \n",
       "\n",
       "                         last 12 weeks by project ID-f85f  \\\n",
       "0       KeyedTimeWindow(key=WHITEWATER, startDate=07/1...   \n",
       "1       KeyedTimeWindow(key=WESTMERE, startDate=07/12/...   \n",
       "2       KeyedTimeWindow(key=LA CASA, startDate=07/12/1...   \n",
       "3       KeyedTimeWindow(key=LILYDALE, startDate=07/12/...   \n",
       "4       KeyedTimeWindow(key=ONE SHENTON, startDate=07/...   \n",
       "...                                                   ...   \n",
       "220711  KeyedTimeWindow(key=RAFFLES PARK, startDate=09...   \n",
       "220712  KeyedTimeWindow(key=LANDED HOUSING DEVELOPMENT...   \n",
       "220713  KeyedTimeWindow(key=LANDED HOUSING DEVELOPMENT...   \n",
       "220714  KeyedTimeWindow(key=LANDED HOUSING DEVELOPMENT...   \n",
       "220715  KeyedTimeWindow(key=TREVOSE 12, startDate=09/1...   \n",
       "\n",
       "                         last 1 years by district ID-72c5  \\\n",
       "0       KeyedTimeWindow(key=18, startDate=01/03/17 12:...   \n",
       "1       KeyedTimeWindow(key=22, startDate=01/03/17 12:...   \n",
       "2       KeyedTimeWindow(key=25, startDate=01/03/17 12:...   \n",
       "3       KeyedTimeWindow(key=27, startDate=01/03/17 12:...   \n",
       "4       KeyedTimeWindow(key=1, startDate=01/03/17 12:0...   \n",
       "...                                                   ...   \n",
       "220711  KeyedTimeWindow(key=11, startDate=01/01/22 12:...   \n",
       "220712  KeyedTimeWindow(key=10, startDate=01/02/22 12:...   \n",
       "220713  KeyedTimeWindow(key=10, startDate=01/02/22 12:...   \n",
       "220714  KeyedTimeWindow(key=11, startDate=01/02/22 12:...   \n",
       "220715  KeyedTimeWindow(key=11, startDate=01/02/22 12:...   \n",
       "\n",
       "                        last 12 weeks by district ID-99cc  \\\n",
       "0       KeyedTimeWindow(key=18, startDate=07/12/17 12:...   \n",
       "1       KeyedTimeWindow(key=22, startDate=07/12/17 12:...   \n",
       "2       KeyedTimeWindow(key=25, startDate=07/12/17 12:...   \n",
       "3       KeyedTimeWindow(key=27, startDate=07/12/17 12:...   \n",
       "4       KeyedTimeWindow(key=1, startDate=07/12/17 12:0...   \n",
       "...                                                   ...   \n",
       "220711  KeyedTimeWindow(key=11, startDate=09/10/22 12:...   \n",
       "220712  KeyedTimeWindow(key=10, startDate=09/11/22 12:...   \n",
       "220713  KeyedTimeWindow(key=10, startDate=09/11/22 12:...   \n",
       "220714  KeyedTimeWindow(key=11, startDate=09/11/22 12:...   \n",
       "220715  KeyedTimeWindow(key=11, startDate=09/11/22 12:...   \n",
       "\n",
       "              last 1 years by unique_property_key ID-0849  \\\n",
       "0       KeyedTimeWindow(key=100-110PASIR RIS STREET 72...   \n",
       "1       KeyedTimeWindow(key=100-110JURONG EAST STREET ...   \n",
       "2       KeyedTimeWindow(key=100-110WOODLANDS DRIVE 16L...   \n",
       "3       KeyedTimeWindow(key=100-110YISHUN AVENUE 6LILY...   \n",
       "4       KeyedTimeWindow(key=100-110SHENTON WAYONE SHEN...   \n",
       "...                                                   ...   \n",
       "220711  KeyedTimeWindow(key=>800ASH GROVERAFFLES PARK,...   \n",
       "220712  KeyedTimeWindow(key=>800LEEDON PARKLANDED HOUS...   \n",
       "220713  KeyedTimeWindow(key=>800QUEEN ASTRID PARKLANDE...   \n",
       "220714  KeyedTimeWindow(key=>800BUKIT TUNGGAL ROADLAND...   \n",
       "220715  KeyedTimeWindow(key=>800TREVOSE CRESCENTTREVOS...   \n",
       "\n",
       "             last 12 weeks by unique_property_key ID-30bf  median_predicted  \n",
       "0       KeyedTimeWindow(key=100-110PASIR RIS STREET 72...       2756.423827  \n",
       "1       KeyedTimeWindow(key=100-110JURONG EAST STREET ...       2756.423827  \n",
       "2       KeyedTimeWindow(key=100-110WOODLANDS DRIVE 16L...       2756.423827  \n",
       "3       KeyedTimeWindow(key=100-110YISHUN AVENUE 6LILY...       2566.163202  \n",
       "4       KeyedTimeWindow(key=100-110SHENTON WAYONE SHEN...       4449.393536  \n",
       "...                                                   ...               ...  \n",
       "220711  KeyedTimeWindow(key=>800ASH GROVERAFFLES PARK,...      16776.226962  \n",
       "220712  KeyedTimeWindow(key=>800LEEDON PARKLANDED HOUS...      16921.437109  \n",
       "220713  KeyedTimeWindow(key=>800QUEEN ASTRID PARKLANDE...      16921.437109  \n",
       "220714  KeyedTimeWindow(key=>800BUKIT TUNGGAL ROADLAND...      16273.855049  \n",
       "220715  KeyedTimeWindow(key=>800TREVOSE CRESCENTTREVOS...      20290.653757  \n",
       "\n",
       "[220716 rows x 18 columns]"
      ]
     },
     "execution_count": 208,
     "metadata": {},
     "output_type": "execute_result"
    }
   ],
   "source": [
    "pred"
   ]
  },
  {
   "cell_type": "code",
   "execution_count": 194,
   "metadata": {
    "ExecuteTime": {
     "end_time": "2023-03-27T13:25:22.604712Z",
     "start_time": "2023-03-27T13:25:22.575882Z"
    }
   },
   "outputs": [
    {
     "data": {
      "text/plain": [
       "46"
      ]
     },
     "execution_count": 194,
     "metadata": {},
     "output_type": "execute_result"
    }
   ],
   "source": [
    "rent_master_agg_geo['areaSqm'].nunique()"
   ]
  },
  {
   "cell_type": "code",
   "execution_count": null,
   "metadata": {},
   "outputs": [],
   "source": []
  }
 ],
 "metadata": {
  "kernelspec": {
   "display_name": "Python 3",
   "language": "python",
   "name": "python3"
  },
  "language_info": {
   "codemirror_mode": {
    "name": "ipython",
    "version": 3
   },
   "file_extension": ".py",
   "mimetype": "text/x-python",
   "name": "python",
   "nbconvert_exporter": "python",
   "pygments_lexer": "ipython3",
   "version": "3.7.1"
  },
  "toc": {
   "base_numbering": 1,
   "nav_menu": {},
   "number_sections": true,
   "sideBar": true,
   "skip_h1_title": false,
   "title_cell": "Table of Contents",
   "title_sidebar": "Contents",
   "toc_cell": false,
   "toc_position": {},
   "toc_section_display": true,
   "toc_window_display": false
  }
 },
 "nbformat": 4,
 "nbformat_minor": 4
}
